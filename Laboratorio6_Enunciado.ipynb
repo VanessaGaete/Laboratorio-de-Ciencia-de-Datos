{
  "cells": [
    {
      "cell_type": "markdown",
      "source": [
        "<h1><center>Laboratorio 6: La desperación de Mr. Lepin 🐼</center></h1>\n",
        "\n",
        "<center><strong>MDS7202: Laboratorio de Programación Científica para Ciencia de Datos</strong></center>"
      ],
      "metadata": {
        "id": "XUZ1dFPHzAHl",
        "cell_id": "8dd9b572c805487a9fb430fdc4ab12bb",
        "deepnote_cell_height": 156.26666259765625,
        "deepnote_cell_type": "markdown"
      }
    },
    {
      "cell_type": "markdown",
      "source": [
        "### Cuerpo Docente:\n",
        "\n",
        "- Profesor: Matías Rojas y Mauricio Araneda\n",
        "- Auxiliar: Ignacio Meza D.\n",
        "- Ayudante: Rodrigo Guerra"
      ],
      "metadata": {
        "id": "UD8X1uhGzAHq",
        "cell_id": "d65413cd8566460dbceffcd13ca236e7",
        "deepnote_cell_type": "markdown"
      }
    },
    {
      "cell_type": "markdown",
      "source": [
        "### Equipo: SUPER IMPORTANTE - notebooks sin nombre no serán revisados\n",
        "\n",
        "- Nombre de alumno 1: Vanessa Gaete\n",
        "- Nombre de alumno 2:\n"
      ],
      "metadata": {
        "id": "tXflExjqzAHr",
        "cell_id": "8e9217d02d124830a9b86046600a1605",
        "deepnote_cell_height": 172.13333129882812,
        "deepnote_cell_type": "markdown"
      }
    },
    {
      "cell_type": "markdown",
      "source": [
        "### **Link de repositorio de GitHub:** `https://github.com/VanessaGaete/Laboratorio-de-Ciencia-de-Datos`"
      ],
      "metadata": {
        "id": "AD-V0bbZzAHr",
        "cell_id": "010402b6d5f743b885a80d2e1c6ae11a",
        "deepnote_cell_height": 62.19999694824219,
        "deepnote_cell_type": "markdown"
      }
    },
    {
      "cell_type": "markdown",
      "source": [
        "### Indice \n",
        "\n",
        "1. [Temas a tratar](#Temas-a-tratar:)\n",
        "3. [Descripcción del laboratorio](#Descripción-del-laboratorio.)\n",
        "4. [Desarrollo](#Desarrollo)"
      ],
      "metadata": {
        "id": "EcnsiQMkzAHr",
        "cell_id": "3abfe63b97c946e5ba1d4061b08e7913",
        "deepnote_cell_height": 165.06666564941406,
        "deepnote_cell_type": "markdown"
      }
    },
    {
      "cell_type": "markdown",
      "source": [
        "# Temas a tratar\n",
        "\n",
        "- Aplicar Pandas para obtener características de un DataFrame.\n",
        "- Aplicar Pipelines.\n",
        "- Aplicar Clusters sobre un conjunto de datos.\n",
        "\n",
        "## Reglas:\n",
        "\n",
        "- Fecha de entrega: 09/06/2021\n",
        "- **Grupos de 2 personas**\n",
        "- **Ausentes** deberán realizar la actividad solos. \n",
        "- Cualquier duda fuera del horario de clases al foro. Mensajes al equipo docente serán respondidos por este medio.\n",
        "- Prohibidas las copias. \n",
        "- Pueden usar cualquer matrial del curso que estimen conveniente.\n",
        "- Código que no se pueda ejecutar, no será revisado.\n",
        "\n",
        "### Objetivos principales del laboratorio\n",
        "\n",
        "- Comprender y aprovechar las ventajas que nos ofrece la librería `pandas` con respecto a trabajar en Python 'puro'.\n",
        "- Crear nuevas características para entrenar un modelo de clustering.\n",
        "- Comprender como aplicar pipelines de Scikit-Learn para generar procesos más limpios.\n",
        "\n",
        "El laboratorio deberá ser desarrollado sin el uso indiscriminado de iteradores nativos de python (aka \"for\", \"while\"). La idea es que aprendan a exprimir al máximo las funciones optimizadas que nos entrega `numpy`, las cuales vale mencionar, son bastante más eficientes que los iteradores nativos sobre arreglos (*o tensores*)."
      ],
      "metadata": {
        "id": "6uBLPj1PzAHs",
        "cell_id": "ef0224c7a99e4b718b55493b0a1e99c4",
        "deepnote_cell_height": 724.9000244140625,
        "deepnote_cell_type": "markdown"
      }
    },
    {
      "cell_type": "markdown",
      "source": [
        "## Descripción del laboratorio."
      ],
      "metadata": {
        "id": "wrG4gYabzAHs",
        "cell_id": "59664481c26f4ac4a753765269b1db6a",
        "deepnote_cell_height": 69.86666870117188,
        "deepnote_cell_type": "markdown"
      }
    },
    {
      "cell_type": "markdown",
      "source": [
        "### Importamos librerias utiles 😸"
      ],
      "metadata": {
        "id": "MhISwri4zAHy",
        "cell_id": "8c7bf8ea553d44c7a2efd61106a0bac2",
        "deepnote_cell_height": 61.866668701171875,
        "deepnote_cell_type": "markdown"
      }
    },
    {
      "cell_type": "code",
      "source": [
        "# Libreria Core del lab.\n",
        "import numpy as np\n",
        "import pandas as pd\n",
        "import datetime\n",
        "from IPython.display import HTML\n",
        "\n",
        "# Libreria para plotear (En colab esta desactualizado plotly)\n",
        "!pip install --upgrade plotly\n",
        "import plotly.express as px\n",
        "import plotly.graph_objects as go\n",
        "\n",
        "# Librerias utiles\n",
        "from sklearn.manifold import TSNE\n",
        "from sklearn.cluster import KMeans\n",
        "from sklearn.base import BaseEstimator, TransformerMixin\n",
        "from sklearn.model_selection import train_test_split \n",
        "from sklearn.pipeline import Pipeline\n",
        "from sklearn.compose import ColumnTransformer\n",
        "from sklearn.preprocessing import FunctionTransformer"
      ],
      "metadata": {
        "id": "uyc33dKdzAHy",
        "colab": {
          "base_uri": "https://localhost:8080/"
        },
        "cell_id": "67b4b29f0e6b48719b58d579276f2b19",
        "outputId": "665899db-8776-4d91-ba19-88564b172251",
        "ExecuteTime": {
          "end_time": "2021-03-29T00:08:16.884674Z",
          "start_time": "2021-03-29T00:08:16.349846Z"
        },
        "source_hash": "a3741fd5",
        "execution_start": 1635469788590,
        "execution_millis": 8517,
        "deepnote_cell_height": 514.13330078125,
        "deepnote_to_be_reexecuted": false,
        "deepnote_cell_type": "code"
      },
      "outputs": [
        {
          "output_type": "stream",
          "name": "stdout",
          "text": [
            "Looking in indexes: https://pypi.org/simple, https://us-python.pkg.dev/colab-wheels/public/simple/\n",
            "Requirement already satisfied: plotly in /usr/local/lib/python3.7/dist-packages (5.10.0)\n",
            "Requirement already satisfied: tenacity>=6.2.0 in /usr/local/lib/python3.7/dist-packages (from plotly) (8.1.0)\n"
          ]
        }
      ],
      "execution_count": 25
    },
    {
      "cell_type": "code",
      "source": [
        "# Si usted está utilizando Colabolatory le puede ser útil este código para cargar los archivos.\n",
        "try:\n",
        "    from google.colab import drive\n",
        "    drive.mount(\"/content/drive\")\n",
        "    path = 'Dirección donde tiene los archivos en el Drive'\n",
        "except: \n",
        "    print('Ignorando conexión drive-colab')"
      ],
      "metadata": {
        "id": "gQ0-zPV4NNrq",
        "cell_id": "ce6a19ec6fc6486e832760ac3740d7ef",
        "source_hash": "c60dc4a7",
        "execution_start": 1635165625274,
        "execution_millis": 7,
        "deepnote_cell_height": 219.46665954589844,
        "deepnote_to_be_reexecuted": false,
        "deepnote_cell_type": "code",
        "colab": {
          "base_uri": "https://localhost:8080/"
        },
        "outputId": "335f07cf-d253-4456-a40a-ddf9670c6b3e"
      },
      "outputs": [
        {
          "output_type": "stream",
          "name": "stdout",
          "text": [
            "Drive already mounted at /content/drive; to attempt to forcibly remount, call drive.mount(\"/content/drive\", force_remount=True).\n"
          ]
        }
      ],
      "execution_count": 26
    },
    {
      "cell_type": "markdown",
      "source": [
        "# Segmentación de Clientes en Tienda de Retail 🛍️"
      ],
      "metadata": {
        "id": "QDwIXTh7bK_A",
        "cell_id": "28c7a8b483d84878ac5a4f7ba882b711",
        "owner_user_id": "badcc427-fd3d-4615-9296-faa43ec69cfb",
        "deepnote_cell_height": 133.86666870117188,
        "deepnote_cell_type": "markdown"
      }
    },
    {
      "cell_type": "markdown",
      "source": [
        "<p align=\"center\">\n",
        "  <img width=300 src=\"https://s1.eestatic.com/2018/04/14/social/la_jungla_-_social_299733421_73842361_854x640.jpg\">\n",
        "</p>"
      ],
      "metadata": {
        "tags": [],
        "cell_id": "6c6799ecc9e74272922d46a3b5a8b79e",
        "deepnote_cell_height": 294.683349609375,
        "deepnote_cell_type": "markdown",
        "id": "lEzH8GNVSvb_"
      }
    },
    {
      "cell_type": "markdown",
      "source": [
        "## 1.1 Cargar Dataset"
      ],
      "metadata": {
        "tags": [],
        "cell_id": "160bb2695f6547448bfb0f99420f952c",
        "deepnote_cell_height": 69.86666870117188,
        "deepnote_cell_type": "markdown",
        "id": "xfkwFuOESvb_"
      }
    },
    {
      "cell_type": "markdown",
      "source": [
        "Mr. Lepin, en una nueva reunión, le cuenta a ud y su equipo que los resultados derivados del análisis exploratorio de dato presentaron una gran utilidad para la empresa y que tiene un gran entusiasmo por continuar trabajando con ustedes.\n",
        "Es por esto, que Mr. Lepin les pide que cargue y visualicen algunas de las filas que componen el Dataset.\n",
        "A continuación un extracto de lo parlamentado en la reunión:\n",
        "\n",
        "    - Usted: Es un gran logro para nuestro equipo que usted haya encontrado excelente el EDA. ¿Qué tiene en mente ahora?\n",
        "    - Mr. Lepin: Resulta que hace algún tiempo, mientras tomaba un mojito en una reunión de gerentes en Panamá, oí a un *chato* acerca de **LRMFP**, que es un modelo que permite personificar a los clientes a través de la farbicación de distintos atributos que describen a los clientes. Lo encontré es-tu-pendo ñatito. \n",
        "    - Usted: Ehh bueno. Investigaremos acerca de este modelo y veremos lo que podemos hacer.\n",
        "\n",
        "Por ende, su siguiente tarea es calcular **LRMFP** sobre cada cliente y luego hacer un análisis de las características generadas. Para esto, el área de ventas les entrega un nuevo archivo llamado `online_retail_II_cleaned.pickle`, quien posee los datos del DataFrame original limpios y listos para obtener las características solicitadas por Mr. Lepin."
      ],
      "metadata": {
        "tags": [],
        "cell_id": "48d29c89e3b6455083f8fac764f97f3b",
        "deepnote_cell_height": 475.066650390625,
        "deepnote_cell_type": "markdown",
        "id": "Sjm9dwunSvcA"
      }
    },
    {
      "cell_type": "code",
      "source": [
        "df_retail = pd.read_pickle(\"online_retail_II_cleaned.pickle\")\n",
        "df_retail = df_retail.astype(\n",
        "    {\n",
        "        \"Invoice\": \"category\",\n",
        "        \"StockCode\": \"category\",\n",
        "        \"Description\": \"category\",\n",
        "        \"Description\": str,\n",
        "        \"Customer ID\": \"category\",\n",
        "        \"Country\": \"category\"\n",
        "    }\n",
        ")\n",
        "df_retail.head()\n"
      ],
      "metadata": {
        "id": "7FNOu-CvjV5m",
        "colab": {
          "height": 206,
          "base_uri": "https://localhost:8080/"
        },
        "cell_id": "4d7d0f0855744e6c9d5a2198e5dcd690",
        "outputId": "ca820406-4ae7-4e55-8d62-6c791b232bb1",
        "source_hash": "d52b246c",
        "execution_start": 1635469797118,
        "execution_millis": 466,
        "deepnote_cell_height": 489.79998779296875,
        "deepnote_output_heights": [
          177
        ],
        "deepnote_to_be_reexecuted": false,
        "deepnote_cell_type": "code"
      },
      "outputs": [
        {
          "output_type": "execute_result",
          "data": {
            "text/plain": [
              "  Invoice StockCode                          Description  Quantity  \\\n",
              "0  489434     85048  15CM CHRISTMAS GLASS BALL 20 LIGHTS        12   \n",
              "1  489434    79323P                   PINK CHERRY LIGHTS        12   \n",
              "2  489434    79323W                  WHITE CHERRY LIGHTS        12   \n",
              "3  489434     22041         RECORD FRAME 7\" SINGLE SIZE         48   \n",
              "4  489434     21232       STRAWBERRY CERAMIC TRINKET BOX        24   \n",
              "\n",
              "          InvoiceDate  Price Customer ID         Country  \n",
              "0 2009-12-01 07:45:00   6.95     13085.0  United Kingdom  \n",
              "1 2009-12-01 07:45:00   6.75     13085.0  United Kingdom  \n",
              "2 2009-12-01 07:45:00   6.75     13085.0  United Kingdom  \n",
              "3 2009-12-01 07:45:00   2.10     13085.0  United Kingdom  \n",
              "4 2009-12-01 07:45:00   1.25     13085.0  United Kingdom  "
            ],
            "text/html": [
              "\n",
              "  <div id=\"df-6da6eae1-6af9-4e03-8bf0-cf4da34baaab\">\n",
              "    <div class=\"colab-df-container\">\n",
              "      <div>\n",
              "<style scoped>\n",
              "    .dataframe tbody tr th:only-of-type {\n",
              "        vertical-align: middle;\n",
              "    }\n",
              "\n",
              "    .dataframe tbody tr th {\n",
              "        vertical-align: top;\n",
              "    }\n",
              "\n",
              "    .dataframe thead th {\n",
              "        text-align: right;\n",
              "    }\n",
              "</style>\n",
              "<table border=\"1\" class=\"dataframe\">\n",
              "  <thead>\n",
              "    <tr style=\"text-align: right;\">\n",
              "      <th></th>\n",
              "      <th>Invoice</th>\n",
              "      <th>StockCode</th>\n",
              "      <th>Description</th>\n",
              "      <th>Quantity</th>\n",
              "      <th>InvoiceDate</th>\n",
              "      <th>Price</th>\n",
              "      <th>Customer ID</th>\n",
              "      <th>Country</th>\n",
              "    </tr>\n",
              "  </thead>\n",
              "  <tbody>\n",
              "    <tr>\n",
              "      <th>0</th>\n",
              "      <td>489434</td>\n",
              "      <td>85048</td>\n",
              "      <td>15CM CHRISTMAS GLASS BALL 20 LIGHTS</td>\n",
              "      <td>12</td>\n",
              "      <td>2009-12-01 07:45:00</td>\n",
              "      <td>6.95</td>\n",
              "      <td>13085.0</td>\n",
              "      <td>United Kingdom</td>\n",
              "    </tr>\n",
              "    <tr>\n",
              "      <th>1</th>\n",
              "      <td>489434</td>\n",
              "      <td>79323P</td>\n",
              "      <td>PINK CHERRY LIGHTS</td>\n",
              "      <td>12</td>\n",
              "      <td>2009-12-01 07:45:00</td>\n",
              "      <td>6.75</td>\n",
              "      <td>13085.0</td>\n",
              "      <td>United Kingdom</td>\n",
              "    </tr>\n",
              "    <tr>\n",
              "      <th>2</th>\n",
              "      <td>489434</td>\n",
              "      <td>79323W</td>\n",
              "      <td>WHITE CHERRY LIGHTS</td>\n",
              "      <td>12</td>\n",
              "      <td>2009-12-01 07:45:00</td>\n",
              "      <td>6.75</td>\n",
              "      <td>13085.0</td>\n",
              "      <td>United Kingdom</td>\n",
              "    </tr>\n",
              "    <tr>\n",
              "      <th>3</th>\n",
              "      <td>489434</td>\n",
              "      <td>22041</td>\n",
              "      <td>RECORD FRAME 7\" SINGLE SIZE</td>\n",
              "      <td>48</td>\n",
              "      <td>2009-12-01 07:45:00</td>\n",
              "      <td>2.10</td>\n",
              "      <td>13085.0</td>\n",
              "      <td>United Kingdom</td>\n",
              "    </tr>\n",
              "    <tr>\n",
              "      <th>4</th>\n",
              "      <td>489434</td>\n",
              "      <td>21232</td>\n",
              "      <td>STRAWBERRY CERAMIC TRINKET BOX</td>\n",
              "      <td>24</td>\n",
              "      <td>2009-12-01 07:45:00</td>\n",
              "      <td>1.25</td>\n",
              "      <td>13085.0</td>\n",
              "      <td>United Kingdom</td>\n",
              "    </tr>\n",
              "  </tbody>\n",
              "</table>\n",
              "</div>\n",
              "      <button class=\"colab-df-convert\" onclick=\"convertToInteractive('df-6da6eae1-6af9-4e03-8bf0-cf4da34baaab')\"\n",
              "              title=\"Convert this dataframe to an interactive table.\"\n",
              "              style=\"display:none;\">\n",
              "        \n",
              "  <svg xmlns=\"http://www.w3.org/2000/svg\" height=\"24px\"viewBox=\"0 0 24 24\"\n",
              "       width=\"24px\">\n",
              "    <path d=\"M0 0h24v24H0V0z\" fill=\"none\"/>\n",
              "    <path d=\"M18.56 5.44l.94 2.06.94-2.06 2.06-.94-2.06-.94-.94-2.06-.94 2.06-2.06.94zm-11 1L8.5 8.5l.94-2.06 2.06-.94-2.06-.94L8.5 2.5l-.94 2.06-2.06.94zm10 10l.94 2.06.94-2.06 2.06-.94-2.06-.94-.94-2.06-.94 2.06-2.06.94z\"/><path d=\"M17.41 7.96l-1.37-1.37c-.4-.4-.92-.59-1.43-.59-.52 0-1.04.2-1.43.59L10.3 9.45l-7.72 7.72c-.78.78-.78 2.05 0 2.83L4 21.41c.39.39.9.59 1.41.59.51 0 1.02-.2 1.41-.59l7.78-7.78 2.81-2.81c.8-.78.8-2.07 0-2.86zM5.41 20L4 18.59l7.72-7.72 1.47 1.35L5.41 20z\"/>\n",
              "  </svg>\n",
              "      </button>\n",
              "      \n",
              "  <style>\n",
              "    .colab-df-container {\n",
              "      display:flex;\n",
              "      flex-wrap:wrap;\n",
              "      gap: 12px;\n",
              "    }\n",
              "\n",
              "    .colab-df-convert {\n",
              "      background-color: #E8F0FE;\n",
              "      border: none;\n",
              "      border-radius: 50%;\n",
              "      cursor: pointer;\n",
              "      display: none;\n",
              "      fill: #1967D2;\n",
              "      height: 32px;\n",
              "      padding: 0 0 0 0;\n",
              "      width: 32px;\n",
              "    }\n",
              "\n",
              "    .colab-df-convert:hover {\n",
              "      background-color: #E2EBFA;\n",
              "      box-shadow: 0px 1px 2px rgba(60, 64, 67, 0.3), 0px 1px 3px 1px rgba(60, 64, 67, 0.15);\n",
              "      fill: #174EA6;\n",
              "    }\n",
              "\n",
              "    [theme=dark] .colab-df-convert {\n",
              "      background-color: #3B4455;\n",
              "      fill: #D2E3FC;\n",
              "    }\n",
              "\n",
              "    [theme=dark] .colab-df-convert:hover {\n",
              "      background-color: #434B5C;\n",
              "      box-shadow: 0px 1px 3px 1px rgba(0, 0, 0, 0.15);\n",
              "      filter: drop-shadow(0px 1px 2px rgba(0, 0, 0, 0.3));\n",
              "      fill: #FFFFFF;\n",
              "    }\n",
              "  </style>\n",
              "\n",
              "      <script>\n",
              "        const buttonEl =\n",
              "          document.querySelector('#df-6da6eae1-6af9-4e03-8bf0-cf4da34baaab button.colab-df-convert');\n",
              "        buttonEl.style.display =\n",
              "          google.colab.kernel.accessAllowed ? 'block' : 'none';\n",
              "\n",
              "        async function convertToInteractive(key) {\n",
              "          const element = document.querySelector('#df-6da6eae1-6af9-4e03-8bf0-cf4da34baaab');\n",
              "          const dataTable =\n",
              "            await google.colab.kernel.invokeFunction('convertToInteractive',\n",
              "                                                     [key], {});\n",
              "          if (!dataTable) return;\n",
              "\n",
              "          const docLinkHtml = 'Like what you see? Visit the ' +\n",
              "            '<a target=\"_blank\" href=https://colab.research.google.com/notebooks/data_table.ipynb>data table notebook</a>'\n",
              "            + ' to learn more about interactive tables.';\n",
              "          element.innerHTML = '';\n",
              "          dataTable['output_type'] = 'display_data';\n",
              "          await google.colab.output.renderOutput(dataTable, element);\n",
              "          const docLink = document.createElement('div');\n",
              "          docLink.innerHTML = docLinkHtml;\n",
              "          element.appendChild(docLink);\n",
              "        }\n",
              "      </script>\n",
              "    </div>\n",
              "  </div>\n",
              "  "
            ]
          },
          "metadata": {},
          "execution_count": 27
        }
      ],
      "execution_count": 27
    },
    {
      "cell_type": "markdown",
      "source": [
        "## 1.2 Creación de nuevas Caracteristicas [2 Puntos] "
      ],
      "metadata": {
        "tags": [],
        "cell_id": "060e1885d93d4325a313fded82de1921",
        "deepnote_cell_height": 109.86666870117188,
        "deepnote_cell_type": "markdown",
        "id": "VbWgVMUBSvcB"
      }
    },
    {
      "cell_type": "markdown",
      "source": [
        "Como ya se les comento, Mr. Lepin esta interesado en obtener las características **LRMFP**, para esto les señala que estas características se construyen en base a las siguientes definiciones:\n",
        "\n",
        "- **Length (L)**: Intervalo de tiempo, en días, entre la primera y la última visita del cliente. Mientras mas grande sea el valor, mas fiel es el cliente.\n",
        "- **Recency (R)**: Indica la actualidad de la interacción de un cliente con la empresa, y da información sobre la tendencia a repetir la compra. Se define como: \n",
        "$$Recency(n)=\\dfrac{1}{n} \\sum^n_{i=1} date\\_diff(t_{fecha final}, t_{m-i+1})$$\n",
        "\n",
        " Donde $date\\_diff$ representa la diferencia en días entre la fecha de finalización del periodo de observación ($t_{fecha final}$), y la fecha de una visita del cliente cercana a $t_{fecha final}$, $t_{m-i+1}; t_{m}$ es la última visita del cliente; y n es el número de visitas recientes del cliente consideradas.\n",
        "\n",
        "- **Monetary (M)**: El término \"monetario\" se refiere a la cantidad media de dinero gastada por cada visita del cliente durante el período de observación y refleja la contribución del cliente a los ingresos de la empresa.\n",
        "\n",
        "- **Frequency (F)**: Se refiere al número total de visitas del cliente durante el periodo de observación. Cuanto mayor sea la frecuencia, mayor será la fidelidad del cliente. \n",
        "\n",
        "- **Periodicity (P)**: Representa si los clientes visitan las tiendas con regularidad.\n",
        "\n",
        "$$Periodicity(n)=std(IVT_1, ..., IVT_n)$$\n",
        "\n",
        "&nbsp;&nbsp; &nbsp;&nbsp;&nbsp;&nbsp;&nbsp;&nbsp;Donde $IVT$ denota el tiempo entre visitas y n representa el número de valores de tiempo entre visitas de un cliente.\n",
        " \n",
        "\n",
        "$$IVT_i=date\\_diff(t_{i+1},t)$$\n",
        "\n",
        "En base a las definiciones señaladas, diseñe una función que permita obtener las características **LRMFP** recibiendo un DataFrame como entrada. Para esto, no estará permitido el uso de iteradores, utilice todas las herramientas que les ofrece `pandas` para realizar esto.\n",
        "\n",
        "Una referencia que le puede ser útil es el [documento original](https://www.researchgate.net/publication/315979555_LRFMP_model_for_customer_segmentation_in_the_grocery_retail_industry_a_case_study) en donde se propone este método.\n",
        "\n",
        "**Nota:** Para la $fechafinal$ utilice la fecha máxima del dataset más 1 día."
      ],
      "metadata": {
        "tags": [],
        "cell_id": "e650f364c9c64b079603f6d9312d2d13",
        "deepnote_cell_height": 862.933349609375,
        "deepnote_cell_type": "markdown",
        "id": "PxoRPnpDSvcC"
      }
    },
    {
      "cell_type": "markdown",
      "source": [
        "**Ejemplo de Resultado Esperado:**\n",
        "\n",
        "| Customer ID | Length | Recency | Frequency | Monetary | Periodicity |\n",
        "|------------:|-------:|--------:|----------:|---------:|------------:|\n",
        "|   12346.0   |    294 |      67 |        46 |   -64.68 |        37.0 |\n",
        "|   12347.0   |     37 |       3 |        71 |  1323.32 |         0.0 |\n",
        "|   12349.0   |    327 |      43 |       107 |  2646.99 |        78.0 |\n",
        "|   12352.0   |     16 |      11 |        18 |   343.80 |         0.0 |\n",
        "|   12356.0   |     44 |      16 |        84 |  3562.25 |        12.0 |"
      ],
      "metadata": {
        "tags": [],
        "cell_id": "bee8d549c7c043a5b0cafae0543afadf",
        "deepnote_cell_height": 212.6666717529297,
        "deepnote_cell_type": "markdown",
        "id": "LMuYDYuzSvcD"
      }
    },
    {
      "cell_type": "markdown",
      "source": [
        "**Respuesta:**"
      ],
      "metadata": {
        "tags": [],
        "cell_id": "3c7f8a4a06a44cbd8d50e8a4decf4c71",
        "deepnote_cell_height": 52.26666259765625,
        "deepnote_cell_type": "markdown",
        "id": "Q0cNwuekSvcD"
      }
    },
    {
      "cell_type": "code",
      "source": [
        "def recency(n, dataframe_in):\n",
        "  #dataframe_out = pd.DataFrame(columns = [\"Customer ID\", \"Max Invoice Dates\"])\n",
        "  df=pd.DataFrame()\n",
        "  df[\"CustomerID\"] = dataframe_in[\"Customer ID\"]\n",
        "  df[\"Invoice\"] = dataframe_in[\"Invoice\"]\n",
        "  df[\"InvoiceDate\"]= dataframe_in[\"InvoiceDate\"]\n",
        "  df_without_duplicates = df.drop_duplicates(subset=['Invoice'])\n",
        "  df = df_without_duplicates.groupby([\"CustomerID\"])[\"InvoiceDate\"].nlargest(n)\n",
        "\n",
        "  #date_diff\n",
        "  tfinal = dataframe_in[\"InvoiceDate\"].max() + datetime.timedelta(days=1)\n",
        "  df = abs(df - tfinal).apply(lambda x: x.days)\n",
        "  #print(df.index.get_level_values('CustomerID'))\n",
        "\n",
        "  #sum()\n",
        "  df = df.groupby([\"CustomerID\"]).sum()\n",
        "  df = df*(1/n)\n",
        "\n",
        "  df_recency = pd.DataFrame()\n",
        "  df_recency[\"CustomerID\"] = df.keys()\n",
        "  df_recency[\"Recency\"] = df.values\n",
        "\n",
        "  return df_recency\n",
        "  #result = 1/n*sum()\n",
        "\n",
        "recency(3, df_retail)"
      ],
      "metadata": {
        "colab": {
          "base_uri": "https://localhost:8080/",
          "height": 423
        },
        "id": "xY1SBwqVa2QV",
        "outputId": "7ce084a8-85e1-4f09-b0ab-7e82359eafd2"
      },
      "execution_count": 28,
      "outputs": [
        {
          "output_type": "execute_result",
          "data": {
            "text/plain": [
              "     CustomerID     Recency\n",
              "0       12346.0  256.666667\n",
              "1       12347.0   14.333333\n",
              "2       12348.0   24.666667\n",
              "3       12349.0  158.000000\n",
              "4       12351.0    3.666667\n",
              "...         ...         ...\n",
              "4309    18283.0   49.666667\n",
              "4310    18284.0   22.333333\n",
              "4311    18285.0   98.666667\n",
              "4312    18286.0  157.000000\n",
              "4313    18287.0   59.333333\n",
              "\n",
              "[4314 rows x 2 columns]"
            ],
            "text/html": [
              "\n",
              "  <div id=\"df-54006319-363d-4abc-9adc-be2217d75c46\">\n",
              "    <div class=\"colab-df-container\">\n",
              "      <div>\n",
              "<style scoped>\n",
              "    .dataframe tbody tr th:only-of-type {\n",
              "        vertical-align: middle;\n",
              "    }\n",
              "\n",
              "    .dataframe tbody tr th {\n",
              "        vertical-align: top;\n",
              "    }\n",
              "\n",
              "    .dataframe thead th {\n",
              "        text-align: right;\n",
              "    }\n",
              "</style>\n",
              "<table border=\"1\" class=\"dataframe\">\n",
              "  <thead>\n",
              "    <tr style=\"text-align: right;\">\n",
              "      <th></th>\n",
              "      <th>CustomerID</th>\n",
              "      <th>Recency</th>\n",
              "    </tr>\n",
              "  </thead>\n",
              "  <tbody>\n",
              "    <tr>\n",
              "      <th>0</th>\n",
              "      <td>12346.0</td>\n",
              "      <td>256.666667</td>\n",
              "    </tr>\n",
              "    <tr>\n",
              "      <th>1</th>\n",
              "      <td>12347.0</td>\n",
              "      <td>14.333333</td>\n",
              "    </tr>\n",
              "    <tr>\n",
              "      <th>2</th>\n",
              "      <td>12348.0</td>\n",
              "      <td>24.666667</td>\n",
              "    </tr>\n",
              "    <tr>\n",
              "      <th>3</th>\n",
              "      <td>12349.0</td>\n",
              "      <td>158.000000</td>\n",
              "    </tr>\n",
              "    <tr>\n",
              "      <th>4</th>\n",
              "      <td>12351.0</td>\n",
              "      <td>3.666667</td>\n",
              "    </tr>\n",
              "    <tr>\n",
              "      <th>...</th>\n",
              "      <td>...</td>\n",
              "      <td>...</td>\n",
              "    </tr>\n",
              "    <tr>\n",
              "      <th>4309</th>\n",
              "      <td>18283.0</td>\n",
              "      <td>49.666667</td>\n",
              "    </tr>\n",
              "    <tr>\n",
              "      <th>4310</th>\n",
              "      <td>18284.0</td>\n",
              "      <td>22.333333</td>\n",
              "    </tr>\n",
              "    <tr>\n",
              "      <th>4311</th>\n",
              "      <td>18285.0</td>\n",
              "      <td>98.666667</td>\n",
              "    </tr>\n",
              "    <tr>\n",
              "      <th>4312</th>\n",
              "      <td>18286.0</td>\n",
              "      <td>157.000000</td>\n",
              "    </tr>\n",
              "    <tr>\n",
              "      <th>4313</th>\n",
              "      <td>18287.0</td>\n",
              "      <td>59.333333</td>\n",
              "    </tr>\n",
              "  </tbody>\n",
              "</table>\n",
              "<p>4314 rows × 2 columns</p>\n",
              "</div>\n",
              "      <button class=\"colab-df-convert\" onclick=\"convertToInteractive('df-54006319-363d-4abc-9adc-be2217d75c46')\"\n",
              "              title=\"Convert this dataframe to an interactive table.\"\n",
              "              style=\"display:none;\">\n",
              "        \n",
              "  <svg xmlns=\"http://www.w3.org/2000/svg\" height=\"24px\"viewBox=\"0 0 24 24\"\n",
              "       width=\"24px\">\n",
              "    <path d=\"M0 0h24v24H0V0z\" fill=\"none\"/>\n",
              "    <path d=\"M18.56 5.44l.94 2.06.94-2.06 2.06-.94-2.06-.94-.94-2.06-.94 2.06-2.06.94zm-11 1L8.5 8.5l.94-2.06 2.06-.94-2.06-.94L8.5 2.5l-.94 2.06-2.06.94zm10 10l.94 2.06.94-2.06 2.06-.94-2.06-.94-.94-2.06-.94 2.06-2.06.94z\"/><path d=\"M17.41 7.96l-1.37-1.37c-.4-.4-.92-.59-1.43-.59-.52 0-1.04.2-1.43.59L10.3 9.45l-7.72 7.72c-.78.78-.78 2.05 0 2.83L4 21.41c.39.39.9.59 1.41.59.51 0 1.02-.2 1.41-.59l7.78-7.78 2.81-2.81c.8-.78.8-2.07 0-2.86zM5.41 20L4 18.59l7.72-7.72 1.47 1.35L5.41 20z\"/>\n",
              "  </svg>\n",
              "      </button>\n",
              "      \n",
              "  <style>\n",
              "    .colab-df-container {\n",
              "      display:flex;\n",
              "      flex-wrap:wrap;\n",
              "      gap: 12px;\n",
              "    }\n",
              "\n",
              "    .colab-df-convert {\n",
              "      background-color: #E8F0FE;\n",
              "      border: none;\n",
              "      border-radius: 50%;\n",
              "      cursor: pointer;\n",
              "      display: none;\n",
              "      fill: #1967D2;\n",
              "      height: 32px;\n",
              "      padding: 0 0 0 0;\n",
              "      width: 32px;\n",
              "    }\n",
              "\n",
              "    .colab-df-convert:hover {\n",
              "      background-color: #E2EBFA;\n",
              "      box-shadow: 0px 1px 2px rgba(60, 64, 67, 0.3), 0px 1px 3px 1px rgba(60, 64, 67, 0.15);\n",
              "      fill: #174EA6;\n",
              "    }\n",
              "\n",
              "    [theme=dark] .colab-df-convert {\n",
              "      background-color: #3B4455;\n",
              "      fill: #D2E3FC;\n",
              "    }\n",
              "\n",
              "    [theme=dark] .colab-df-convert:hover {\n",
              "      background-color: #434B5C;\n",
              "      box-shadow: 0px 1px 3px 1px rgba(0, 0, 0, 0.15);\n",
              "      filter: drop-shadow(0px 1px 2px rgba(0, 0, 0, 0.3));\n",
              "      fill: #FFFFFF;\n",
              "    }\n",
              "  </style>\n",
              "\n",
              "      <script>\n",
              "        const buttonEl =\n",
              "          document.querySelector('#df-54006319-363d-4abc-9adc-be2217d75c46 button.colab-df-convert');\n",
              "        buttonEl.style.display =\n",
              "          google.colab.kernel.accessAllowed ? 'block' : 'none';\n",
              "\n",
              "        async function convertToInteractive(key) {\n",
              "          const element = document.querySelector('#df-54006319-363d-4abc-9adc-be2217d75c46');\n",
              "          const dataTable =\n",
              "            await google.colab.kernel.invokeFunction('convertToInteractive',\n",
              "                                                     [key], {});\n",
              "          if (!dataTable) return;\n",
              "\n",
              "          const docLinkHtml = 'Like what you see? Visit the ' +\n",
              "            '<a target=\"_blank\" href=https://colab.research.google.com/notebooks/data_table.ipynb>data table notebook</a>'\n",
              "            + ' to learn more about interactive tables.';\n",
              "          element.innerHTML = '';\n",
              "          dataTable['output_type'] = 'display_data';\n",
              "          await google.colab.output.renderOutput(dataTable, element);\n",
              "          const docLink = document.createElement('div');\n",
              "          docLink.innerHTML = docLinkHtml;\n",
              "          element.appendChild(docLink);\n",
              "        }\n",
              "      </script>\n",
              "    </div>\n",
              "  </div>\n",
              "  "
            ]
          },
          "metadata": {},
          "execution_count": 28
        }
      ]
    },
    {
      "cell_type": "code",
      "source": [
        "import statistics\n",
        "import numpy as np\n",
        "\n",
        "def periodicity(dataframe_in):\n",
        "  df_periodicity= pd.DataFrame()\n",
        "\n",
        "  df_without_duplicates = dataframe_in.drop_duplicates(subset=['Invoice'])\n",
        "  df = df_without_duplicates.groupby([\"Customer ID\"])[\"InvoiceDate\"].agg(lambda x: x.diff())\n",
        "  df = df.apply(lambda x: x.days)\n",
        "  df = df.apply(lambda x: np.delete(x, 0))\n",
        "  df_periodicity[\"n\"] = df.apply(lambda x: len(x))\n",
        "\n",
        "  df = df.apply(lambda x: np.std(x))\n",
        "\n",
        "  df_periodicity[\"CustomerID\"] = df.keys()\n",
        "  df_periodicity[\"Periodicity\"] = df.values\n",
        "\n",
        "  df_periodicity['Periodicity'] = df_periodicity.apply(\n",
        "    lambda row: row.Periodicity if row.n > 1 else -1 , axis=1)\n",
        "\n",
        "  return df_periodicity\n",
        "\n",
        "periodicity(df_retail)"
      ],
      "metadata": {
        "colab": {
          "base_uri": "https://localhost:8080/",
          "height": 529
        },
        "id": "-6UDvMQz0qef",
        "outputId": "f293f621-762e-4737-bd3d-556ebb6dc45b"
      },
      "execution_count": 29,
      "outputs": [
        {
          "output_type": "stream",
          "name": "stderr",
          "text": [
            "/usr/local/lib/python3.7/dist-packages/numpy/core/_methods.py:263: RuntimeWarning:\n",
            "\n",
            "Degrees of freedom <= 0 for slice\n",
            "\n"
          ]
        },
        {
          "output_type": "execute_result",
          "data": {
            "text/plain": [
              "              n CustomerID  Periodicity\n",
              "Customer ID                            \n",
              "12346.0      10    12346.0    34.778729\n",
              "12347.0       1    12347.0    -1.000000\n",
              "12348.0       0    12348.0    -1.000000\n",
              "12349.0       2    12349.0    72.000000\n",
              "12351.0       0    12351.0    -1.000000\n",
              "...          ..        ...          ...\n",
              "18283.0       5    18283.0    55.304973\n",
              "18284.0       0    18284.0    -1.000000\n",
              "18285.0       0    18285.0    -1.000000\n",
              "18286.0       1    18286.0    -1.000000\n",
              "18287.0       3    18287.0    51.860925\n",
              "\n",
              "[4314 rows x 3 columns]"
            ],
            "text/html": [
              "\n",
              "  <div id=\"df-55560268-b8c9-4559-b4f7-7aa697e4c8ab\">\n",
              "    <div class=\"colab-df-container\">\n",
              "      <div>\n",
              "<style scoped>\n",
              "    .dataframe tbody tr th:only-of-type {\n",
              "        vertical-align: middle;\n",
              "    }\n",
              "\n",
              "    .dataframe tbody tr th {\n",
              "        vertical-align: top;\n",
              "    }\n",
              "\n",
              "    .dataframe thead th {\n",
              "        text-align: right;\n",
              "    }\n",
              "</style>\n",
              "<table border=\"1\" class=\"dataframe\">\n",
              "  <thead>\n",
              "    <tr style=\"text-align: right;\">\n",
              "      <th></th>\n",
              "      <th>n</th>\n",
              "      <th>CustomerID</th>\n",
              "      <th>Periodicity</th>\n",
              "    </tr>\n",
              "    <tr>\n",
              "      <th>Customer ID</th>\n",
              "      <th></th>\n",
              "      <th></th>\n",
              "      <th></th>\n",
              "    </tr>\n",
              "  </thead>\n",
              "  <tbody>\n",
              "    <tr>\n",
              "      <th>12346.0</th>\n",
              "      <td>10</td>\n",
              "      <td>12346.0</td>\n",
              "      <td>34.778729</td>\n",
              "    </tr>\n",
              "    <tr>\n",
              "      <th>12347.0</th>\n",
              "      <td>1</td>\n",
              "      <td>12347.0</td>\n",
              "      <td>-1.000000</td>\n",
              "    </tr>\n",
              "    <tr>\n",
              "      <th>12348.0</th>\n",
              "      <td>0</td>\n",
              "      <td>12348.0</td>\n",
              "      <td>-1.000000</td>\n",
              "    </tr>\n",
              "    <tr>\n",
              "      <th>12349.0</th>\n",
              "      <td>2</td>\n",
              "      <td>12349.0</td>\n",
              "      <td>72.000000</td>\n",
              "    </tr>\n",
              "    <tr>\n",
              "      <th>12351.0</th>\n",
              "      <td>0</td>\n",
              "      <td>12351.0</td>\n",
              "      <td>-1.000000</td>\n",
              "    </tr>\n",
              "    <tr>\n",
              "      <th>...</th>\n",
              "      <td>...</td>\n",
              "      <td>...</td>\n",
              "      <td>...</td>\n",
              "    </tr>\n",
              "    <tr>\n",
              "      <th>18283.0</th>\n",
              "      <td>5</td>\n",
              "      <td>18283.0</td>\n",
              "      <td>55.304973</td>\n",
              "    </tr>\n",
              "    <tr>\n",
              "      <th>18284.0</th>\n",
              "      <td>0</td>\n",
              "      <td>18284.0</td>\n",
              "      <td>-1.000000</td>\n",
              "    </tr>\n",
              "    <tr>\n",
              "      <th>18285.0</th>\n",
              "      <td>0</td>\n",
              "      <td>18285.0</td>\n",
              "      <td>-1.000000</td>\n",
              "    </tr>\n",
              "    <tr>\n",
              "      <th>18286.0</th>\n",
              "      <td>1</td>\n",
              "      <td>18286.0</td>\n",
              "      <td>-1.000000</td>\n",
              "    </tr>\n",
              "    <tr>\n",
              "      <th>18287.0</th>\n",
              "      <td>3</td>\n",
              "      <td>18287.0</td>\n",
              "      <td>51.860925</td>\n",
              "    </tr>\n",
              "  </tbody>\n",
              "</table>\n",
              "<p>4314 rows × 3 columns</p>\n",
              "</div>\n",
              "      <button class=\"colab-df-convert\" onclick=\"convertToInteractive('df-55560268-b8c9-4559-b4f7-7aa697e4c8ab')\"\n",
              "              title=\"Convert this dataframe to an interactive table.\"\n",
              "              style=\"display:none;\">\n",
              "        \n",
              "  <svg xmlns=\"http://www.w3.org/2000/svg\" height=\"24px\"viewBox=\"0 0 24 24\"\n",
              "       width=\"24px\">\n",
              "    <path d=\"M0 0h24v24H0V0z\" fill=\"none\"/>\n",
              "    <path d=\"M18.56 5.44l.94 2.06.94-2.06 2.06-.94-2.06-.94-.94-2.06-.94 2.06-2.06.94zm-11 1L8.5 8.5l.94-2.06 2.06-.94-2.06-.94L8.5 2.5l-.94 2.06-2.06.94zm10 10l.94 2.06.94-2.06 2.06-.94-2.06-.94-.94-2.06-.94 2.06-2.06.94z\"/><path d=\"M17.41 7.96l-1.37-1.37c-.4-.4-.92-.59-1.43-.59-.52 0-1.04.2-1.43.59L10.3 9.45l-7.72 7.72c-.78.78-.78 2.05 0 2.83L4 21.41c.39.39.9.59 1.41.59.51 0 1.02-.2 1.41-.59l7.78-7.78 2.81-2.81c.8-.78.8-2.07 0-2.86zM5.41 20L4 18.59l7.72-7.72 1.47 1.35L5.41 20z\"/>\n",
              "  </svg>\n",
              "      </button>\n",
              "      \n",
              "  <style>\n",
              "    .colab-df-container {\n",
              "      display:flex;\n",
              "      flex-wrap:wrap;\n",
              "      gap: 12px;\n",
              "    }\n",
              "\n",
              "    .colab-df-convert {\n",
              "      background-color: #E8F0FE;\n",
              "      border: none;\n",
              "      border-radius: 50%;\n",
              "      cursor: pointer;\n",
              "      display: none;\n",
              "      fill: #1967D2;\n",
              "      height: 32px;\n",
              "      padding: 0 0 0 0;\n",
              "      width: 32px;\n",
              "    }\n",
              "\n",
              "    .colab-df-convert:hover {\n",
              "      background-color: #E2EBFA;\n",
              "      box-shadow: 0px 1px 2px rgba(60, 64, 67, 0.3), 0px 1px 3px 1px rgba(60, 64, 67, 0.15);\n",
              "      fill: #174EA6;\n",
              "    }\n",
              "\n",
              "    [theme=dark] .colab-df-convert {\n",
              "      background-color: #3B4455;\n",
              "      fill: #D2E3FC;\n",
              "    }\n",
              "\n",
              "    [theme=dark] .colab-df-convert:hover {\n",
              "      background-color: #434B5C;\n",
              "      box-shadow: 0px 1px 3px 1px rgba(0, 0, 0, 0.15);\n",
              "      filter: drop-shadow(0px 1px 2px rgba(0, 0, 0, 0.3));\n",
              "      fill: #FFFFFF;\n",
              "    }\n",
              "  </style>\n",
              "\n",
              "      <script>\n",
              "        const buttonEl =\n",
              "          document.querySelector('#df-55560268-b8c9-4559-b4f7-7aa697e4c8ab button.colab-df-convert');\n",
              "        buttonEl.style.display =\n",
              "          google.colab.kernel.accessAllowed ? 'block' : 'none';\n",
              "\n",
              "        async function convertToInteractive(key) {\n",
              "          const element = document.querySelector('#df-55560268-b8c9-4559-b4f7-7aa697e4c8ab');\n",
              "          const dataTable =\n",
              "            await google.colab.kernel.invokeFunction('convertToInteractive',\n",
              "                                                     [key], {});\n",
              "          if (!dataTable) return;\n",
              "\n",
              "          const docLinkHtml = 'Like what you see? Visit the ' +\n",
              "            '<a target=\"_blank\" href=https://colab.research.google.com/notebooks/data_table.ipynb>data table notebook</a>'\n",
              "            + ' to learn more about interactive tables.';\n",
              "          element.innerHTML = '';\n",
              "          dataTable['output_type'] = 'display_data';\n",
              "          await google.colab.output.renderOutput(dataTable, element);\n",
              "          const docLink = document.createElement('div');\n",
              "          docLink.innerHTML = docLinkHtml;\n",
              "          element.appendChild(docLink);\n",
              "        }\n",
              "      </script>\n",
              "    </div>\n",
              "  </div>\n",
              "  "
            ]
          },
          "metadata": {},
          "execution_count": 29
        }
      ]
    },
    {
      "cell_type": "code",
      "source": [
        "def custom_features(dataframe_in):\n",
        "    dataframe_out = pd.DataFrame(columns = [\"CustomerID\", \"Length\", \"Recency\", \"Frecuency\", \"Monetary\", \"Periodicity\"])\n",
        "    \n",
        "    #LENGTH\n",
        "    a = dataframe_in.groupby([\"Customer ID\"]).min()[\"InvoiceDate\"]\n",
        "    b = dataframe_in.groupby([\"Customer ID\"]).max()[\"InvoiceDate\"]\n",
        "    dataframe_out[\"CustomerID\"] = a.keys()\n",
        "    dataframe_out[\"Length\"] = abs(a - b).apply(lambda x: x.days).values\n",
        "    #RECENCY\n",
        "    df_recency = recency(5, dataframe_in)\n",
        "    dataframe_out[\"Recency\"] = df_recency[\"Recency\"].values\n",
        "\n",
        "    #MONETARY\n",
        "    \n",
        "    #Se que este calculo esta mal, en vez de hacer esto me hubiese gustado hacer:\n",
        "    #dataframe_in.groupby([\"Customer ID\", \"Invoice\"]).mean()[\"Price\"] * dataframe_in.groupby([\"Customer ID\", \"Invoice\"]).mean()[\"Quantity\"]\n",
        "    #Y luego aplicar un promedio sobre los promedios de cada compra del cliente. Sin embargo google colab se quedaba sin ram al intentar hacer \n",
        "    #groupby de las columnas Customer ID e Invoice y no se por qué, nunca pude arreglar el error.\n",
        "    dataframe_out[\"Monetary\"] = (dataframe_in.groupby([\"Customer ID\"]).mean()[\"Price\"] * dataframe_in.groupby([\"Customer ID\"]).mean()[\"Quantity\"]).values\n",
        "\n",
        "    #FRECUENCY\n",
        "    dataframe_out[\"Frecuency\"] = dataframe_in.groupby([\"Customer ID\"]).count()[\"InvoiceDate\"].values\n",
        "\n",
        "    #PERIODICITY\n",
        "    df_periodicity = periodicity(dataframe_in)\n",
        "    dataframe_out[\"Periodicity\"] = df_periodicity[\"Periodicity\"].values\n",
        "    return dataframe_out\n",
        "\n",
        "custom_features(df_retail)"
      ],
      "metadata": {
        "tags": [],
        "cell_id": "39a8b98eacdc43a4bdfeaa138b746198",
        "owner_user_id": "8c58f50a-7a08-41a2-952e-38bdb7507048",
        "deepnote_cell_height": 83.86666870117188,
        "deepnote_cell_type": "code",
        "id": "rWA5AbwjSvcE",
        "colab": {
          "base_uri": "https://localhost:8080/",
          "height": 665
        },
        "outputId": "deb57c1d-e72a-4b80-cb42-143faf924a23"
      },
      "outputs": [
        {
          "output_type": "stream",
          "name": "stderr",
          "text": [
            "/usr/local/lib/python3.7/dist-packages/ipykernel_launcher.py:5: FutureWarning:\n",
            "\n",
            "Dropping invalid columns in DataFrameGroupBy.min is deprecated. In a future version, a TypeError will be raised. Before calling .min, select only columns which should be valid for the function.\n",
            "\n",
            "/usr/local/lib/python3.7/dist-packages/ipykernel_launcher.py:6: FutureWarning:\n",
            "\n",
            "Dropping invalid columns in DataFrameGroupBy.max is deprecated. In a future version, a TypeError will be raised. Before calling .max, select only columns which should be valid for the function.\n",
            "\n",
            "/usr/local/lib/python3.7/dist-packages/numpy/core/_methods.py:263: RuntimeWarning:\n",
            "\n",
            "Degrees of freedom <= 0 for slice\n",
            "\n"
          ]
        },
        {
          "output_type": "execute_result",
          "data": {
            "text/plain": [
              "     CustomerID  Length  Recency  Frecuency    Monetary  Periodicity\n",
              "0       12346.0     196    288.0         33   13.264646    34.778729\n",
              "1       12347.0      37      8.6         71   26.765047    -1.000000\n",
              "2       12348.0       0     14.8         20   13.418675    -1.000000\n",
              "3       12349.0     181     94.8        102   83.546003    72.000000\n",
              "4       12351.0       0      2.2         21   29.272245    -1.000000\n",
              "...         ...     ...      ...        ...         ...          ...\n",
              "4309    18283.0     275    137.8        217    3.263627    55.304973\n",
              "4310    18284.0       0     13.4         28   57.395995    -1.000000\n",
              "4311    18285.0       0     59.2         12  100.895833    -1.000000\n",
              "4312    18286.0     247     94.2         67   38.777100    -1.000000\n",
              "4313    18287.0     188     77.0         85   47.755617    51.860925\n",
              "\n",
              "[4314 rows x 6 columns]"
            ],
            "text/html": [
              "\n",
              "  <div id=\"df-b9f5bf55-a150-4c51-a86d-48457521d301\">\n",
              "    <div class=\"colab-df-container\">\n",
              "      <div>\n",
              "<style scoped>\n",
              "    .dataframe tbody tr th:only-of-type {\n",
              "        vertical-align: middle;\n",
              "    }\n",
              "\n",
              "    .dataframe tbody tr th {\n",
              "        vertical-align: top;\n",
              "    }\n",
              "\n",
              "    .dataframe thead th {\n",
              "        text-align: right;\n",
              "    }\n",
              "</style>\n",
              "<table border=\"1\" class=\"dataframe\">\n",
              "  <thead>\n",
              "    <tr style=\"text-align: right;\">\n",
              "      <th></th>\n",
              "      <th>CustomerID</th>\n",
              "      <th>Length</th>\n",
              "      <th>Recency</th>\n",
              "      <th>Frecuency</th>\n",
              "      <th>Monetary</th>\n",
              "      <th>Periodicity</th>\n",
              "    </tr>\n",
              "  </thead>\n",
              "  <tbody>\n",
              "    <tr>\n",
              "      <th>0</th>\n",
              "      <td>12346.0</td>\n",
              "      <td>196</td>\n",
              "      <td>288.0</td>\n",
              "      <td>33</td>\n",
              "      <td>13.264646</td>\n",
              "      <td>34.778729</td>\n",
              "    </tr>\n",
              "    <tr>\n",
              "      <th>1</th>\n",
              "      <td>12347.0</td>\n",
              "      <td>37</td>\n",
              "      <td>8.6</td>\n",
              "      <td>71</td>\n",
              "      <td>26.765047</td>\n",
              "      <td>-1.000000</td>\n",
              "    </tr>\n",
              "    <tr>\n",
              "      <th>2</th>\n",
              "      <td>12348.0</td>\n",
              "      <td>0</td>\n",
              "      <td>14.8</td>\n",
              "      <td>20</td>\n",
              "      <td>13.418675</td>\n",
              "      <td>-1.000000</td>\n",
              "    </tr>\n",
              "    <tr>\n",
              "      <th>3</th>\n",
              "      <td>12349.0</td>\n",
              "      <td>181</td>\n",
              "      <td>94.8</td>\n",
              "      <td>102</td>\n",
              "      <td>83.546003</td>\n",
              "      <td>72.000000</td>\n",
              "    </tr>\n",
              "    <tr>\n",
              "      <th>4</th>\n",
              "      <td>12351.0</td>\n",
              "      <td>0</td>\n",
              "      <td>2.2</td>\n",
              "      <td>21</td>\n",
              "      <td>29.272245</td>\n",
              "      <td>-1.000000</td>\n",
              "    </tr>\n",
              "    <tr>\n",
              "      <th>...</th>\n",
              "      <td>...</td>\n",
              "      <td>...</td>\n",
              "      <td>...</td>\n",
              "      <td>...</td>\n",
              "      <td>...</td>\n",
              "      <td>...</td>\n",
              "    </tr>\n",
              "    <tr>\n",
              "      <th>4309</th>\n",
              "      <td>18283.0</td>\n",
              "      <td>275</td>\n",
              "      <td>137.8</td>\n",
              "      <td>217</td>\n",
              "      <td>3.263627</td>\n",
              "      <td>55.304973</td>\n",
              "    </tr>\n",
              "    <tr>\n",
              "      <th>4310</th>\n",
              "      <td>18284.0</td>\n",
              "      <td>0</td>\n",
              "      <td>13.4</td>\n",
              "      <td>28</td>\n",
              "      <td>57.395995</td>\n",
              "      <td>-1.000000</td>\n",
              "    </tr>\n",
              "    <tr>\n",
              "      <th>4311</th>\n",
              "      <td>18285.0</td>\n",
              "      <td>0</td>\n",
              "      <td>59.2</td>\n",
              "      <td>12</td>\n",
              "      <td>100.895833</td>\n",
              "      <td>-1.000000</td>\n",
              "    </tr>\n",
              "    <tr>\n",
              "      <th>4312</th>\n",
              "      <td>18286.0</td>\n",
              "      <td>247</td>\n",
              "      <td>94.2</td>\n",
              "      <td>67</td>\n",
              "      <td>38.777100</td>\n",
              "      <td>-1.000000</td>\n",
              "    </tr>\n",
              "    <tr>\n",
              "      <th>4313</th>\n",
              "      <td>18287.0</td>\n",
              "      <td>188</td>\n",
              "      <td>77.0</td>\n",
              "      <td>85</td>\n",
              "      <td>47.755617</td>\n",
              "      <td>51.860925</td>\n",
              "    </tr>\n",
              "  </tbody>\n",
              "</table>\n",
              "<p>4314 rows × 6 columns</p>\n",
              "</div>\n",
              "      <button class=\"colab-df-convert\" onclick=\"convertToInteractive('df-b9f5bf55-a150-4c51-a86d-48457521d301')\"\n",
              "              title=\"Convert this dataframe to an interactive table.\"\n",
              "              style=\"display:none;\">\n",
              "        \n",
              "  <svg xmlns=\"http://www.w3.org/2000/svg\" height=\"24px\"viewBox=\"0 0 24 24\"\n",
              "       width=\"24px\">\n",
              "    <path d=\"M0 0h24v24H0V0z\" fill=\"none\"/>\n",
              "    <path d=\"M18.56 5.44l.94 2.06.94-2.06 2.06-.94-2.06-.94-.94-2.06-.94 2.06-2.06.94zm-11 1L8.5 8.5l.94-2.06 2.06-.94-2.06-.94L8.5 2.5l-.94 2.06-2.06.94zm10 10l.94 2.06.94-2.06 2.06-.94-2.06-.94-.94-2.06-.94 2.06-2.06.94z\"/><path d=\"M17.41 7.96l-1.37-1.37c-.4-.4-.92-.59-1.43-.59-.52 0-1.04.2-1.43.59L10.3 9.45l-7.72 7.72c-.78.78-.78 2.05 0 2.83L4 21.41c.39.39.9.59 1.41.59.51 0 1.02-.2 1.41-.59l7.78-7.78 2.81-2.81c.8-.78.8-2.07 0-2.86zM5.41 20L4 18.59l7.72-7.72 1.47 1.35L5.41 20z\"/>\n",
              "  </svg>\n",
              "      </button>\n",
              "      \n",
              "  <style>\n",
              "    .colab-df-container {\n",
              "      display:flex;\n",
              "      flex-wrap:wrap;\n",
              "      gap: 12px;\n",
              "    }\n",
              "\n",
              "    .colab-df-convert {\n",
              "      background-color: #E8F0FE;\n",
              "      border: none;\n",
              "      border-radius: 50%;\n",
              "      cursor: pointer;\n",
              "      display: none;\n",
              "      fill: #1967D2;\n",
              "      height: 32px;\n",
              "      padding: 0 0 0 0;\n",
              "      width: 32px;\n",
              "    }\n",
              "\n",
              "    .colab-df-convert:hover {\n",
              "      background-color: #E2EBFA;\n",
              "      box-shadow: 0px 1px 2px rgba(60, 64, 67, 0.3), 0px 1px 3px 1px rgba(60, 64, 67, 0.15);\n",
              "      fill: #174EA6;\n",
              "    }\n",
              "\n",
              "    [theme=dark] .colab-df-convert {\n",
              "      background-color: #3B4455;\n",
              "      fill: #D2E3FC;\n",
              "    }\n",
              "\n",
              "    [theme=dark] .colab-df-convert:hover {\n",
              "      background-color: #434B5C;\n",
              "      box-shadow: 0px 1px 3px 1px rgba(0, 0, 0, 0.15);\n",
              "      filter: drop-shadow(0px 1px 2px rgba(0, 0, 0, 0.3));\n",
              "      fill: #FFFFFF;\n",
              "    }\n",
              "  </style>\n",
              "\n",
              "      <script>\n",
              "        const buttonEl =\n",
              "          document.querySelector('#df-b9f5bf55-a150-4c51-a86d-48457521d301 button.colab-df-convert');\n",
              "        buttonEl.style.display =\n",
              "          google.colab.kernel.accessAllowed ? 'block' : 'none';\n",
              "\n",
              "        async function convertToInteractive(key) {\n",
              "          const element = document.querySelector('#df-b9f5bf55-a150-4c51-a86d-48457521d301');\n",
              "          const dataTable =\n",
              "            await google.colab.kernel.invokeFunction('convertToInteractive',\n",
              "                                                     [key], {});\n",
              "          if (!dataTable) return;\n",
              "\n",
              "          const docLinkHtml = 'Like what you see? Visit the ' +\n",
              "            '<a target=\"_blank\" href=https://colab.research.google.com/notebooks/data_table.ipynb>data table notebook</a>'\n",
              "            + ' to learn more about interactive tables.';\n",
              "          element.innerHTML = '';\n",
              "          dataTable['output_type'] = 'display_data';\n",
              "          await google.colab.output.renderOutput(dataTable, element);\n",
              "          const docLink = document.createElement('div');\n",
              "          docLink.innerHTML = docLinkHtml;\n",
              "          element.appendChild(docLink);\n",
              "        }\n",
              "      </script>\n",
              "    </div>\n",
              "  </div>\n",
              "  "
            ]
          },
          "metadata": {},
          "execution_count": 30
        }
      ],
      "execution_count": 30
    },
    {
      "cell_type": "markdown",
      "source": [
        "**Resúesta de Pauta:**"
      ],
      "metadata": {
        "tags": [],
        "cell_id": "e227578abc624b36bedcf300ab03dec3",
        "deepnote_cell_height": 52.26666259765625,
        "deepnote_cell_type": "markdown",
        "id": "Npv9UbYxSvcE"
      }
    },
    {
      "cell_type": "markdown",
      "source": [
        "En el caso de que la persona tenga menos de dos visitas entonces se \"castiga\" su periodicidad como -1."
      ],
      "metadata": {
        "id": "BEgFwQ8goh-D"
      }
    },
    {
      "cell_type": "markdown",
      "source": [
        "## 1.3 Pipelines 👷"
      ],
      "metadata": {
        "tags": [],
        "cell_id": "e4adca3e05c741df93087e2a0638ef7d",
        "deepnote_cell_height": 69.86666870117188,
        "deepnote_cell_type": "markdown",
        "id": "lU74p1yVSvcF"
      }
    },
    {
      "cell_type": "markdown",
      "source": [
        "Finalmente *Don Mora* le pregunta si seria posible realizar un pipeline para realizar una segmentación de los clientes con los nuevos datos generados, a lo que usted responde que **sí** y propone la utilización de k-means para la segmentación.\n",
        "\n",
        "A continuación siga los pasos requeridos para obtener la segmentación de clientes."
      ],
      "metadata": {
        "tags": [],
        "cell_id": "20e2c59abf64489d8cabc5c230e86fd2",
        "deepnote_cell_height": 133.46665954589844,
        "deepnote_cell_type": "markdown",
        "id": "BMeaESOLSvcF"
      }
    },
    {
      "cell_type": "markdown",
      "source": [
        "### 1.3.1 Estandarizar Caracteristicas [0.5 puntos]"
      ],
      "metadata": {
        "tags": [],
        "cell_id": "c6162b8b49a045bba12f9b17b51f21bf",
        "deepnote_cell_height": 61.866668701171875,
        "deepnote_cell_type": "markdown",
        "id": "qjd7AvWiSvcF"
      }
    },
    {
      "cell_type": "markdown",
      "source": [
        "Construya una clase llamada ``MinMax()`` utilizando ``BaseEstimator`` y ``TransformerMixin`` para realizar una transformación de cada una de las columnas de un DataFrame utilizando ``ColumnTransformer()`` más tarde (tome como referencia el siguiente [enlace](https://sklearn-template.readthedocs.io/en/latest/user_guide.html#transformer)).\n",
        "\n",
        "\n",
        " Para esto considere que Min-Max escaler queda dada por la ecuación:\n",
        "\n",
        "$$MinMax = \\dfrac{x-min(x)}{max(x) - min(x)}$$\n",
        "\n",
        "Con esto buscamos que los valores que componen a las columnas se muevan en el rango de valores $[0, 1]$."
      ],
      "metadata": {
        "tags": [],
        "cell_id": "94c48775ecb4496d970fbd920f65c126",
        "deepnote_cell_height": 268.70001220703125,
        "deepnote_cell_type": "markdown",
        "id": "icC-LEd1SvcG"
      }
    },
    {
      "cell_type": "markdown",
      "source": [
        "**Respuesta:**"
      ],
      "metadata": {
        "tags": [],
        "cell_id": "c087d1fa8aa94d7485fe1292bf628660",
        "deepnote_cell_height": 52.26666259765625,
        "deepnote_cell_type": "markdown",
        "id": "lRLywv1vSvcG"
      }
    },
    {
      "cell_type": "code",
      "source": [
        "from sklearn.base import TransformerMixin\n",
        "\n",
        "class MinMax(BaseEstimator, TransformerMixin):\n",
        "    def fit(self, X, y=None):\n",
        "      return self\n",
        "    def transform(self, X):\n",
        "      minmax = (X - X.min())/(X.max() - X.min())\n",
        "      return minmax"
      ],
      "metadata": {
        "tags": [],
        "cell_id": "07cb4dcf097c4c6baabb9ae2bda25caf",
        "deepnote_cell_height": 83.86666870117188,
        "deepnote_cell_type": "code",
        "id": "AtN5Mu-gSvcG"
      },
      "outputs": [],
      "execution_count": 31
    },
    {
      "cell_type": "markdown",
      "source": [
        "### 1.3.2 `T-SNA` Pipeline [1.0 puntos]"
      ],
      "metadata": {
        "tags": [],
        "cell_id": "b280dbe181ce4d80a6a5b5f563c842e7",
        "deepnote_cell_height": 62.19999694824219,
        "deepnote_cell_type": "markdown",
        "id": "tgnhroE4SvcG"
      }
    },
    {
      "cell_type": "markdown",
      "source": [
        "Para comenzar introduciéndose en el uso de pipeline, decide probar realizando un pipeline enfocado en la reducción de dimensionalidad y así hacer no decepcionar a Mr. Lepin con la clusterización del modelo. \n",
        "\n",
        "Configure un pipeline utilizando el algoritmo `T-SNE` sobre los datos **LRMFP**, donde, para la realización del pipeline considera los siguientes pasos:\n",
        "\n",
        "1. Como primer paso obtenga las características **LRMFP** desde el DataFrame ``df_retail_II_cleaned.pickle`` utilizando la función ``custom_features`` creada anteriormente, junto a ``FunctionTransformer()``. Considere esto como el primer paso de su pipeline.\n",
        "2. En segundo lugar usando ``ColumnTransformer()`` aplique el MinxMax scaler creado por usted sobre todas las columnas generadas en el paso anterior. \n",
        "3. Finalmente, aplique un último paso donde obtiene las 2 componentes más relevantes utilizando el algoritmo T-sne de sckit-learn.\n",
        "\n",
        "Tras aplicar las transformaciones sobre el dataset **LRMFP**, gráfique las componentes obtenidas en la reducción de dimensionalidad."
      ],
      "metadata": {
        "tags": [],
        "cell_id": "c532e63f2fd541cda5b741d2f24c1ea8",
        "deepnote_cell_height": 413.8666687011719,
        "deepnote_cell_type": "markdown",
        "id": "zBz1yv9pSvcG"
      }
    },
    {
      "cell_type": "markdown",
      "source": [
        "**Respuesta:**"
      ],
      "metadata": {
        "tags": [],
        "cell_id": "a480355952a34b6cb7e72afa764091d6",
        "deepnote_cell_height": 52.26666259765625,
        "deepnote_cell_type": "markdown",
        "id": "t_WOA6R0SvcG"
      }
    },
    {
      "cell_type": "code",
      "source": [
        "from sklearn.preprocessing import MinMaxScaler\n",
        "LRMFP = FunctionTransformer(custom_features, validate=False)\n",
        "\n",
        "pl = Pipeline(memory=None,\n",
        "    steps=[\n",
        "        ('LRMFP', LRMFP),\n",
        "        ('scaler', MinMaxScaler()),\n",
        "        ('TSNE', TSNE())\n",
        "    ], verbose=True)\n",
        "\n",
        "\n",
        "\n",
        "df_preprocesado = pl.fit_transform(df_retail)\n",
        "df_preprocesado\n",
        "\n"
      ],
      "metadata": {
        "tags": [],
        "cell_id": "1889976b7a4c40c7825752979b577567",
        "deepnote_cell_height": 65.86666870117188,
        "deepnote_cell_type": "code",
        "id": "Si7JjqIPSvcH",
        "colab": {
          "base_uri": "https://localhost:8080/"
        },
        "outputId": "5dc20269-dd70-409b-b3d4-9b322871ad36"
      },
      "outputs": [
        {
          "output_type": "stream",
          "name": "stderr",
          "text": [
            "/usr/local/lib/python3.7/dist-packages/ipykernel_launcher.py:5: FutureWarning:\n",
            "\n",
            "Dropping invalid columns in DataFrameGroupBy.min is deprecated. In a future version, a TypeError will be raised. Before calling .min, select only columns which should be valid for the function.\n",
            "\n",
            "/usr/local/lib/python3.7/dist-packages/ipykernel_launcher.py:6: FutureWarning:\n",
            "\n",
            "Dropping invalid columns in DataFrameGroupBy.max is deprecated. In a future version, a TypeError will be raised. Before calling .max, select only columns which should be valid for the function.\n",
            "\n",
            "/usr/local/lib/python3.7/dist-packages/numpy/core/_methods.py:263: RuntimeWarning:\n",
            "\n",
            "Degrees of freedom <= 0 for slice\n",
            "\n"
          ]
        },
        {
          "output_type": "stream",
          "name": "stdout",
          "text": [
            "[Pipeline] ............. (step 1 of 3) Processing LRMFP, total=   8.9s\n",
            "[Pipeline] ............ (step 2 of 3) Processing scaler, total=   0.0s\n"
          ]
        },
        {
          "output_type": "stream",
          "name": "stderr",
          "text": [
            "/usr/local/lib/python3.7/dist-packages/sklearn/manifold/_t_sne.py:783: FutureWarning:\n",
            "\n",
            "The default initialization in TSNE will change from 'random' to 'pca' in 1.2.\n",
            "\n",
            "/usr/local/lib/python3.7/dist-packages/sklearn/manifold/_t_sne.py:793: FutureWarning:\n",
            "\n",
            "The default learning rate in TSNE will change from 200.0 to 'auto' in 1.2.\n",
            "\n"
          ]
        },
        {
          "output_type": "stream",
          "name": "stdout",
          "text": [
            "[Pipeline] .............. (step 3 of 3) Processing TSNE, total=  26.6s\n"
          ]
        },
        {
          "output_type": "execute_result",
          "data": {
            "text/plain": [
              "array([[-28.864708,  -9.075451],\n",
              "       [ 64.17577 ,  33.81243 ],\n",
              "       [ 71.31275 ,  40.33351 ],\n",
              "       ...,\n",
              "       [-34.449944,  41.34082 ],\n",
              "       [ 13.170742, -58.67087 ],\n",
              "       [ 29.120096, -41.347492]], dtype=float32)"
            ]
          },
          "metadata": {},
          "execution_count": 32
        }
      ],
      "execution_count": 32
    },
    {
      "cell_type": "code",
      "source": [
        "df_preprocesado = pd.DataFrame(df_preprocesado)\n",
        "df_preprocesado"
      ],
      "metadata": {
        "id": "DEvUgVkmmqSR",
        "colab": {
          "base_uri": "https://localhost:8080/",
          "height": 423
        },
        "outputId": "4ce5a2cb-ff0d-46cf-f76b-2684b8326e67"
      },
      "execution_count": 33,
      "outputs": [
        {
          "output_type": "execute_result",
          "data": {
            "text/plain": [
              "              0          1\n",
              "0    -28.864708  -9.075451\n",
              "1     64.175774  33.812431\n",
              "2     71.312752  40.333511\n",
              "3    -34.657059 -16.180557\n",
              "4     73.379890  40.616699\n",
              "...         ...        ...\n",
              "4309   2.077670 -47.289913\n",
              "4310 -42.408657  52.808136\n",
              "4311 -34.449944  41.340820\n",
              "4312  13.170742 -58.670872\n",
              "4313  29.120096 -41.347492\n",
              "\n",
              "[4314 rows x 2 columns]"
            ],
            "text/html": [
              "\n",
              "  <div id=\"df-8633fadd-fa03-48a0-84dc-c941078334ca\">\n",
              "    <div class=\"colab-df-container\">\n",
              "      <div>\n",
              "<style scoped>\n",
              "    .dataframe tbody tr th:only-of-type {\n",
              "        vertical-align: middle;\n",
              "    }\n",
              "\n",
              "    .dataframe tbody tr th {\n",
              "        vertical-align: top;\n",
              "    }\n",
              "\n",
              "    .dataframe thead th {\n",
              "        text-align: right;\n",
              "    }\n",
              "</style>\n",
              "<table border=\"1\" class=\"dataframe\">\n",
              "  <thead>\n",
              "    <tr style=\"text-align: right;\">\n",
              "      <th></th>\n",
              "      <th>0</th>\n",
              "      <th>1</th>\n",
              "    </tr>\n",
              "  </thead>\n",
              "  <tbody>\n",
              "    <tr>\n",
              "      <th>0</th>\n",
              "      <td>-28.864708</td>\n",
              "      <td>-9.075451</td>\n",
              "    </tr>\n",
              "    <tr>\n",
              "      <th>1</th>\n",
              "      <td>64.175774</td>\n",
              "      <td>33.812431</td>\n",
              "    </tr>\n",
              "    <tr>\n",
              "      <th>2</th>\n",
              "      <td>71.312752</td>\n",
              "      <td>40.333511</td>\n",
              "    </tr>\n",
              "    <tr>\n",
              "      <th>3</th>\n",
              "      <td>-34.657059</td>\n",
              "      <td>-16.180557</td>\n",
              "    </tr>\n",
              "    <tr>\n",
              "      <th>4</th>\n",
              "      <td>73.379890</td>\n",
              "      <td>40.616699</td>\n",
              "    </tr>\n",
              "    <tr>\n",
              "      <th>...</th>\n",
              "      <td>...</td>\n",
              "      <td>...</td>\n",
              "    </tr>\n",
              "    <tr>\n",
              "      <th>4309</th>\n",
              "      <td>2.077670</td>\n",
              "      <td>-47.289913</td>\n",
              "    </tr>\n",
              "    <tr>\n",
              "      <th>4310</th>\n",
              "      <td>-42.408657</td>\n",
              "      <td>52.808136</td>\n",
              "    </tr>\n",
              "    <tr>\n",
              "      <th>4311</th>\n",
              "      <td>-34.449944</td>\n",
              "      <td>41.340820</td>\n",
              "    </tr>\n",
              "    <tr>\n",
              "      <th>4312</th>\n",
              "      <td>13.170742</td>\n",
              "      <td>-58.670872</td>\n",
              "    </tr>\n",
              "    <tr>\n",
              "      <th>4313</th>\n",
              "      <td>29.120096</td>\n",
              "      <td>-41.347492</td>\n",
              "    </tr>\n",
              "  </tbody>\n",
              "</table>\n",
              "<p>4314 rows × 2 columns</p>\n",
              "</div>\n",
              "      <button class=\"colab-df-convert\" onclick=\"convertToInteractive('df-8633fadd-fa03-48a0-84dc-c941078334ca')\"\n",
              "              title=\"Convert this dataframe to an interactive table.\"\n",
              "              style=\"display:none;\">\n",
              "        \n",
              "  <svg xmlns=\"http://www.w3.org/2000/svg\" height=\"24px\"viewBox=\"0 0 24 24\"\n",
              "       width=\"24px\">\n",
              "    <path d=\"M0 0h24v24H0V0z\" fill=\"none\"/>\n",
              "    <path d=\"M18.56 5.44l.94 2.06.94-2.06 2.06-.94-2.06-.94-.94-2.06-.94 2.06-2.06.94zm-11 1L8.5 8.5l.94-2.06 2.06-.94-2.06-.94L8.5 2.5l-.94 2.06-2.06.94zm10 10l.94 2.06.94-2.06 2.06-.94-2.06-.94-.94-2.06-.94 2.06-2.06.94z\"/><path d=\"M17.41 7.96l-1.37-1.37c-.4-.4-.92-.59-1.43-.59-.52 0-1.04.2-1.43.59L10.3 9.45l-7.72 7.72c-.78.78-.78 2.05 0 2.83L4 21.41c.39.39.9.59 1.41.59.51 0 1.02-.2 1.41-.59l7.78-7.78 2.81-2.81c.8-.78.8-2.07 0-2.86zM5.41 20L4 18.59l7.72-7.72 1.47 1.35L5.41 20z\"/>\n",
              "  </svg>\n",
              "      </button>\n",
              "      \n",
              "  <style>\n",
              "    .colab-df-container {\n",
              "      display:flex;\n",
              "      flex-wrap:wrap;\n",
              "      gap: 12px;\n",
              "    }\n",
              "\n",
              "    .colab-df-convert {\n",
              "      background-color: #E8F0FE;\n",
              "      border: none;\n",
              "      border-radius: 50%;\n",
              "      cursor: pointer;\n",
              "      display: none;\n",
              "      fill: #1967D2;\n",
              "      height: 32px;\n",
              "      padding: 0 0 0 0;\n",
              "      width: 32px;\n",
              "    }\n",
              "\n",
              "    .colab-df-convert:hover {\n",
              "      background-color: #E2EBFA;\n",
              "      box-shadow: 0px 1px 2px rgba(60, 64, 67, 0.3), 0px 1px 3px 1px rgba(60, 64, 67, 0.15);\n",
              "      fill: #174EA6;\n",
              "    }\n",
              "\n",
              "    [theme=dark] .colab-df-convert {\n",
              "      background-color: #3B4455;\n",
              "      fill: #D2E3FC;\n",
              "    }\n",
              "\n",
              "    [theme=dark] .colab-df-convert:hover {\n",
              "      background-color: #434B5C;\n",
              "      box-shadow: 0px 1px 3px 1px rgba(0, 0, 0, 0.15);\n",
              "      filter: drop-shadow(0px 1px 2px rgba(0, 0, 0, 0.3));\n",
              "      fill: #FFFFFF;\n",
              "    }\n",
              "  </style>\n",
              "\n",
              "      <script>\n",
              "        const buttonEl =\n",
              "          document.querySelector('#df-8633fadd-fa03-48a0-84dc-c941078334ca button.colab-df-convert');\n",
              "        buttonEl.style.display =\n",
              "          google.colab.kernel.accessAllowed ? 'block' : 'none';\n",
              "\n",
              "        async function convertToInteractive(key) {\n",
              "          const element = document.querySelector('#df-8633fadd-fa03-48a0-84dc-c941078334ca');\n",
              "          const dataTable =\n",
              "            await google.colab.kernel.invokeFunction('convertToInteractive',\n",
              "                                                     [key], {});\n",
              "          if (!dataTable) return;\n",
              "\n",
              "          const docLinkHtml = 'Like what you see? Visit the ' +\n",
              "            '<a target=\"_blank\" href=https://colab.research.google.com/notebooks/data_table.ipynb>data table notebook</a>'\n",
              "            + ' to learn more about interactive tables.';\n",
              "          element.innerHTML = '';\n",
              "          dataTable['output_type'] = 'display_data';\n",
              "          await google.colab.output.renderOutput(dataTable, element);\n",
              "          const docLink = document.createElement('div');\n",
              "          docLink.innerHTML = docLinkHtml;\n",
              "          element.appendChild(docLink);\n",
              "        }\n",
              "      </script>\n",
              "    </div>\n",
              "  </div>\n",
              "  "
            ]
          },
          "metadata": {},
          "execution_count": 33
        }
      ]
    },
    {
      "cell_type": "code",
      "source": [
        "import plotly.express as px\n",
        "\n",
        "fig = px.scatter(df_preprocesado, x=0, y=1)\n",
        "fig.update_layout( title=\"Distribución de elementos según sus nuevas caracteristicas\", xaxis_title=\"característica 0\",\n",
        "    yaxis_title=\"caracteristica 1\")\n",
        "fig.show()"
      ],
      "metadata": {
        "id": "fKkp2wPsn5Br",
        "colab": {
          "base_uri": "https://localhost:8080/",
          "height": 542
        },
        "outputId": "25588e63-c5f8-41df-9fd8-7e4c9a5cccbc"
      },
      "execution_count": 34,
      "outputs": [
        {
          "output_type": "display_data",
          "data": {
            "text/html": [
              "<html>\n",
              "<head><meta charset=\"utf-8\" /></head>\n",
              "<body>\n",
              "    <div>            <script src=\"https://cdnjs.cloudflare.com/ajax/libs/mathjax/2.7.5/MathJax.js?config=TeX-AMS-MML_SVG\"></script><script type=\"text/javascript\">if (window.MathJax && window.MathJax.Hub && window.MathJax.Hub.Config) {window.MathJax.Hub.Config({SVG: {font: \"STIX-Web\"}});}</script>                <script type=\"text/javascript\">window.PlotlyConfig = {MathJaxConfig: 'local'};</script>\n",
              "        <script src=\"https://cdn.plot.ly/plotly-2.14.0.min.js\"></script>                <div id=\"522d892c-c06f-4291-bf3e-162cccb1feb2\" class=\"plotly-graph-div\" style=\"height:525px; width:100%;\"></div>            <script type=\"text/javascript\">                                    window.PLOTLYENV=window.PLOTLYENV || {};                                    if (document.getElementById(\"522d892c-c06f-4291-bf3e-162cccb1feb2\")) {                    Plotly.newPlot(                        \"522d892c-c06f-4291-bf3e-162cccb1feb2\",                        [{\"hovertemplate\":\"0=%{x}<br>1=%{y}<extra></extra>\",\"legendgroup\":\"\",\"marker\":{\"color\":\"#636efa\",\"symbol\":\"circle\"},\"mode\":\"markers\",\"name\":\"\",\"showlegend\":false,\"x\":[-28.864707946777344,64.17577362060547,71.31275177001953,-34.65705871582031,73.37989044189453,70.84860229492188,72.41996002197266,55.99137878417969,63.31806945800781,72.19037628173828,-50.650123596191406,-44.644989013671875,-39.234867095947266,-41.7453727722168,50.713924407958984,53.406490325927734,53.598388671875,-34.486995697021484,-22.522987365722656,-35.498321533203125,-12.827427864074707,-34.75261688232422,64.61710357666016,-29.98006820678711,56.239891052246094,-24.6216983795166,-39.141380310058594,73.25379180908203,73.75605010986328,72.03260040283203,-25.889429092407227,-36.44113540649414,-39.56300735473633,55.111446380615234,63.66766357421875,-36.16025924682617,52.046226501464844,-41.92976760864258,72.08697509765625,-44.23908233642578,57.62468338012695,51.78628921508789,-44.829349517822266,-24.067811965942383,-27.546459197998047,58.161048889160156,72.38566589355469,-26.07040786743164,72.6920394897461,52.5323600769043,-26.304492950439453,52.613914489746094,-53.766441345214844,-34.39741516113281,64.70729064941406,-21.179414749145508,-53.70220947265625,-20.979806900024414,-25.163761138916016,70.82713317871094,52.35153579711914,73.68267822265625,-34.05288314819336,-53.778282165527344,-23.609588623046875,73.35530090332031,-47.755638122558594,-52.93247985839844,-12.684465408325195,-41.87837219238281,73.86148834228516,50.61906814575195,71.89881896972656,64.55477142333984,-22.445068359375,-15.325143814086914,61.85594940185547,-44.108097076416016,71.23686218261719,-20.336191177368164,54.44234848022461,70.4433822631836,51.69440460205078,71.79157257080078,-25.856021881103516,50.20115661621094,51.43629455566406,-52.761871337890625,-52.38261032104492,-55.558021545410156,72.39697265625,-23.315643310546875,-40.316505432128906,-23.48750114440918,-34.45066452026367,-23.083234786987305,-55.30561447143555,-39.2786865234375,57.41023635864258,71.38324737548828,50.52252197265625,-50.360286712646484,72.73332977294922,-33.85273361206055,52.86824035644531,48.95866394042969,-41.864192962646484,56.314212799072266,-42.94509506225586,61.17095947265625,-28.7251033782959,72.43270111083984,55.39075469970703,-44.22959518432617,71.30753326416016,52.76652908325195,-27.907489776611328,69.59996795654297,-52.260807037353516,-55.61648941040039,-26.16121482849121,47.735538482666016,57.507205963134766,-39.187984466552734,51.28487014770508,-16.983169555664062,72.52629089355469,73.61490631103516,-35.485862731933594,-52.372154235839844,-26.769838333129883,70.57081604003906,58.292320251464844,-27.499300003051758,64.17292022705078,70.52198028564453,51.47478103637695,-46.51780319213867,63.41721725463867,72.727783203125,-55.14609146118164,52.509544372558594,51.41477584838867,-22.66958236694336,-20.129133224487305,-25.546741485595703,-32.22900390625,62.89078903198242,55.56711196899414,-27.11970329284668,-52.20842742919922,-32.242149353027344,-34.81789779663086,-33.14877700805664,65.95306396484375,49.010986328125,-36.84272384643555,58.1902961730957,-35.61069869995117,-34.41207504272461,-52.01760482788086,72.96085357666016,-22.30165672302246,51.30360794067383,72.97785949707031,-49.04277801513672,-49.0839729309082,-34.269493103027344,73.58496856689453,56.1252555847168,-55.47135543823242,-44.12385559082031,-16.9344539642334,64.18425750732422,-42.831703186035156,47.77259826660156,-26.91122817993164,49.61172103881836,62.45875930786133,49.92596435546875,-27.258556365966797,52.674842834472656,-29.734554290771484,-36.83312225341797,-35.64741516113281,-38.74367141723633,-53.057403564453125,-38.6796760559082,-42.32825469970703,-22.451446533203125,71.94087219238281,57.554542541503906,72.43888092041016,-25.837711334228516,71.8543472290039,-41.59211349487305,-12.644830703735352,-41.76624298095703,-41.58047866821289,73.71012115478516,-43.21040725708008,-41.23189163208008,53.970977783203125,54.53275680541992,73.38534545898438,48.70637893676758,-14.70065689086914,-17.022205352783203,-53.87431335449219,-52.546592712402344,-52.264923095703125,-48.47916030883789,74.61273193359375,54.33558654785156,72.55027770996094,52.80018615722656,-24.896259307861328,72.5079345703125,-25.66638946533203,-20.158214569091797,54.66846466064453,72.75565338134766,-24.267141342163086,-22.585494995117188,-27.00296401977539,-50.74335861206055,-51.91356658935547,-13.065892219543457,-51.724327087402344,-49.243656158447266,54.608978271484375,-26.080835342407227,-20.632099151611328,-27.37886619567871,-34.055702209472656,-37.095333099365234,-41.73634338378906,74.39539337158203,57.636558532714844,-41.882118225097656,-55.31827163696289,66.17337799072266,52.34649658203125,74.8036117553711,72.53399658203125,49.966339111328125,53.26293182373047,-31.710205078125,-41.048927307128906,56.92145919799805,-51.75693893432617,-52.790306091308594,-26.968273162841797,71.36936950683594,-48.697242736816406,-44.09574890136719,-45.38329315185547,70.85335540771484,56.1805419921875,74.94904327392578,-26.53085708618164,63.963951110839844,74.78038024902344,71.13887023925781,70.8124008178711,69.75137329101562,55.7857666015625,57.02822494506836,65.86378479003906,50.614418029785156,70.7717514038086,-33.61410140991211,-48.736297607421875,54.16019821166992,-26.12035369873047,57.380863189697266,-41.903324127197266,53.66217803955078,73.1465072631836,-13.687104225158691,-28.223920822143555,73.31726837158203,-38.198387145996094,57.03140640258789,65.12374877929688,52.88555908203125,62.897705078125,72.7068099975586,57.2558708190918,-35.611366271972656,58.278221130371094,-25.726320266723633,74.2618179321289,47.14190673828125,-48.07356643676758,-26.769577026367188,74.70956420898438,-22.658241271972656,-15.984066009521484,-26.157678604125977,63.41767883300781,-40.76023483276367,64.32909393310547,70.77437591552734,-48.03813934326172,53.50421905517578,-54.90252685546875,-17.655092239379883,-46.84780502319336,56.36419677734375,55.81048583984375,-52.37965774536133,-50.981178283691406,55.500492095947266,-41.667518615722656,-51.47306442260742,-41.36606979370117,-23.337791442871094,-51.978668212890625,-51.53640365600586,-26.434974670410156,49.91888427734375,74.59956359863281,50.13943099975586,-33.617286682128906,71.3171615600586,70.05543518066406,-38.88398742675781,-28.321847915649414,64.80850982666016,-42.407745361328125,74.80994415283203,70.7670669555664,49.55356216430664,53.05104446411133,-19.694936752319336,-38.282859802246094,57.911865234375,-20.591650009155273,47.123321533203125,-49.25,65.96405792236328,49.889923095703125,-38.1887092590332,71.6171875,-51.45964050292969,-40.87973403930664,-28.16762351989746,-40.908260345458984,-29.726072311401367,-54.735904693603516,-29.46807289123535,74.8721694946289,-24.634525299072266,74.76518249511719,-40.81591033935547,74.20421600341797,54.85088348388672,-27.688953399658203,-30.36174774169922,73.2083511352539,72.61784362792969,72.23284912109375,-16.52882957458496,-20.48982048034668,-41.13310623168945,-37.735816955566406,-36.8131217956543,56.19295883178711,-47.8359489440918,73.9806137084961,-31.51237678527832,-37.30122756958008,-45.153587341308594,61.230323791503906,-31.418914794921875,-52.112327575683594,-29.113107681274414,-46.71424865722656,53.98043441772461,-39.5020866394043,74.35578155517578,-27.627941131591797,-51.27405548095703,-25.089431762695312,-32.49628829956055,48.246334075927734,-38.14707565307617,-43.28944778442383,-54.59987258911133,48.69327926635742,75.47229766845703,-11.768601417541504,50.601654052734375,71.86785125732422,75.21389770507812,-7.997834205627441,-50.032447814941406,-53.48753356933594,56.52912902832031,51.490623474121094,-22.705150604248047,-28.531822204589844,-29.075576782226562,69.34420013427734,-42.23225402832031,75.02537536621094,-26.713228225708008,71.75623321533203,74.06574249267578,53.42206954956055,-32.12327575683594,-51.0036506652832,-38.792381286621094,72.94337463378906,54.77385330200195,-33.0304069519043,-43.880924224853516,47.15782165527344,-39.83174133300781,48.372562408447266,-51.47873306274414,-37.96991729736328,53.5422248840332,-38.18598175048828,-40.17195510864258,-53.73509216308594,-36.96811294555664,74.6859359741211,48.59723663330078,-35.75,75.23762512207031,-37.70892333984375,-27.92206573486328,48.54391098022461,-51.69094467163086,64.42066192626953,-51.688899993896484,63.979095458984375,54.1262092590332,-52.09137725830078,49.95634460449219,-40.60139465332031,75.37388610839844,-26.5765323638916,-50.62189865112305,72.05683135986328,-28.05520248413086,-38.13507843017578,-44.61500549316406,-16.150535583496094,-48.70644760131836,71.52476501464844,55.83159637451172,-18.887985229492188,48.236358642578125,-42.53502655029297,-53.87065124511719,-23.858291625976562,75.43585205078125,-25.71303939819336,-14.104426383972168,71.44606018066406,64.33610534667969,71.39395904541016,49.50893783569336,-48.30613708496094,-27.465259552001953,-25.797475814819336,-24.96086311340332,-42.001190185546875,-19.91541290283203,70.27149963378906,-50.66298294067383,-42.65182113647461,66.09542083740234,-51.567230224609375,-11.477179527282715,-38.34590148925781,52.207725524902344,71.76818084716797,54.99323654174805,-20.505794525146484,-37.02484893798828,69.21385955810547,-11.548527717590332,-27.945472717285156,63.3550910949707,-23.62725830078125,-42.96729278564453,52.47385025024414,64.01302337646484,-41.83985900878906,70.03326416015625,-48.425750732421875,-51.0753288269043,71.74374389648438,-33.22806167602539,-52.28105163574219,-54.502899169921875,71.3751449584961,68.82188415527344,-25.684051513671875,73.38499450683594,48.312259674072266,71.67694091796875,-52.40138244628906,-22.538679122924805,-7.877577304840088,-42.246986389160156,-51.90977096557617,64.66718292236328,72.61576843261719,-50.65279006958008,-28.556739807128906,-40.576934814453125,-24.41352653503418,-41.224998474121094,70.7927017211914,71.74657440185547,-42.894710540771484,61.613441467285156,54.73164749145508,-44.18977737426758,48.50469970703125,55.05887985229492,-40.57926559448242,48.15853500366211,-38.041072845458984,-40.54571533203125,60.76943588256836,50.03410720825195,-17.949466705322266,73.0302734375,55.55012893676758,-55.49297332763672,51.52037811279297,-18.751577377319336,-38.74721145629883,69.6480712890625,65.71810913085938,68.61775970458984,-47.396236419677734,-21.576101303100586,64.43777465820312,70.32823944091797,-21.990137100219727,-50.01835250854492,53.279422760009766,70.77313232421875,-37.20362854003906,-49.74364471435547,-31.71026039123535,46.39750671386719,-43.032745361328125,-45.26866912841797,-21.926864624023438,-31.33248519897461,-38.70494079589844,72.5591812133789,68.29996490478516,-47.75673294067383,52.25221252441406,-15.908576965332031,71.29460144042969,71.21064758300781,72.37019348144531,54.78252410888672,54.082332611083984,71.85761260986328,-46.611534118652344,-49.49708938598633,-23.91708755493164,70.44778442382812,-51.868263244628906,51.799835205078125,52.33420181274414,72.57418823242188,-41.60266876220703,-7.763607501983643,-31.629148483276367,50.39422607421875,-26.62429428100586,70.55760192871094,70.90709686279297,-29.010404586791992,52.18409729003906,61.781436920166016,-50.35660171508789,-25.61363410949707,-47.93840026855469,-47.80291748046875,48.09346008300781,68.78656768798828,-48.59703063964844,-25.13887596130371,-40.57894515991211,-27.98244857788086,-46.16460418701172,-28.73137855529785,-40.93988037109375,71.41529083251953,50.493167877197266,51.730045318603516,53.36703109741211,53.253849029541016,-39.80845642089844,-48.06943893432617,71.78942108154297,-40.41565704345703,-39.93374252319336,-9.2069673538208,71.94993591308594,-24.823211669921875,-13.989944458007812,-39.913658142089844,70.65425872802734,-38.252357482910156,-34.97136688232422,69.35242462158203,-21.933080673217773,-43.195594787597656,59.88641357421875,71.1176528930664,-38.54512023925781,-39.88776779174805,72.17182922363281,-22.65699005126953,69.01728057861328,64.06271362304688,-40.99633026123047,-32.38854217529297,61.851863861083984,68.66875457763672,-48.18145751953125,-49.77009582519531,-48.21604537963867,72.471923828125,70.52033996582031,-39.118873596191406,-37.67390060424805,-24.817346572875977,-36.216888427734375,-32.11421585083008,68.67864990234375,70.65003967285156,-12.408864974975586,-10.70244026184082,52.21222686767578,-23.79835319519043,-41.306312561035156,48.07894515991211,68.56361389160156,-37.78087615966797,-21.057281494140625,-43.22667694091797,50.465755462646484,-32.129417419433594,-25.573345184326172,-28.581174850463867,-19.865646362304688,-30.68583106994629,54.308292388916016,70.79354858398438,-39.251155853271484,-29.542909622192383,68.94539642333984,-14.881099700927734,52.282196044921875,71.14745330810547,63.82240676879883,67.97452545166016,-42.98051071166992,48.86993408203125,-29.944116592407227,-48.191314697265625,-50.44431686401367,60.3019905090332,-22.041868209838867,68.63064575195312,-49.314125061035156,-46.53279495239258,-39.4671745300293,70.4640884399414,-31.752498626708984,-16.63471221923828,53.818511962890625,-31.054174423217773,-41.64854049682617,-25.0966796875,-25.7625675201416,70.07292938232422,-38.146636962890625,-24.03872299194336,60.90190887451172,69.62769317626953,68.34918975830078,66.45801544189453,71.74413299560547,71.57881927490234,-17.08534812927246,-44.296600341796875,61.075008392333984,67.71102142333984,-38.908111572265625,68.13558959960938,-47.50511932373047,-40.196311950683594,53.81578063964844,-20.978778839111328,61.77846908569336,68.90208435058594,51.587738037109375,48.961917877197266,-27.443893432617188,-42.499210357666016,62.3067512512207,-42.52911376953125,67.36726379394531,-13.542098999023438,52.46501922607422,-29.46792221069336,-39.62102508544922,-39.13056564331055,-32.6231689453125,-21.111238479614258,-50.042728424072266,-38.5665168762207,50.69624328613281,-25.108741760253906,-16.88018035888672,-41.92313766479492,47.72677993774414,-25.459095001220703,-48.91189956665039,-41.27593231201172,67.80867004394531,67.11831665039062,-13.0753173828125,-47.78850555419922,-32.32026672363281,49.17205047607422,-39.16335678100586,-10.872514724731445,-31.644376754760742,-30.117630004882812,-21.7459659576416,53.666786193847656,-22.449487686157227,45.0113410949707,67.4432601928711,-23.22613525390625,-41.39185333251953,-22.07978057861328,50.362060546875,-41.06342697143555,-46.503902435302734,-39.09082794189453,-40.51987838745117,66.20684051513672,65.3754653930664,49.85396194458008,-42.88035202026367,-8.709161758422852,65.97930145263672,-9.551238059997559,-31.665340423583984,-39.170684814453125,-31.313447952270508,-23.351688385009766,-31.443483352661133,-49.97013854980469,49.39785385131836,-13.500194549560547,-27.33582878112793,59.96135711669922,-29.481388092041016,-40.76584243774414,-41.45002746582031,60.08779525756836,-39.00260925292969,-43.993343353271484,50.20782470703125,-38.728206634521484,-46.43363952636719,-35.8849983215332,-43.90900802612305,49.29747772216797,-47.39453887939453,-40.95619583129883,-42.566162109375,47.59678649902344,64.67366790771484,-13.191234588623047,-22.262252807617188,-28.728309631347656,-13.73186206817627,49.6304931640625,55.629154205322266,-45.842567443847656,48.56140899658203,-32.324737548828125,-33.32236862182617,-39.37179183959961,-32.35647964477539,64.17860412597656,63.8707389831543,-45.98527145385742,61.93876647949219,-7.343292236328125,-42.57855224609375,49.74738693237305,-43.02753448486328,-22.55695152282715,64.24942016601562,60.577632904052734,-38.18712615966797,-21.2935733795166,-34.882415771484375,-23.020793914794922,-42.08317184448242,-9.192276954650879,-32.71864700317383,-23.012062072753906,61.59810256958008,63.870025634765625,56.60989761352539,64.23822784423828,64.2509765625,48.794124603271484,-36.4492301940918,48.37937927246094,-13.639501571655273,-43.17451477050781,55.72972106933594,-43.43235397338867,45.170719146728516,-37.53030014038086,-42.888145446777344,-51.32292556762695,63.54573440551758,-35.646854400634766,-20.794540405273438,60.00799560546875,-47.21434783935547,-31.57920265197754,63.11798095703125,-42.249168395996094,-43.48268127441406,63.369659423828125,-31.875965118408203,63.46461868286133,63.02757263183594,-37.50973129272461,48.19677734375,-31.403030395507812,-33.173988342285156,52.86578369140625,-30.280712127685547,-42.7838249206543,-46.58161926269531,-42.37333297729492,-39.66435623168945,55.83551025390625,-15.872305870056152,61.50893783569336,-26.484725952148438,-46.399349212646484,49.34029006958008,-22.974565505981445,-29.538387298583984,48.715065002441406,-31.377477645874023,63.0231819152832,52.7372932434082,50.33562469482422,-49.01839065551758,-41.71992492675781,49.30152893066406,-33.70418167114258,-23.09823989868164,-38.51701354980469,-16.06827163696289,-12.366291046142578,-16.358158111572266,53.104549407958984,47.64366912841797,-42.88418197631836,63.2110481262207,50.16664505004883,63.43663024902344,-23.550216674804688,48.07160568237305,-37.409278869628906,-31.755903244018555,-44.88825607299805,-30.666627883911133,60.86689376831055,49.698280334472656,-25.73487091064453,51.337791442871094,-42.75740432739258,60.97565460205078,-20.688032150268555,-43.455448150634766,-30.18327522277832,-43.813446044921875,63.07954788208008,-31.705156326293945,55.19655227661133,-42.94122314453125,-31.74232292175293,-12.688020706176758,-46.70520782470703,-40.58805465698242,62.32846450805664,49.75933837890625,-29.142492294311523,-31.439321517944336,-19.07221221923828,-38.84281921386719,-42.53740692138672,61.894622802734375,62.356346130371094,46.95735168457031,60.585487365722656,-12.047615051269531,-12.019002914428711,-40.77408981323242,-42.56864929199219,59.555721282958984,-30.507801055908203,57.265724182128906,60.233211517333984,48.75544357299805,59.93882751464844,61.979434967041016,57.35603332519531,-44.78316116333008,-50.98563003540039,50.560791015625,-29.62749481201172,-11.010665893554688,51.84479522705078,-30.338407516479492,59.7068977355957,59.723148345947266,61.00948715209961,-40.15390396118164,48.86205291748047,-18.948320388793945,-40.80046844482422,-31.942604064941406,-43.034420013427734,49.22852325439453,-30.15692138671875,59.08102798461914,-37.0826416015625,58.59620666503906,-21.447200775146484,61.45480728149414,-30.134920120239258,-31.151594161987305,48.39142990112305,-26.03607177734375,-40.9849853515625,-30.389089584350586,-38.832191467285156,-20.424829483032227,-42.72489547729492,-39.21167755126953,61.2437744140625,52.307369232177734,-43.382789611816406,51.70873260498047,60.17076110839844,28.94593620300293,-30.967390060424805,-29.37772560119629,52.166664123535156,-24.104854583740234,59.46947479248047,-45.53948211669922,47.327064514160156,-46.04875183105469,-30.17038917541504,-21.21417999267578,-24.253828048706055,57.04250717163086,-20.568906784057617,47.6972541809082,52.91128158569336,-49.12200164794922,-6.902710914611816,-42.83579635620117,-38.86553955078125,-25.527956008911133,-22.774194717407227,-37.77362060546875,49.58378982543945,52.91588592529297,-49.0357780456543,-11.224409103393555,52.25730895996094,59.76894760131836,-15.72073745727539,-23.498397827148438,-25.650686264038086,49.10000991821289,44.60879898071289,-40.68562316894531,-40.22429275512695,52.4328498840332,59.83683395385742,59.10609817504883,47.62937545776367,51.34392547607422,-29.054630279541016,52.457908630371094,-21.21053123474121,-49.16891098022461,-23.6384334564209,-38.5957145690918,-37.28742980957031,-31.946990966796875,52.16501235961914,-40.86249542236328,27.88066864013672,-25.930532455444336,51.657676696777344,-39.68782043457031,58.57780838012695,-23.742273330688477,-31.348440170288086,-30.573455810546875,-42.29949188232422,-37.278560638427734,-15.253662109375,58.53401184082031,49.3702278137207,-40.805572509765625,58.4043083190918,58.81365966796875,-11.133525848388672,-20.122007369995117,57.07606887817383,-30.75348663330078,52.39972686767578,58.34751892089844,-37.13390350341797,59.06047821044922,58.618797302246094,40.96192169189453,-40.699867248535156,-31.458681106567383,-31.851272583007812,48.038734436035156,-44.682010650634766,-41.80066680908203,-23.380958557128906,-30.092161178588867,51.22122573852539,-11.455079078674316,58.54933547973633,-14.97628116607666,58.87847137451172,-49.830570220947266,-28.640819549560547,-23.525711059570312,-24.2637882232666,-27.138916015625,-25.762170791625977,-40.34810256958008,-35.49345397949219,-7.2895307540893555,46.85594940185547,-31.2291316986084,-35.65436553955078,-42.531063079833984,-18.610754013061523,-20.92856216430664,-39.15316390991211,-41.497474670410156,-30.90517807006836,-11.787168502807617,-35.574161529541016,47.23303985595703,-36.251678466796875,57.49695587158203,-35.96834945678711,-40.64848327636719,-25.395078659057617,57.75511169433594,40.34626007080078,57.38428497314453,41.04049301147461,-11.345396995544434,-22.881391525268555,56.79383087158203,51.256103515625,57.73064041137695,-20.97460174560547,-11.179003715515137,-15.324149131774902,-38.73277282714844,58.26184844970703,56.086692810058594,-23.03973388671875,-45.16615676879883,-6.9349212646484375,54.03600311279297,57.10020065307617,-20.876585006713867,-44.053558349609375,50.05145263671875,48.513675689697266,41.57500076293945,25.991132736206055,-40.222286224365234,-38.93118667602539,-41.42026901245117,-23.586551666259766,57.34927749633789,-21.16796112060547,-42.53358840942383,-18.500669479370117,56.982913970947266,55.646018981933594,-35.079307556152344,28.941003799438477,-33.54725646972656,55.569557189941406,56.78289794921875,56.034183502197266,-35.383766174316406,28.68790626525879,-22.894197463989258,48.24532699584961,-26.290449142456055,-13.195016860961914,56.26411819458008,-40.04411697387695,-23.5683650970459,56.04945373535156,-43.041725158691406,-40.93743133544922,-44.543785095214844,-36.939178466796875,53.76582336425781,-36.6375732421875,-17.17255401611328,26.109466552734375,-43.2221565246582,-40.22974395751953,53.86000442504883,-4.289524078369141,-10.8399076461792,-41.97314453125,-24.29694175720215,-10.284829139709473,39.656314849853516,24.83001136779785,-23.154605865478516,50.03007125854492,55.08810806274414,51.7922477722168,39.21490478515625,-10.146488189697266,-36.62476348876953,-32.955535888671875,-23.7511043548584,48.234657287597656,40.812095642089844,26.232444763183594,-20.443132400512695,50.81891632080078,56.024845123291016,-22.245046615600586,-10.080729484558105,-4.94565486907959,-45.59896469116211,-48.49944305419922,-40.15095520019531,48.414310455322266,-20.3555965423584,-41.93582534790039,-37.21226119995117,48.055938720703125,-42.156036376953125,39.44217300415039,-35.78643035888672,-22.309247970581055,-41.58161926269531,-37.030696868896484,55.42946243286133,-14.168577194213867,-45.05514907836914,55.56126022338867,25.604854583740234,-12.483647346496582,-40.867713928222656,25.877798080444336,-34.784095764160156,-28.15114402770996,-44.24171829223633,-36.43678283691406,-19.801860809326172,28.653846740722656,-21.97731590270996,26.24735450744629,39.73408508300781,39.98810958862305,40.607322692871094,-9.399787902832031,54.98493957519531,-20.66489028930664,39.6099967956543,-37.22685623168945,-41.05841064453125,54.999778747558594,-41.12852096557617,50.052913665771484,-43.44291687011719,50.62611389160156,-38.03230667114258,49.06409454345703,-5.876134395599365,-40.183326721191406,51.0460205078125,39.032569885253906,-10.436482429504395,-42.85056686401367,-19.56955909729004,39.61359405517578,0.17381693422794342,-38.624027252197266,38.710105895996094,-21.620494842529297,-6.365103721618652,-34.85256576538086,-20.566099166870117,-44.27936553955078,-20.288755416870117,-10.809142112731934,50.78816604614258,-38.008705139160156,-30.341102600097656,38.611576080322266,50.451210021972656,28.472789764404297,47.733638763427734,-15.015542030334473,-30.544036865234375,39.6110954284668,38.4965705871582,-44.03334045410156,-44.80668258666992,-42.056434631347656,38.905067443847656,-3.9324018955230713,-37.03010940551758,49.74474334716797,-11.912666320800781,-38.4918098449707,-27.702129364013672,50.29697036743164,-5.898621559143066,-26.924192428588867,49.662452697753906,-33.285377502441406,-34.2905387878418,-30.158390045166016,-38.63390350341797,-24.893569946289062,-40.32107162475586,49.62730026245117,-10.237369537353516,-24.78572654724121,-8.356411933898926,49.07637023925781,52.51399612426758,38.18708419799805,-6.599844932556152,-6.842355251312256,-24.331205368041992,52.03763961791992,-26.405664443969727,-8.928028106689453,-8.269865036010742,-13.395735740661621,25.968242645263672,-25.339723587036133,49.28186798095703,52.2690315246582,38.75369644165039,-37.826210021972656,49.77311325073242,49.74794387817383,-36.55839920043945,-14.368656158447266,49.50532913208008,-22.85830307006836,-18.103126525878906,39.176822662353516,0.05381959676742554,-27.90163230895996,49.49198913574219,-39.945674896240234,-19.705608367919922,52.12186813354492,38.33723831176758,41.06664276123047,-36.33541488647461,-39.33988952636719,-39.92201232910156,48.85016632080078,49.19838333129883,-40.018619537353516,49.05675506591797,-8.986512184143066,25.203933715820312,37.565513610839844,-13.624727249145508,-13.544179916381836,-21.155447006225586,48.5733757019043,-17.4834041595459,-17.151094436645508,23.588125228881836,-18.722978591918945,48.425514221191406,-19.394670486450195,-20.106801986694336,-9.23560905456543,-9.067466735839844,-6.452475070953369,-23.322874069213867,48.54432678222656,37.859012603759766,-6.400356769561768,38.17378234863281,-14.35407829284668,26.089094161987305,-21.79766845703125,49.03389358520508,-9.89910888671875,48.120765686035156,40.963104248046875,-28.807832717895508,-25.927997589111328,-38.497406005859375,-17.77948760986328,48.04337692260742,-20.491289138793945,-9.270318984985352,47.86933135986328,47.972171783447266,47.744197845458984,48.269203186035156,36.872684478759766,37.53816604614258,-19.913339614868164,-24.02971076965332,-36.47287368774414,48.089542388916016,-11.117374420166016,48.04789352416992,-36.8828010559082,-16.341175079345703,37.66323471069336,-25.51553726196289,-36.66349792480469,-38.06142807006836,-44.189334869384766,-19.831270217895508,-29.67161750793457,47.717918395996094,-37.199951171875,-8.208833694458008,-33.70823287963867,-41.53518295288086,-20.629154205322266,-37.681880950927734,29.511865615844727,-8.734251976013184,-33.13481140136719,-41.45549011230469,36.89901351928711,-7.707895278930664,47.0924186706543,40.05003356933594,-18.036264419555664,47.02809524536133,-3.351787805557251,-14.814130783081055,46.831024169921875,46.984230041503906,-19.619295120239258,28.32889175415039,-28.21530532836914,-37.015647888183594,39.91370391845703,25.300189971923828,-37.4651985168457,46.487083435058594,-39.560279846191406,37.38626480102539,28.89982032775879,-14.073454856872559,40.07346725463867,46.42708206176758,-38.528141021728516,28.434118270874023,-20.695663452148438,-34.71364212036133,23.42951774597168,36.36252975463867,28.005924224853516,29.800952911376953,-27.22705841064453,28.691192626953125,39.51844024658203,28.02464485168457,-37.03647232055664,39.92974853515625,-4.7047295570373535,-19.33066749572754,-8.440276145935059,39.74850845336914,24.057464599609375,36.14219665527344,36.94515609741211,24.54741668701172,36.08219528198242,44.69939041137695,43.786705017089844,39.97654724121094,-36.45541763305664,-14.501273155212402,24.685997009277344,39.25984573364258,44.86492919921875,39.38459396362305,-13.900527954101562,-40.47299575805664,-6.895698070526123,-33.95444107055664,-8.952356338500977,-21.36100196838379,36.0745964050293,-3.4620583057403564,-39.85736846923828,42.96544647216797,-21.263675689697266,-13.452762603759766,27.313825607299805,44.0700569152832,-29.512115478515625,42.65986251831055,-38.447784423828125,43.41433334350586,42.73067092895508,-34.15582275390625,-14.139491081237793,-38.34230041503906,-36.354835510253906,-29.867525100708008,-19.810596466064453,-9.593369483947754,43.087730407714844,-17.947551727294922,-32.904197692871094,43.4959602355957,39.593528747558594,39.10158920288086,-18.473735809326172,-16.269018173217773,-44.32681655883789,-34.55057144165039,-18.185815811157227,42.065242767333984,43.58846664428711,43.5684928894043,42.47588348388672,42.75480270385742,23.022146224975586,-29.3709659576416,-34.354949951171875,-6.715572357177734,-40.64970779418945,-3.1354031562805176,42.22734451293945,35.32945251464844,-37.41524887084961,-34.72188186645508,43.319034576416016,39.37077331542969,-3.2214462757110596,-21.340835571289062,-39.535823822021484,-38.0054817199707,34.20503616333008,-20.31679344177246,43.104061126708984,-12.18809700012207,34.80837631225586,38.164188385009766,42.49560546875,-25.275800704956055,-39.399051666259766,-30.16326332092285,-29.807453155517578,-23.89401626586914,21.948795318603516,33.84884262084961,-37.50751495361328,21.99464988708496,41.89239501953125,-12.012474060058594,29.927776336669922,41.57331466674805,-18.81728172302246,-19.2940673828125,-37.060028076171875,34.76491165161133,-27.0826358795166,34.63746643066406,-13.661750793457031,21.859394073486328,-35.88905715942383,-29.21537971496582,-39.22925567626953,0.514842689037323,38.277137756347656,23.170333862304688,-39.97872543334961,1.949855089187622,-21.925687789916992,2.178112030029297,38.46717834472656,-5.021998405456543,38.87348175048828,-22.830896377563477,37.19685363769531,-21.07879066467285,41.21360397338867,-33.618717193603516,-33.98797607421875,38.962493896484375,-21.174039840698242,-18.737504959106445,-14.143145561218262,-19.700164794921875,34.298439025878906,-13.383620262145996,-37.326751708984375,-21.870079040527344,-33.944862365722656,39.019264221191406,34.075984954833984,-37.00115203857422,-15.96667766571045,-34.31219482421875,23.62110137939453,-23.934677124023438,-8.317170143127441,-16.664348602294922,-37.77799606323242,-21.992431640625,-22.39839744567871,40.581298828125,-33.53656768798828,-20.119665145874023,19.509294509887695,-30.728361129760742,38.657901763916016,-8.208152770996094,39.85874557495117,-14.241673469543457,39.652252197265625,39.925201416015625,-14.188081741333008,-36.94168472290039,32.302581787109375,38.23884201049805,40.303443908691406,-29.37598991394043,39.69594192504883,37.641456604003906,37.204490661621094,-18.471336364746094,-18.378055572509766,25.373661041259766,34.69758605957031,40.083473205566406,-33.846160888671875,-37.32119369506836,39.93435287475586,-9.108704566955566,33.7209587097168,23.019264221191406,34.98371505737305,-6.22963809967041,39.818878173828125,33.61256790161133,33.58675003051758,-36.420745849609375,-34.49403762817383,-20.450035095214844,-36.45456314086914,-19.911338806152344,-6.244069576263428,-7.416083812713623,39.39313888549805,33.31991958618164,39.60971450805664,-13.516592979431152,-6.974615097045898,31.214128494262695,1.9484071731567383,36.852577209472656,-13.550593376159668,-18.137853622436523,-18.50519561767578,-31.27884292602539,-34.91838836669922,39.379817962646484,-24.358890533447266,37.59809494018555,21.729511260986328,-16.27248191833496,38.21350860595703,33.09409713745117,-18.165985107421875,-20.577360153198242,-5.211775779724121,-28.570486068725586,33.108001708984375,-33.574562072753906,36.760189056396484,-33.827396392822266,-22.132186889648438,33.74405288696289,-18.27058982849121,-12.970800399780273,31.242855072021484,-12.697489738464355,-7.368641376495361,36.87735366821289,-36.50558853149414,36.91976547241211,-7.064072608947754,-32.54193878173828,37.63289260864258,-2.9393086433410645,31.10862922668457,30.787353515625,-3.860978126525879,25.406614303588867,36.477352142333984,38.41496276855469,-18.565168380737305,33.25027847290039,33.52761459350586,-37.14610290527344,-32.914554595947266,-28.9190616607666,-18.805782318115234,33.22534942626953,38.32203674316406,-3.207225799560547,-27.7758846282959,-6.767979145050049,21.18709373474121,31.11429214477539,-11.504130363464355,-15.744028091430664,32.714752197265625,-27.421722412109375,26.310420989990234,20.224462509155273,20.575305938720703,-22.534305572509766,-33.16946029663086,-7.462204456329346,32.475746154785156,-6.945347785949707,21.495386123657227,-34.00544357299805,-36.950050354003906,37.2797737121582,-33.429039001464844,-19.540992736816406,-18.260900497436523,36.75873565673828,30.61383819580078,37.375762939453125,37.67586135864258,32.58592987060547,-30.130205154418945,32.630672454833984,1.676432728767395,31.50446891784668,30.535171508789062,37.12451171875,-28.8062686920166,-36.77070999145508,25.3350887298584,-15.27538013458252,-32.95072555541992,32.268245697021484,37.28020477294922,-3.3294460773468018,-33.57515335083008,-18.453466415405273,26.211353302001953,36.564571380615234,32.32201385498047,-13.510736465454102,-5.827549457550049,32.40208435058594,-15.548351287841797,35.143882751464844,30.2462158203125,-1.5251247882843018,35.66197967529297,-18.244741439819336,-33.593605041503906,26.10518455505371,-8.528454780578613,36.07212829589844,31.389249801635742,-6.749424457550049,35.069908142089844,-33.2362060546875,-7.866804122924805,-0.65953129529953,31.85936164855957,32.96180725097656,37.02333068847656,21.81830406188965,36.6375846862793,30.01422691345215,36.73761749267578,32.40127182006836,34.949684143066406,31.587169647216797,-38.90438461303711,31.352535247802734,32.626060485839844,19.990947723388672,-30.41547393798828,33.4896354675293,-16.21302032470703,29.645275115966797,21.73492431640625,33.295799255371094,-8.62281322479248,35.64990234375,-11.184324264526367,27.142881393432617,22.58172035217285,36.45499038696289,31.176347732543945,-29.182952880859375,31.345500946044922,-18.036848068237305,-11.325335502624512,-8.634759902954102,-35.924476623535156,-32.61310577392578,34.081993103027344,-19.116046905517578,-12.188897132873535,-0.6317249536514282,29.085840225219727,-33.8986701965332,22.45021629333496,-3.046833038330078,30.039854049682617,33.4525146484375,35.913246154785156,19.201379776000977,-17.813879013061523,-30.01189422607422,-19.8186092376709,32.077030181884766,-36.79824447631836,35.269203186035156,-11.536346435546875,30.576852798461914,35.39152145385742,-6.482273101806641,35.78863525390625,-31.92965316772461,2.074713706970215,29.676252365112305,-11.158164978027344,-11.261575698852539,-20.39527130126953,-5.872673511505127,-13.653472900390625,32.85886764526367,31.498342514038086,-29.667694091796875,-30.01262092590332,21.03406524658203,-38.435707092285156,23.734365463256836,-37.913631439208984,-16.033823013305664,-12.946345329284668,-13.346161842346191,29.231464385986328,31.784467697143555,34.76194381713867,22.317724227905273,-8.3750581741333,-12.476116180419922,28.083322525024414,-14.009132385253906,28.26886558532715,22.692602157592773,-0.18923884630203247,26.56415367126465,27.838491439819336,29.37529182434082,-29.639604568481445,-33.00876998901367,-39.05126190185547,-36.4771842956543,-33.00800704956055,29.230310440063477,31.910905838012695,7.326522350311279,-6.355846881866455,26.468441009521484,-35.81089782714844,27.171098709106445,-14.835065841674805,26.67037010192871,-10.623753547668457,-34.60800552368164,-23.531370162963867,19.314556121826172,-31.38671875,-13.389479637145996,26.947006225585938,-10.356742858886719,31.127479553222656,29.896530151367188,16.587556838989258,0.019343217834830284,-7.1243157386779785,28.447715759277344,28.661073684692383,27.872562408447266,-13.4434175491333,25.5645751953125,27.498197555541992,22.349607467651367,28.764707565307617,-13.834327697753906,26.950551986694336,-29.74063491821289,29.3867130279541,-38.26119613647461,27.680702209472656,-18.634469985961914,27.955392837524414,-20.412086486816406,-15.302489280700684,-32.47068786621094,32.00996398925781,27.077760696411133,26.862916946411133,27.69600486755371,27.937604904174805,-5.578546047210693,-30.890689849853516,-0.5106208920478821,6.994503974914551,-29.493818283081055,-35.89655685424805,26.25833511352539,26.860408782958984,-17.857837677001953,28.270517349243164,27.416221618652344,26.501192092895508,-6.103336811065674,26.501605987548828,26.45821189880371,27.284395217895508,29.038166046142578,26.89420509338379,-35.96337890625,-29.444116592407227,-29.123306274414062,-14.136507034301758,27.165491104125977,-0.5300324559211731,26.933834075927734,26.547130584716797,29.13585662841797,-20.310354232788086,28.578594207763672,27.21107292175293,-4.9770073890686035,28.646867752075195,26.97659683227539,-38.34904861450195,-12.979421615600586,-32.96040725708008,26.00925064086914,-3.5067224502563477,26.032752990722656,-6.405740261077881,-7.840653896331787,-8.437114715576172,2.7159969806671143,28.106367111206055,27.93994903564453,4.221412658691406,26.672382354736328,-32.849918365478516,20.67601203918457,28.69681739807129,19.415739059448242,-20.842391967773438,25.476320266723633,28.005313873291016,-18.506641387939453,-21.363157272338867,-29.77495002746582,-10.306522369384766,27.58846664428711,20.37371826171875,-32.92344665527344,29.04441261291504,25.91598129272461,28.259124755859375,-0.6154924035072327,-31.324981689453125,-16.152467727661133,27.80331802368164,19.626209259033203,-36.20742416381836,-10.365720748901367,20.713661193847656,-17.486791610717773,-17.8980712890625,-32.94759750366211,-31.299915313720703,-10.163723945617676,-17.09229850769043,26.611268997192383,-5.794304847717285,-6.298794269561768,-20.64946174621582,-5.498133182525635,24.443923950195312,-21.785587310791016,21.932558059692383,22.640302658081055,-8.424323081970215,-30.542417526245117,-20.926054000854492,18.703689575195312,-5.390368938446045,26.164262771606445,-27.659957885742188,25.481409072875977,0.7811120748519897,2.6453797817230225,24.69491958618164,-30.540119171142578,-4.374176979064941,-18.052715301513672,26.108884811401367,-27.3449649810791,0.7073193788528442,23.332853317260742,-5.795442581176758,21.395946502685547,-2.1545987129211426,18.70805549621582,-14.337679862976074,17.48910903930664,21.7269344329834,25.22096824645996,-3.997053861618042,-9.426589965820312,-3.2757227420806885,-3.9188899993896484,-5.786397457122803,-2.3731722831726074,20.194286346435547,24.982097625732422,-10.05892562866211,26.32712745666504,15.25196647644043,21.472591400146484,18.697153091430664,-2.7397384643554688,26.312572479248047,24.520265579223633,-6.308924674987793,7.933457851409912,24.72286033630371,-30.697446823120117,-2.8131444454193115,5.7537431716918945,18.330167770385742,24.659791946411133,17.713563919067383,26.510419845581055,-2.2308220863342285,25.684009552001953,21.165651321411133,20.760358810424805,26.204376220703125,24.800512313842773,-16.855337142944336,26.705524444580078,23.74811553955078,-26.12276268005371,-29.379589080810547,25.337717056274414,-11.819195747375488,25.12525749206543,15.5714693069458,24.573530197143555,-20.93832778930664,-14.38948917388916,-29.0228328704834,-15.445638656616211,0.07167375087738037,-29.32331657409668,-10.073563575744629,24.524320602416992,7.77523946762085,24.145814895629883,-27.054222106933594,-20.804004669189453,-29.95117950439453,-28.604198455810547,-28.897415161132812,-22.523845672607422,-9.028654098510742,20.320499420166016,-3.929812431335449,19.198955535888672,-20.966760635375977,2.9867610931396484,24.31231689453125,24.39134979248047,-5.562710762023926,26.428956985473633,26.041473388671875,-12.655948638916016,16.47327995300293,17.82342529296875,-23.838258743286133,15.585976600646973,-22.944889068603516,-11.529423713684082,-4.195172309875488,-5.655557632446289,-10.252629280090332,18.201601028442383,17.269573211669922,16.249244689941406,24.779695510864258,19.85600471496582,-29.48590087890625,-9.683158874511719,23.9762020111084,23.576942443847656,14.986013412475586,-9.70124626159668,17.735931396484375,17.157426834106445,13.479757308959961,-7.287308692932129,15.558135032653809,-15.872593879699707,-13.609441757202148,-10.140544891357422,23.257282257080078,-28.814292907714844,17.504817962646484,24.042469024658203,-5.568424701690674,-28.60395622253418,19.193002700805664,15.980996131896973,18.073469161987305,-0.6586384177207947,-28.5161190032959,3.383537769317627,22.099773406982422,-28.65638542175293,15.811629295349121,-9.671924591064453,16.595319747924805,17.757959365844727,23.44114875793457,-3.4288415908813477,-17.430038452148438,17.230606079101562,19.526826858520508,17.050457000732422,7.727468967437744,19.43783187866211,23.788986206054688,-28.827295303344727,-21.43724250793457,-3.2008543014526367,-10.6647367477417,-29.872371673583984,14.528399467468262,23.566373825073242,14.764185905456543,-18.717304229736328,-27.646677017211914,-27.048410415649414,18.198200225830078,12.913301467895508,0.16791266202926636,20.16712188720703,17.157323837280273,-6.220456600189209,-2.617621421813965,19.643461227416992,-33.4293212890625,-20.139333724975586,19.449491500854492,14.024919509887695,-10.743144035339355,19.59804344177246,1.5237762928009033,13.361881256103516,-17.786771774291992,-2.489837169647217,23.23154067993164,-20.660961151123047,4.315377712249756,4.510946273803711,23.146507263183594,23.04676628112793,13.832694053649902,-20.775062561035156,16.569599151611328,21.40314483642578,19.069379806518555,18.372623443603516,21.932878494262695,18.565160751342773,16.81208038330078,-15.867464065551758,2.935234546661377,18.95085906982422,-29.31443977355957,-3.6714398860931396,1.8114326000213623,-28.103952407836914,15.58422565460205,-23.280567169189453,-13.850861549377441,-15.711501121520996,22.78533172607422,-14.331775665283203,22.527875900268555,13.706219673156738,-7.634051322937012,-9.376019477844238,14.12822151184082,13.118110656738281,19.689382553100586,20.45621681213379,22.348400115966797,-17.466466903686523,3.9769508838653564,-19.589628219604492,-5.635799884796143,-27.653657913208008,18.733417510986328,-21.122364044189453,19.270193099975586,15.264342308044434,18.920190811157227,-5.092740535736084,-20.31112289428711,15.238785743713379,-1.6741145849227905,13.881958961486816,-9.116641998291016,-8.16619873046875,21.990583419799805,15.351051330566406,16.481048583984375,12.173755645751953,1.5914275646209717,-3.698228120803833,-3.520026922225952,-2.9110028743743896,-11.069100379943848,-17.010942459106445,-18.3038272857666,1.4666595458984375,18.957441329956055,-15.44842529296875,-9.115030288696289,-14.094522476196289,16.631778717041016,18.013574600219727,16.302339553833008,-26.954532623291016,13.050576210021973,-26.621631622314453,-28.927204132080078,-6.70589542388916,14.353280067443848,-14.189096450805664,-2.0263845920562744,12.66060733795166,-2.83589506149292,8.46669864654541,13.302604675292969,13.969987869262695,-16.73790740966797,20.96586799621582,16.619510650634766,-2.868182420730591,18.84836196899414,-27.170324325561523,-19.636449813842773,21.10576057434082,18.959869384765625,14.471981048583984,-3.3169362545013428,18.75121307373047,13.729846954345703,17.04832649230957,12.40483570098877,14.305340766906738,11.47404670715332,-26.566505432128906,20.634662628173828,-10.604783058166504,-19.619264602661133,9.947676658630371,-10.810011863708496,16.621116638183594,12.110580444335938,4.8028340339660645,-15.28300666809082,18.995147705078125,-15.68337631225586,-24.19968032836914,21.000211715698242,12.435446739196777,-16.659923553466797,-28.595474243164062,11.410390853881836,18.53940773010254,3.344601631164551,11.323616027832031,5.5963850021362305,15.862141609191895,20.805057525634766,-27.376684188842773,-27.473236083984375,-16.78066635131836,20.53766441345215,-16.194326400756836,18.014928817749023,-22.474414825439453,-24.8734188079834,12.754005432128906,20.023738861083984,-22.864418029785156,15.854157447814941,16.810043334960938,8.46165943145752,11.039973258972168,18.393299102783203,19.324628829956055,-2.430264472961426,20.50596046447754,-26.736038208007812,17.701541900634766,-22.805864334106445,20.532878875732422,4.710323810577393,-25.96396827697754,12.76874828338623,-10.934260368347168,-15.551767349243164,3.9785404205322266,11.876163482666016,-28.738428115844727,11.418793678283691,13.271281242370605,18.173946380615234,-19.133007049560547,-27.6225528717041,6.0580596923828125,11.807072639465332,-28.514833450317383,-15.25564193725586,10.248801231384277,-26.331050872802734,-2.273749828338623,-1.5858813524246216,15.847469329833984,11.6026029586792,3.0836403369903564,16.753860473632812,-23.798828125,-28.176910400390625,20.018829345703125,-27.02523422241211,-1.160142421722412,8.550323486328125,10.643162727355957,-7.301233291625977,-0.9998362064361572,16.315656661987305,8.856163024902344,12.512412071228027,17.801721572875977,17.290084838867188,4.8472065925598145,-25.88422203063965,-25.287752151489258,10.677416801452637,-10.306007385253906,-10.620058059692383,-2.713972330093384,18.12766456604004,-23.591812133789062,11.162933349609375,1.9312833547592163,-25.64470100402832,17.213008880615234,8.383225440979004,18.175031661987305,-8.335172653198242,-19.4838809967041,4.375971794128418,17.597103118896484,15.446512222290039,-24.746065139770508,7.577596664428711,10.33311939239502,10.341334342956543,-8.274459838867188,19.170856475830078,18.549312591552734,14.060039520263672,-15.840563774108887,2.552161693572998,-1.9985803365707397,-24.936840057373047,-19.92559814453125,10.29267406463623,15.705631256103516,18.2216739654541,17.5535831451416,15.736678123474121,4.378921985626221,-2.634485960006714,9.511580467224121,-14.159375190734863,-26.848926544189453,-23.109739303588867,10.159692764282227,3.2856695652008057,-8.546589851379395,2.6973533630371094,6.181520938873291,9.850333213806152,10.03186321258545,-7.9862751960754395,-19.906002044677734,17.603343963623047,18.00357437133789,14.700043678283691,-19.210063934326172,4.627224445343018,3.971986770629883,15.7020902633667,-6.748828887939453,15.997936248779297,16.796669006347656,16.855785369873047,9.560027122497559,-19.78823471069336,9.423354148864746,-25.44552993774414,3.9996275901794434,-10.814013481140137,9.463996887207031,9.367645263671875,11.845908164978027,14.07848834991455,17.40526580810547,9.259763717651367,16.488977432250977,3.149808168411255,-19.207855224609375,-14.200913429260254,5.366607189178467,-1.2857714891433716,-19.245590209960938,7.034570217132568,9.489901542663574,-26.264066696166992,9.415716171264648,-6.221579551696777,4.050220489501953,16.960525512695312,17.22240447998047,-21.863588333129883,17.046850204467773,15.53082275390625,17.58576774597168,9.275352478027344,-15.228981971740723,14.352538108825684,15.986299514770508,9.74716854095459,-25.41140365600586,-1.9595823287963867,8.682278633117676,-20.128488540649414,9.264787673950195,-25.890073776245117,-14.755424499511719,15.196699142456055,-3.3879575729370117,-21.909229278564453,8.443650245666504,-7.872129440307617,4.922366619110107,15.0043363571167,17.8068790435791,8.392827987670898,12.136545181274414,-13.582321166992188,-23.84420394897461,8.196210861206055,-1.8531441688537598,15.554642677307129,15.832646369934082,-8.739490509033203,8.002249717712402,2.351543426513672,15.014256477355957,14.72665786743164,14.940147399902344,12.100931167602539,-24.00198745727539,14.45795726776123,9.20845890045166,-6.1032304763793945,4.024156093597412,12.969521522521973,-16.73829460144043,3.1440629959106445,-10.36396312713623,10.4346923828125,4.3827128410339355,-5.821349620819092,15.053428649902344,-3.33939528465271,-2.810584545135498,-23.76942253112793,12.477795600891113,-25.980823516845703,14.586216926574707,-18.916942596435547,7.377590179443359,-15.22553539276123,13.168136596679688,1.6990246772766113,10.896934509277344,7.584368705749512,-7.65323543548584,-8.783258438110352,-29.74785041809082,14.56541633605957,7.990549564361572,-23.819547653198242,13.38109016418457,1.3841745853424072,15.198075294494629,11.156532287597656,-24.17335319519043,-10.683572769165039,14.693235397338867,5.604331016540527,13.033160209655762,-2.3125996589660645,6.002804756164551,-14.087736129760742,8.413065910339355,8.405558586120605,-22.920974731445312,11.22249984741211,-24.043981552124023,13.521855354309082,-18.92488670349121,13.400917053222656,-25.467702865600586,-8.4390287399292,-18.41939353942871,-1.1617932319641113,12.829071044921875,-26.798675537109375,-25.646194458007812,6.995663166046143,5.445645809173584,15.243474006652832,12.93088150024414,13.495450019836426,4.428003311157227,-23.613279342651367,4.720123767852783,17.571514129638672,8.792808532714844,-15.216310501098633,13.028861045837402,-15.490715980529785,-26.88275909423828,-23.638517379760742,-1.378203272819519,10.089370727539062,14.530607223510742,-13.376958847045898,-2.5055184364318848,3.636180877685547,10.921356201171875,12.609940528869629,-25.810590744018555,12.612789154052734,2.6157939434051514,6.905154705047607,12.331029891967773,-13.292094230651855,7.609432220458984,14.664620399475098,5.895122051239014,-13.956418991088867,-1.2623296976089478,-10.628323554992676,7.681753635406494,12.090764045715332,11.437506675720215,-16.0256290435791,-2.283783435821533,4.800203323364258,12.237342834472656,-10.841329574584961,-2.8323912620544434,12.138250350952148,12.124109268188477,0.8670304417610168,7.379284858703613,4.119956970214844,3.71053147315979,4.106358528137207,11.681920051574707,9.779650688171387,14.151768684387207,4.963901996612549,11.705086708068848,4.316280364990234,4.021448135375977,-13.671466827392578,-12.658835411071777,2.1594605445861816,11.299878120422363,-19.363800048828125,11.605792045593262,-24.586952209472656,5.667631149291992,-20.948673248291016,8.898172378540039,10.308889389038086,3.0321762561798096,2.7592172622680664,14.997982025146484,11.446334838867188,10.5949068069458,3.055762529373169,-22.722963333129883,10.57825756072998,-22.221481323242188,11.116863250732422,14.05660343170166,5.249628067016602,-28.233383178710938,3.400327205657959,14.331920623779297,7.5096116065979,13.11978816986084,5.000613212585449,6.042099475860596,10.777857780456543,4.854573726654053,-7.627249717712402,-23.3107967376709,6.450922012329102,11.171154022216797,9.998435020446777,5.181519985198975,-22.53296661376953,-2.8850388526916504,6.912013053894043,16.242733001708984,13.145159721374512,10.31760311126709,6.269600868225098,-19.096948623657227,0.15580081939697266,10.895050048828125,4.12688684463501,-10.926168441772461,-7.839689254760742,14.55141544342041,10.655858993530273,10.241198539733887,10.580842018127441,5.666848182678223,-22.94536781311035,14.528473854064941,-23.28965187072754,12.791723251342773,5.708592891693115,-9.60026741027832,-22.68121337890625,-23.58641242980957,15.076655387878418,6.715054988861084,-9.199254035949707,4.807272434234619,-23.193899154663086,4.1017889976501465,12.647713661193848,4.431946754455566,5.776745796203613,13.826632499694824,5.413524627685547,13.590700149536133,7.016709804534912,13.813071250915527,10.132434844970703,6.8546013832092285,7.665266990661621,5.579197883605957,1.185124397277832,2.36975359916687,3.083294630050659,6.1444854736328125,1.175455093383789,0.08304749429225922,12.024291038513184,-5.571603775024414,7.980549335479736,10.67685317993164,10.742938041687012,6.677382469177246,4.706596851348877,-0.28913187980651855,12.37695026397705,4.297020435333252,4.555205821990967,7.1355414390563965,3.4085097312927246,3.332221508026123,8.739991188049316,13.279963493347168,3.421274185180664,1.5004748106002808,15.662002563476562,-12.583197593688965,1.3465718030929565,7.71038293838501,-16.191097259521484,-16.082141876220703,-9.684813499450684,-1.849596619606018,14.334842681884766,3.3731777667999268,6.2335968017578125,10.664546012878418,5.5573835372924805,2.561938762664795,-20.787559509277344,8.41744613647461,5.285629749298096,11.059385299682617,-23.559249877929688,-14.133028030395508,7.603054523468018,2.592552900314331,0.06760816276073456,2.300278425216675,5.969212532043457,7.145319938659668,14.320152282714844,1.8175443410873413,-15.294905662536621,4.158639430999756,-0.9610826969146729,14.664826393127441,-18.35544776916504,-21.778980255126953,-21.745044708251953,-0.8705742359161377,10.563838005065918,10.081871032714844,-5.3351335525512695,-10.498476028442383,5.931762218475342,10.959749221801758,10.668362617492676,4.332848072052002,1.0587339401245117,0.4659925103187561,5.206757068634033,3.3457608222961426,15.307682991027832,5.301905632019043,-20.69532012939453,14.595388412475586,4.889618396759033,1.0592083930969238,4.98019552230835,5.021321773529053,-18.124725341796875,7.18858528137207,6.923291206359863,-21.444705963134766,-7.798972129821777,-13.965093612670898,-20.696945190429688,-10.919351577758789,1.8761667013168335,12.990487098693848,-10.657160758972168,-22.774789810180664,9.239053726196289,-3.039865493774414,4.414547920227051,5.988819599151611,-5.36185359954834,10.210360527038574,4.324917793273926,3.9680190086364746,-6.296559810638428,3.501473903656006,-2.225381851196289,-22.3979549407959,4.336396217346191,-16.394554138183594,-10.9310302734375,-1.6683967113494873,4.22112512588501,3.2395994663238525,-1.4797765016555786,1.809148907661438,7.631805419921875,4.044644355773926,9.037320137023926,-7.519337177276611,4.082971572875977,-9.241133689880371,4.336184978485107,-22.509780883789062,4.907783508300781,-20.808752059936523,9.741985321044922,2.4352335929870605,-22.118751525878906,3.247152805328369,5.109798431396484,3.6809215545654297,5.61151123046875,1.4006788730621338,12.842731475830078,-1.810894250869751,4.897888660430908,3.0217411518096924,8.418951988220215,4.505460262298584,-2.6274969577789307,3.738903045654297,2.5517094135284424,0.017641810700297356,17.117578506469727,-20.890649795532227,6.014186859130859,10.864691734313965,3.174222230911255,3.3772199153900146,10.593948364257812,5.214684963226318,9.835023880004883,2.568145990371704,13.794285774230957,4.248686790466309,0.9573739767074585,2.55904221534729,-9.011740684509277,12.986159324645996,-16.388887405395508,7.491163730621338,10.035250663757324,-1.8825347423553467,0.3155538737773895,2.305055856704712,2.829721689224243,0.9424439668655396,3.544847249984741,7.683547496795654,-3.4871573448181152,2.4560530185699463,-5.697670936584473,-7.225359916687012,2.075802803039551,16.91399383544922,17.179738998413086,-2.5326955318450928,-3.4867706298828125,10.94661808013916,-2.497328281402588,13.156492233276367,12.722271919250488,11.534361839294434,1.9071718454360962,-3.8395044803619385,17.22753143310547,-11.115584373474121,0.8946564197540283,1.061970829963684,5.992136478424072,-2.4148335456848145,11.150513648986816,-10.645967483520508,0.730617105960846,-0.7873805165290833,1.4351998567581177,0.641595184803009,1.7046161890029907,-2.9780519008636475,5.406428337097168,-2.650733470916748,0.3766336441040039,6.39709997177124,-17.497751235961914,13.831424713134766,1.640758991241455,9.937906265258789,-0.3625539243221283,12.111416816711426,-2.915760040283203,1.991672158241272,5.983516693115234,-3.904482841491699,-16.89810562133789,-16.975772857666016,-18.860994338989258,-3.8440358638763428,-10.388395309448242,-2.5945494174957275,2.0871236324310303,6.422037601470947,0.04498319327831268,16.089445114135742,1.9366953372955322,13.799729347229004,-0.5736849904060364,0.7235802412033081,7.8289642333984375,-0.034621067345142365,0.9210082292556763,6.766066074371338,1.03477144241333,0.8897634148597717,-18.060670852661133,-21.349166870117188,5.528000354766846,0.9193702936172485,-0.9094690084457397,0.7206207513809204,0.5061607956886292,6.067724704742432,0.7891596555709839,-16.67288589477539,2.465224504470825,0.65740567445755,0.7055038213729858,7.423557758331299,0.5183306932449341,-1.2354483604431152,3.623879909515381,5.711031913757324,-4.430531024932861,-4.798624038696289,2.9333128929138184,18.355714797973633,9.2166166305542,17.83075523376465,-3.1631343364715576,0.17231467366218567,0.1027195155620575,-5.002841472625732,2.0495896339416504,7.241430282592773,18.23067283630371,-20.42582130432129,-10.092498779296875,-0.5907154083251953,-5.0815606117248535,-0.11203575134277344,-16.443771362304688,16.05044937133789,0.12437470257282257,14.597363471984863,1.3308519124984741,-4.902945041656494,-17.400941848754883,-4.707441806793213,0.5469409227371216,0.29219502210617065,-0.16743460297584534,7.265372276306152,6.248521327972412,4.370233058929443,-0.9976847767829895,2.222106456756592,6.216233253479004,-0.7069373726844788,10.045980453491211,-20.646530151367188,-0.5438730120658875,8.330141067504883,-10.4895601272583,-1.3423570394515991,-9.267951011657715,-6.8145246505737305,-0.560704231262207,-0.2956673800945282,-5.261018753051758,-1.248579740524292,-1.1163042783737183,6.30527925491333,-1.6461933851242065,11.320520401000977,3.469594717025757,5.9303059577941895,-1.2221928834915161,6.014669418334961,19.11272430419922,5.383683204650879,-5.391529560089111,-7.165226459503174,0.2630137503147125,10.103882789611816,16.280445098876953,-5.701656818389893,6.002823352813721,1.719645380973816,10.400904655456543,13.009146690368652,-5.399622440338135,-1.755653977394104,-15.013564109802246,5.6010894775390625,17.89385414123535,-1.2829121351242065,-3.2612760066986084,13.37919807434082,-6.231966972351074,-8.52829360961914,-6.037217617034912,6.179829120635986,-0.35950273275375366,-3.5386505126953125,-3.241098403930664,-6.147242546081543,18.289894104003906,8.251720428466797,-15.860146522521973,18.210426330566406,31.838829040527344,-1.5502336025238037,-7.337965965270996,12.909736633300781,-6.2639665603637695,-6.411599636077881,-8.954438209533691,-0.17323261499404907,6.399213790893555,18.666046142578125,10.861007690429688,5.086596965789795,-2.8812384605407715,0.8057805895805359,5.867954730987549,13.598496437072754,-18.907365798950195,-6.510794639587402,-3.9991090297698975,6.658081531524658,-6.7447381019592285,0.3337092697620392,16.887304306030273,-6.76585578918457,9.011510848999023,-6.822364807128906,5.892323017120361,17.310787200927734,-4.25333833694458,-6.826103687286377,-4.252093315124512,-6.743082523345947,21.8073673248291,-3.8861889839172363,0.22960883378982544,-6.8399248123168945,-6.819267749786377,13.248793601989746,-18.663227081298828,-9.039897918701172,-4.030312538146973,10.260648727416992,-7.1486616134643555,-7.645025730133057,-17.75297737121582,-19.23029899597168,-4.584076404571533,-7.5130295753479,-2.640045166015625,-7.0419111251831055,-7.017800807952881,17.639934539794922,14.695899963378906,-0.5819078087806702,11.068411827087402,9.557780265808105,14.08484172821045,9.498079299926758,-7.293000221252441,-7.236989974975586,-5.098240375518799,9.016140937805176,5.556281566619873,6.758613586425781,16.910167694091797,18.071666717529297,-5.346602916717529,-5.454306125640869,-15.579710960388184,-6.995419979095459,-0.9704940915107727,-6.719456672668457,-5.067821979522705,-9.842670440673828,14.31336784362793,-5.1926589012146,-7.566171169281006,-7.480907917022705,-3.1358695030212402,16.09214973449707,14.908623695373535,11.840038299560547,-6.945612907409668,17.920347213745117,-7.683562755584717,0.15295079350471497,-6.73405647277832,-7.8281168937683105,18.521284103393555,12.870612144470215,14.281157493591309,-5.834438323974609,17.723224639892578,8.53237533569336,-0.9520567655563354,-6.03459358215332,22.121957778930664,12.694114685058594,-6.236169815063477,-6.081142902374268,-7.912295818328857,-6.2860918045043945,-6.288941860198975,-7.889619827270508,-6.2003703117370605,9.058691024780273,18.895402908325195,-8.203941345214844,6.215673923492432,-8.05115032196045,10.809698104858398,9.560011863708496,10.11955738067627,-13.7032470703125,7.056666851043701,-3.033257484436035,21.378772735595703,-6.685337066650391,-8.095513343811035,-8.312870025634766,-8.278337478637695,9.920141220092773,-15.153447151184082,-8.337544441223145,-3.747504949569702,-5.537142276763916,14.207844734191895,31.75311851501465,-8.411700248718262,-8.416852951049805,-8.524423599243164,-18.336631774902344,-15.525250434875488,-7.294487953186035,-1.242502212524414,19.213382720947266,-3.464745283126831,9.946037292480469,-8.44588565826416,-8.364701271057129,-15.317620277404785,-18.464651107788086,-15.404781341552734,-7.267541885375977,5.582272529602051,-14.579809188842773,7.110345840454102,-15.474104881286621,-17.705907821655273,-6.858076095581055,-8.052477836608887,-16.98828125,-8.822540283203125,-9.034156799316406,-8.851333618164062,-14.013200759887695,-7.036526679992676,-15.841520309448242,-0.24126359820365906,-18.379638671875,9.155136108398438,-8.260490417480469,-9.775089263916016,-3.4119696617126465,-0.4431288540363312,-8.99474811553955,-13.825139045715332,-9.014747619628906,-15.687111854553223,16.10630226135254,-9.50078010559082,-9.164548873901367,-8.712206840515137,-9.181204795837402,12.337285995483398,21.194185256958008,-17.235795974731445,-15.078978538513184,20.99989128112793,-9.132270812988281,11.504373550415039,12.65268325805664,10.598481178283691,-8.989333152770996,-9.098784446716309,-9.08552360534668,-9.411263465881348,20.116233825683594,-7.081192970275879,-5.672543048858643,8.929340362548828,13.810145378112793,-5.611326694488525,9.152460098266602,10.692581176757812,-2.1144402027130127,-9.440217018127441,15.694825172424316,-17.038917541503906,-9.567472457885742,9.193537712097168,-13.159436225891113,-9.560940742492676,6.180262088775635,-9.667113304138184,-9.764876365661621,4.287405490875244,10.428410530090332,-15.542043685913086,-13.712496757507324,7.7748494148254395,-3.769310235977173,-6.246824264526367,17.97882843017578,-4.238123416900635,4.95861291885376,22.161556243896484,20.759857177734375,20.09571647644043,-10.00596809387207,-10.544486999511719,12.242918968200684,8.389974594116211,-2.0524656772613525,-10.964579582214355,-10.453277587890625,-9.932519912719727,-12.282537460327148,-10.477485656738281,30.569988250732422,24.766162872314453,-10.622147560119629,-0.6918829083442688,-11.290539741516113,-4.084653377532959,18.040952682495117,-10.0393705368042,18.723726272583008,19.201601028442383,21.289596557617188,-11.561867713928223,5.835906505584717,10.895358085632324,-12.584131240844727,-11.103494644165039,-12.515341758728027,6.07424783706665,-12.559122085571289,-0.6090831160545349,14.873488426208496,-4.168324947357178,-11.78067684173584,-16.211366653442383,7.079758167266846,18.011934280395508,31.360816955566406,20.982698440551758,-4.066440582275391,19.390087127685547,-11.246721267700195,-10.380861282348633,31.65852165222168,-12.493758201599121,-4.345720291137695,10.289194107055664,-11.508138656616211,9.483695983886719,-11.565361022949219,-12.630646705627441,-14.116875648498535,-11.084256172180176,-11.807502746582031,-12.519088745117188,-0.3474138677120209,-5.425381183624268,29.14461326599121,23.22916030883789,-5.981137275695801,20.266918182373047,-12.468589782714844,-11.527864456176758,10.893526077270508,-12.74392318725586,31.740968704223633,-13.097599029541016,-11.044875144958496,-3.9455440044403076,-3.4405934810638428,-14.50413990020752,28.053932189941406,29.573657989501953,-11.116074562072754,-12.071401596069336,-0.6850647330284119,-12.049530029296875,19.99624252319336,-3.08652925491333,-13.399643898010254,3.064213275909424,8.849258422851562,-13.588274955749512,19.927234649658203,-13.543669700622559,-11.645379066467285,-13.397459983825684,20.73760223388672,-10.049332618713379,-3.8839328289031982,20.64533042907715,-13.246342658996582,7.515310287475586,-2.9744818210601807,-13.098234176635742,-12.757834434509277,9.339104652404785,24.64020538330078,13.411683082580566,-13.815685272216797,6.029479026794434,-13.8892183303833,-14.258410453796387,7.916672706604004,22.812334060668945,10.591466903686523,-13.382139205932617,-4.872656345367432,8.527077674865723,-0.10694155097007751,-14.769692420959473,2.8068554401397705,21.64055061340332,-14.602471351623535,-11.892334938049316,-14.191481590270996,-3.451453447341919,-14.553561210632324,-11.550490379333496,7.8427910804748535,1.6482489109039307,-12.18824577331543,-2.8034098148345947,-15.178166389465332,-2.436723232269287,9.841503143310547,-14.773484230041504,14.858909606933594,-6.488829135894775,-14.909107208251953,-15.416362762451172,-15.250229835510254,6.769064426422119,7.343820095062256,-4.20496129989624,-15.531044006347656,-14.397125244140625,10.871501922607422,22.319211959838867,31.200284957885742,-4.27677583694458,7.249038219451904,-2.315915584564209,-15.687797546386719,-15.77707576751709,-15.048277854919434,-12.265351295471191,-15.66246509552002,-15.018050193786621,-13.932498931884766,-5.789674282073975,-13.768882751464844,5.812800407409668,21.295413970947266,-16.033790588378906,0.5311405062675476,-2.7992279529571533,-4.303750991821289,0.7280154824256897,18.92051887512207,8.561972618103027,18.271045684814453,17.16773796081543,-16.052635192871094,8.129137992858887,21.406841278076172,-15.938112258911133,-16.296558380126953,-15.1818208694458,-15.592310905456543,-1.723318338394165,-3.9743709564208984,-12.986387252807617,-4.274060249328613,25.099502563476562,3.99088978767395,7.747246265411377,6.986602783203125,6.444512367248535,24.968769073486328,-16.558311462402344,-16.132429122924805,-15.462455749511719,6.456249237060547,-2.169977903366089,2.173755645751953,-12.376363754272461,-16.245338439941406,-11.302684783935547,12.784344673156738,-8.51326847076416,-16.938352584838867,4.130526542663574,-15.819196701049805,-15.989279747009277,6.701446056365967,-3.9209699630737305,-15.91910457611084,25.466312408447266,8.016265869140625,-6.447009563446045,9.696793556213379,-17.535385131835938,-13.227696418762207,-16.47076988220215,-16.89031410217285,30.07171630859375,-13.944355964660645,8.295205116271973,-16.068634033203125,-17.41298484802246,5.289086818695068,20.593408584594727,-4.16361141204834,30.798995971679688,-17.259016036987305,30.633562088012695,-16.66213035583496,-17.677244186401367,-17.47983741760254,5.589570999145508,-17.268537521362305,-4.158299446105957,5.970591068267822,-17.88060188293457,-17.93512725830078,18.456253051757812,17.19866371154785,-17.303756713867188,-17.887510299682617,31.09263801574707,22.595518112182617,-3.321937322616577,-0.37891754508018494,-17.840057373046875,-20.21259880065918,18.15424346923828,-18.481367111206055,18.161048889160156,-17.520263671875,9.451173782348633,7.1185173988342285,-12.027928352355957,-5.435814380645752,9.551019668579102,7.765614032745361,24.105173110961914,9.899030685424805,14.11061954498291,-18.799217224121094,-5.163546085357666,-17.067913055419922,-18.831104278564453,16.068567276000977,-18.420936584472656,10.042125701904297,5.582592487335205,22.269521713256836,-8.410557746887207,-19.27157974243164,16.302339553833008,-3.8337936401367188,-3.449805736541748,-18.465482711791992,-17.160425186157227,-21.398897171020508,-17.855464935302734,9.816329956054688,22.353029251098633,-18.473421096801758,-17.367189407348633,30.515871047973633,9.80338191986084,16.715124130249023,9.918977737426758,21.532011032104492,-12.361108779907227,-18.394132614135742,12.81484317779541,22.42636489868164,2.274672508239746,-12.220367431640625,-18.2674617767334,-0.9780356287956238,-18.431406021118164,-18.133319854736328,-20.5268497467041,-22.204790115356445,-17.54511260986328,-5.075504302978516,24.90842628479004,-20.889970779418945,-20.39492416381836,29.625356674194336,23.216934204101562,-18.274797439575195,-21.919307708740234,20.124967575073242,-22.165071487426758,-6.244246959686279,-20.33514976501465,-4.973374843597412,-19.92206382751465,-18.151844024658203,-18.061145782470703,-10.821249961853027,-21.464998245239258,1.1643511056900024,-12.356925010681152,15.407323837280273,-22.202966690063477,-18.979860305786133,-17.863813400268555,16.387191772460938,-7.014528751373291,7.885831832885742,17.488075256347656,-7.779966354370117,10.399362564086914,28.96520233154297,11.01175594329834,-22.212600708007812,-12.172113418579102,30.419769287109375,-17.9089298248291,5.944272041320801,10.447153091430664,-12.125844955444336,-5.574253082275391,-18.443147659301758,20.689382553100586,-19.257720947265625,-21.70606231689453,-1.063425064086914,-22.553836822509766,-4.83681058883667,26.001928329467773,-19.245601654052734,11.096736907958984,3.196575164794922,-22.377532958984375,-19.29109001159668,-2.9972190856933594,-21.947362899780273,23.06932258605957,8.21985149383545,-23.130756378173828,10.67952823638916,-18.191953659057617,-22.358919143676758,-23.057130813598633,-23.487030029296875,-22.948501586914062,-18.612585067749023,-22.194063186645508,4.522792339324951,6.595661163330078,-23.838266372680664,-4.911332607269287,-15.399419784545898,-22.208215713500977,-11.670607566833496,-21.25853729248047,9.455572128295898,-2.8116536140441895,6.412953853607178,-0.30152571201324463,-12.955279350280762,-18.509212493896484,9.474684715270996,-20.355825424194336,-4.8205461502075195,-19.28721809387207,-19.749710083007812,-19.434085845947266,-22.959012985229492,8.441298484802246,-4.992610454559326,10.59621810913086,23.954439163208008,3.1458489894866943,-0.2822907865047455,-2.486520528793335,-23.286649703979492,-18.833742141723633,-19.42890167236328,2.2863168716430664,28.890363693237305,-5.015451431274414,12.42333984375,-0.9001496434211731,16.278478622436523,24.851839065551758,23.931774139404297,-19.504131317138672,-11.409530639648438,5.29578161239624,18.57181739807129,-24.4029598236084,10.402425765991211,-23.583412170410156,10.325830459594727,24.212108612060547,9.1298189163208,30.488056182861328,0.7902620434761047,-4.4377641677856445,-19.106128692626953,-4.38653564453125,16.68887710571289,25.553396224975586,3.0045857429504395,9.492234230041504,4.099366188049316,-19.420188903808594,23.45538902282715,-22.612117767333984,-25.64584732055664,19.121196746826172,-2.78279185295105,-20.23760986328125,-1.3367210626602173,-13.109955787658691,-3.1692023277282715,-22.672758102416992,-8.7937593460083,7.225416660308838,-21.323575973510742,-8.233403205871582,-23.624414443969727,20.674598693847656,-9.146162986755371,-1.8514926433563232,-25.937744140625,-24.60702896118164,25.075469970703125,-12.547351837158203,-26.609909057617188,4.196196556091309,24.074499130249023,22.359346389770508,-24.247106552124023,-24.0622615814209,-26.498830795288086,2.3681368827819824,-11.297637939453125,-25.292566299438477,-24.40123176574707,-4.962249279022217,-23.859764099121094,-2.4414172172546387,-25.56256675720215,19.54343032836914,-23.572280883789062,-11.568517684936523,-24.552892684936523,5.219264984130859,-1.1803159713745117,-25.991769790649414,-21.239423751831055,2.5042033195495605,-1.3570624589920044,-5.459407329559326,24.76386833190918,0.8886823058128357,-10.441619873046875,-23.72983169555664,-27.067859649658203,-10.466426849365234,-21.964176177978516,-4.861489295959473,23.479703903198242,-26.951416015625,25.953214645385742,-11.694649696350098,-22.068172454833984,31.1742000579834,-7.660741806030273,-27.440324783325195,-26.510334014892578,1.3072264194488525,-24.170394897460938,14.909361839294434,-21.92482566833496,-24.062145233154297,-20.026071548461914,7.614895820617676,19.74172592163086,-2.395817995071411,-2.359238862991333,12.629094123840332,-5.483461856842041,-5.255928039550781,-27.9659423828125,-10.319255828857422,-16.82307243347168,5.251077175140381,7.6528143882751465,-27.692380905151367,-28.32195472717285,-6.853227615356445,24.967315673828125,-24.83097267150879,-23.154695510864258,-21.710851669311523,-24.0585994720459,-1.4518406391143799,-15.764389038085938,16.219560623168945,-23.08367919921875,-25.92725944519043,5.485518932342529,-27.170740127563477,-16.515911102294922,-20.505990982055664,-22.903940200805664,27.264484405517578,16.127025604248047,-19.431623458862305,-28.54212188720703,-25.181310653686523,-28.41856575012207,19.774372100830078,16.385974884033203,-24.6805419921875,8.39431381225586,-14.202738761901855,-0.5560207962989807,-27.21224594116211,-11.842710494995117,9.361039161682129,-5.381953716278076,-22.58024024963379,23.538436889648438,-29.20306396484375,27.813962936401367,-1.2824870347976685,-22.330745697021484,-25.296472549438477,-22.375484466552734,-5.327213764190674,4.05275297164917,-1.293015718460083,5.101285934448242,-29.250682830810547,-26.917301177978516,14.525703430175781,11.633896827697754,18.887815475463867,14.848987579345703,-25.560562133789062,-13.867522239685059,-25.183576583862305,-26.811508178710938,30.80665397644043,11.186108589172363,-30.861377716064453,9.306788444519043,8.806178092956543,27.019147872924805,29.496288299560547,-29.884803771972656,-20.983348846435547,-29.62346839904785,-25.717824935913086,10.375263214111328,-0.2598702907562256,-16.56934928894043,-25.206825256347656,-5.875394821166992,-24.041824340820312,-30.116992950439453,-25.539274215698242,-6.3914642333984375,-23.242013931274414,-10.72959041595459,-14.687525749206543,-14.175586700439453,-25.465803146362305,-22.63503074645996,-9.116455078125,22.400922775268555,-25.531112670898438,13.46520709991455,-19.301197052001953,-24.79827308654785,-24.465404510498047,11.755160331726074,10.767740249633789,-1.7485604286193848,-21.177648544311523,-2.9479784965515137,25.446046829223633,-0.9116528630256653,23.71402931213379,-30.61609649658203,-26.583681106567383,-30.876943588256836,19.963008880615234,19.853107452392578,10.007498741149902,-25.629480361938477,-21.268997192382812,-30.968164443969727,25.530414581298828,26.952022552490234,16.751876831054688,1.376875877380371,-4.70136022567749,27.20793342590332,-5.822761058807373,-25.96417999267578,6.236394882202148,-22.514169692993164,-20.851673126220703,1.415775179862976,11.199520111083984,8.950509071350098,-25.689828872680664,-26.758764266967773,-22.870346069335938,-5.618933200836182,-31.011579513549805,24.37360382080078,-15.250203132629395,30.74404525756836,10.701676368713379,1.6889244318008423,25.808961868286133,10.556787490844727,-4.007997512817383,-13.752500534057617,-31.86620330810547,-26.320825576782227,-13.309833526611328,-22.63865089416504,-33.71446990966797,-30.981225967407227,-21.6334285736084,-15.060068130493164,14.074469566345215,25.31089210510254,-26.886289596557617,-17.577884674072266,14.52856159210205,23.98410415649414,-32.62425994873047,0.4040161073207855,11.187814712524414,-32.76100540161133,-10.386137008666992,11.280163764953613,-10.300683975219727,-26.439563751220703,16.586742401123047,26.043819427490234,18.46852684020996,10.27937126159668,28.517484664916992,7.48634672164917,26.367454528808594,-34.0717887878418,-34.180233001708984,-5.831629276275635,-9.364468574523926,29.934804916381836,25.31571388244629,-18.268199920654297,1.8116298913955688,-9.004015922546387,5.104760646820068,-4.5393829345703125,-31.466854095458984,-34.32710647583008,26.23487663269043,-10.566009521484375,-0.779049277305603,-31.364452362060547,24.373701095581055,-34.34038543701172,24.873014450073242,4.184914588928223,-27.092918395996094,-7.877490043640137,-34.48326110839844,-27.424877166748047,15.98117446899414,-27.57379722595215,-32.80143737792969,-35.01600646972656,7.28521203994751,-23.21059226989746,-27.31328773498535,15.249932289123535,-15.633437156677246,27.03966522216797,22.058650970458984,27.429594039916992,13.30978775024414,-4.248988628387451,0.8290048241615295,26.106149673461914,2.105762004852295,-34.4182243347168,-35.6076774597168,5.027127265930176,28.299072265625,-28.532777786254883,-28.35374641418457,-34.9372444152832,-0.4157896339893341,-1.9673970937728882,-31.452903747558594,-9.503556251525879,28.586463928222656,28.118520736694336,0.20615234971046448,-34.55759048461914,-12.300562858581543,0.570765495300293,-34.681190490722656,-35.67267990112305,-35.39982223510742,-5.549896717071533,2.731398105621338,26.03624725341797,-36.01443862915039,24.532752990722656,9.734553337097168,-1.9119830131530762,-28.123327255249023,-12.251740455627441,-35.9643669128418,-28.858142852783203,-28.698823928833008,26.399490356445312,-36.78311538696289,-28.249380111694336,27.2806453704834,-28.62810707092285,-13.717052459716797,-22.785036087036133,-2.7972075939178467,-28.32299041748047,0.8155980706214905,11.9955415725708,-6.1696367263793945,-36.59565734863281,-1.3223851919174194,-28.302104949951172,2.3340818881988525,-13.190003395080566,-7.658761024475098,-14.01417064666748,-22.46851348876953,28.77105712890625,-23.834564208984375,-36.81382369995117,-4.349568843841553,-22.849271774291992,-28.929304122924805,-1.7957427501678467,-37.40351486206055,-36.47315979003906,27.177589416503906,-34.72704315185547,19.00360107421875,-37.5334587097168,-28.68158721923828,2.3981218338012695,-29.130094528198242,-24.412412643432617,8.588448524475098,-35.673404693603516,-13.44204330444336,-28.81113052368164,-36.786651611328125,-12.784480094909668,26.628171920776367,-3.5411245822906494,22.90459632873535,-12.882208824157715,-2.8735299110412598,-5.789394378662109,-3.290553092956543,-0.04609211906790733,-38.132896423339844,12.384376525878906,-8.9376220703125,-5.071845531463623,-3.852104663848877,30.371723175048828,8.925911903381348,-24.217979431152344,-9.755756378173828,13.256890296936035,1.1669225692749023,-38.05559539794922,27.66090202331543,-37.540348052978516,1.302679181098938,-38.353118896484375,-7.20012092590332,-29.794544219970703,1.6532578468322754,-37.09705352783203,26.576356887817383,-38.20478057861328,26.43398094177246,-8.788655281066895,28.087785720825195,-8.196771621704102,-2.076014995574951,28.038555145263672,29.24217414855957,26.54946517944336,-30.17306137084961,-33.89622497558594,-38.65495300292969,1.1949341297149658,-30.82805633544922,-0.9090418219566345,-29.606122970581055,-29.696317672729492,-39.38157653808594,-3.3891208171844482,-34.020137786865234,26.530988693237305,-29.293006896972656,-37.534881591796875,-11.286173820495605,29.2872371673584,-34.268157958984375,-29.223344802856445,-24.608745574951172,-39.88713836669922,28.00409507751465,-29.904842376708984,-33.841487884521484,-5.952082633972168,11.816617012023926,11.093720436096191,-31.487680435180664,-38.982276916503906,-2.505056142807007,-38.42882537841797,-1.4297761917114258,20.72772979736328,-38.39331817626953,-11.923545837402344,-4.462570667266846,-5.769148349761963,-25.261133193969727,29.589815139770508,-34.708499908447266,-5.31825065612793,-14.038647651672363,-30.084199905395508,-33.602901458740234,26.871253967285156,-9.685295104980469,26.94423484802246,14.081462860107422,-40.815223693847656,-9.372411727905273,18.515830993652344,-24.566017150878906,29.231111526489258,12.39443588256836,-34.78789520263672,-25.705089569091797,27.80917739868164,-41.25080871582031,-40.05250930786133,-4.482203960418701,-40.342124938964844,-39.446983337402344,-31.09046173095703,-40.275169372558594,-3.5381486415863037,29.82075309753418,4.294223785400391,-41.08816909790039,-1.7782981395721436,-34.03597640991211,-40.81089782714844,-32.86175537109375,13.040472984313965,-39.777587890625,29.864946365356445,-5.8783159255981445,-38.26229476928711,-34.77378845214844,0.31389862298965454,-0.8969320058822632,-41.43915939331055,-2.0286202430725098,-40.85784912109375,9.4601469039917,19.42314910888672,28.6892147064209,-30.607837677001953,12.565844535827637,-39.40376663208008,-25.79983139038086,-35.49285125732422,-32.12397384643555,29.28835678100586,29.628334045410156,-32.5298957824707,-34.63838195800781,-32.65666198730469,-41.746768951416016,-42.11722183227539,-40.53636169433594,-5.620545387268066,-2.1964268684387207,-35.50033950805664,2.0627472400665283,-9.03971004486084,-35.89756393432617,-42.37079620361328,28.05126953125,-32.70493698120117,-41.10219192504883,-38.87553024291992,26.82305335998535,-41.38633346557617,18.064212799072266,-35.37855911254883,-31.741472244262695,-41.53822326660156,-23.782527923583984,-33.72984313964844,1.3353980779647827,26.732818603515625,27.18149757385254,-8.624564170837402,30.621253967285156,13.446518898010254,12.633148193359375,-7.8701677322387695,-25.60249900817871,9.981017112731934,-32.440147399902344,-4.8110032081604,27.6042423248291,27.853347778320312,-42.39295196533203,-2.4080021381378174,28.97252082824707,-39.17774200439453,-41.600730895996094,-40.7020263671875,-2.264375686645508,-7.595146656036377,-40.26559066772461,-40.929508209228516,-35.15046691894531,-1.84055495262146,26.93294906616211,4.438450336456299,28.35097312927246,31.106395721435547,-2.3100063800811768,-41.717655181884766,-36.4738883972168,-4.135736465454102,-10.329989433288574,-36.526058197021484,4.637770175933838,-40.41192626953125,26.33604621887207,28.47432518005371,-41.42641067504883,-35.52849197387695,27.257198333740234,-43.142303466796875,-32.22825241088867,-25.556909561157227,-39.37582778930664,-43.15861511230469,-38.595970153808594,-39.9086799621582,-41.908023834228516,-37.26545333862305,-34.259361267089844,-39.0570182800293,26.734027862548828,12.366253852844238,-25.272619247436523,-31.53017807006836,-39.93537139892578,28.665380477905273,-5.745333671569824,-2.8254659175872803,-33.95555114746094,12.490324020385742,13.801713943481445,-34.01295471191406,-33.57508087158203,31.347280502319336,-43.41017532348633,-36.52068328857422,-42.82863235473633,-43.15837097167969,-31.81441879272461,-36.1972541809082,-34.92023849487305,-3.155022382736206,-0.4207422435283661,12.049657821655273,-8.559273719787598,-35.37113952636719,-35.717140197753906,-33.285552978515625,21.606609344482422,11.64322280883789,26.59725570678711,-2.4268312454223633,-40.55784606933594,-32.23931884765625,-34.85768127441406,28.23345184326172,-35.104618072509766,20.867496490478516,-40.27408218383789,-25.073410034179688,11.636190414428711,-43.07222366333008,26.6623477935791,-36.785491943359375,-33.22245788574219,-32.33646011352539,-1.814088225364685,-37.413978576660156,-39.72737121582031,-37.16686248779297,-43.37000274658203,-33.52712631225586,-13.549212455749512,14.0712890625,-33.93637466430664,-16.21742057800293,-3.353555679321289,-0.5315408706665039,-43.055419921875,-3.2672243118286133,-8.437928199768066,14.303984642028809,-40.311439514160156,-7.104864120483398,27.78612518310547,9.789663314819336,-37.71177291870117,29.20926284790039,-39.399261474609375,-25.073314666748047,28.846961975097656,11.734389305114746,-42.63667678833008,-25.33164405822754,14.345476150512695,-36.104026794433594,13.656428337097168,2.224153757095337,17.40999984741211,-34.83976364135742,-37.00910949707031,-41.33941650390625,-43.38603973388672,13.077938079833984,21.278398513793945,-4.395607948303223,-7.436459064483643,29.188920974731445,-40.02095413208008,-42.19965744018555,-34.03902816772461,17.86391258239746,-43.88392639160156,-42.309814453125,26.506412506103516,26.338621139526367,-36.830265045166016,26.277225494384766,-0.6492601633071899,31.103906631469727,-43.00529479980469,-39.415626525878906,-43.26204299926758,-37.300865173339844,2.077670097351074,-42.40865707397461,-34.44994354248047,13.17074203491211,29.12009620666504],\"xaxis\":\"x\",\"y\":[-9.075450897216797,33.81243133544922,40.33351135253906,-16.180557250976562,40.61669921875,41.43626403808594,40.51815414428711,43.728572845458984,33.9294548034668,41.075843811035156,-41.44655227661133,-17.211761474609375,-22.19217300415039,-3.493903160095215,45.16359329223633,44.50890350341797,44.39022445678711,-16.294994354248047,-2.538886785507202,-22.885099411010742,14.908723831176758,-16.784061431884766,34.04933166503906,10.52737808227539,43.59601593017578,13.081491470336914,-13.716537475585938,40.4992790222168,40.30523681640625,40.20576858520508,11.846341133117676,-8.346274375915527,-14.468475341796875,43.85192108154297,33.41774368286133,-7.2771687507629395,44.82084655761719,1.5102179050445557,40.05432891845703,-10.011946678161621,43.21336364746094,44.80869674682617,-25.144811630249023,13.4245023727417,-1.0519356727600098,43.110816955566406,39.894832611083984,5.128193378448486,39.8731689453125,44.784610748291016,4.382071018218994,44.43252182006836,-43.00139617919922,-14.450892448425293,33.96609115600586,15.282072067260742,-43.10047912597656,15.711126327514648,12.565011024475098,39.647857666015625,44.36760330200195,39.87621307373047,-13.50645923614502,-42.904144287109375,13.81441879272461,39.70866394042969,-31.021547317504883,-47.39040756225586,15.06533145904541,1.5751523971557617,39.7501220703125,44.78150939941406,39.48128128051758,34.060791015625,15.16043758392334,13.75076675415039,37.891868591308594,-14.5279541015625,39.387046813964844,16.229284286499023,43.711387634277344,39.33525085449219,44.29254150390625,39.22105407714844,-1.7143977880477905,43.5671272277832,44.38562774658203,-50.413753509521484,-45.72321319580078,-43.39877700805664,39.07862854003906,14.002612113952637,-2.631134033203125,14.240833282470703,-15.000173568725586,-3.357517719268799,-42.94218063354492,-14.168853759765625,42.761051177978516,38.92960739135742,44.561729431152344,-41.94705581665039,38.86037063598633,-15.603468894958496,43.75402069091797,45.101593017578125,2.2891945838928223,42.81953430175781,-14.67586612701416,39.019989013671875,10.438283920288086,38.613372802734375,42.958282470703125,-18.037853240966797,38.171573638916016,43.5871467590332,10.5892333984375,39.026912689208984,-46.81629943847656,-42.13310241699219,-1.0142722129821777,42.612972259521484,42.384742736816406,-12.305606842041016,43.98936080932617,10.008774757385254,38.1204948425293,38.35091018676758,-23.551664352416992,-46.66294479370117,10.394350051879883,38.50258255004883,42.21700668334961,-8.881509780883789,33.094818115234375,38.336273193359375,43.64116668701172,-30.804000854492188,32.749794006347656,37.59960174560547,-42.407798767089844,43.05242156982422,43.51463317871094,14.817044258117676,15.72406005859375,11.770185470581055,-32.593170166015625,32.55264663696289,42.00905227661133,10.772514343261719,-47.49706268310547,-32.668113708496094,-17.24802589416504,-23.651811599731445,32.832305908203125,45.00967025756836,-8.72543716430664,41.79916763305664,-20.352436065673828,-3.082000970840454,-47.462432861328125,36.837677001953125,14.931078910827637,43.19330596923828,36.65073776245117,-32.80182647705078,-31.254484176635742,-14.558390617370605,36.502830505371094,41.43805694580078,-44.47880554199219,-10.158635139465332,11.868523597717285,32.615753173828125,-14.859238624572754,42.763614654541016,3.663020133972168,43.32292938232422,32.32748794555664,44.07063293457031,3.1719396114349365,41.99903869628906,10.026094436645508,-7.332046985626221,-23.108230590820312,-21.979217529296875,-49.32951354980469,-22.096050262451172,-25.068132400512695,14.757528305053711,35.54090118408203,40.703468322753906,35.606685638427734,10.688211441040039,35.314510345458984,4.821246147155762,14.710488319396973,-2.394686222076416,2.158538341522217,35.47421646118164,-24.833404541015625,2.7744174003601074,40.896915435791016,40.82057571411133,35.37821960449219,43.16020965576172,13.43290901184082,10.583516120910645,-42.69735336303711,-50.919063568115234,-50.251991271972656,-44.76582717895508,34.59477233886719,40.791709899902344,35.01826477050781,41.135101318359375,11.873400688171387,34.82701110839844,-1.4604791402816772,15.348908424377441,40.41635513305664,34.77936553955078,-3.2527101039886475,-2.7151682376861572,3.481846809387207,-42.06430435180664,-48.01324462890625,14.305116653442383,-47.39973449707031,-32.032554626464844,40.155731201171875,2.933060884475708,14.700675010681152,3.415558099746704,-15.07262134552002,-7.177972793579102,-2.6203391551971436,33.98858642578125,39.52189636230469,-12.699593544006348,-40.31874465942383,32.10042953491211,40.2666015625,33.763427734375,33.9200553894043,40.085514068603516,40.305912017822266,-13.374895095825195,-4.561079978942871,39.43367385864258,-47.02140426635742,-53.1705207824707,3.9058144092559814,33.43967819213867,-43.767372131347656,-16.64185905456543,-30.851804733276367,33.05815887451172,39.478694915771484,33.31553649902344,-3.44520902633667,31.800174713134766,33.16162109375,32.90590286254883,32.82401657104492,32.806514739990234,39.21445846557617,39.088863372802734,31.871124267578125,39.44718933105469,32.73024368286133,-14.972190856933594,-44.91359329223633,39.536251068115234,4.454775333404541,38.8680419921875,-2.434945583343506,39.601009368896484,32.89102554321289,13.795964241027832,8.21539306640625,32.801849365234375,-21.9311580657959,38.80165481567383,31.693552017211914,39.55070877075195,31.731775283813477,32.67566680908203,38.68809127807617,-21.13047981262207,38.50463104248047,0.42362141609191895,32.401512145996094,41.83172607421875,-28.309560775756836,-1.230209231376648,32.35038375854492,14.455839157104492,11.4490966796875,9.19781494140625,31.674196243286133,-4.973804950714111,31.284378051757812,32.199615478515625,-31.841705322265625,39.111000061035156,-41.46559143066406,10.4269380569458,-44.312255859375,38.51160430908203,38.51926803588867,-40.84741973876953,-42.64741897583008,38.269493103027344,5.584963321685791,-47.64802932739258,-3.0922365188598633,10.649959564208984,-42.09962844848633,-48.53545379638672,10.110413551330566,38.67593002319336,31.544218063354492,38.65557098388672,-15.712054252624512,31.628625869750977,31.965070724487305,-12.557307243347168,-7.967416286468506,30.63924789428711,-8.346220970153809,31.326642990112305,31.678417205810547,38.39854431152344,38.617767333984375,15.081154823303223,-13.027347564697266,37.916259765625,14.107364654541016,41.774269104003906,-31.845495223999023,31.400653839111328,38.34686279296875,-3.695629358291626,31.094011306762695,-46.502349853515625,2.861976385116577,9.791019439697266,-6.194830894470215,9.58342170715332,-41.18041229248047,9.606517791748047,30.659391403198242,11.458221435546875,30.704490661621094,-5.259668350219727,30.605314254760742,37.56483840942383,9.783210754394531,9.295492172241211,30.293283462524414,30.20348358154297,30.109880447387695,10.473793983459473,14.037409782409668,1.7471598386764526,-6.425093173980713,-11.414277076721191,37.08498001098633,-45.0401611328125,30.140859603881836,9.248018264770508,-11.595270156860352,-30.53579330444336,38.80060958862305,-11.936600685119629,-51.334617614746094,9.581236839294434,-31.35552406311035,37.06951904296875,-25.139450073242188,29.942869186401367,2.1175520420074463,-49.409244537353516,-4.861690044403076,-32.25827407836914,37.58087921142578,-6.689424991607666,-19.15843963623047,-44.67654037475586,37.50271224975586,29.694684982299805,13.699228286743164,37.509559631347656,29.04827117919922,29.656055450439453,15.03715705871582,-45.958045959472656,-41.20075607299805,35.784027099609375,37.17304229736328,-3.183823585510254,-8.387203216552734,9.503721237182617,28.449384689331055,-7.650600433349609,29.43042755126953,2.178929090499878,28.381359100341797,28.23348045349121,36.46893310546875,-33.19062805175781,-49.952308654785156,-21.1553897857666,28.830371856689453,36.022117614746094,-24.15346908569336,-24.104591369628906,37.210060119628906,-26.76998519897461,37.13395309448242,-43.79401779174805,-6.2276225090026855,36.201351165771484,-3.810014486312866,-22.68929100036621,-41.074005126953125,-6.099767684936523,28.990488052368164,36.98297119140625,-20.61836051940918,28.932762145996094,-6.749633312225342,-1.8780746459960938,36.90596008300781,-44.7017707824707,28.403587341308594,-44.79391860961914,28.560049057006836,35.69219970703125,-42.01551818847656,36.82897186279297,3.163374900817871,28.76555824279785,8.456371307373047,-49.25390625,26.930767059326172,-1.6387592554092407,-12.393180847167969,-31.11174201965332,10.597294807434082,-45.375308990478516,26.753198623657227,34.649169921875,10.453216552734375,36.72238540649414,-13.89673137664795,-41.228515625,9.642779350280762,28.381572723388672,-0.34313899278640747,12.773921012878418,26.363006591796875,27.168506622314453,26.36669921875,36.52193069458008,-32.535118103027344,-7.11120080947876,-0.5256251096725464,-4.5375590324401855,-12.891990661621094,14.213531494140625,26.649463653564453,-49.14060974121094,-13.699145317077637,26.836063385009766,-50.8615608215332,13.687752723693848,-12.099616050720215,35.065895080566406,26.096343994140625,34.39813995361328,-3.5345652103424072,-5.118967533111572,26.958585739135742,13.639654159545898,2.0244040489196777,28.37392807006836,10.657624244689941,-8.571162223815918,34.682857513427734,28.300025939941406,-14.84965705871582,26.321168899536133,-45.34812927246094,-50.986083984375,25.111948013305664,-15.339727401733398,-52.47566223144531,-40.69942855834961,25.30942726135254,26.995149612426758,-9.114738464355469,23.645206451416016,36.24248123168945,24.90543556213379,-52.72289276123047,10.737239837646484,15.029199600219727,-8.021367073059082,-51.74525833129883,26.408950805664062,23.733375549316406,-44.569969177246094,-2.2074191570281982,6.448375225067139,8.924629211425781,-1.0529391765594482,25.240753173828125,24.272245407104492,-11.647339820861816,28.59337615966797,33.75390625,-17.212263107299805,35.98033142089844,33.66389846801758,5.577833652496338,36.0476188659668,-6.30782413482666,5.378032684326172,28.074304580688477,34.98577117919922,14.565646171569824,22.956100463867188,33.4161262512207,-41.40312194824219,34.07811737060547,14.220538139343262,-20.97769546508789,25.854799270629883,26.86547088623047,26.740983963012695,-45.315757751464844,11.194585800170898,26.38372802734375,24.568099975585938,10.393767356872559,-45.031494140625,33.50908279418945,24.11068344116211,-4.298636436462402,-48.458553314208984,-13.532857894897461,36.67041015625,-9.78085708618164,-29.39955711364746,10.62314510345459,-30.710330963134766,-11.418292045593262,22.35249900817871,26.790443420410156,-32.87876510620117,33.55768585205078,10.329896926879883,22.95741844177246,22.95859146118164,22.182802200317383,33.02592086791992,33.10965347290039,22.327613830566406,-32.34590148925781,-45.96146774291992,1.2934069633483887,23.282472610473633,-40.5099983215332,33.37106704711914,33.26325988769531,21.704492568969727,-7.096585273742676,14.922972679138184,-9.845612525939941,33.65951919555664,-5.952553749084473,22.515039443969727,22.2187557220459,0.6324471831321716,33.00840759277344,27.677457809448242,-50.38072967529297,-4.026554584503174,-32.01280975341797,-32.52567672729492,35.27355194091797,22.57248306274414,-31.43181037902832,8.131248474121094,-23.419279098510742,-8.11571216583252,-32.06353759765625,1.9558416604995728,-6.911251544952393,21.536773681640625,33.28959655761719,32.865482330322266,32.543243408203125,32.56047058105469,-10.084043502807617,-29.004417419433594,21.116180419921875,5.665785312652588,3.015368938446045,12.612597465515137,20.774030685424805,8.18730640411377,12.73805046081543,-24.840913772583008,21.13787841796875,-11.131441116333008,-19.617733001708984,21.0418701171875,3.2667288780212402,-10.372180938720703,26.14630889892578,20.72538185119629,4.894416332244873,2.961817741394043,20.265546798706055,9.31021785736084,20.72593879699707,25.72708511352539,-24.135700225830078,8.109715461730957,24.233619689941406,20.647241592407227,-29.370460510253906,-49.78367233276367,-47.59953689575195,19.719547271728516,20.351688385009766,4.212335109710693,-2.897488832473755,7.649927139282227,-4.175979137420654,-24.33428382873535,20.24678611755371,20.123722076416016,11.29333782196045,13.678083419799805,31.91869354248047,-4.512935638427734,-16.53003692626953,34.085205078125,20.21721076965332,-2.6010828018188477,3.4356799125671387,-23.489675521850586,32.04204559326172,-16.41417121887207,-3.448387622833252,2.6712257862091064,10.4839506149292,8.10767650604248,30.917970657348633,19.652223587036133,-5.796680450439453,-21.290287017822266,19.727121353149414,9.20118522644043,31.536523818969727,19.470369338989258,25.555496215820312,19.757244110107422,-15.886338233947754,31.167354583740234,-21.025514602661133,-48.49482727050781,-51.30387878417969,26.22684669494629,3.2439968585968018,19.368820190429688,-49.51693344116211,-44.37797164916992,-5.41453218460083,19.158536911010742,-23.031789779663086,7.567259788513184,30.822587966918945,-12.449588775634766,-16.833419799804688,-4.158315658569336,-5.378339767456055,18.659299850463867,-25.139751434326172,7.471853256225586,27.09210205078125,18.521995544433594,18.66816520690918,19.324357986450195,18.56882095336914,18.52831268310547,7.307901382446289,-29.403711318969727,25.405376434326172,18.77367401123047,4.058922290802002,18.476268768310547,-33.010379791259766,-25.380088806152344,30.372102737426758,3.435535192489624,24.64413070678711,18.0355167388916,30.094161987304688,29.5391788482666,-8.05463695526123,-46.266639709472656,24.7669677734375,-17.358400344848633,18.512386322021484,12.395804405212402,30.29682731628418,1.3180311918258667,-49.11921310424805,-10.040704727172852,7.286740779876709,-4.6215057373046875,-51.3935546875,-27.34958839416504,29.19722557067871,-8.508447647094727,6.190929889678955,-19.174083709716797,29.865264892578125,-5.740270137786865,-49.56909942626953,-17.59002685546875,17.7646541595459,18.19004249572754,10.068148612976074,-48.77395248413086,-19.202817916870117,28.950130462646484,-8.875606536865234,13.302490234375,-9.962233543395996,-21.647974014282227,9.182891845703125,29.996984481811523,8.750714302062988,28.034990310668945,17.553787231445312,-4.560144901275635,-16.402507781982422,9.029722213745117,28.597475051879883,-8.495820045471191,-46.90524673461914,-7.120213508605957,-7.537158489227295,18.269878387451172,14.307707786560059,28.47445297241211,-33.69477081298828,12.650026321411133,14.966827392578125,12.273510932922363,5.334343910217285,-26.707550048828125,-18.985759735107422,7.633358478546143,-18.926753997802734,-51.64177322387695,28.3468017578125,9.019291877746582,-8.10795783996582,26.16042137145996,-18.46567726135254,-16.335140228271484,-15.354825973510742,24.398094177246094,3.3660287857055664,-32.34334945678711,28.003971099853516,3.8662941455841064,-47.39604949951172,6.003180027008057,-43.91615676879883,28.067981719970703,-49.766746520996094,-30.76715850830078,-21.672182083129883,29.048410415649414,13.557523727416992,9.371253967285156,8.300230979919434,-7.628528594970703,7.6100850105285645,27.682796478271484,19.196178436279297,-32.75313186645508,28.171098709106445,6.648095607757568,6.847092628479004,-8.559345245361328,6.828737258911133,13.93123722076416,15.091261863708496,-32.72795104980469,25.833189010620117,14.655665397644043,-17.263057708740234,27.24641227722168,-32.47162628173828,7.497274398803711,13.131508827209473,24.49939727783203,-25.38703155517578,-10.429271697998047,-20.41812515258789,7.830150127410889,-47.640464782714844,12.315754890441895,-19.160171508789062,8.30495834350586,25.990869522094727,13.344042778015137,18.052326202392578,12.473274230957031,12.294626235961914,27.482711791992188,-3.6218502521514893,27.68562126159668,7.895685195922852,-42.21918487548828,18.8663387298584,-43.35964584350586,28.073604583740234,-2.3261749744415283,-20.274049758911133,-53.019073486328125,13.208732604980469,-4.267361164093018,2.7491636276245117,27.64613151550293,-49.362701416015625,-23.392967224121094,13.407811164855957,-47.832374572753906,-32.05589294433594,12.848451614379883,-24.2607364654541,12.674539566040039,13.070000648498535,5.010311603546143,27.40019416809082,6.09242582321167,-19.00025177001953,20.946365356445312,-26.9602108001709,-22.833696365356445,-48.80379104614258,-22.360675811767578,-8.005823135375977,18.257036209106445,5.056068420410156,13.534042358398438,-6.323398590087891,-48.44735336303711,26.156444549560547,8.208213806152344,1.7869449853897095,26.740211486816406,7.35054874420166,12.289337158203125,20.813325881958008,24.151655197143555,-29.45867919921875,-44.03563690185547,25.86004638671875,-19.855714797973633,8.16980266571045,-1.7715446949005127,5.878058433532715,9.790797233581543,6.0906267166137695,20.32666015625,27.347896575927734,-33.665855407714844,11.678792953491211,24.13614273071289,11.421109199523926,6.586717128753662,26.837207794189453,-1.8576931953430176,-20.631027221679688,-48.515567779541016,-30.958894729614258,13.094582557678223,24.743196487426758,-9.092192649841309,22.043338775634766,-44.78476333618164,12.92081069946289,-5.004067897796631,-44.60304641723633,2.4605021476745605,-29.3848876953125,11.156075477600098,-24.336244583129883,18.05409049987793,-32.274986267089844,-20.38768196105957,9.036237716674805,-27.466341018676758,-9.055357933044434,11.461797714233398,24.134130477905273,-21.092689514160156,-25.114458084106445,2.9278247356414795,-49.206607818603516,-48.15363311767578,11.61954116821289,10.992193222045898,27.495548248291016,12.51179313659668,9.902643203735352,6.123318195343018,-9.029707908630371,-17.854278564453125,13.377933502197266,-19.17702293395996,14.370782852172852,12.61275577545166,25.09194564819336,12.90396499633789,10.792824745178223,14.703110694885254,-32.69826889038086,-53.08366775512695,22.576831817626953,-19.235763549804688,10.213519096374512,20.590368270874023,-29.104915618896484,12.825969696044922,12.75035285949707,11.28300666809082,-8.867020606994629,24.571352005004883,0.8570603132247925,-16.973081588745117,6.836295127868652,-20.791645050048828,23.937692642211914,2.218048095703125,13.521917343139648,0.9392603635787964,23.507537841796875,-11.332734107971191,10.419007301330566,-18.775047302246094,-19.10173988342285,24.739635467529297,-8.353808403015137,-47.68513870239258,-27.8206844329834,-49.2988395690918,-4.870510101318359,-44.59650802612305,-28.827037811279297,9.965636253356934,19.368877410888672,-30.40842628479004,20.002531051635742,10.354912757873535,-2.682330369949341,-33.43559646606445,-18.806177139282227,19.260089874267578,-5.755822658538818,11.666975021362305,-49.65669631958008,25.35914421081543,-47.52496337890625,1.1207941770553589,-9.777793884277344,-6.916276931762695,14.834283828735352,-4.759462833404541,24.767868041992188,18.117572784423828,-52.040348052978516,14.369994163513184,-48.817508697509766,-28.566862106323242,-6.576476097106934,-20.075719833374023,3.40907621383667,22.553571701049805,17.881725311279297,-51.91859436035156,10.305136680603027,18.67657470703125,9.392160415649414,5.223524570465088,-23.174875259399414,-11.78685188293457,22.402725219726562,27.8143310546875,-31.096437454223633,-16.51464080810547,18.298843383789062,8.481782913208008,9.72799301147461,24.307958602905273,19.553939819335938,-19.273880004882812,18.0244083404541,-14.270015716552734,-52.130462646484375,-12.910632133483887,-49.16423034667969,0.8145855665206909,6.681212425231934,18.216299057006836,-44.7066535949707,-3.1701862812042236,-12.678282737731934,18.78139305114746,-8.71218490600586,9.597911834716797,-7.033262252807617,-26.546058654785156,-31.222862243652344,-34.3543815612793,-1.0760780572891235,5.362270832061768,9.105677604675293,21.382665634155273,-44.66272735595703,9.043179512023926,8.319462776184082,9.888711929321289,-5.854657173156738,14.480761528015137,-16.947561264038086,17.50930404663086,8.688057899475098,-46.51378631591797,7.463172435760498,7.95693826675415,25.28147315979004,-44.75452423095703,-22.11297035217285,-25.76612091064453,22.74891471862793,-49.520694732666016,-17.74299430847168,-5.686779022216797,1.9988216161727905,18.485427856445312,6.436856269836426,7.416358470916748,1.5243353843688965,6.8233137130737305,-29.041900634765625,-21.25958824157715,-23.776077270507812,-12.858651161193848,-20.556900024414062,-11.52614974975586,-44.05913162231445,5.527738094329834,12.009014129638672,23.647350311279297,3.5188095569610596,1.5422307252883911,-43.742610931396484,2.5284368991851807,-10.731904983520508,-29.265459060668945,-32.07640838623047,-16.967737197875977,7.499677658081055,5.674023151397705,22.98775291442871,4.779845237731934,7.8061347007751465,5.0666985511779785,-42.588592529296875,-8.786090850830078,7.230569839477539,25.261201858520508,7.547603607177734,24.581371307373047,6.416433334350586,-21.142274856567383,7.929685115814209,17.57183265686035,6.833149433135986,-12.525152206420898,5.730953693389893,1.0693436861038208,-30.410377502441406,23.107423782348633,8.080119132995605,-21.296781539916992,-46.39445495605469,12.523573875427246,2.3493199348449707,6.877935409545898,-11.437809944152832,-46.813743591308594,18.06999397277832,19.33565902709961,23.342695236206055,-4.160221099853516,-30.703039169311523,-30.169078826904297,-47.07020568847656,-25.390159606933594,5.822702407836914,-16.448759078979492,-32.34046936035156,2.2598345279693604,6.273643493652344,7.712878704071045,3.1525771617889404,-1.8664894104003906,-20.541175842285156,7.662536144256592,6.345181941986084,7.320669651031494,1.6159783601760864,-2.051424980163574,-21.953630447387695,19.204978942871094,-20.73888397216797,-0.1921185404062271,6.763762474060059,-31.328676223754883,-13.169534683227539,6.8541646003723145,-30.574981689453125,-46.46814727783203,-46.32654571533203,-44.77839279174805,2.8048436641693115,3.9758872985839844,0.7677843570709229,-4.093282222747803,-49.89351272583008,-46.375240325927734,3.1270806789398193,10.911437034606934,2.2150914669036865,-50.610504150390625,-24.661907196044922,4.337465286254883,25.046449661254883,-0.3289463222026825,-5.957647323608398,16.96393585205078,7.23007345199585,7.98699951171875,25.486284255981445,2.4628260135650635,3.9200973510742188,5.668763637542725,-24.273479461669922,18.70572853088379,22.84548568725586,-2.0604846477508545,-15.1224365234375,8.712522506713867,5.661550045013428,-5.7050909996032715,0.8357712030410767,14.229708671569824,-51.3828239440918,-52.44241714477539,-31.248985290527344,18.282258987426758,-14.060559272766113,-18.56698989868164,2.613273859024048,18.658769607543945,-51.21767807006836,24.76561164855957,5.218763828277588,-20.432161331176758,-49.275394439697266,-45.397457122802734,5.6724934577941895,-10.179039001464844,-50.77266311645508,5.3811869621276855,-4.14375114440918,0.25196290016174316,-35.97529983520508,-2.5208163261413574,1.2628161907196045,-28.390104293823242,-50.41456985473633,-26.6265926361084,-17.007320404052734,-1.2474536895751953,-6.720719337463379,-1.85298752784729,23.643341064453125,23.08314323425293,22.109359741210938,1.969799518585205,5.365512371063232,-17.39124298095703,23.53859519958496,-28.460412979125977,-32.712833404541016,5.272699356079102,-43.364410400390625,9.302459716796875,-51.490570068359375,7.493906497955322,-49.83673858642578,9.848191261291504,12.347864151000977,-46.45706558227539,6.39391565322876,24.482023239135742,0.46835240721702576,-50.136962890625,-16.486785888671875,22.922231674194336,-12.292677879333496,-30.769611358642578,24.951997756958008,-22.79692840576172,14.050042152404785,-47.87571334838867,-12.578372955322266,-50.426185607910156,-14.400497436523438,0.38093632459640503,5.696578502655029,-50.12175369262695,-31.913564682006836,24.71590232849121,6.405542850494385,-1.09605073928833,17.739343643188477,-2.9583609104156494,-33.76650619506836,22.371862411499023,24.677215576171875,-50.359107971191406,-50.91423797607422,-34.79330825805664,23.658573150634766,11.07971477508545,2.6809170246124268,8.07190227508545,0.20503516495227814,-30.603591918945312,-19.27663230895996,4.551492214202881,12.47153377532959,-21.145662307739258,7.930051326751709,-27.928245544433594,-64.35469055175781,-25.714250564575195,-40.90752029418945,-8.506648063659668,-35.89369201660156,7.031752586364746,2.359049081802368,-13.465396881103516,1.2220345735549927,9.539617538452148,2.36899733543396,24.436050415039062,12.882429122924805,10.919693946838379,-13.221017837524414,2.5106983184814453,-20.592933654785156,-2.5347678661346436,0.8520475625991821,-1.2871278524398804,-3.2884721755981445,-13.899519920349121,7.371510982513428,2.442046880722046,22.64716339111328,-50.04605484008789,3.1270360946655273,3.466647148132324,-47.55204391479492,-20.78116226196289,4.0857672691345215,-24.856597900390625,0.5652035474777222,21.312097549438477,-12.30856704711914,-19.37393569946289,3.39453125,-41.72159957885742,-16.84930419921875,2.4863548278808594,23.180076599121094,14.617681503295898,-47.88349914550781,-47.39072036743164,-42.25056076049805,5.861026287078857,3.5728399753570557,-31.69723129272461,4.142069339752197,-2.5041918754577637,-3.7371137142181396,25.024066925048828,-1.811545491218567,-1.5697280168533325,-22.16649055480957,5.539276599884033,-24.467660903930664,0.5281481146812439,-1.267388939857483,0.5413374900817871,6.038403034210205,-12.648028373718262,-6.05820894241333,2.4371337890625,-6.190722465515137,11.449280738830566,-24.540447235107422,4.498226642608643,23.343063354492188,3.137089490890503,22.261940002441406,-1.9184762239456177,-2.140946865081787,-21.117277145385742,2.719719886779785,2.0245931148529053,4.967738151550293,14.147588729858398,-27.54718780517578,-20.298423767089844,-50.86591720581055,0.23965959250926971,4.36082124710083,-16.05803108215332,1.034130334854126,4.625360488891602,6.742180347442627,5.293272495269775,3.6217000484466553,25.327369689941406,22.869403839111328,-14.770347595214844,-29.55576515197754,-34.8354377746582,3.6055469512939453,0.23895509541034698,3.5152297019958496,-45.46074295043945,-0.2962798774242401,21.878341674804688,-13.824474334716797,-28.802921295166016,-30.952281951904297,-50.98908615112305,-15.33178424835205,-32.989864349365234,3.432900905609131,-28.758268356323242,0.5842373371124268,-62.756446838378906,-51.78886795043945,-17.419418334960938,-30.50724220275879,0.9605973958969116,-4.897757530212402,-27.96828842163086,-35.07487487792969,24.120895385742188,1.364713430404663,4.718990802764893,14.525936126708984,1.778007984161377,4.583659648895264,11.56272029876709,-21.806894302368164,6.025613307952881,4.142307758331299,-8.47788143157959,-0.324798047542572,-28.075754165649414,2.3212673664093018,14.550283432006836,-2.5568273067474365,-29.10011100769043,5.06601619720459,-45.54256820678711,20.779239654541016,0.6700299978256226,-1.751767635345459,13.607419967651367,4.422720432281494,-43.4443473815918,-0.23189407587051392,-22.950998306274414,1.3258764743804932,-0.08335098624229431,23.94656753540039,0.3332328498363495,1.2557936906814575,-19.086381912231445,0.5496692061424255,14.75384521484375,-0.011157800443470478,2.2524824142456055,13.019699096679688,13.549399375915527,-21.46393585205078,0.2368011772632599,13.599773406982422,-3.3197133541107178,22.337665557861328,20.539854049682617,-3.8235156536102295,22.30095100402832,5.603002071380615,1.7690825462341309,11.803276062011719,-48.192386627197266,-2.7126903533935547,0.7188032269477844,14.633668899536133,4.689808368682861,14.251199722290039,-10.344108581542969,-34.22210693359375,1.9033645391464233,-46.3057861328125,-6.9316487312316895,-26.457658767700195,21.370441436767578,11.907184600830078,-35.89155578613281,2.4030909538269043,-23.976116180419922,-13.480438232421875,0.316083699464798,4.30648946762085,-30.923463821411133,1.996909737586975,-52.197261810302734,1.8636460304260254,2.216594696044922,-45.53868865966797,-21.702741622924805,-51.668460845947266,3.009857416152954,-31.579641342163086,-18.860614776611328,1.493716835975647,3.0674691200256348,-0.3499824106693268,-28.143381118774414,6.399413108825684,11.469446182250977,13.777165412902832,-15.252999305725098,-24.536731719970703,-52.56708908081055,-40.60396957397461,-24.6424503326416,1.0004767179489136,5.908590793609619,5.890382766723633,2.397953748703003,2.9510369300842285,-0.9799525141716003,-25.522541046142578,-47.49351501464844,1.8995575904846191,-36.108699798583984,11.097822189331055,2.225811719894409,21.060522079467773,-32.496612548828125,-47.04301452636719,4.82567024230957,11.152715682983398,11.707624435424805,-24.171146392822266,-35.96543884277344,-42.2579460144043,23.315229415893555,-22.87540054321289,4.725439548492432,-0.47902780771255493,22.109878540039062,14.67172908782959,3.4771335124969482,-20.494216918945312,-33.72810363769531,-34.05015563964844,-33.717891693115234,-29.9461612701416,-2.295457124710083,23.30303192138672,-31.139638900756836,19.640426635742188,1.0318702459335327,-12.873091697692871,1.5804158449172974,2.240598201751709,-13.173044204711914,-22.811809539794922,-50.24982452392578,21.119152069091797,-18.913511276245117,21.552644729614258,-2.2208189964294434,-2.2180778980255127,-40.8066291809082,-25.23226547241211,-32.04905700683594,-12.257464408874512,12.430947303771973,0.5611938238143921,-34.39589309692383,-12.03772258758545,-24.416704177856445,-13.077341079711914,11.513657569885254,12.652655601501465,10.335712432861328,-7.702589511871338,14.42037296295166,-26.321245193481445,2.6945531368255615,-63.70741653442383,-46.86685562133789,9.6434907913208,-25.145414352416992,-13.76186752319336,-11.820558547973633,-22.954734802246094,19.48069190979004,-20.174400329589844,-37.82746505737305,-24.633106231689453,-57.387996673583984,8.976221084594727,21.350601196289062,-39.38014602661133,-24.633508682250977,-40.743995666503906,-3.79349684715271,-30.081846237182617,-6.544352054595947,-0.15190766751766205,-35.16441345214844,-7.202390670776367,-7.49899435043335,2.9267044067382812,-58.2805061340332,-26.130054473876953,-3.186008930206299,-49.34272003173828,9.1444673538208,2.528639316558838,5.7809014320373535,-4.198732852935791,6.20418119430542,5.2349395751953125,-17.75414276123047,-29.674970626831055,23.1025447845459,9.792123794555664,2.4066503047943115,-32.868186950683594,5.602763652801514,11.336556434631348,12.560518264770508,-16.381999969482422,-22.28664779663086,2.441584825515747,15.935018539428711,2.423558473587036,-47.43811798095703,-35.26752471923828,2.5024354457855225,-8.630261421203613,19.08321762084961,0.7786111235618591,15.502341270446777,2.0770843029022217,3.230116128921509,20.43914794921875,19.415868759155273,-29.083463668823242,-64.83673095703125,-24.09365463256836,-36.45321273803711,-26.26479721069336,2.0249404907226562,-0.45039376616477966,4.597969055175781,21.336774826049805,2.963434934616089,-2.7835745811462402,-1.094574213027954,3.627403497695923,-12.835612297058105,12.246591567993164,-20.706562042236328,-21.427814483642578,-13.095093727111816,-57.207733154296875,-40.367462158203125,2.7320172786712646,-29.75159454345703,9.492490768432617,-2.31626558303833,-0.5581621527671814,6.91585111618042,21.153152465820312,-17.31261444091797,-25.095727920532227,-18.71202850341797,-32.74436569213867,19.089994430541992,-63.722808837890625,11.263665199279785,-47.374691009521484,-25.124507904052734,16.582563400268555,-21.018545150756836,-25.788557052612305,23.135711669921875,-12.841935157775879,-8.267485618591309,10.041927337646484,-33.625457763671875,9.93618392944336,-1.1999787092208862,-62.579627990722656,6.439452648162842,-19.804607391357422,23.076921463012695,23.95937156677246,-3.028588056564331,2.702533006668091,10.568194389343262,2.9195005893707275,-19.366365432739258,16.800872802734375,16.176618576049805,-40.4712028503418,-62.8604850769043,-30.46075439453125,-22.267091751098633,16.56372833251953,3.0994322299957275,-20.485761642456055,-29.21306800842285,-0.6540377140045166,-1.3671883344650269,3.6416678428649902,-10.847895622253418,-0.814386248588562,17.875354766845703,-28.901628494262695,2.8626816272735596,-3.074733257293701,-0.5368489623069763,-29.673961639404297,-57.82084274291992,-7.011066913604736,17.867431640625,-0.12569940090179443,-1.6959296464920044,-55.99116134643555,-39.410884857177734,4.8692545890808105,-57.98354721069336,-26.883464813232422,-22.68769645690918,6.390206336975098,23.061086654663086,4.376579284667969,3.093580484390259,15.567728042602539,-56.556026458740234,16.56309700012207,-12.038994789123535,19.56074333190918,23.01036834716797,4.556549072265625,-30.24359130859375,-40.19348907470703,2.858933687210083,-1.1650737524032593,-58.68750762939453,17.21052360534668,3.855088949203491,-2.9096434116363525,-57.99879455566406,-19.647937774658203,3.0570223331451416,5.798176288604736,16.574220657348633,-13.580211639404297,-20.106111526489258,14.421483039855957,-12.255654335021973,8.6276273727417,23.0920352935791,13.65595531463623,7.355325222015381,-23.731321334838867,-55.47154998779297,3.13637113571167,-8.900400161743164,6.3580498695373535,18.045547485351562,-8.686388969421387,8.284428596496582,-55.06559371948242,-21.959407806396484,-1.7251750230789185,16.479928970336914,11.362231254577637,2.9878292083740234,-0.12427236884832382,4.03884744644165,19.638219833374023,3.473702907562256,12.31070327758789,8.08113956451416,16.63035774230957,-36.181522369384766,17.100290298461914,11.634902000427246,-1.3636935949325562,-57.83076095581055,10.338929176330566,-25.092864990234375,23.0321044921875,-0.16032154858112335,10.690095901489258,-9.154685020446777,5.932718276977539,-8.500521659851074,24.6422176361084,1.1041460037231445,3.3869616985321045,16.643083572387695,-25.72468376159668,15.879839897155762,-21.749385833740234,-13.686291694641113,-9.420106887817383,-33.05506134033203,-28.465139389038086,9.189960479736328,-29.439525604248047,-9.228744506835938,-1.764622688293457,19.93074607849121,-55.14424514770508,1.0399750471115112,-18.211631774902344,18.13288688659668,9.900113105773926,4.204528331756592,-3.1118321418762207,-22.9205322265625,-49.86037063598633,-27.108110427856445,11.81467342376709,-39.1068000793457,5.6439008712768555,-13.291929244995117,16.655149459838867,5.17039680480957,-1.3134093284606934,4.039031505584717,-59.939208984375,-12.080416679382324,18.09108543395996,-11.270265579223633,-13.343277931213379,-27.17209815979004,-19.264314651489258,-21.73777198791504,10.352880477905273,12.500530242919922,-56.244911193847656,-35.32798767089844,-2.2718143463134766,-36.76758575439453,3.0611939430236816,-34.43053436279297,-25.113536834716797,-25.92189598083496,-3.6218035221099854,18.245689392089844,11.691102981567383,5.87133264541626,20.259695053100586,-7.936285495758057,-8.982210159301758,20.850204467773438,-12.236653327941895,20.17509651184082,4.860240459442139,14.127059936523438,6.524043083190918,21.1291446685791,17.372024536132812,-49.45404815673828,-56.15304946899414,-34.599979400634766,-33.49827575683594,-55.722679138183594,43.8841667175293,11.164267539978027,-12.101380348205566,-1.527436375617981,6.49437952041626,-39.0336799621582,42.13887405395508,-14.407456398010254,41.72441864013672,-16.137317657470703,-65.1180648803711,-31.10100746154785,-1.95185387134552,-58.18906784057617,-20.992441177368164,24.389867782592773,-15.270407676696777,12.08646297454834,14.002333641052246,-3.368290424346924,14.382607460021973,-6.909491062164307,44.27946853637695,17.8419132232666,43.14838409423828,-3.5202088356018066,6.387048721313477,20.718494415283203,1.2036659717559814,17.309223175048828,-17.690185546875,23.290382385253906,-50.06910705566406,14.820151329040527,-33.94969940185547,19.904382705688477,-29.59054946899414,43.7176513671875,-29.5484619140625,-25.289987564086914,-57.8949089050293,13.898409843444824,21.674331665039062,22.585844039916992,43.25425720214844,18.8836612701416,-19.67769432067871,-58.39366912841797,13.748501777648926,-12.23579216003418,-32.49790954589844,-29.982189178466797,42.52280044555664,21.620731353759766,-23.437097549438477,45.25228500366211,43.660980224609375,22.305524826049805,-20.58016014099121,22.702495574951172,22.740324020385742,43.609962463378906,14.539549827575684,21.058332443237305,-31.95198631286621,-49.926692962646484,-33.24180221557617,-14.98022747039795,19.878543853759766,-1.9636584520339966,43.412841796875,43.094703674316406,14.138359069824219,-29.67560577392578,15.739662170410156,19.56032943725586,-5.609681606292725,15.379834175109863,43.82768249511719,-34.14547348022461,-25.69867706298828,-63.32734680175781,43.00740432739258,-4.442796230316162,6.45963716506958,-6.627266883850098,-22.087207794189453,-22.953250885009766,-12.555961608886719,46.041507720947266,45.77155303955078,-12.921670913696289,20.558372497558594,-47.94369125366211,3.044872999191284,14.396403312683105,1.1973990201950073,-29.910795211791992,6.305515766143799,16.70615577697754,-29.746341705322266,-46.58724594116211,-56.63716506958008,-12.475563049316406,45.72139358520508,3.095923662185669,-63.311832427978516,13.398072242736816,43.621360778808594,15.504015922546387,13.092473983764648,-59.02949905395508,-28.837533950805664,46.34343338012695,1.7366596460342407,-38.98371124267578,-17.657062530517578,40.270206451416016,-31.4089412689209,-30.52374267578125,-55.80506134033203,-62.404090881347656,-14.712126731872559,-32.280582427978516,45.36052703857422,-6.377355098724365,-6.837551116943359,-46.79457473754883,-5.9691081047058105,43.358177185058594,-32.002777099609375,5.1355299949646,20.781391143798828,-10.185733795166016,-60.48307418823242,-46.97891616821289,0.39120790362358093,-4.8576860427856445,20.351543426513672,-48.2952766418457,22.772417068481445,13.926590919494629,16.68189239501953,43.90088653564453,-60.18080139160156,-5.48741340637207,-29.96394157409668,24.054079055786133,-36.173118591308594,0.504994809627533,21.905492782592773,-6.509744167327881,1.1374257802963257,-3.0823092460632324,0.35649240016937256,-14.987415313720703,35.92707824707031,4.641462802886963,22.99437713623047,-32.632118225097656,-14.307164192199707,-32.3548469543457,-5.136969089508057,-20.292959213256836,-3.538456439971924,40.48590087890625,45.75642395019531,-9.995795249938965,46.874752044677734,-3.879659414291382,4.573225975036621,38.80925750732422,-3.8699774742126465,46.999637603759766,45.382747650146484,-20.871868133544922,-5.605433464050293,45.9140625,-59.088279724121094,-18.30292510986328,-10.06325626373291,-0.09706474095582962,22.66957664489746,37.03218078613281,47.466068267822266,-3.1870245933532715,47.15266418457031,5.494288921356201,4.334993839263916,47.48652648925781,23.186561584472656,-32.78932571411133,47.75157165527344,44.48074722290039,-31.150121688842773,-51.363136291503906,47.22536087036133,-17.977331161499023,47.096473693847656,34.20124053955078,46.612823486328125,-49.091243743896484,-15.016432762145996,-50.135196685791016,-12.289355278015137,14.353301048278809,-51.16994857788086,-17.1726131439209,23.24053192138672,-11.92121696472168,46.41293716430664,-29.570358276367188,-45.26240921020508,-58.629608154296875,-49.649452209472656,-34.43803787231445,-31.90218734741211,-13.945508003234863,43.14708709716797,-5.757416725158691,40.060508728027344,-49.2513427734375,-12.095870971679688,47.18610382080078,23.390090942382812,-6.701005458831787,48.307315826416016,48.229827880859375,-17.87055778503418,36.14824676513672,38.87151336669922,-50.66783905029297,34.9723014831543,-31.878009796142578,-28.457008361816406,-19.595945358276367,-22.54328727722168,-16.71664047241211,0.6771214008331299,38.07444381713867,36.02446746826172,48.17549133300781,47.18950653076172,-56.274784088134766,-16.114704132080078,47.70134353637695,47.12390899658203,34.52008819580078,-15.241246223449707,39.37038040161133,0.7630530595779419,-4.487029075622559,-22.250276565551758,35.35624313354492,-29.25143051147461,-17.646543502807617,-13.160292625427246,22.512113571166992,-56.07241439819336,39.19694519042969,48.19691467285156,-22.129430770874023,-59.65602111816406,3.839435338973999,-3.2773900032043457,40.32316970825195,-2.6013431549072266,-33.09943389892578,-11.214723587036133,48.6335563659668,-56.11360549926758,-4.035562038421631,-17.678369522094727,37.67462921142578,4.026035785675049,48.03562545776367,-18.697023391723633,-31.795215606689453,-0.3498515784740448,3.774218797683716,39.02583694458008,-11.38478946685791,43.53298568725586,48.811920166015625,-34.58224868774414,-44.936031341552734,-5.609492778778076,-20.586441040039062,-60.49810028076172,34.73279571533203,48.838462829589844,35.05913162231445,-30.26923179626465,-59.29325866699219,-36.40151596069336,2.283684730529785,33.268672943115234,-2.420159101486206,4.707756519317627,39.71687698364258,-21.33942222595215,-20.5791015625,44.366817474365234,-64.04774475097656,-47.02971267700195,46.94939041137695,34.52296447753906,-28.049177169799805,44.48199462890625,-1.525577187538147,34.00080490112305,-29.475954055786133,-20.676029205322266,49.38494110107422,-47.73947525024414,-10.528186798095703,-13.259016036987305,49.729000091552734,49.446800231933594,34.641544342041016,-31.187925338745117,39.72719955444336,47.42934036254883,44.34737014770508,2.904968500137329,49.19482421875,3.3152999877929688,40.288352966308594,-46.772708892822266,17.301753997802734,3.9259588718414307,-62.54653549194336,-16.115955352783203,15.618922233581543,-49.8022346496582,-3.901686429977417,-32.09501647949219,-28.87187385559082,-39.316932678222656,50.451866149902344,-28.947290420532227,50.06324768066406,35.32605743408203,-28.35076904296875,-15.91937255859375,37.335506439208984,34.55487823486328,5.548392295837402,6.467236042022705,50.538551330566406,-40.76227569580078,-21.045692443847656,-47.04375457763672,-7.285607814788818,-49.25859069824219,44.048030853271484,-32.245635986328125,48.31379318237305,39.353965759277344,4.362632751464844,-22.208229064941406,-45.91748809814453,39.39425277709961,-5.440104007720947,-4.6541428565979,-14.803945541381836,-10.679228782653809,51.639991760253906,39.80260467529297,40.90413284301758,34.08012008666992,15.16055965423584,-16.09004783630371,-32.876956939697266,-6.3571319580078125,-31.187761306762695,-39.6284294128418,-31.916528701782227,15.046710014343262,49.910831451416016,-30.48856544494629,-15.982431411743164,-45.679298400878906,0.7927600741386414,43.56359100341797,41.19702911376953,-36.45487976074219,37.11885070800781,-30.151073455810547,-34.732784271240234,-21.808162689208984,39.38687515258789,-45.82784652709961,-17.898359298706055,35.503543853759766,-6.301284313201904,-11.47569751739502,38.306053161621094,39.1611328125,-39.468448638916016,51.94593811035156,0.05245698615908623,-5.980940341949463,50.77835464477539,-62.26351547241211,-47.132484436035156,52.402130126953125,51.066280364990234,40.025028228759766,-6.97789192199707,50.959842681884766,39.403167724609375,3.76114559173584,37.01716613769531,40.09455490112305,34.21458435058594,-29.416006088256836,52.295867919921875,-43.65315628051758,-32.91227722167969,-20.20325469970703,-43.01563262939453,42.2691764831543,35.634727478027344,-10.235560417175293,-36.30291748046875,51.568031311035156,-30.284265518188477,-31.790035247802734,53.047794342041016,38.01649475097656,-39.80104446411133,-62.49531936645508,34.48931884765625,49.160736083984375,-24.11046600341797,34.443016052246094,-18.408689498901367,-1.307953119277954,53.19153594970703,-49.406776428222656,-61.58466339111328,-40.60672378540039,53.109676361083984,-40.27395248413086,5.538743495941162,-51.577152252197266,-59.04124069213867,39.15766525268555,52.69942855834961,-52.31414031982422,49.927207946777344,43.00007247924805,-15.997578620910645,34.642967224121094,6.5058159828186035,52.977203369140625,-20.67361068725586,53.658905029296875,-29.44767951965332,51.660888671875,-51.5772705078125,53.770294189453125,19.445236206054688,-59.39592361450195,39.725494384765625,-30.726234436035156,-46.8985595703125,-23.822526931762695,38.68172073364258,-62.74645233154297,38.12480163574219,40.661109924316406,52.75408172607422,-32.60181427001953,-50.2321662902832,-18.749553680419922,-22.081844329833984,-51.35372543334961,-30.572372436523438,-30.811073303222656,-63.36429214477539,-32.087135314941406,-17.865163803100586,-0.918319821357727,38.98163986206055,17.61726188659668,4.10919189453125,-51.766910552978516,-62.649967193603516,54.079166412353516,-49.03498077392578,-17.440711975097656,-10.156233787536621,36.738006591796875,-28.931304931640625,-17.049890518188477,51.8421630859375,-11.779525756835938,40.68120193481445,53.460182189941406,52.86540985107422,-20.248517990112305,-59.85584259033203,-62.512699127197266,38.06557846069336,-43.80201721191406,-20.661874771118164,-21.295604705810547,53.95758056640625,-51.829837799072266,39.51848220825195,-30.08064842224121,-59.8393440246582,53.36235809326172,-10.374092102050781,54.34092330932617,-27.332332611083984,-50.555904388427734,-20.138263702392578,54.069366455078125,0.5632657408714294,-59.157440185546875,-5.7743048667907715,38.45934295654297,38.58957290649414,-24.33233642578125,54.699615478515625,54.82618713378906,-5.545892715454102,-38.17741012573242,-31.80893325805664,-6.404231071472168,-61.14451599121094,-50.09662628173828,35.03887176513672,52.06065368652344,6.695591449737549,54.565521240234375,50.2064208984375,-2.1266558170318604,-6.8964338302612305,-9.81682300567627,-45.963348388671875,-48.86675262451172,-51.856536865234375,-23.82164764404297,-1.0201154947280884,-15.993736267089844,-31.556806564331055,39.213802337646484,43.53066635131836,35.279850006103516,-24.168928146362305,-51.17654800415039,55.21548843383789,7.08827018737793,-5.869508266448975,-49.12420654296875,-23.21162223815918,-1.4560520648956299,52.969459533691406,-27.98343849182129,53.87680435180664,54.84636688232422,55.00681686401367,39.88863754272461,-50.01284408569336,38.256187438964844,-63.04156494140625,-1.3328139781951904,-29.908939361572266,36.93994140625,39.65177917480469,-22.205202102661133,-0.01242208480834961,5.895147323608398,41.479366302490234,55.6119499206543,-2.5693600177764893,-48.46525573730469,-46.11617660522461,-9.675395965576172,-18.713844299316406,-49.08262634277344,-19.36707878112793,44.3363037109375,-60.242164611816406,43.99263000488281,-27.450746536254883,-24.20864486694336,55.94157791137695,56.16884231567383,-51.63947296142578,6.196022033691406,54.84450149536133,6.657201766967773,43.91579818725586,-39.35187530517578,-5.3464741706848145,55.57551193237305,45.620361328125,-60.38224792480469,-6.597991943359375,40.270347595214844,-51.33156204223633,44.656253814697266,-63.54303741455078,-31.113801956176758,2.425218105316162,-22.500791549682617,-57.74592971801758,-15.992292404174805,-28.62849998474121,19.95450210571289,55.31703567504883,7.3123860359191895,38.56502914428711,-22.608659744262695,-35.90237045288086,-64.36965942382812,40.82294845581055,-17.510330200195312,56.130104064941406,56.411808013916016,-25.196191787719727,40.17055892944336,-26.219778060913086,55.8878173828125,0.4134140610694885,55.9921989440918,-22.38136100769043,-61.022987365722656,-5.962864398956299,45.5994758605957,-25.99290657043457,-3.313060998916626,-22.474346160888672,-40.73581314086914,17.89339828491211,-30.700599670410156,-31.010337829589844,-1.7470135688781738,-27.898841857910156,56.570091247558594,-23.93609046936035,-33.93184280395508,-61.30161666870117,-28.547077178955078,-60.01795959472656,0.295326828956604,-32.914100646972656,54.54267501831055,-36.371517181396484,-22.250713348388672,39.6096076965332,-11.74135971069336,42.62373733520508,-26.552410125732422,-28.35270118713379,-35.9727783203125,0.24036651849746704,43.654911041259766,-60.527801513671875,61.111961364746094,39.69160842895508,4.608308792114258,55.3996467590332,-63.68854904174805,-44.211944580078125,-6.507145404815674,-18.330974578857422,60.72871780395508,-33.3903923034668,41.499874114990234,-46.39759063720703,45.24151611328125,45.245361328125,-61.07917404174805,55.717864990234375,-64.88471984863281,56.9667854309082,-49.699676513671875,56.984439849853516,-63.307838439941406,-27.297746658325195,-47.883968353271484,-17.886690139770508,60.939754486083984,-50.1417236328125,-60.283477783203125,43.1734504699707,41.56208419799805,4.5015082359313965,57.06244659423828,-16.551794052124023,19.264493942260742,-60.22764587402344,41.1237678527832,7.457283020019531,-19.39141845703125,-40.21138381958008,61.633121490478516,-47.36994552612305,-50.567481994628906,-53.182334899902344,-32.6514892578125,-12.805705070495605,-6.442267894744873,-45.53264617919922,-33.512054443359375,40.883609771728516,55.80559539794922,61.50177001953125,-61.023311614990234,61.86591339111328,-26.255802154541016,-8.119531631469727,61.13811111450195,-46.70259475708008,44.948429107666016,2.661261558532715,39.414066314697266,-36.18184280395508,-20.519479751586914,-31.544574737548828,45.2860221862793,60.77273941040039,60.2770881652832,-47.73817825317383,-22.093461990356445,41.859004974365234,61.9287223815918,-31.485759735107422,-34.68589782714844,61.85353088378906,61.711097717285156,40.24357604980469,45.080528259277344,41.49396896362305,41.38044357299805,41.591434478759766,58.14126205444336,55.96966552734375,1.932506799697876,-2.2325379848480225,61.196571350097656,41.927425384521484,18.43255615234375,-46.82072067260742,-44.98060607910156,-28.239145278930664,58.60111618041992,-51.826377868652344,61.68708419799805,-63.106773376464844,43.55890655517578,-54.378623962402344,-19.444551467895508,56.755516052246094,-25.852962493896484,18.23265838623047,4.084235191345215,61.551727294921875,57.6820182800293,41.5885124206543,-61.430728912353516,57.682621002197266,-60.216896057128906,61.01588439941406,-1.0923300981521606,43.33505630493164,-34.85649490356445,-18.749841690063477,4.637777328491211,-17.275569915771484,-22.861183166503906,43.26139831542969,-6.664551734924316,-24.834383010864258,43.173057556152344,-41.07618713378906,-64.19422149658203,-17.374317169189453,61.96708297729492,61.74796676635742,-1.5790154933929443,-57.26996994018555,-22.1126766204834,45.413490295410156,7.016681671142578,-23.20233154296875,60.15949249267578,54.58583450317383,-57.61965560913086,40.78823471069336,61.82224655151367,42.75791549682617,-44.295379638671875,-26.17569923400879,2.6209120750427246,61.33140182495117,-13.339141845703125,-31.22414779663086,53.99882125854492,-63.703372955322266,-6.894501686096191,-64.78524780273438,-28.452919006347656,54.087158203125,-45.06626892089844,-56.84444808959961,-62.227455139160156,-7.534388542175293,59.78812789916992,-27.633180618286133,43.880001068115234,-64.9397964477539,0.363898903131485,-7.365350723266602,56.9442024230957,44.89799499511719,-22.27751350402832,-1.4422730207443237,-22.63735580444336,-21.211191177368164,4.6219353675842285,-9.12215805053711,60.766849517822266,-8.1611967086792,44.877315521240234,41.845848083496094,-26.344860076904297,-25.91104507446289,56.319541931152344,41.903533935546875,-33.00558853149414,-23.4592342376709,-27.074480056762695,61.64952850341797,-24.495370864868164,-8.67162799835205,61.116546630859375,-24.889686584472656,41.39560317993164,-7.104912757873535,-3.95164155960083,44.157814025878906,61.58884811401367,-18.618310928344727,-25.882795333862305,61.91952133178711,0.39777621626853943,43.2474365234375,42.304222106933594,7.031730651855469,-47.224117279052734,42.32471466064453,61.98406219482422,-52.81665802001953,-47.99733352661133,-45.3223876953125,40.4173698425293,-7.008395671844482,43.3759651184082,-6.980782508850098,-25.60701560974121,60.45551300048828,-34.25650405883789,-57.41837692260742,-38.6030158996582,60.22160339355469,-11.637969970703125,-53.87372589111328,-40.419898986816406,-19.210065841674805,-30.037954330444336,42.06314468383789,58.22657775878906,61.689144134521484,-21.34124183654785,-21.689945220947266,42.809505462646484,-52.45130157470703,59.582923889160156,-32.3652458190918,4.639410495758057,-52.51422882080078,-58.760154724121094,-58.63395690917969,41.823760986328125,-11.326571464538574,-9.093703269958496,-27.246389389038086,-56.02442169189453,-0.7434463500976562,-31.236629486083984,-10.761756896972656,44.822940826416016,42.74718475341797,42.461368560791016,-28.7335262298584,18.22539520263672,7.1058855056762695,62.50404739379883,-57.5790901184082,-22.09294319152832,61.10874557495117,-38.803775787353516,61.682533264160156,62.03493118286133,-51.41295623779297,-17.7335262298584,-22.438949584960938,-60.342567443847656,-25.116905212402344,-32.21141815185547,-66.70636749267578,-44.36958312988281,58.68989562988281,-28.023603439331055,-45.84861373901367,-64.71771240234375,-35.59726333618164,38.153282165527344,-4.170760631561279,-1.0053963661193848,-26.36285400390625,-25.87823486328125,63.72880935668945,0.6689145565032959,-25.351491928100586,56.977535247802734,50.29740524291992,-64.01403045654297,63.32886505126953,-53.90211868286133,-57.075286865234375,41.951194763183594,63.236934661865234,65.32743835449219,42.224674224853516,59.17375183105469,-38.696441650390625,61.917388916015625,-35.21855926513672,-50.32535934448242,62.968467712402344,-49.699283599853516,-25.426029205322266,-57.10343933105469,-25.068256378173828,-54.41769790649414,-34.59671401977539,-29.04716682434082,-63.74916458129883,56.90272521972656,1.3572461605072021,62.036903381347656,-26.452985763549805,58.86381912231445,-8.00817584991455,42.38899612426758,55.513999938964844,65.0017318725586,-36.50786590576172,54.4613151550293,38.578487396240234,56.221927642822266,-29.621030807495117,-33.7255744934082,-16.24158477783203,-60.210777282714844,-0.6545159816741943,-8.812371253967285,62.09132766723633,62.836124420166016,-8.390706062316895,53.73595428466797,-34.14194869995117,65.91095733642578,-23.837142944335938,64.98727416992188,58.539466857910156,65.41844177246094,-46.609798431396484,-27.604463577270508,-59.130409240722656,-1.4379932880401611,-33.82713317871094,-33.851600646972656,27.64999008178711,65.75186920166016,62.85430145263672,57.847286224365234,55.92801284790039,-38.514617919921875,49.92268371582031,62.16168212890625,-25.898820877075195,39.762306213378906,66.07904815673828,-18.359172821044922,-16.23548126220703,42.3078498840332,48.67572784423828,-26.12812614440918,42.49040222167969,-27.736684799194336,-26.177654266357422,-26.54450225830078,65.29228973388672,46.920040130615234,-17.194671630859375,-46.312339782714844,60.1833610534668,60.622432708740234,-4.621082782745361,43.47861862182617,-26.317005157470703,-55.877113342285156,59.892555236816406,-20.21036148071289,26.04263687133789,59.8584098815918,-36.11270523071289,42.416595458984375,-36.640262603759766,43.200870513916016,27.62188720703125,-24.222248077392578,-53.44751739501953,-25.15315818786621,62.5204963684082,-8.377412796020508,57.45924377441406,-10.132356643676758,38.931114196777344,-35.60783004760742,-2.738194227218628,50.2797966003418,-54.170780181884766,-52.92744827270508,-58.14509963989258,50.66984558105469,-45.890262603759766,-35.21708679199219,-34.52351760864258,-24.298322677612305,59.25851821899414,-38.74600601196289,-35.30955505371094,-8.999979972839355,-32.59872817993164,65.00450897216797,-19.006502151489258,59.6107177734375,65.98283386230469,-37.222599029541016,62.80586624145508,25.854480743408203,-52.5556526184082,-63.64113998413086,-28.249326705932617,66.52552795410156,-32.83911895751953,66.19247436523438,65.76351928710938,-38.61130142211914,62.40507507324219,-55.85715866088867,-18.87326431274414,66.76054382324219,62.57200241088867,-21.345245361328125,61.80577850341797,-33.39582443237305,54.64484405517578,-27.271228790283203,50.390464782714844,48.72246170043945,55.016937255859375,-17.13515853881836,-40.27646255493164,-18.33673095703125,-36.305259704589844,66.30793762207031,-35.40301513671875,47.14820861816406,-28.529109954833984,-22.827167510986328,-17.506486892700195,-64.3828353881836,-56.76449966430664,59.91679763793945,48.183692932128906,66.20372009277344,-55.104801177978516,-20.353126525878906,67.00465393066406,-23.871841430664062,25.92418670654297,49.89746856689453,-56.48106384277344,43.08797073364258,25.297664642333984,-39.93894577026367,66.8433837890625,-38.11140060424805,-0.031232906505465508,-37.22359085083008,59.240760803222656,55.24658966064453,0.03477419540286064,66.08629608154297,6.8493876457214355,-66.5084228515625,66.61763000488281,-8.105626106262207,-58.12384033203125,65.87059020996094,-30.727773666381836,41.131317138671875,-19.00932502746582,27.770694732666016,43.430145263671875,59.21195983886719,-33.787906646728516,-2.752387285232544,58.05378341674805,-31.918073654174805,55.63338851928711,1.1617273092269897,60.06755447387695,1.0589489936828613,-25.276268005371094,1.482785701751709,42.6074333190918,40.51901626586914,-34.624916076660156,-34.20707702636719,-20.670507431030273,43.40837097167969,1.701691746711731,54.83149337768555,-37.73738479614258,-43.256805419921875,50.01654052734375,58.35784912109375,-54.19865036010742,-37.33780288696289,-18.743059158325195,67.03813171386719,65.56037902832031,-9.73306655883789,45.706260681152344,-48.19499206542969,52.209842681884766,0.5930032730102539,27.533905029296875,65.44686126708984,66.32161712646484,52.04310989379883,-26.33212661743164,-8.038248062133789,-59.38798141479492,-26.803123474121094,-35.15231704711914,67.94618225097656,40.338279724121094,-12.531140327453613,50.82514190673828,48.1319465637207,-50.01322937011719,-35.54713821411133,-25.19965362548828,-17.137996673583984,-35.049415588378906,-38.10296630859375,-35.826141357421875,54.775367736816406,-37.51639938354492,-26.826417922973633,-64.7302017211914,50.34181213378906,66.07002258300781,2.058924436569214,46.44273376464844,25.723146438598633,-21.512601852416992,47.54248809814453,-63.63056182861328,47.5817985534668,-6.311874866485596,-18.67620277404785,66.53244018554688,43.57237243652344,67.14108276367188,50.027000427246094,-40.657161712646484,68.00157165527344,25.101030349731445,51.817138671875,49.60111999511719,-32.165000915527344,-58.738529205322266,-46.126644134521484,68.09467315673828,-32.528465270996094,-51.73416519165039,39.93275833129883,-58.03236770629883,-64.80052947998047,67.38671875,-46.72310256958008,60.51969909667969,-51.37272644042969,50.97856521606445,-18.14140510559082,-24.89838218688965,-20.304765701293945,-32.495216369628906,-37.25165939331055,-26.117958068847656,7.105137348175049,46.506465911865234,48.271873474121094,66.33586120605469,-63.642921447753906,-36.39686584472656,-0.1579083949327469,-21.714475631713867,-26.42084312438965,65.41789245605469,62.86559295654297,-61.2777214050293,-43.80256271362305,-41.292633056640625,-40.957828521728516,67.99707794189453,-56.80995178222656,-25.950294494628906,67.91321563720703,43.02295684814453,44.036170959472656,30.12300682067871,-20.97584342956543,-24.722606658935547,-43.64605712890625,-49.58524703979492,-19.9534969329834,48.17909240722656,-40.06039047241211,-50.6114501953125,51.9094123840332,-31.18412971496582,-11.97474479675293,-26.029457092285156,67.34200286865234,-35.20261001586914,6.710784435272217,-41.557037353515625,67.44485473632812,-42.269134521484375,-10.502887725830078,67.291748046875,67.90765380859375,44.839378356933594,66.98625946044922,66.65220642089844,43.79053497314453,65.65148162841797,7.136580467224121,-17.483497619628906,52.469207763671875,-4.465720176696777,50.37339401245117,-33.327476501464844,-37.849002838134766,-39.515716552734375,-60.60384750366211,-37.70344924926758,-37.08672332763672,-41.56142807006836,67.94585418701172,43.98675537109375,51.126041412353516,48.34215545654297,-36.456031799316406,-61.171714782714844,45.756752014160156,30.785558700561523,62.80424880981445,-26.3763370513916,-35.58328628540039,44.89704513549805,47.477577209472656,52.166259765625,-65.52165985107422,-61.54385757446289,68.12769317626953,26.958711624145508,-18.00074005126953,30.05204200744629,-36.959564208984375,44.18325424194336,43.38013458251953,-55.59226608276367,-64.6463623046875,-57.44393539428711,-51.08515930175781,2.1869542598724365,-62.542728424072266,-43.04597473144531,-61.16831588745117,-64.9037094116211,-44.8813591003418,66.37645721435547,-64.94004821777344,46.14025115966797,51.4400749206543,47.917964935302734,-65.6996841430664,-46.2752571105957,-61.09150695800781,-66.58512115478516,-64.58036804199219,-62.89515686035156,67.80915832519531,-56.967506408691406,29.364364624023438,-41.09000778198242,47.09977340698242,-54.213951110839844,52.29282760620117,-55.83246994018555,-42.594112396240234,51.03584289550781,52.13709259033203,68.24604034423828,48.14202880859375,-43.461002349853516,-26.781902313232422,-65.72303009033203,-60.789459228515625,-24.3272647857666,69.07244110107422,-34.76375198364258,-44.505489349365234,-40.52403259277344,67.66909790039062,66.72789001464844,43.90309143066406,68.7753677368164,-29.679609298706055,-52.10207748413086,-38.826541900634766,7.750187873840332,-44.68376922607422,-39.48078155517578,-62.85307312011719,-42.02827072143555,25.037466049194336,67.3062973022461,-27.123077392578125,-66.08148956298828,67.7731704711914,-63.42720031738281,-69.99024963378906,66.46693420410156,-36.600765228271484,67.6752700805664,68.4438705444336,-49.22624969482422,-38.342796325683594,-61.02984619140625,-54.394412994384766,-43.5812873840332,-38.136478424072266,-50.83282470703125,-35.173248291015625,30.36551856994629,2.5137228965759277,-40.76140594482422,-29.924264907836914,-29.48286247253418,67.1255111694336,67.20205688476562,-32.13100051879883,7.717504978179932,25.19645118713379,51.56260681152344,68.88075256347656,45.3537483215332,-55.33930587768555,68.36198425292969,-33.936065673828125,-40.46656036376953,68.58587646484375,-42.21586990356445,51.63499450683594,30.28146743774414,-20.841381072998047,45.740478515625,-30.848628997802734,-19.571348190307617,-23.58887481689453,-62.6497802734375,2.4501264095306396,-44.75141143798828,-61.55274963378906,42.2763557434082,49.60368728637695,2.558427572250366,49.618167877197266,23.92819595336914,-25.90021514892578,30.029897689819336,65.65937042236328,-57.17538070678711,-43.04245376586914,-29.90553092956543,-33.0206298828125,-41.03890609741211,27.858715057373047,-19.582094192504883,68.13285064697266,45.23686599731445,-36.21793746948242,64.5319595336914,31.606727600097656,-43.288883209228516,68.87201690673828,-44.84052658081055,68.0365982055664,63.84565353393555,-56.20676040649414,42.54608154296875,68.69348907470703,65.00946807861328,-66.46748352050781,-39.48577117919922,-33.340972900390625,-31.41379737854004,-51.2164192199707,-25.519296646118164,68.37265014648438,40.07720947265625,-43.588130950927734,51.97153854370117,-36.1110954284668,66.52738952636719,44.33769226074219,28.415916442871094,27.64518928527832,-64.51681518554688,-38.966983795166016,-33.26609420776367,44.50638961791992,37.85567855834961,-43.00348663330078,37.360233306884766,-25.91183853149414,27.42632484436035,49.489559173583984,-54.760986328125,9.015103340148926,67.7718276977539,-19.456727981567383,51.54475021362305,-62.71141052246094,52.40507507324219,-29.79163360595703,-59.03488540649414,28.58479881286621,-19.057659149169922,-55.395477294921875,-42.3726806640625,27.445655822753906,68.76490783691406,63.58403778076172,-43.74252700805664,-39.47121810913086,-45.14960479736328,50.060997009277344,5.670419692993164,50.15327835083008,-62.353206634521484,-46.54859161376953,-41.98896789550781,-43.25981903076172,-61.565223693847656,-39.17353820800781,-62.209720611572266,-41.14101028442383,66.59423065185547,-42.423316955566406,-19.02431297302246,67.75727844238281,36.10167694091797,49.68140411376953,25.049020767211914,68.71935272216797,41.82880401611328,7.794105529785156,-42.18111801147461,37.08082962036133,24.793291091918945,66.8037338256836,24.138303756713867,-42.69198226928711,-59.8535041809082,-43.37118148803711,-45.34419250488281,68.90118408203125,67.12586212158203,67.27426147460938,-58.34706115722656,7.152888298034668,28.463590621948242,66.07080841064453,65.89273834228516,-36.2261962890625,-42.028167724609375,-36.85762405395508,28.62445640563965,6.97830867767334,-37.202613830566406,66.3564224243164,66.72571563720703,52.378204345703125,37.28097152709961,44.6180534362793,51.50624084472656,-65.74066925048828,-47.10115051269531,-65.78752136230469,6.090165615081787,-30.3566837310791,66.57061004638672,-41.0256462097168,-37.44512176513672,27.091562271118164,-43.2380256652832,-35.66155242919922,-46.70272445678711,-29.911266326904297,-38.6096305847168,68.2969970703125,8.920981407165527,-24.868188858032227,68.78880310058594,67.40586853027344,50.44700241088867,52.548095703125,-36.092098236083984,-46.710716247558594,-66.03730773925781,26.474365234375,-40.00094985961914,-54.604305267333984,-43.98075485229492,-58.388336181640625,-48.329856872558594,-40.2052001953125,66.0621109008789,44.47112274169922,50.77658462524414,-48.45745086669922,23.88005828857422,-55.09669876098633,37.30296325683594,44.747798919677734,33.14189529418945,-32.22608947753906,-57.49950408935547,67.60692596435547,-54.730716705322266,49.51796340942383,52.15332794189453,-47.53982925415039,-46.46433639526367,51.54338073730469,-38.13254928588867,-41.98220443725586,-45.044639587402344,-45.043373107910156,68.70731353759766,-68.56761932373047,44.49764633178711,68.59608459472656,-32.790557861328125,-63.32204055786133,-41.8691520690918,50.97989273071289,66.76224517822266,-48.731590270996094,-28.236255645751953,25.44907569885254,-35.00593566894531,53.85926055908203,-34.77976989746094,44.892642974853516,66.7607192993164,68.47077178955078,-54.29298400878906,47.21969985961914,22.362363815307617,6.5290141105651855,66.60811614990234,55.26375961303711,-39.17219924926758,-38.46329879760742,47.7863655090332,67.7708511352539,-32.29467010498047,-19.357885360717773,22.90412139892578,-43.24635696411133,54.53287887573242,32.70880889892578,-37.82681655883789,65.79143524169922,-29.559959411621094,47.18009567260742,-46.22846984863281,-47.463134765625,-62.06930923461914,-39.08575439453125,-59.71638107299805,9.027618408203125,-39.349822998046875,-41.47355270385742,-44.00035095214844,65.3145751953125,-51.21003341674805,44.55875778198242,66.46592712402344,-42.42226028442383,55.712158203125,-44.511592864990234,6.310783863067627,-22.84755516052246,-65.03888702392578,65.41329956054688,-58.3210563659668,-49.783321380615234,24.318714141845703,55.3972282409668,51.6352653503418,68.93477630615234,47.08522033691406,-61.92717742919922,-23.90605354309082,55.08574295043945,44.68622589111328,-35.23252868652344,-45.23564529418945,-57.62007522583008,-61.916900634765625,-25.149864196777344,35.94565963745117,54.270286560058594,-45.60243606567383,-40.96189880371094,-42.83378601074219,-66.87024688720703,53.74053192138672,-66.2025146484375,54.07552719116211,47.27894973754883,65.74124145507812,68.61825561523438,51.46901321411133,-39.04008483886719,-38.475955963134766,66.29759216308594,63.31202697753906,-34.28963088989258,-19.75632667541504,47.394432067871094,67.32587432861328,-39.21516418457031,67.51139068603516,-45.70493698120117,32.72827911376953,-51.166080474853516,63.83882141113281,52.79451370239258,48.895042419433594,-63.67859649658203,66.3603515625,-43.448570251464844,35.474239349365234,-42.943634033203125,68.51678466796875,55.292781829833984,51.526065826416016,-58.18456268310547,-62.831329345703125,-57.65425109863281,-38.65879440307617,-64.48702239990234,-61.0147819519043,-33.653289794921875,-46.145103454589844,68.28458404541016,-67.5569076538086,-32.746585845947266,50.817440032958984,-54.60134506225586,-41.37050247192383,-69.08561706542969,-40.9997673034668,45.903499603271484,-25.63279914855957,56.264892578125,65.54139709472656,-66.107421875,66.92720031738281,25.26157569885254,-38.097835540771484,54.908782958984375,-61.21786117553711,-50.737632751464844,66.30165100097656,54.89120101928711,-53.86882781982422,65.69389343261719,-23.11380958557129,-47.48237228393555,67.97056579589844,-60.506996154785156,44.501102447509766,65.56453704833984,67.15275573730469,67.4268569946289,66.76532745361328,52.157920837402344,64.80970001220703,-55.30416488647461,8.412036895751953,67.47191619873047,25.132966995239258,35.39551544189453,64.94116973876953,-67.24881744384766,62.278255462646484,-46.7126350402832,-53.79399871826172,7.660512447357178,-56.9522819519043,36.4753303527832,44.57792663574219,-59.1943473815918,32.543880462646484,22.66961097717285,48.00127029418945,53.62053298950195,47.1205940246582,64.4640884399414,-59.04532241821289,24.803638458251953,-61.82328414916992,-19.60053825378418,-50.701629638671875,-57.22229766845703,23.150033950805664,65.47683715820312,44.627803802490234,46.41579818725586,-51.052555084228516,-39.26722717285156,-41.124916076660156,-45.9018440246582,-58.04378890991211,-57.966854095458984,-18.28255271911621,-20.103050231933594,46.24117660522461,33.17448043823242,6.682183265686035,-38.61882019042969,65.9827651977539,-61.96977996826172,62.02326202392578,-57.94011688232422,-19.278806686401367,-60.85874938964844,-38.91608428955078,-43.69388961791992,-51.114036560058594,44.42763137817383,-46.58552551269531,-55.61895751953125,-41.36394119262695,-43.632225036621094,-59.50571823120117,-54.93256759643555,45.346351623535156,-22.771015167236328,52.18149185180664,66.60302734375,-36.98136901855469,-37.91912841796875,46.917789459228516,22.987716674804688,36.2321662902832,-48.98889923095703,61.815792083740234,-65.68628692626953,-57.27326202392578,32.164608001708984,-57.60408401489258,62.84737777709961,-39.63842010498047,-66.15550994873047,-37.38029098510742,66.03758239746094,64.08218383789062,-18.168460845947266,-70.02440643310547,66.684814453125,7.625266075134277,-20.916324615478516,-31.148727416992188,62.67598342895508,62.14678192138672,66.2918701171875,-51.02653884887695,-67.28763580322266,64.65647888183594,62.82533645629883,23.250131607055664,53.2928466796875,22.857463836669922,64.87480926513672,-35.761932373046875,52.22555160522461,-66.47616577148438,62.766395568847656,-55.2249755859375,-57.21916961669922,65.0344467163086,46.721073150634766,-51.07820510864258,-65.96470642089844,-62.75210189819336,-21.02646827697754,-51.647701263427734,-64.22337341308594,51.9160041809082,65.97357177734375,-63.73934555053711,31.586946487426758,-41.02449035644531,-24.50054931640625,65.632080078125,-41.38393783569336,-67.23020935058594,31.043411254882812,-32.08197021484375,-58.17720413208008,65.94629669189453,64.78287506103516,-56.94599151611328,52.39098358154297,-48.79551696777344,46.64055252075195,51.71014404296875,44.019283294677734,-57.2294807434082,-34.76443862915039,-53.989105224609375,22.839309692382812,-48.1204948425293,22.78032112121582,-63.18986129760742,65.80902862548828,-63.61893844604492,35.42893981933594,7.297624588012695,-48.712982177734375,65.14750671386719,65.88462829589844,-63.08857345581055,-20.221311569213867,61.499107360839844,47.30066680908203,30.316635131835938,48.47416305541992,-65.84159851074219,35.1650505065918,-57.795352935791016,47.163394927978516,62.790977478027344,8.109234809875488,64.2447738647461,34.990684509277344,43.84931945800781,46.90061569213867,-22.298477172851562,-55.77427291870117,33.99414825439453,65.3205795288086,53.22934341430664,65.0826644897461,-35.67494201660156,-57.57453155517578,50.78305435180664,-58.359615325927734,32.33073425292969,-55.86506271362305,63.709197998046875,-69.62760162353516,-47.89822006225586,23.52570915222168,46.18959045410156,-25.535470962524414,65.47964477539062,-22.75856590270996,-57.7054328918457,30.518211364746094,52.698570251464844,30.993253707885742,-63.32779312133789,6.2158918380737305,-57.79950714111328,7.4760565757751465,65.0203628540039,63.04839324951172,-48.73609161376953,-60.65886306762695,-39.20729064941406,-49.68694305419922,52.83842468261719,36.1375617980957,50.988677978515625,62.5057373046875,-39.20173645019531,-61.60013961791992,60.34177017211914,-48.07630920410156,-57.273902893066406,-37.16402053833008,-38.46377944946289,65.08142852783203,43.52397155761719,64.65067291259766,52.69744873046875,-53.4457893371582,-57.98223876953125,35.24600601196289,48.98646926879883,23.599781036376953,47.07653045654297,64.91976165771484,51.178218841552734,-60.29112243652344,46.08757019042969,-68.83644104003906,35.291839599609375,32.77079391479492,49.347633361816406,30.02317237854004,-66.75611114501953,-36.01277160644531,50.16031265258789,-48.626739501953125,34.23406982421875,47.59765625,47.2273063659668,-53.750404357910156,-57.219215393066406,-65.53695678710938,43.31873321533203,-49.83903884887695,-21.997295379638672,-56.84025955200195,-26.054330825805664,64.67863464355469,53.89833068847656,64.59276580810547,-35.51008224487305,-36.451820373535156,-50.11043930053711,48.634002685546875,43.2872200012207,64.65670776367188,-22.08087730407715,-41.25593566894531,-41.92701721191406,-58.930660247802734,-64.56454467773438,-16.982053756713867,23.003150939941406,50.022281646728516,-56.6903076171875,31.63670539855957,41.96542739868164,-51.73725128173828,-60.877723693847656,-48.34373474121094,48.085166931152344,53.858551025390625,30.633621215820312,-43.2950553894043,60.53983688354492,-25.59671974182129,32.88430404663086,-30.1193904876709,-48.5179557800293,-52.733821868896484,-18.616817474365234,-53.84156799316406,-63.96769332885742,35.699398040771484,64.21097564697266,48.983516693115234,34.05614471435547,28.327022552490234,61.208858489990234,60.45098876953125,43.09241485595703,33.26728057861328,-55.18410873413086,-22.511259078979492,53.391334533691406,34.72414016723633,-49.69622802734375,-25.494937896728516,63.04855728149414,-44.86315155029297,-54.13750457763672,64.22264862060547,-69.15353393554688,-53.84510040283203,-68.92526245117188,47.88059616088867,-42.0872917175293,-18.55108642578125,-39.86082458496094,-54.00053024291992,-35.59756088256836,-56.700889587402344,-18.37505340576172,61.565025329589844,62.98286056518555,22.90798568725586,-58.89207077026367,-37.11772537231445,-23.622495651245117,34.55449676513672,-45.608577728271484,-67.67821502685547,8.765951156616211,-63.67768096923828,59.483154296875,61.6488151550293,-19.444564819335938,-65.61691284179688,-55.60487365722656,59.156917572021484,-37.368202209472656,61.28333282470703,-24.813386917114258,7.611576080322266,48.05681610107422,-66.49552154541016,61.390506744384766,45.602142333984375,-55.655025482177734,45.0953369140625,62.974388122558594,63.42305374145508,-56.42763137817383,29.641599655151367,47.824928283691406,-55.27510070800781,34.23330307006836,-18.001285552978516,-34.578208923339844,-18.33234214782715,-50.19010925292969,-64.04620361328125,-52.71980667114258,-21.13529396057129,-57.645782470703125,60.21330261230469,63.098148345947266,8.912592887878418,-38.327396392822266,50.423404693603516,49.83292007446289,61.21159362792969,-44.51906204223633,-54.65798568725586,59.41825866699219,-70.14253234863281,-37.989871978759766,-22.55855369567871,-44.991485595703125,59.807674407958984,33.69798278808594,-57.862571716308594,60.05411148071289,62.2226448059082,61.65248107910156,-43.235107421875,-56.85139465332031,-21.708271026611328,62.48709487915039,-24.587562561035156,-48.557315826416016,-65.5055923461914,44.79039764404297,33.42987823486328,61.954010009765625,50.73410415649414,49.58500671386719,-19.29786491394043,62.978153228759766,44.71306610107422,-33.956138610839844,48.254188537597656,35.262020111083984,27.843751907348633,-49.962242126464844,47.98762512207031,-58.85108184814453,-53.46907424926758,-59.86256790161133,62.14509582519531,-58.84067153930664,46.9114875793457,-57.15094757080078,33.55124282836914,-68.39933776855469,35.0509147644043,27.282032012939453,-35.6126708984375,29.333723068237305,61.91685104370117,-42.856597900390625,27.903791427612305,41.17152786254883,-52.84182357788086,62.533966064453125,61.3516845703125,-38.29844665527344,58.88763427734375,-40.64188766479492,62.42082595825195,46.32694625854492,-45.107078552246094,41.443138122558594,30.371355056762695,-56.715579986572266,59.61861801147461,-71.32752227783203,47.04454040527344,60.86772918701172,33.62665557861328,-25.2539119720459,-65.05953979492188,-37.082550048828125,-70.77009582519531,-49.57000732421875,-41.610843658447266,-43.52370834350586,-44.91099548339844,62.15193176269531,-60.632362365722656,-68.44937133789062,-42.68721389770508,-63.22482681274414,-38.93883514404297,-56.38276290893555,29.488161087036133,-68.4774398803711,-58.58760070800781,-57.8741340637207,61.529258728027344,-23.249839782714844,57.04838562011719,-46.69355773925781,61.65803146362305,-66.63642883300781,42.459877014160156,-46.297576904296875,59.62929916381836,-28.341094970703125,60.92448425292969,-37.977142333984375,-68.34513854980469,-36.22553634643555,-67.66780090332031,-38.35373306274414,-17.75008773803711,-42.1900634765625,-19.306982040405273,42.73478698730469,48.500736236572266,60.56739044189453,-53.44417190551758,44.32213592529297,-55.13554382324219,41.024105072021484,41.279300689697266,61.08808517456055,-63.20293426513672,48.28801727294922,-28.011287689208984,40.38917922973633,59.006248474121094,-70.06202697753906,-29.82635498046875,48.48313903808594,42.090328216552734,29.44216537475586,60.85811996459961,-36.56818389892578,41.38265609741211,47.63916015625,-60.015647888183594,-54.43888473510742,-54.545230865478516,44.382442474365234,59.385528564453125,-45.38455581665039,58.99415588378906,-50.487789154052734,-35.99143600463867,58.861366271972656,33.38020706176758,-68.09690856933594,-59.59389877319336,29.87176513671875,-38.91423416137695,48.42972183227539,-59.10506820678711,35.12277603149414,41.06647491455078,46.62686538696289,-25.55316925048828,-69.07463073730469,-39.044803619384766,-49.929283142089844,59.91326141357422,-68.91719055175781,-40.035736083984375,29.132061004638672,-36.734771728515625,-49.012939453125,48.114017486572266,29.943105697631836,-18.48503875732422,59.612831115722656,58.722721099853516,-43.296104431152344,58.93242263793945,58.42945098876953,42.292423248291016,58.74122619628906,-43.459136962890625,-37.873268127441406,-46.01443099975586,59.230567932128906,-61.13525390625,46.35313034057617,58.72524642944336,44.719383239746094,-53.21035385131836,57.9026985168457,-39.13385009765625,-41.620391845703125,56.83325958251953,47.450687408447266,-45.60859680175781,-55.24361038208008,59.05779266357422,-46.25589370727539,58.33539962768555,-56.0682487487793,-38.031394958496094,-22.537202835083008,40.989219665527344,-60.13650894165039,57.073570251464844,30.07929039001465,48.06623458862305,42.92036056518555,-37.19050598144531,-42.43687057495117,43.50437927246094,46.467708587646484,43.434688568115234,58.42253112792969,58.58692932128906,57.336483001708984,-59.315128326416016,-50.4166259765625,47.52678680419922,-47.09702682495117,-69.92483520507812,47.998634338378906,58.448543548583984,-34.937034606933594,43.01434326171875,57.45127868652344,50.18101501464844,-21.54761505126953,57.49227523803711,-40.280059814453125,46.95896911621094,41.714271545410156,57.42640686035156,28.05657958984375,44.23088455200195,-46.805477142333984,-25.926332473754883,-21.13610076904297,-68.92699432373047,-39.793033599853516,-59.57216262817383,-51.43560028076172,-67.80388641357422,29.866762161254883,-49.02155303955078,42.192691802978516,-43.93145751953125,-19.38895606994629,-18.63728141784668,57.29174041748047,-55.398712158203125,-22.891340255737305,50.202728271484375,56.728511810302734,56.2584342956543,-38.58005142211914,-68.57627868652344,52.31934356689453,55.54930877685547,45.362388610839844,-55.799678802490234,-40.26392364501953,-46.30960464477539,-40.11520767211914,-29.615957260131836,-45.6345100402832,56.52461242675781,47.2910041809082,-40.36936950683594,-69.87841033935547,47.30837631225586,-45.86124038696289,52.48582077026367,-26.747175216674805,-19.435039520263672,55.7816047668457,45.37746810913086,-20.01287269592285,56.73590850830078,41.134071350097656,28.914995193481445,55.68062973022461,56.6833610534668,49.158390045166016,50.80242919921875,55.77265167236328,47.66750717163086,43.18435287475586,49.55928421020508,-27.823949813842773,-51.015323638916016,28.703649520874023,40.335548400878906,50.68766784667969,-22.55088233947754,-60.98471450805664,-56.76689147949219,42.49338150024414,-52.70264434814453,-50.03877258300781,42.456417083740234,42.01453399658203,-29.940956115722656,56.095375061035156,45.90468215942383,55.64196014404297,55.7634391784668,40.29679870605469,45.20552062988281,43.30720520019531,-62.747581481933594,-53.39203643798828,-49.87886047363281,-69.38018035888672,43.76836395263672,44.2077522277832,41.41790008544922,-36.11674118041992,-52.836666107177734,-25.720712661743164,-45.4526481628418,50.997955322265625,40.37464904785156,42.753753662109375,-40.603023529052734,43.042118072509766,-36.253440856933594,50.33366012573242,27.955154418945312,-49.519081115722656,55.099639892578125,-23.258378982543945,45.40053939819336,41.009605407714844,40.3192138671875,-61.4659423828125,46.32802200317383,49.433631896972656,45.75846862792969,55.066558837890625,41.14572525024414,34.0107421875,-52.10356903076172,40.387821197509766,33.170875549316406,-62.33450698852539,-53.760074615478516,54.68500900268555,-62.913902282714844,-69.02412414550781,-60.834877014160156,49.90069580078125,-68.69507598876953,-20.189254760742188,-55.592529296875,46.245784759521484,-42.06106185913086,48.66032409667969,28.293582916259766,-41.53772735595703,-49.87944030761719,53.58565902709961,27.370677947998047,-60.85163879394531,43.629032135009766,-52.97174072265625,-47.502750396728516,-41.27622985839844,41.99211502075195,44.84626007080078,51.416908264160156,54.411827087402344,-51.60330581665039,-35.30324172973633,-43.31039810180664,-68.88573455810547,-22.81215476989746,49.19942855834961,52.6381950378418,41.111305236816406,-40.64375686645508,54.7982063293457,52.758094787597656,-27.263525009155273,-28.31801414489746,44.35954284667969,-26.538423538208008,-53.99201965332031,-29.746356964111328,53.75328826904297,48.33207702636719,54.047767639160156,44.90669631958008,-47.289913177490234,52.808135986328125,41.3408203125,-58.67087173461914,-41.34749221801758],\"yaxis\":\"y\",\"type\":\"scattergl\"}],                        {\"template\":{\"data\":{\"histogram2dcontour\":[{\"type\":\"histogram2dcontour\",\"colorbar\":{\"outlinewidth\":0,\"ticks\":\"\"},\"colorscale\":[[0.0,\"#0d0887\"],[0.1111111111111111,\"#46039f\"],[0.2222222222222222,\"#7201a8\"],[0.3333333333333333,\"#9c179e\"],[0.4444444444444444,\"#bd3786\"],[0.5555555555555556,\"#d8576b\"],[0.6666666666666666,\"#ed7953\"],[0.7777777777777778,\"#fb9f3a\"],[0.8888888888888888,\"#fdca26\"],[1.0,\"#f0f921\"]]}],\"choropleth\":[{\"type\":\"choropleth\",\"colorbar\":{\"outlinewidth\":0,\"ticks\":\"\"}}],\"histogram2d\":[{\"type\":\"histogram2d\",\"colorbar\":{\"outlinewidth\":0,\"ticks\":\"\"},\"colorscale\":[[0.0,\"#0d0887\"],[0.1111111111111111,\"#46039f\"],[0.2222222222222222,\"#7201a8\"],[0.3333333333333333,\"#9c179e\"],[0.4444444444444444,\"#bd3786\"],[0.5555555555555556,\"#d8576b\"],[0.6666666666666666,\"#ed7953\"],[0.7777777777777778,\"#fb9f3a\"],[0.8888888888888888,\"#fdca26\"],[1.0,\"#f0f921\"]]}],\"heatmap\":[{\"type\":\"heatmap\",\"colorbar\":{\"outlinewidth\":0,\"ticks\":\"\"},\"colorscale\":[[0.0,\"#0d0887\"],[0.1111111111111111,\"#46039f\"],[0.2222222222222222,\"#7201a8\"],[0.3333333333333333,\"#9c179e\"],[0.4444444444444444,\"#bd3786\"],[0.5555555555555556,\"#d8576b\"],[0.6666666666666666,\"#ed7953\"],[0.7777777777777778,\"#fb9f3a\"],[0.8888888888888888,\"#fdca26\"],[1.0,\"#f0f921\"]]}],\"heatmapgl\":[{\"type\":\"heatmapgl\",\"colorbar\":{\"outlinewidth\":0,\"ticks\":\"\"},\"colorscale\":[[0.0,\"#0d0887\"],[0.1111111111111111,\"#46039f\"],[0.2222222222222222,\"#7201a8\"],[0.3333333333333333,\"#9c179e\"],[0.4444444444444444,\"#bd3786\"],[0.5555555555555556,\"#d8576b\"],[0.6666666666666666,\"#ed7953\"],[0.7777777777777778,\"#fb9f3a\"],[0.8888888888888888,\"#fdca26\"],[1.0,\"#f0f921\"]]}],\"contourcarpet\":[{\"type\":\"contourcarpet\",\"colorbar\":{\"outlinewidth\":0,\"ticks\":\"\"}}],\"contour\":[{\"type\":\"contour\",\"colorbar\":{\"outlinewidth\":0,\"ticks\":\"\"},\"colorscale\":[[0.0,\"#0d0887\"],[0.1111111111111111,\"#46039f\"],[0.2222222222222222,\"#7201a8\"],[0.3333333333333333,\"#9c179e\"],[0.4444444444444444,\"#bd3786\"],[0.5555555555555556,\"#d8576b\"],[0.6666666666666666,\"#ed7953\"],[0.7777777777777778,\"#fb9f3a\"],[0.8888888888888888,\"#fdca26\"],[1.0,\"#f0f921\"]]}],\"surface\":[{\"type\":\"surface\",\"colorbar\":{\"outlinewidth\":0,\"ticks\":\"\"},\"colorscale\":[[0.0,\"#0d0887\"],[0.1111111111111111,\"#46039f\"],[0.2222222222222222,\"#7201a8\"],[0.3333333333333333,\"#9c179e\"],[0.4444444444444444,\"#bd3786\"],[0.5555555555555556,\"#d8576b\"],[0.6666666666666666,\"#ed7953\"],[0.7777777777777778,\"#fb9f3a\"],[0.8888888888888888,\"#fdca26\"],[1.0,\"#f0f921\"]]}],\"mesh3d\":[{\"type\":\"mesh3d\",\"colorbar\":{\"outlinewidth\":0,\"ticks\":\"\"}}],\"scatter\":[{\"fillpattern\":{\"fillmode\":\"overlay\",\"size\":10,\"solidity\":0.2},\"type\":\"scatter\"}],\"parcoords\":[{\"type\":\"parcoords\",\"line\":{\"colorbar\":{\"outlinewidth\":0,\"ticks\":\"\"}}}],\"scatterpolargl\":[{\"type\":\"scatterpolargl\",\"marker\":{\"colorbar\":{\"outlinewidth\":0,\"ticks\":\"\"}}}],\"bar\":[{\"error_x\":{\"color\":\"#2a3f5f\"},\"error_y\":{\"color\":\"#2a3f5f\"},\"marker\":{\"line\":{\"color\":\"#E5ECF6\",\"width\":0.5},\"pattern\":{\"fillmode\":\"overlay\",\"size\":10,\"solidity\":0.2}},\"type\":\"bar\"}],\"scattergeo\":[{\"type\":\"scattergeo\",\"marker\":{\"colorbar\":{\"outlinewidth\":0,\"ticks\":\"\"}}}],\"scatterpolar\":[{\"type\":\"scatterpolar\",\"marker\":{\"colorbar\":{\"outlinewidth\":0,\"ticks\":\"\"}}}],\"histogram\":[{\"marker\":{\"pattern\":{\"fillmode\":\"overlay\",\"size\":10,\"solidity\":0.2}},\"type\":\"histogram\"}],\"scattergl\":[{\"type\":\"scattergl\",\"marker\":{\"colorbar\":{\"outlinewidth\":0,\"ticks\":\"\"}}}],\"scatter3d\":[{\"type\":\"scatter3d\",\"line\":{\"colorbar\":{\"outlinewidth\":0,\"ticks\":\"\"}},\"marker\":{\"colorbar\":{\"outlinewidth\":0,\"ticks\":\"\"}}}],\"scattermapbox\":[{\"type\":\"scattermapbox\",\"marker\":{\"colorbar\":{\"outlinewidth\":0,\"ticks\":\"\"}}}],\"scatterternary\":[{\"type\":\"scatterternary\",\"marker\":{\"colorbar\":{\"outlinewidth\":0,\"ticks\":\"\"}}}],\"scattercarpet\":[{\"type\":\"scattercarpet\",\"marker\":{\"colorbar\":{\"outlinewidth\":0,\"ticks\":\"\"}}}],\"carpet\":[{\"aaxis\":{\"endlinecolor\":\"#2a3f5f\",\"gridcolor\":\"white\",\"linecolor\":\"white\",\"minorgridcolor\":\"white\",\"startlinecolor\":\"#2a3f5f\"},\"baxis\":{\"endlinecolor\":\"#2a3f5f\",\"gridcolor\":\"white\",\"linecolor\":\"white\",\"minorgridcolor\":\"white\",\"startlinecolor\":\"#2a3f5f\"},\"type\":\"carpet\"}],\"table\":[{\"cells\":{\"fill\":{\"color\":\"#EBF0F8\"},\"line\":{\"color\":\"white\"}},\"header\":{\"fill\":{\"color\":\"#C8D4E3\"},\"line\":{\"color\":\"white\"}},\"type\":\"table\"}],\"barpolar\":[{\"marker\":{\"line\":{\"color\":\"#E5ECF6\",\"width\":0.5},\"pattern\":{\"fillmode\":\"overlay\",\"size\":10,\"solidity\":0.2}},\"type\":\"barpolar\"}],\"pie\":[{\"automargin\":true,\"type\":\"pie\"}]},\"layout\":{\"autotypenumbers\":\"strict\",\"colorway\":[\"#636efa\",\"#EF553B\",\"#00cc96\",\"#ab63fa\",\"#FFA15A\",\"#19d3f3\",\"#FF6692\",\"#B6E880\",\"#FF97FF\",\"#FECB52\"],\"font\":{\"color\":\"#2a3f5f\"},\"hovermode\":\"closest\",\"hoverlabel\":{\"align\":\"left\"},\"paper_bgcolor\":\"white\",\"plot_bgcolor\":\"#E5ECF6\",\"polar\":{\"bgcolor\":\"#E5ECF6\",\"angularaxis\":{\"gridcolor\":\"white\",\"linecolor\":\"white\",\"ticks\":\"\"},\"radialaxis\":{\"gridcolor\":\"white\",\"linecolor\":\"white\",\"ticks\":\"\"}},\"ternary\":{\"bgcolor\":\"#E5ECF6\",\"aaxis\":{\"gridcolor\":\"white\",\"linecolor\":\"white\",\"ticks\":\"\"},\"baxis\":{\"gridcolor\":\"white\",\"linecolor\":\"white\",\"ticks\":\"\"},\"caxis\":{\"gridcolor\":\"white\",\"linecolor\":\"white\",\"ticks\":\"\"}},\"coloraxis\":{\"colorbar\":{\"outlinewidth\":0,\"ticks\":\"\"}},\"colorscale\":{\"sequential\":[[0.0,\"#0d0887\"],[0.1111111111111111,\"#46039f\"],[0.2222222222222222,\"#7201a8\"],[0.3333333333333333,\"#9c179e\"],[0.4444444444444444,\"#bd3786\"],[0.5555555555555556,\"#d8576b\"],[0.6666666666666666,\"#ed7953\"],[0.7777777777777778,\"#fb9f3a\"],[0.8888888888888888,\"#fdca26\"],[1.0,\"#f0f921\"]],\"sequentialminus\":[[0.0,\"#0d0887\"],[0.1111111111111111,\"#46039f\"],[0.2222222222222222,\"#7201a8\"],[0.3333333333333333,\"#9c179e\"],[0.4444444444444444,\"#bd3786\"],[0.5555555555555556,\"#d8576b\"],[0.6666666666666666,\"#ed7953\"],[0.7777777777777778,\"#fb9f3a\"],[0.8888888888888888,\"#fdca26\"],[1.0,\"#f0f921\"]],\"diverging\":[[0,\"#8e0152\"],[0.1,\"#c51b7d\"],[0.2,\"#de77ae\"],[0.3,\"#f1b6da\"],[0.4,\"#fde0ef\"],[0.5,\"#f7f7f7\"],[0.6,\"#e6f5d0\"],[0.7,\"#b8e186\"],[0.8,\"#7fbc41\"],[0.9,\"#4d9221\"],[1,\"#276419\"]]},\"xaxis\":{\"gridcolor\":\"white\",\"linecolor\":\"white\",\"ticks\":\"\",\"title\":{\"standoff\":15},\"zerolinecolor\":\"white\",\"automargin\":true,\"zerolinewidth\":2},\"yaxis\":{\"gridcolor\":\"white\",\"linecolor\":\"white\",\"ticks\":\"\",\"title\":{\"standoff\":15},\"zerolinecolor\":\"white\",\"automargin\":true,\"zerolinewidth\":2},\"scene\":{\"xaxis\":{\"backgroundcolor\":\"#E5ECF6\",\"gridcolor\":\"white\",\"linecolor\":\"white\",\"showbackground\":true,\"ticks\":\"\",\"zerolinecolor\":\"white\",\"gridwidth\":2},\"yaxis\":{\"backgroundcolor\":\"#E5ECF6\",\"gridcolor\":\"white\",\"linecolor\":\"white\",\"showbackground\":true,\"ticks\":\"\",\"zerolinecolor\":\"white\",\"gridwidth\":2},\"zaxis\":{\"backgroundcolor\":\"#E5ECF6\",\"gridcolor\":\"white\",\"linecolor\":\"white\",\"showbackground\":true,\"ticks\":\"\",\"zerolinecolor\":\"white\",\"gridwidth\":2}},\"shapedefaults\":{\"line\":{\"color\":\"#2a3f5f\"}},\"annotationdefaults\":{\"arrowcolor\":\"#2a3f5f\",\"arrowhead\":0,\"arrowwidth\":1},\"geo\":{\"bgcolor\":\"white\",\"landcolor\":\"#E5ECF6\",\"subunitcolor\":\"white\",\"showland\":true,\"showlakes\":true,\"lakecolor\":\"white\"},\"title\":{\"x\":0.05},\"mapbox\":{\"style\":\"light\"}}},\"xaxis\":{\"anchor\":\"y\",\"domain\":[0.0,1.0],\"title\":{\"text\":\"caracter\\u00edstica 0\"}},\"yaxis\":{\"anchor\":\"x\",\"domain\":[0.0,1.0],\"title\":{\"text\":\"caracteristica 1\"}},\"legend\":{\"tracegroupgap\":0},\"margin\":{\"t\":60},\"title\":{\"text\":\"Distribuci\\u00f3n de elementos seg\\u00fan sus nuevas caracteristicas\"}},                        {\"responsive\": true}                    ).then(function(){\n",
              "                            \n",
              "var gd = document.getElementById('522d892c-c06f-4291-bf3e-162cccb1feb2');\n",
              "var x = new MutationObserver(function (mutations, observer) {{\n",
              "        var display = window.getComputedStyle(gd).display;\n",
              "        if (!display || display === 'none') {{\n",
              "            console.log([gd, 'removed!']);\n",
              "            Plotly.purge(gd);\n",
              "            observer.disconnect();\n",
              "        }}\n",
              "}});\n",
              "\n",
              "// Listen for the removal of the full notebook cells\n",
              "var notebookContainer = gd.closest('#notebook-container');\n",
              "if (notebookContainer) {{\n",
              "    x.observe(notebookContainer, {childList: true});\n",
              "}}\n",
              "\n",
              "// Listen for the clearing of the current output cell\n",
              "var outputEl = gd.closest('.output');\n",
              "if (outputEl) {{\n",
              "    x.observe(outputEl, {childList: true});\n",
              "}}\n",
              "\n",
              "                        })                };                            </script>        </div>\n",
              "</body>\n",
              "</html>"
            ]
          },
          "metadata": {}
        }
      ]
    },
    {
      "cell_type": "code",
      "source": [
        "import plotly.graph_objects as go\n",
        "\n",
        "\n",
        "\n",
        "fig = go.Figure()\n",
        "fig.add_trace(go.Histogram(x=df_preprocesado[0]))\n",
        "fig.add_trace(go.Histogram(x=df_preprocesado[1]))\n",
        "\n",
        "# Overlay both histograms\n",
        "fig.update_layout(barmode='overlay', title=\"Histograma de valores de cada nueva caracteristica\", xaxis_title=\"frecuencia\",\n",
        "    yaxis_title=\"valor\")\n",
        "# Reduce opacity to see both histograms\n",
        "fig.update_traces(opacity=0.75)\n",
        "fig.show()"
      ],
      "metadata": {
        "id": "bjpjnl-krn2s",
        "colab": {
          "base_uri": "https://localhost:8080/",
          "height": 542
        },
        "outputId": "b6717765-52b6-427d-e8f3-1dd670326837"
      },
      "execution_count": 35,
      "outputs": [
        {
          "output_type": "display_data",
          "data": {
            "text/html": [
              "<html>\n",
              "<head><meta charset=\"utf-8\" /></head>\n",
              "<body>\n",
              "    <div>            <script src=\"https://cdnjs.cloudflare.com/ajax/libs/mathjax/2.7.5/MathJax.js?config=TeX-AMS-MML_SVG\"></script><script type=\"text/javascript\">if (window.MathJax && window.MathJax.Hub && window.MathJax.Hub.Config) {window.MathJax.Hub.Config({SVG: {font: \"STIX-Web\"}});}</script>                <script type=\"text/javascript\">window.PlotlyConfig = {MathJaxConfig: 'local'};</script>\n",
              "        <script src=\"https://cdn.plot.ly/plotly-2.14.0.min.js\"></script>                <div id=\"2acca052-1d94-471a-86c7-df1ce01958b3\" class=\"plotly-graph-div\" style=\"height:525px; width:100%;\"></div>            <script type=\"text/javascript\">                                    window.PLOTLYENV=window.PLOTLYENV || {};                                    if (document.getElementById(\"2acca052-1d94-471a-86c7-df1ce01958b3\")) {                    Plotly.newPlot(                        \"2acca052-1d94-471a-86c7-df1ce01958b3\",                        [{\"x\":[-28.864707946777344,64.17577362060547,71.31275177001953,-34.65705871582031,73.37989044189453,70.84860229492188,72.41996002197266,55.99137878417969,63.31806945800781,72.19037628173828,-50.650123596191406,-44.644989013671875,-39.234867095947266,-41.7453727722168,50.713924407958984,53.406490325927734,53.598388671875,-34.486995697021484,-22.522987365722656,-35.498321533203125,-12.827427864074707,-34.75261688232422,64.61710357666016,-29.98006820678711,56.239891052246094,-24.6216983795166,-39.141380310058594,73.25379180908203,73.75605010986328,72.03260040283203,-25.889429092407227,-36.44113540649414,-39.56300735473633,55.111446380615234,63.66766357421875,-36.16025924682617,52.046226501464844,-41.92976760864258,72.08697509765625,-44.23908233642578,57.62468338012695,51.78628921508789,-44.829349517822266,-24.067811965942383,-27.546459197998047,58.161048889160156,72.38566589355469,-26.07040786743164,72.6920394897461,52.5323600769043,-26.304492950439453,52.613914489746094,-53.766441345214844,-34.39741516113281,64.70729064941406,-21.179414749145508,-53.70220947265625,-20.979806900024414,-25.163761138916016,70.82713317871094,52.35153579711914,73.68267822265625,-34.05288314819336,-53.778282165527344,-23.609588623046875,73.35530090332031,-47.755638122558594,-52.93247985839844,-12.684465408325195,-41.87837219238281,73.86148834228516,50.61906814575195,71.89881896972656,64.55477142333984,-22.445068359375,-15.325143814086914,61.85594940185547,-44.108097076416016,71.23686218261719,-20.336191177368164,54.44234848022461,70.4433822631836,51.69440460205078,71.79157257080078,-25.856021881103516,50.20115661621094,51.43629455566406,-52.761871337890625,-52.38261032104492,-55.558021545410156,72.39697265625,-23.315643310546875,-40.316505432128906,-23.48750114440918,-34.45066452026367,-23.083234786987305,-55.30561447143555,-39.2786865234375,57.41023635864258,71.38324737548828,50.52252197265625,-50.360286712646484,72.73332977294922,-33.85273361206055,52.86824035644531,48.95866394042969,-41.864192962646484,56.314212799072266,-42.94509506225586,61.17095947265625,-28.7251033782959,72.43270111083984,55.39075469970703,-44.22959518432617,71.30753326416016,52.76652908325195,-27.907489776611328,69.59996795654297,-52.260807037353516,-55.61648941040039,-26.16121482849121,47.735538482666016,57.507205963134766,-39.187984466552734,51.28487014770508,-16.983169555664062,72.52629089355469,73.61490631103516,-35.485862731933594,-52.372154235839844,-26.769838333129883,70.57081604003906,58.292320251464844,-27.499300003051758,64.17292022705078,70.52198028564453,51.47478103637695,-46.51780319213867,63.41721725463867,72.727783203125,-55.14609146118164,52.509544372558594,51.41477584838867,-22.66958236694336,-20.129133224487305,-25.546741485595703,-32.22900390625,62.89078903198242,55.56711196899414,-27.11970329284668,-52.20842742919922,-32.242149353027344,-34.81789779663086,-33.14877700805664,65.95306396484375,49.010986328125,-36.84272384643555,58.1902961730957,-35.61069869995117,-34.41207504272461,-52.01760482788086,72.96085357666016,-22.30165672302246,51.30360794067383,72.97785949707031,-49.04277801513672,-49.0839729309082,-34.269493103027344,73.58496856689453,56.1252555847168,-55.47135543823242,-44.12385559082031,-16.9344539642334,64.18425750732422,-42.831703186035156,47.77259826660156,-26.91122817993164,49.61172103881836,62.45875930786133,49.92596435546875,-27.258556365966797,52.674842834472656,-29.734554290771484,-36.83312225341797,-35.64741516113281,-38.74367141723633,-53.057403564453125,-38.6796760559082,-42.32825469970703,-22.451446533203125,71.94087219238281,57.554542541503906,72.43888092041016,-25.837711334228516,71.8543472290039,-41.59211349487305,-12.644830703735352,-41.76624298095703,-41.58047866821289,73.71012115478516,-43.21040725708008,-41.23189163208008,53.970977783203125,54.53275680541992,73.38534545898438,48.70637893676758,-14.70065689086914,-17.022205352783203,-53.87431335449219,-52.546592712402344,-52.264923095703125,-48.47916030883789,74.61273193359375,54.33558654785156,72.55027770996094,52.80018615722656,-24.896259307861328,72.5079345703125,-25.66638946533203,-20.158214569091797,54.66846466064453,72.75565338134766,-24.267141342163086,-22.585494995117188,-27.00296401977539,-50.74335861206055,-51.91356658935547,-13.065892219543457,-51.724327087402344,-49.243656158447266,54.608978271484375,-26.080835342407227,-20.632099151611328,-27.37886619567871,-34.055702209472656,-37.095333099365234,-41.73634338378906,74.39539337158203,57.636558532714844,-41.882118225097656,-55.31827163696289,66.17337799072266,52.34649658203125,74.8036117553711,72.53399658203125,49.966339111328125,53.26293182373047,-31.710205078125,-41.048927307128906,56.92145919799805,-51.75693893432617,-52.790306091308594,-26.968273162841797,71.36936950683594,-48.697242736816406,-44.09574890136719,-45.38329315185547,70.85335540771484,56.1805419921875,74.94904327392578,-26.53085708618164,63.963951110839844,74.78038024902344,71.13887023925781,70.8124008178711,69.75137329101562,55.7857666015625,57.02822494506836,65.86378479003906,50.614418029785156,70.7717514038086,-33.61410140991211,-48.736297607421875,54.16019821166992,-26.12035369873047,57.380863189697266,-41.903324127197266,53.66217803955078,73.1465072631836,-13.687104225158691,-28.223920822143555,73.31726837158203,-38.198387145996094,57.03140640258789,65.12374877929688,52.88555908203125,62.897705078125,72.7068099975586,57.2558708190918,-35.611366271972656,58.278221130371094,-25.726320266723633,74.2618179321289,47.14190673828125,-48.07356643676758,-26.769577026367188,74.70956420898438,-22.658241271972656,-15.984066009521484,-26.157678604125977,63.41767883300781,-40.76023483276367,64.32909393310547,70.77437591552734,-48.03813934326172,53.50421905517578,-54.90252685546875,-17.655092239379883,-46.84780502319336,56.36419677734375,55.81048583984375,-52.37965774536133,-50.981178283691406,55.500492095947266,-41.667518615722656,-51.47306442260742,-41.36606979370117,-23.337791442871094,-51.978668212890625,-51.53640365600586,-26.434974670410156,49.91888427734375,74.59956359863281,50.13943099975586,-33.617286682128906,71.3171615600586,70.05543518066406,-38.88398742675781,-28.321847915649414,64.80850982666016,-42.407745361328125,74.80994415283203,70.7670669555664,49.55356216430664,53.05104446411133,-19.694936752319336,-38.282859802246094,57.911865234375,-20.591650009155273,47.123321533203125,-49.25,65.96405792236328,49.889923095703125,-38.1887092590332,71.6171875,-51.45964050292969,-40.87973403930664,-28.16762351989746,-40.908260345458984,-29.726072311401367,-54.735904693603516,-29.46807289123535,74.8721694946289,-24.634525299072266,74.76518249511719,-40.81591033935547,74.20421600341797,54.85088348388672,-27.688953399658203,-30.36174774169922,73.2083511352539,72.61784362792969,72.23284912109375,-16.52882957458496,-20.48982048034668,-41.13310623168945,-37.735816955566406,-36.8131217956543,56.19295883178711,-47.8359489440918,73.9806137084961,-31.51237678527832,-37.30122756958008,-45.153587341308594,61.230323791503906,-31.418914794921875,-52.112327575683594,-29.113107681274414,-46.71424865722656,53.98043441772461,-39.5020866394043,74.35578155517578,-27.627941131591797,-51.27405548095703,-25.089431762695312,-32.49628829956055,48.246334075927734,-38.14707565307617,-43.28944778442383,-54.59987258911133,48.69327926635742,75.47229766845703,-11.768601417541504,50.601654052734375,71.86785125732422,75.21389770507812,-7.997834205627441,-50.032447814941406,-53.48753356933594,56.52912902832031,51.490623474121094,-22.705150604248047,-28.531822204589844,-29.075576782226562,69.34420013427734,-42.23225402832031,75.02537536621094,-26.713228225708008,71.75623321533203,74.06574249267578,53.42206954956055,-32.12327575683594,-51.0036506652832,-38.792381286621094,72.94337463378906,54.77385330200195,-33.0304069519043,-43.880924224853516,47.15782165527344,-39.83174133300781,48.372562408447266,-51.47873306274414,-37.96991729736328,53.5422248840332,-38.18598175048828,-40.17195510864258,-53.73509216308594,-36.96811294555664,74.6859359741211,48.59723663330078,-35.75,75.23762512207031,-37.70892333984375,-27.92206573486328,48.54391098022461,-51.69094467163086,64.42066192626953,-51.688899993896484,63.979095458984375,54.1262092590332,-52.09137725830078,49.95634460449219,-40.60139465332031,75.37388610839844,-26.5765323638916,-50.62189865112305,72.05683135986328,-28.05520248413086,-38.13507843017578,-44.61500549316406,-16.150535583496094,-48.70644760131836,71.52476501464844,55.83159637451172,-18.887985229492188,48.236358642578125,-42.53502655029297,-53.87065124511719,-23.858291625976562,75.43585205078125,-25.71303939819336,-14.104426383972168,71.44606018066406,64.33610534667969,71.39395904541016,49.50893783569336,-48.30613708496094,-27.465259552001953,-25.797475814819336,-24.96086311340332,-42.001190185546875,-19.91541290283203,70.27149963378906,-50.66298294067383,-42.65182113647461,66.09542083740234,-51.567230224609375,-11.477179527282715,-38.34590148925781,52.207725524902344,71.76818084716797,54.99323654174805,-20.505794525146484,-37.02484893798828,69.21385955810547,-11.548527717590332,-27.945472717285156,63.3550910949707,-23.62725830078125,-42.96729278564453,52.47385025024414,64.01302337646484,-41.83985900878906,70.03326416015625,-48.425750732421875,-51.0753288269043,71.74374389648438,-33.22806167602539,-52.28105163574219,-54.502899169921875,71.3751449584961,68.82188415527344,-25.684051513671875,73.38499450683594,48.312259674072266,71.67694091796875,-52.40138244628906,-22.538679122924805,-7.877577304840088,-42.246986389160156,-51.90977096557617,64.66718292236328,72.61576843261719,-50.65279006958008,-28.556739807128906,-40.576934814453125,-24.41352653503418,-41.224998474121094,70.7927017211914,71.74657440185547,-42.894710540771484,61.613441467285156,54.73164749145508,-44.18977737426758,48.50469970703125,55.05887985229492,-40.57926559448242,48.15853500366211,-38.041072845458984,-40.54571533203125,60.76943588256836,50.03410720825195,-17.949466705322266,73.0302734375,55.55012893676758,-55.49297332763672,51.52037811279297,-18.751577377319336,-38.74721145629883,69.6480712890625,65.71810913085938,68.61775970458984,-47.396236419677734,-21.576101303100586,64.43777465820312,70.32823944091797,-21.990137100219727,-50.01835250854492,53.279422760009766,70.77313232421875,-37.20362854003906,-49.74364471435547,-31.71026039123535,46.39750671386719,-43.032745361328125,-45.26866912841797,-21.926864624023438,-31.33248519897461,-38.70494079589844,72.5591812133789,68.29996490478516,-47.75673294067383,52.25221252441406,-15.908576965332031,71.29460144042969,71.21064758300781,72.37019348144531,54.78252410888672,54.082332611083984,71.85761260986328,-46.611534118652344,-49.49708938598633,-23.91708755493164,70.44778442382812,-51.868263244628906,51.799835205078125,52.33420181274414,72.57418823242188,-41.60266876220703,-7.763607501983643,-31.629148483276367,50.39422607421875,-26.62429428100586,70.55760192871094,70.90709686279297,-29.010404586791992,52.18409729003906,61.781436920166016,-50.35660171508789,-25.61363410949707,-47.93840026855469,-47.80291748046875,48.09346008300781,68.78656768798828,-48.59703063964844,-25.13887596130371,-40.57894515991211,-27.98244857788086,-46.16460418701172,-28.73137855529785,-40.93988037109375,71.41529083251953,50.493167877197266,51.730045318603516,53.36703109741211,53.253849029541016,-39.80845642089844,-48.06943893432617,71.78942108154297,-40.41565704345703,-39.93374252319336,-9.2069673538208,71.94993591308594,-24.823211669921875,-13.989944458007812,-39.913658142089844,70.65425872802734,-38.252357482910156,-34.97136688232422,69.35242462158203,-21.933080673217773,-43.195594787597656,59.88641357421875,71.1176528930664,-38.54512023925781,-39.88776779174805,72.17182922363281,-22.65699005126953,69.01728057861328,64.06271362304688,-40.99633026123047,-32.38854217529297,61.851863861083984,68.66875457763672,-48.18145751953125,-49.77009582519531,-48.21604537963867,72.471923828125,70.52033996582031,-39.118873596191406,-37.67390060424805,-24.817346572875977,-36.216888427734375,-32.11421585083008,68.67864990234375,70.65003967285156,-12.408864974975586,-10.70244026184082,52.21222686767578,-23.79835319519043,-41.306312561035156,48.07894515991211,68.56361389160156,-37.78087615966797,-21.057281494140625,-43.22667694091797,50.465755462646484,-32.129417419433594,-25.573345184326172,-28.581174850463867,-19.865646362304688,-30.68583106994629,54.308292388916016,70.79354858398438,-39.251155853271484,-29.542909622192383,68.94539642333984,-14.881099700927734,52.282196044921875,71.14745330810547,63.82240676879883,67.97452545166016,-42.98051071166992,48.86993408203125,-29.944116592407227,-48.191314697265625,-50.44431686401367,60.3019905090332,-22.041868209838867,68.63064575195312,-49.314125061035156,-46.53279495239258,-39.4671745300293,70.4640884399414,-31.752498626708984,-16.63471221923828,53.818511962890625,-31.054174423217773,-41.64854049682617,-25.0966796875,-25.7625675201416,70.07292938232422,-38.146636962890625,-24.03872299194336,60.90190887451172,69.62769317626953,68.34918975830078,66.45801544189453,71.74413299560547,71.57881927490234,-17.08534812927246,-44.296600341796875,61.075008392333984,67.71102142333984,-38.908111572265625,68.13558959960938,-47.50511932373047,-40.196311950683594,53.81578063964844,-20.978778839111328,61.77846908569336,68.90208435058594,51.587738037109375,48.961917877197266,-27.443893432617188,-42.499210357666016,62.3067512512207,-42.52911376953125,67.36726379394531,-13.542098999023438,52.46501922607422,-29.46792221069336,-39.62102508544922,-39.13056564331055,-32.6231689453125,-21.111238479614258,-50.042728424072266,-38.5665168762207,50.69624328613281,-25.108741760253906,-16.88018035888672,-41.92313766479492,47.72677993774414,-25.459095001220703,-48.91189956665039,-41.27593231201172,67.80867004394531,67.11831665039062,-13.0753173828125,-47.78850555419922,-32.32026672363281,49.17205047607422,-39.16335678100586,-10.872514724731445,-31.644376754760742,-30.117630004882812,-21.7459659576416,53.666786193847656,-22.449487686157227,45.0113410949707,67.4432601928711,-23.22613525390625,-41.39185333251953,-22.07978057861328,50.362060546875,-41.06342697143555,-46.503902435302734,-39.09082794189453,-40.51987838745117,66.20684051513672,65.3754653930664,49.85396194458008,-42.88035202026367,-8.709161758422852,65.97930145263672,-9.551238059997559,-31.665340423583984,-39.170684814453125,-31.313447952270508,-23.351688385009766,-31.443483352661133,-49.97013854980469,49.39785385131836,-13.500194549560547,-27.33582878112793,59.96135711669922,-29.481388092041016,-40.76584243774414,-41.45002746582031,60.08779525756836,-39.00260925292969,-43.993343353271484,50.20782470703125,-38.728206634521484,-46.43363952636719,-35.8849983215332,-43.90900802612305,49.29747772216797,-47.39453887939453,-40.95619583129883,-42.566162109375,47.59678649902344,64.67366790771484,-13.191234588623047,-22.262252807617188,-28.728309631347656,-13.73186206817627,49.6304931640625,55.629154205322266,-45.842567443847656,48.56140899658203,-32.324737548828125,-33.32236862182617,-39.37179183959961,-32.35647964477539,64.17860412597656,63.8707389831543,-45.98527145385742,61.93876647949219,-7.343292236328125,-42.57855224609375,49.74738693237305,-43.02753448486328,-22.55695152282715,64.24942016601562,60.577632904052734,-38.18712615966797,-21.2935733795166,-34.882415771484375,-23.020793914794922,-42.08317184448242,-9.192276954650879,-32.71864700317383,-23.012062072753906,61.59810256958008,63.870025634765625,56.60989761352539,64.23822784423828,64.2509765625,48.794124603271484,-36.4492301940918,48.37937927246094,-13.639501571655273,-43.17451477050781,55.72972106933594,-43.43235397338867,45.170719146728516,-37.53030014038086,-42.888145446777344,-51.32292556762695,63.54573440551758,-35.646854400634766,-20.794540405273438,60.00799560546875,-47.21434783935547,-31.57920265197754,63.11798095703125,-42.249168395996094,-43.48268127441406,63.369659423828125,-31.875965118408203,63.46461868286133,63.02757263183594,-37.50973129272461,48.19677734375,-31.403030395507812,-33.173988342285156,52.86578369140625,-30.280712127685547,-42.7838249206543,-46.58161926269531,-42.37333297729492,-39.66435623168945,55.83551025390625,-15.872305870056152,61.50893783569336,-26.484725952148438,-46.399349212646484,49.34029006958008,-22.974565505981445,-29.538387298583984,48.715065002441406,-31.377477645874023,63.0231819152832,52.7372932434082,50.33562469482422,-49.01839065551758,-41.71992492675781,49.30152893066406,-33.70418167114258,-23.09823989868164,-38.51701354980469,-16.06827163696289,-12.366291046142578,-16.358158111572266,53.104549407958984,47.64366912841797,-42.88418197631836,63.2110481262207,50.16664505004883,63.43663024902344,-23.550216674804688,48.07160568237305,-37.409278869628906,-31.755903244018555,-44.88825607299805,-30.666627883911133,60.86689376831055,49.698280334472656,-25.73487091064453,51.337791442871094,-42.75740432739258,60.97565460205078,-20.688032150268555,-43.455448150634766,-30.18327522277832,-43.813446044921875,63.07954788208008,-31.705156326293945,55.19655227661133,-42.94122314453125,-31.74232292175293,-12.688020706176758,-46.70520782470703,-40.58805465698242,62.32846450805664,49.75933837890625,-29.142492294311523,-31.439321517944336,-19.07221221923828,-38.84281921386719,-42.53740692138672,61.894622802734375,62.356346130371094,46.95735168457031,60.585487365722656,-12.047615051269531,-12.019002914428711,-40.77408981323242,-42.56864929199219,59.555721282958984,-30.507801055908203,57.265724182128906,60.233211517333984,48.75544357299805,59.93882751464844,61.979434967041016,57.35603332519531,-44.78316116333008,-50.98563003540039,50.560791015625,-29.62749481201172,-11.010665893554688,51.84479522705078,-30.338407516479492,59.7068977355957,59.723148345947266,61.00948715209961,-40.15390396118164,48.86205291748047,-18.948320388793945,-40.80046844482422,-31.942604064941406,-43.034420013427734,49.22852325439453,-30.15692138671875,59.08102798461914,-37.0826416015625,58.59620666503906,-21.447200775146484,61.45480728149414,-30.134920120239258,-31.151594161987305,48.39142990112305,-26.03607177734375,-40.9849853515625,-30.389089584350586,-38.832191467285156,-20.424829483032227,-42.72489547729492,-39.21167755126953,61.2437744140625,52.307369232177734,-43.382789611816406,51.70873260498047,60.17076110839844,28.94593620300293,-30.967390060424805,-29.37772560119629,52.166664123535156,-24.104854583740234,59.46947479248047,-45.53948211669922,47.327064514160156,-46.04875183105469,-30.17038917541504,-21.21417999267578,-24.253828048706055,57.04250717163086,-20.568906784057617,47.6972541809082,52.91128158569336,-49.12200164794922,-6.902710914611816,-42.83579635620117,-38.86553955078125,-25.527956008911133,-22.774194717407227,-37.77362060546875,49.58378982543945,52.91588592529297,-49.0357780456543,-11.224409103393555,52.25730895996094,59.76894760131836,-15.72073745727539,-23.498397827148438,-25.650686264038086,49.10000991821289,44.60879898071289,-40.68562316894531,-40.22429275512695,52.4328498840332,59.83683395385742,59.10609817504883,47.62937545776367,51.34392547607422,-29.054630279541016,52.457908630371094,-21.21053123474121,-49.16891098022461,-23.6384334564209,-38.5957145690918,-37.28742980957031,-31.946990966796875,52.16501235961914,-40.86249542236328,27.88066864013672,-25.930532455444336,51.657676696777344,-39.68782043457031,58.57780838012695,-23.742273330688477,-31.348440170288086,-30.573455810546875,-42.29949188232422,-37.278560638427734,-15.253662109375,58.53401184082031,49.3702278137207,-40.805572509765625,58.4043083190918,58.81365966796875,-11.133525848388672,-20.122007369995117,57.07606887817383,-30.75348663330078,52.39972686767578,58.34751892089844,-37.13390350341797,59.06047821044922,58.618797302246094,40.96192169189453,-40.699867248535156,-31.458681106567383,-31.851272583007812,48.038734436035156,-44.682010650634766,-41.80066680908203,-23.380958557128906,-30.092161178588867,51.22122573852539,-11.455079078674316,58.54933547973633,-14.97628116607666,58.87847137451172,-49.830570220947266,-28.640819549560547,-23.525711059570312,-24.2637882232666,-27.138916015625,-25.762170791625977,-40.34810256958008,-35.49345397949219,-7.2895307540893555,46.85594940185547,-31.2291316986084,-35.65436553955078,-42.531063079833984,-18.610754013061523,-20.92856216430664,-39.15316390991211,-41.497474670410156,-30.90517807006836,-11.787168502807617,-35.574161529541016,47.23303985595703,-36.251678466796875,57.49695587158203,-35.96834945678711,-40.64848327636719,-25.395078659057617,57.75511169433594,40.34626007080078,57.38428497314453,41.04049301147461,-11.345396995544434,-22.881391525268555,56.79383087158203,51.256103515625,57.73064041137695,-20.97460174560547,-11.179003715515137,-15.324149131774902,-38.73277282714844,58.26184844970703,56.086692810058594,-23.03973388671875,-45.16615676879883,-6.9349212646484375,54.03600311279297,57.10020065307617,-20.876585006713867,-44.053558349609375,50.05145263671875,48.513675689697266,41.57500076293945,25.991132736206055,-40.222286224365234,-38.93118667602539,-41.42026901245117,-23.586551666259766,57.34927749633789,-21.16796112060547,-42.53358840942383,-18.500669479370117,56.982913970947266,55.646018981933594,-35.079307556152344,28.941003799438477,-33.54725646972656,55.569557189941406,56.78289794921875,56.034183502197266,-35.383766174316406,28.68790626525879,-22.894197463989258,48.24532699584961,-26.290449142456055,-13.195016860961914,56.26411819458008,-40.04411697387695,-23.5683650970459,56.04945373535156,-43.041725158691406,-40.93743133544922,-44.543785095214844,-36.939178466796875,53.76582336425781,-36.6375732421875,-17.17255401611328,26.109466552734375,-43.2221565246582,-40.22974395751953,53.86000442504883,-4.289524078369141,-10.8399076461792,-41.97314453125,-24.29694175720215,-10.284829139709473,39.656314849853516,24.83001136779785,-23.154605865478516,50.03007125854492,55.08810806274414,51.7922477722168,39.21490478515625,-10.146488189697266,-36.62476348876953,-32.955535888671875,-23.7511043548584,48.234657287597656,40.812095642089844,26.232444763183594,-20.443132400512695,50.81891632080078,56.024845123291016,-22.245046615600586,-10.080729484558105,-4.94565486907959,-45.59896469116211,-48.49944305419922,-40.15095520019531,48.414310455322266,-20.3555965423584,-41.93582534790039,-37.21226119995117,48.055938720703125,-42.156036376953125,39.44217300415039,-35.78643035888672,-22.309247970581055,-41.58161926269531,-37.030696868896484,55.42946243286133,-14.168577194213867,-45.05514907836914,55.56126022338867,25.604854583740234,-12.483647346496582,-40.867713928222656,25.877798080444336,-34.784095764160156,-28.15114402770996,-44.24171829223633,-36.43678283691406,-19.801860809326172,28.653846740722656,-21.97731590270996,26.24735450744629,39.73408508300781,39.98810958862305,40.607322692871094,-9.399787902832031,54.98493957519531,-20.66489028930664,39.6099967956543,-37.22685623168945,-41.05841064453125,54.999778747558594,-41.12852096557617,50.052913665771484,-43.44291687011719,50.62611389160156,-38.03230667114258,49.06409454345703,-5.876134395599365,-40.183326721191406,51.0460205078125,39.032569885253906,-10.436482429504395,-42.85056686401367,-19.56955909729004,39.61359405517578,0.17381693422794342,-38.624027252197266,38.710105895996094,-21.620494842529297,-6.365103721618652,-34.85256576538086,-20.566099166870117,-44.27936553955078,-20.288755416870117,-10.809142112731934,50.78816604614258,-38.008705139160156,-30.341102600097656,38.611576080322266,50.451210021972656,28.472789764404297,47.733638763427734,-15.015542030334473,-30.544036865234375,39.6110954284668,38.4965705871582,-44.03334045410156,-44.80668258666992,-42.056434631347656,38.905067443847656,-3.9324018955230713,-37.03010940551758,49.74474334716797,-11.912666320800781,-38.4918098449707,-27.702129364013672,50.29697036743164,-5.898621559143066,-26.924192428588867,49.662452697753906,-33.285377502441406,-34.2905387878418,-30.158390045166016,-38.63390350341797,-24.893569946289062,-40.32107162475586,49.62730026245117,-10.237369537353516,-24.78572654724121,-8.356411933898926,49.07637023925781,52.51399612426758,38.18708419799805,-6.599844932556152,-6.842355251312256,-24.331205368041992,52.03763961791992,-26.405664443969727,-8.928028106689453,-8.269865036010742,-13.395735740661621,25.968242645263672,-25.339723587036133,49.28186798095703,52.2690315246582,38.75369644165039,-37.826210021972656,49.77311325073242,49.74794387817383,-36.55839920043945,-14.368656158447266,49.50532913208008,-22.85830307006836,-18.103126525878906,39.176822662353516,0.05381959676742554,-27.90163230895996,49.49198913574219,-39.945674896240234,-19.705608367919922,52.12186813354492,38.33723831176758,41.06664276123047,-36.33541488647461,-39.33988952636719,-39.92201232910156,48.85016632080078,49.19838333129883,-40.018619537353516,49.05675506591797,-8.986512184143066,25.203933715820312,37.565513610839844,-13.624727249145508,-13.544179916381836,-21.155447006225586,48.5733757019043,-17.4834041595459,-17.151094436645508,23.588125228881836,-18.722978591918945,48.425514221191406,-19.394670486450195,-20.106801986694336,-9.23560905456543,-9.067466735839844,-6.452475070953369,-23.322874069213867,48.54432678222656,37.859012603759766,-6.400356769561768,38.17378234863281,-14.35407829284668,26.089094161987305,-21.79766845703125,49.03389358520508,-9.89910888671875,48.120765686035156,40.963104248046875,-28.807832717895508,-25.927997589111328,-38.497406005859375,-17.77948760986328,48.04337692260742,-20.491289138793945,-9.270318984985352,47.86933135986328,47.972171783447266,47.744197845458984,48.269203186035156,36.872684478759766,37.53816604614258,-19.913339614868164,-24.02971076965332,-36.47287368774414,48.089542388916016,-11.117374420166016,48.04789352416992,-36.8828010559082,-16.341175079345703,37.66323471069336,-25.51553726196289,-36.66349792480469,-38.06142807006836,-44.189334869384766,-19.831270217895508,-29.67161750793457,47.717918395996094,-37.199951171875,-8.208833694458008,-33.70823287963867,-41.53518295288086,-20.629154205322266,-37.681880950927734,29.511865615844727,-8.734251976013184,-33.13481140136719,-41.45549011230469,36.89901351928711,-7.707895278930664,47.0924186706543,40.05003356933594,-18.036264419555664,47.02809524536133,-3.351787805557251,-14.814130783081055,46.831024169921875,46.984230041503906,-19.619295120239258,28.32889175415039,-28.21530532836914,-37.015647888183594,39.91370391845703,25.300189971923828,-37.4651985168457,46.487083435058594,-39.560279846191406,37.38626480102539,28.89982032775879,-14.073454856872559,40.07346725463867,46.42708206176758,-38.528141021728516,28.434118270874023,-20.695663452148438,-34.71364212036133,23.42951774597168,36.36252975463867,28.005924224853516,29.800952911376953,-27.22705841064453,28.691192626953125,39.51844024658203,28.02464485168457,-37.03647232055664,39.92974853515625,-4.7047295570373535,-19.33066749572754,-8.440276145935059,39.74850845336914,24.057464599609375,36.14219665527344,36.94515609741211,24.54741668701172,36.08219528198242,44.69939041137695,43.786705017089844,39.97654724121094,-36.45541763305664,-14.501273155212402,24.685997009277344,39.25984573364258,44.86492919921875,39.38459396362305,-13.900527954101562,-40.47299575805664,-6.895698070526123,-33.95444107055664,-8.952356338500977,-21.36100196838379,36.0745964050293,-3.4620583057403564,-39.85736846923828,42.96544647216797,-21.263675689697266,-13.452762603759766,27.313825607299805,44.0700569152832,-29.512115478515625,42.65986251831055,-38.447784423828125,43.41433334350586,42.73067092895508,-34.15582275390625,-14.139491081237793,-38.34230041503906,-36.354835510253906,-29.867525100708008,-19.810596466064453,-9.593369483947754,43.087730407714844,-17.947551727294922,-32.904197692871094,43.4959602355957,39.593528747558594,39.10158920288086,-18.473735809326172,-16.269018173217773,-44.32681655883789,-34.55057144165039,-18.185815811157227,42.065242767333984,43.58846664428711,43.5684928894043,42.47588348388672,42.75480270385742,23.022146224975586,-29.3709659576416,-34.354949951171875,-6.715572357177734,-40.64970779418945,-3.1354031562805176,42.22734451293945,35.32945251464844,-37.41524887084961,-34.72188186645508,43.319034576416016,39.37077331542969,-3.2214462757110596,-21.340835571289062,-39.535823822021484,-38.0054817199707,34.20503616333008,-20.31679344177246,43.104061126708984,-12.18809700012207,34.80837631225586,38.164188385009766,42.49560546875,-25.275800704956055,-39.399051666259766,-30.16326332092285,-29.807453155517578,-23.89401626586914,21.948795318603516,33.84884262084961,-37.50751495361328,21.99464988708496,41.89239501953125,-12.012474060058594,29.927776336669922,41.57331466674805,-18.81728172302246,-19.2940673828125,-37.060028076171875,34.76491165161133,-27.0826358795166,34.63746643066406,-13.661750793457031,21.859394073486328,-35.88905715942383,-29.21537971496582,-39.22925567626953,0.514842689037323,38.277137756347656,23.170333862304688,-39.97872543334961,1.949855089187622,-21.925687789916992,2.178112030029297,38.46717834472656,-5.021998405456543,38.87348175048828,-22.830896377563477,37.19685363769531,-21.07879066467285,41.21360397338867,-33.618717193603516,-33.98797607421875,38.962493896484375,-21.174039840698242,-18.737504959106445,-14.143145561218262,-19.700164794921875,34.298439025878906,-13.383620262145996,-37.326751708984375,-21.870079040527344,-33.944862365722656,39.019264221191406,34.075984954833984,-37.00115203857422,-15.96667766571045,-34.31219482421875,23.62110137939453,-23.934677124023438,-8.317170143127441,-16.664348602294922,-37.77799606323242,-21.992431640625,-22.39839744567871,40.581298828125,-33.53656768798828,-20.119665145874023,19.509294509887695,-30.728361129760742,38.657901763916016,-8.208152770996094,39.85874557495117,-14.241673469543457,39.652252197265625,39.925201416015625,-14.188081741333008,-36.94168472290039,32.302581787109375,38.23884201049805,40.303443908691406,-29.37598991394043,39.69594192504883,37.641456604003906,37.204490661621094,-18.471336364746094,-18.378055572509766,25.373661041259766,34.69758605957031,40.083473205566406,-33.846160888671875,-37.32119369506836,39.93435287475586,-9.108704566955566,33.7209587097168,23.019264221191406,34.98371505737305,-6.22963809967041,39.818878173828125,33.61256790161133,33.58675003051758,-36.420745849609375,-34.49403762817383,-20.450035095214844,-36.45456314086914,-19.911338806152344,-6.244069576263428,-7.416083812713623,39.39313888549805,33.31991958618164,39.60971450805664,-13.516592979431152,-6.974615097045898,31.214128494262695,1.9484071731567383,36.852577209472656,-13.550593376159668,-18.137853622436523,-18.50519561767578,-31.27884292602539,-34.91838836669922,39.379817962646484,-24.358890533447266,37.59809494018555,21.729511260986328,-16.27248191833496,38.21350860595703,33.09409713745117,-18.165985107421875,-20.577360153198242,-5.211775779724121,-28.570486068725586,33.108001708984375,-33.574562072753906,36.760189056396484,-33.827396392822266,-22.132186889648438,33.74405288696289,-18.27058982849121,-12.970800399780273,31.242855072021484,-12.697489738464355,-7.368641376495361,36.87735366821289,-36.50558853149414,36.91976547241211,-7.064072608947754,-32.54193878173828,37.63289260864258,-2.9393086433410645,31.10862922668457,30.787353515625,-3.860978126525879,25.406614303588867,36.477352142333984,38.41496276855469,-18.565168380737305,33.25027847290039,33.52761459350586,-37.14610290527344,-32.914554595947266,-28.9190616607666,-18.805782318115234,33.22534942626953,38.32203674316406,-3.207225799560547,-27.7758846282959,-6.767979145050049,21.18709373474121,31.11429214477539,-11.504130363464355,-15.744028091430664,32.714752197265625,-27.421722412109375,26.310420989990234,20.224462509155273,20.575305938720703,-22.534305572509766,-33.16946029663086,-7.462204456329346,32.475746154785156,-6.945347785949707,21.495386123657227,-34.00544357299805,-36.950050354003906,37.2797737121582,-33.429039001464844,-19.540992736816406,-18.260900497436523,36.75873565673828,30.61383819580078,37.375762939453125,37.67586135864258,32.58592987060547,-30.130205154418945,32.630672454833984,1.676432728767395,31.50446891784668,30.535171508789062,37.12451171875,-28.8062686920166,-36.77070999145508,25.3350887298584,-15.27538013458252,-32.95072555541992,32.268245697021484,37.28020477294922,-3.3294460773468018,-33.57515335083008,-18.453466415405273,26.211353302001953,36.564571380615234,32.32201385498047,-13.510736465454102,-5.827549457550049,32.40208435058594,-15.548351287841797,35.143882751464844,30.2462158203125,-1.5251247882843018,35.66197967529297,-18.244741439819336,-33.593605041503906,26.10518455505371,-8.528454780578613,36.07212829589844,31.389249801635742,-6.749424457550049,35.069908142089844,-33.2362060546875,-7.866804122924805,-0.65953129529953,31.85936164855957,32.96180725097656,37.02333068847656,21.81830406188965,36.6375846862793,30.01422691345215,36.73761749267578,32.40127182006836,34.949684143066406,31.587169647216797,-38.90438461303711,31.352535247802734,32.626060485839844,19.990947723388672,-30.41547393798828,33.4896354675293,-16.21302032470703,29.645275115966797,21.73492431640625,33.295799255371094,-8.62281322479248,35.64990234375,-11.184324264526367,27.142881393432617,22.58172035217285,36.45499038696289,31.176347732543945,-29.182952880859375,31.345500946044922,-18.036848068237305,-11.325335502624512,-8.634759902954102,-35.924476623535156,-32.61310577392578,34.081993103027344,-19.116046905517578,-12.188897132873535,-0.6317249536514282,29.085840225219727,-33.8986701965332,22.45021629333496,-3.046833038330078,30.039854049682617,33.4525146484375,35.913246154785156,19.201379776000977,-17.813879013061523,-30.01189422607422,-19.8186092376709,32.077030181884766,-36.79824447631836,35.269203186035156,-11.536346435546875,30.576852798461914,35.39152145385742,-6.482273101806641,35.78863525390625,-31.92965316772461,2.074713706970215,29.676252365112305,-11.158164978027344,-11.261575698852539,-20.39527130126953,-5.872673511505127,-13.653472900390625,32.85886764526367,31.498342514038086,-29.667694091796875,-30.01262092590332,21.03406524658203,-38.435707092285156,23.734365463256836,-37.913631439208984,-16.033823013305664,-12.946345329284668,-13.346161842346191,29.231464385986328,31.784467697143555,34.76194381713867,22.317724227905273,-8.3750581741333,-12.476116180419922,28.083322525024414,-14.009132385253906,28.26886558532715,22.692602157592773,-0.18923884630203247,26.56415367126465,27.838491439819336,29.37529182434082,-29.639604568481445,-33.00876998901367,-39.05126190185547,-36.4771842956543,-33.00800704956055,29.230310440063477,31.910905838012695,7.326522350311279,-6.355846881866455,26.468441009521484,-35.81089782714844,27.171098709106445,-14.835065841674805,26.67037010192871,-10.623753547668457,-34.60800552368164,-23.531370162963867,19.314556121826172,-31.38671875,-13.389479637145996,26.947006225585938,-10.356742858886719,31.127479553222656,29.896530151367188,16.587556838989258,0.019343217834830284,-7.1243157386779785,28.447715759277344,28.661073684692383,27.872562408447266,-13.4434175491333,25.5645751953125,27.498197555541992,22.349607467651367,28.764707565307617,-13.834327697753906,26.950551986694336,-29.74063491821289,29.3867130279541,-38.26119613647461,27.680702209472656,-18.634469985961914,27.955392837524414,-20.412086486816406,-15.302489280700684,-32.47068786621094,32.00996398925781,27.077760696411133,26.862916946411133,27.69600486755371,27.937604904174805,-5.578546047210693,-30.890689849853516,-0.5106208920478821,6.994503974914551,-29.493818283081055,-35.89655685424805,26.25833511352539,26.860408782958984,-17.857837677001953,28.270517349243164,27.416221618652344,26.501192092895508,-6.103336811065674,26.501605987548828,26.45821189880371,27.284395217895508,29.038166046142578,26.89420509338379,-35.96337890625,-29.444116592407227,-29.123306274414062,-14.136507034301758,27.165491104125977,-0.5300324559211731,26.933834075927734,26.547130584716797,29.13585662841797,-20.310354232788086,28.578594207763672,27.21107292175293,-4.9770073890686035,28.646867752075195,26.97659683227539,-38.34904861450195,-12.979421615600586,-32.96040725708008,26.00925064086914,-3.5067224502563477,26.032752990722656,-6.405740261077881,-7.840653896331787,-8.437114715576172,2.7159969806671143,28.106367111206055,27.93994903564453,4.221412658691406,26.672382354736328,-32.849918365478516,20.67601203918457,28.69681739807129,19.415739059448242,-20.842391967773438,25.476320266723633,28.005313873291016,-18.506641387939453,-21.363157272338867,-29.77495002746582,-10.306522369384766,27.58846664428711,20.37371826171875,-32.92344665527344,29.04441261291504,25.91598129272461,28.259124755859375,-0.6154924035072327,-31.324981689453125,-16.152467727661133,27.80331802368164,19.626209259033203,-36.20742416381836,-10.365720748901367,20.713661193847656,-17.486791610717773,-17.8980712890625,-32.94759750366211,-31.299915313720703,-10.163723945617676,-17.09229850769043,26.611268997192383,-5.794304847717285,-6.298794269561768,-20.64946174621582,-5.498133182525635,24.443923950195312,-21.785587310791016,21.932558059692383,22.640302658081055,-8.424323081970215,-30.542417526245117,-20.926054000854492,18.703689575195312,-5.390368938446045,26.164262771606445,-27.659957885742188,25.481409072875977,0.7811120748519897,2.6453797817230225,24.69491958618164,-30.540119171142578,-4.374176979064941,-18.052715301513672,26.108884811401367,-27.3449649810791,0.7073193788528442,23.332853317260742,-5.795442581176758,21.395946502685547,-2.1545987129211426,18.70805549621582,-14.337679862976074,17.48910903930664,21.7269344329834,25.22096824645996,-3.997053861618042,-9.426589965820312,-3.2757227420806885,-3.9188899993896484,-5.786397457122803,-2.3731722831726074,20.194286346435547,24.982097625732422,-10.05892562866211,26.32712745666504,15.25196647644043,21.472591400146484,18.697153091430664,-2.7397384643554688,26.312572479248047,24.520265579223633,-6.308924674987793,7.933457851409912,24.72286033630371,-30.697446823120117,-2.8131444454193115,5.7537431716918945,18.330167770385742,24.659791946411133,17.713563919067383,26.510419845581055,-2.2308220863342285,25.684009552001953,21.165651321411133,20.760358810424805,26.204376220703125,24.800512313842773,-16.855337142944336,26.705524444580078,23.74811553955078,-26.12276268005371,-29.379589080810547,25.337717056274414,-11.819195747375488,25.12525749206543,15.5714693069458,24.573530197143555,-20.93832778930664,-14.38948917388916,-29.0228328704834,-15.445638656616211,0.07167375087738037,-29.32331657409668,-10.073563575744629,24.524320602416992,7.77523946762085,24.145814895629883,-27.054222106933594,-20.804004669189453,-29.95117950439453,-28.604198455810547,-28.897415161132812,-22.523845672607422,-9.028654098510742,20.320499420166016,-3.929812431335449,19.198955535888672,-20.966760635375977,2.9867610931396484,24.31231689453125,24.39134979248047,-5.562710762023926,26.428956985473633,26.041473388671875,-12.655948638916016,16.47327995300293,17.82342529296875,-23.838258743286133,15.585976600646973,-22.944889068603516,-11.529423713684082,-4.195172309875488,-5.655557632446289,-10.252629280090332,18.201601028442383,17.269573211669922,16.249244689941406,24.779695510864258,19.85600471496582,-29.48590087890625,-9.683158874511719,23.9762020111084,23.576942443847656,14.986013412475586,-9.70124626159668,17.735931396484375,17.157426834106445,13.479757308959961,-7.287308692932129,15.558135032653809,-15.872593879699707,-13.609441757202148,-10.140544891357422,23.257282257080078,-28.814292907714844,17.504817962646484,24.042469024658203,-5.568424701690674,-28.60395622253418,19.193002700805664,15.980996131896973,18.073469161987305,-0.6586384177207947,-28.5161190032959,3.383537769317627,22.099773406982422,-28.65638542175293,15.811629295349121,-9.671924591064453,16.595319747924805,17.757959365844727,23.44114875793457,-3.4288415908813477,-17.430038452148438,17.230606079101562,19.526826858520508,17.050457000732422,7.727468967437744,19.43783187866211,23.788986206054688,-28.827295303344727,-21.43724250793457,-3.2008543014526367,-10.6647367477417,-29.872371673583984,14.528399467468262,23.566373825073242,14.764185905456543,-18.717304229736328,-27.646677017211914,-27.048410415649414,18.198200225830078,12.913301467895508,0.16791266202926636,20.16712188720703,17.157323837280273,-6.220456600189209,-2.617621421813965,19.643461227416992,-33.4293212890625,-20.139333724975586,19.449491500854492,14.024919509887695,-10.743144035339355,19.59804344177246,1.5237762928009033,13.361881256103516,-17.786771774291992,-2.489837169647217,23.23154067993164,-20.660961151123047,4.315377712249756,4.510946273803711,23.146507263183594,23.04676628112793,13.832694053649902,-20.775062561035156,16.569599151611328,21.40314483642578,19.069379806518555,18.372623443603516,21.932878494262695,18.565160751342773,16.81208038330078,-15.867464065551758,2.935234546661377,18.95085906982422,-29.31443977355957,-3.6714398860931396,1.8114326000213623,-28.103952407836914,15.58422565460205,-23.280567169189453,-13.850861549377441,-15.711501121520996,22.78533172607422,-14.331775665283203,22.527875900268555,13.706219673156738,-7.634051322937012,-9.376019477844238,14.12822151184082,13.118110656738281,19.689382553100586,20.45621681213379,22.348400115966797,-17.466466903686523,3.9769508838653564,-19.589628219604492,-5.635799884796143,-27.653657913208008,18.733417510986328,-21.122364044189453,19.270193099975586,15.264342308044434,18.920190811157227,-5.092740535736084,-20.31112289428711,15.238785743713379,-1.6741145849227905,13.881958961486816,-9.116641998291016,-8.16619873046875,21.990583419799805,15.351051330566406,16.481048583984375,12.173755645751953,1.5914275646209717,-3.698228120803833,-3.520026922225952,-2.9110028743743896,-11.069100379943848,-17.010942459106445,-18.3038272857666,1.4666595458984375,18.957441329956055,-15.44842529296875,-9.115030288696289,-14.094522476196289,16.631778717041016,18.013574600219727,16.302339553833008,-26.954532623291016,13.050576210021973,-26.621631622314453,-28.927204132080078,-6.70589542388916,14.353280067443848,-14.189096450805664,-2.0263845920562744,12.66060733795166,-2.83589506149292,8.46669864654541,13.302604675292969,13.969987869262695,-16.73790740966797,20.96586799621582,16.619510650634766,-2.868182420730591,18.84836196899414,-27.170324325561523,-19.636449813842773,21.10576057434082,18.959869384765625,14.471981048583984,-3.3169362545013428,18.75121307373047,13.729846954345703,17.04832649230957,12.40483570098877,14.305340766906738,11.47404670715332,-26.566505432128906,20.634662628173828,-10.604783058166504,-19.619264602661133,9.947676658630371,-10.810011863708496,16.621116638183594,12.110580444335938,4.8028340339660645,-15.28300666809082,18.995147705078125,-15.68337631225586,-24.19968032836914,21.000211715698242,12.435446739196777,-16.659923553466797,-28.595474243164062,11.410390853881836,18.53940773010254,3.344601631164551,11.323616027832031,5.5963850021362305,15.862141609191895,20.805057525634766,-27.376684188842773,-27.473236083984375,-16.78066635131836,20.53766441345215,-16.194326400756836,18.014928817749023,-22.474414825439453,-24.8734188079834,12.754005432128906,20.023738861083984,-22.864418029785156,15.854157447814941,16.810043334960938,8.46165943145752,11.039973258972168,18.393299102783203,19.324628829956055,-2.430264472961426,20.50596046447754,-26.736038208007812,17.701541900634766,-22.805864334106445,20.532878875732422,4.710323810577393,-25.96396827697754,12.76874828338623,-10.934260368347168,-15.551767349243164,3.9785404205322266,11.876163482666016,-28.738428115844727,11.418793678283691,13.271281242370605,18.173946380615234,-19.133007049560547,-27.6225528717041,6.0580596923828125,11.807072639465332,-28.514833450317383,-15.25564193725586,10.248801231384277,-26.331050872802734,-2.273749828338623,-1.5858813524246216,15.847469329833984,11.6026029586792,3.0836403369903564,16.753860473632812,-23.798828125,-28.176910400390625,20.018829345703125,-27.02523422241211,-1.160142421722412,8.550323486328125,10.643162727355957,-7.301233291625977,-0.9998362064361572,16.315656661987305,8.856163024902344,12.512412071228027,17.801721572875977,17.290084838867188,4.8472065925598145,-25.88422203063965,-25.287752151489258,10.677416801452637,-10.306007385253906,-10.620058059692383,-2.713972330093384,18.12766456604004,-23.591812133789062,11.162933349609375,1.9312833547592163,-25.64470100402832,17.213008880615234,8.383225440979004,18.175031661987305,-8.335172653198242,-19.4838809967041,4.375971794128418,17.597103118896484,15.446512222290039,-24.746065139770508,7.577596664428711,10.33311939239502,10.341334342956543,-8.274459838867188,19.170856475830078,18.549312591552734,14.060039520263672,-15.840563774108887,2.552161693572998,-1.9985803365707397,-24.936840057373047,-19.92559814453125,10.29267406463623,15.705631256103516,18.2216739654541,17.5535831451416,15.736678123474121,4.378921985626221,-2.634485960006714,9.511580467224121,-14.159375190734863,-26.848926544189453,-23.109739303588867,10.159692764282227,3.2856695652008057,-8.546589851379395,2.6973533630371094,6.181520938873291,9.850333213806152,10.03186321258545,-7.9862751960754395,-19.906002044677734,17.603343963623047,18.00357437133789,14.700043678283691,-19.210063934326172,4.627224445343018,3.971986770629883,15.7020902633667,-6.748828887939453,15.997936248779297,16.796669006347656,16.855785369873047,9.560027122497559,-19.78823471069336,9.423354148864746,-25.44552993774414,3.9996275901794434,-10.814013481140137,9.463996887207031,9.367645263671875,11.845908164978027,14.07848834991455,17.40526580810547,9.259763717651367,16.488977432250977,3.149808168411255,-19.207855224609375,-14.200913429260254,5.366607189178467,-1.2857714891433716,-19.245590209960938,7.034570217132568,9.489901542663574,-26.264066696166992,9.415716171264648,-6.221579551696777,4.050220489501953,16.960525512695312,17.22240447998047,-21.863588333129883,17.046850204467773,15.53082275390625,17.58576774597168,9.275352478027344,-15.228981971740723,14.352538108825684,15.986299514770508,9.74716854095459,-25.41140365600586,-1.9595823287963867,8.682278633117676,-20.128488540649414,9.264787673950195,-25.890073776245117,-14.755424499511719,15.196699142456055,-3.3879575729370117,-21.909229278564453,8.443650245666504,-7.872129440307617,4.922366619110107,15.0043363571167,17.8068790435791,8.392827987670898,12.136545181274414,-13.582321166992188,-23.84420394897461,8.196210861206055,-1.8531441688537598,15.554642677307129,15.832646369934082,-8.739490509033203,8.002249717712402,2.351543426513672,15.014256477355957,14.72665786743164,14.940147399902344,12.100931167602539,-24.00198745727539,14.45795726776123,9.20845890045166,-6.1032304763793945,4.024156093597412,12.969521522521973,-16.73829460144043,3.1440629959106445,-10.36396312713623,10.4346923828125,4.3827128410339355,-5.821349620819092,15.053428649902344,-3.33939528465271,-2.810584545135498,-23.76942253112793,12.477795600891113,-25.980823516845703,14.586216926574707,-18.916942596435547,7.377590179443359,-15.22553539276123,13.168136596679688,1.6990246772766113,10.896934509277344,7.584368705749512,-7.65323543548584,-8.783258438110352,-29.74785041809082,14.56541633605957,7.990549564361572,-23.819547653198242,13.38109016418457,1.3841745853424072,15.198075294494629,11.156532287597656,-24.17335319519043,-10.683572769165039,14.693235397338867,5.604331016540527,13.033160209655762,-2.3125996589660645,6.002804756164551,-14.087736129760742,8.413065910339355,8.405558586120605,-22.920974731445312,11.22249984741211,-24.043981552124023,13.521855354309082,-18.92488670349121,13.400917053222656,-25.467702865600586,-8.4390287399292,-18.41939353942871,-1.1617932319641113,12.829071044921875,-26.798675537109375,-25.646194458007812,6.995663166046143,5.445645809173584,15.243474006652832,12.93088150024414,13.495450019836426,4.428003311157227,-23.613279342651367,4.720123767852783,17.571514129638672,8.792808532714844,-15.216310501098633,13.028861045837402,-15.490715980529785,-26.88275909423828,-23.638517379760742,-1.378203272819519,10.089370727539062,14.530607223510742,-13.376958847045898,-2.5055184364318848,3.636180877685547,10.921356201171875,12.609940528869629,-25.810590744018555,12.612789154052734,2.6157939434051514,6.905154705047607,12.331029891967773,-13.292094230651855,7.609432220458984,14.664620399475098,5.895122051239014,-13.956418991088867,-1.2623296976089478,-10.628323554992676,7.681753635406494,12.090764045715332,11.437506675720215,-16.0256290435791,-2.283783435821533,4.800203323364258,12.237342834472656,-10.841329574584961,-2.8323912620544434,12.138250350952148,12.124109268188477,0.8670304417610168,7.379284858703613,4.119956970214844,3.71053147315979,4.106358528137207,11.681920051574707,9.779650688171387,14.151768684387207,4.963901996612549,11.705086708068848,4.316280364990234,4.021448135375977,-13.671466827392578,-12.658835411071777,2.1594605445861816,11.299878120422363,-19.363800048828125,11.605792045593262,-24.586952209472656,5.667631149291992,-20.948673248291016,8.898172378540039,10.308889389038086,3.0321762561798096,2.7592172622680664,14.997982025146484,11.446334838867188,10.5949068069458,3.055762529373169,-22.722963333129883,10.57825756072998,-22.221481323242188,11.116863250732422,14.05660343170166,5.249628067016602,-28.233383178710938,3.400327205657959,14.331920623779297,7.5096116065979,13.11978816986084,5.000613212585449,6.042099475860596,10.777857780456543,4.854573726654053,-7.627249717712402,-23.3107967376709,6.450922012329102,11.171154022216797,9.998435020446777,5.181519985198975,-22.53296661376953,-2.8850388526916504,6.912013053894043,16.242733001708984,13.145159721374512,10.31760311126709,6.269600868225098,-19.096948623657227,0.15580081939697266,10.895050048828125,4.12688684463501,-10.926168441772461,-7.839689254760742,14.55141544342041,10.655858993530273,10.241198539733887,10.580842018127441,5.666848182678223,-22.94536781311035,14.528473854064941,-23.28965187072754,12.791723251342773,5.708592891693115,-9.60026741027832,-22.68121337890625,-23.58641242980957,15.076655387878418,6.715054988861084,-9.199254035949707,4.807272434234619,-23.193899154663086,4.1017889976501465,12.647713661193848,4.431946754455566,5.776745796203613,13.826632499694824,5.413524627685547,13.590700149536133,7.016709804534912,13.813071250915527,10.132434844970703,6.8546013832092285,7.665266990661621,5.579197883605957,1.185124397277832,2.36975359916687,3.083294630050659,6.1444854736328125,1.175455093383789,0.08304749429225922,12.024291038513184,-5.571603775024414,7.980549335479736,10.67685317993164,10.742938041687012,6.677382469177246,4.706596851348877,-0.28913187980651855,12.37695026397705,4.297020435333252,4.555205821990967,7.1355414390563965,3.4085097312927246,3.332221508026123,8.739991188049316,13.279963493347168,3.421274185180664,1.5004748106002808,15.662002563476562,-12.583197593688965,1.3465718030929565,7.71038293838501,-16.191097259521484,-16.082141876220703,-9.684813499450684,-1.849596619606018,14.334842681884766,3.3731777667999268,6.2335968017578125,10.664546012878418,5.5573835372924805,2.561938762664795,-20.787559509277344,8.41744613647461,5.285629749298096,11.059385299682617,-23.559249877929688,-14.133028030395508,7.603054523468018,2.592552900314331,0.06760816276073456,2.300278425216675,5.969212532043457,7.145319938659668,14.320152282714844,1.8175443410873413,-15.294905662536621,4.158639430999756,-0.9610826969146729,14.664826393127441,-18.35544776916504,-21.778980255126953,-21.745044708251953,-0.8705742359161377,10.563838005065918,10.081871032714844,-5.3351335525512695,-10.498476028442383,5.931762218475342,10.959749221801758,10.668362617492676,4.332848072052002,1.0587339401245117,0.4659925103187561,5.206757068634033,3.3457608222961426,15.307682991027832,5.301905632019043,-20.69532012939453,14.595388412475586,4.889618396759033,1.0592083930969238,4.98019552230835,5.021321773529053,-18.124725341796875,7.18858528137207,6.923291206359863,-21.444705963134766,-7.798972129821777,-13.965093612670898,-20.696945190429688,-10.919351577758789,1.8761667013168335,12.990487098693848,-10.657160758972168,-22.774789810180664,9.239053726196289,-3.039865493774414,4.414547920227051,5.988819599151611,-5.36185359954834,10.210360527038574,4.324917793273926,3.9680190086364746,-6.296559810638428,3.501473903656006,-2.225381851196289,-22.3979549407959,4.336396217346191,-16.394554138183594,-10.9310302734375,-1.6683967113494873,4.22112512588501,3.2395994663238525,-1.4797765016555786,1.809148907661438,7.631805419921875,4.044644355773926,9.037320137023926,-7.519337177276611,4.082971572875977,-9.241133689880371,4.336184978485107,-22.509780883789062,4.907783508300781,-20.808752059936523,9.741985321044922,2.4352335929870605,-22.118751525878906,3.247152805328369,5.109798431396484,3.6809215545654297,5.61151123046875,1.4006788730621338,12.842731475830078,-1.810894250869751,4.897888660430908,3.0217411518096924,8.418951988220215,4.505460262298584,-2.6274969577789307,3.738903045654297,2.5517094135284424,0.017641810700297356,17.117578506469727,-20.890649795532227,6.014186859130859,10.864691734313965,3.174222230911255,3.3772199153900146,10.593948364257812,5.214684963226318,9.835023880004883,2.568145990371704,13.794285774230957,4.248686790466309,0.9573739767074585,2.55904221534729,-9.011740684509277,12.986159324645996,-16.388887405395508,7.491163730621338,10.035250663757324,-1.8825347423553467,0.3155538737773895,2.305055856704712,2.829721689224243,0.9424439668655396,3.544847249984741,7.683547496795654,-3.4871573448181152,2.4560530185699463,-5.697670936584473,-7.225359916687012,2.075802803039551,16.91399383544922,17.179738998413086,-2.5326955318450928,-3.4867706298828125,10.94661808013916,-2.497328281402588,13.156492233276367,12.722271919250488,11.534361839294434,1.9071718454360962,-3.8395044803619385,17.22753143310547,-11.115584373474121,0.8946564197540283,1.061970829963684,5.992136478424072,-2.4148335456848145,11.150513648986816,-10.645967483520508,0.730617105960846,-0.7873805165290833,1.4351998567581177,0.641595184803009,1.7046161890029907,-2.9780519008636475,5.406428337097168,-2.650733470916748,0.3766336441040039,6.39709997177124,-17.497751235961914,13.831424713134766,1.640758991241455,9.937906265258789,-0.3625539243221283,12.111416816711426,-2.915760040283203,1.991672158241272,5.983516693115234,-3.904482841491699,-16.89810562133789,-16.975772857666016,-18.860994338989258,-3.8440358638763428,-10.388395309448242,-2.5945494174957275,2.0871236324310303,6.422037601470947,0.04498319327831268,16.089445114135742,1.9366953372955322,13.799729347229004,-0.5736849904060364,0.7235802412033081,7.8289642333984375,-0.034621067345142365,0.9210082292556763,6.766066074371338,1.03477144241333,0.8897634148597717,-18.060670852661133,-21.349166870117188,5.528000354766846,0.9193702936172485,-0.9094690084457397,0.7206207513809204,0.5061607956886292,6.067724704742432,0.7891596555709839,-16.67288589477539,2.465224504470825,0.65740567445755,0.7055038213729858,7.423557758331299,0.5183306932449341,-1.2354483604431152,3.623879909515381,5.711031913757324,-4.430531024932861,-4.798624038696289,2.9333128929138184,18.355714797973633,9.2166166305542,17.83075523376465,-3.1631343364715576,0.17231467366218567,0.1027195155620575,-5.002841472625732,2.0495896339416504,7.241430282592773,18.23067283630371,-20.42582130432129,-10.092498779296875,-0.5907154083251953,-5.0815606117248535,-0.11203575134277344,-16.443771362304688,16.05044937133789,0.12437470257282257,14.597363471984863,1.3308519124984741,-4.902945041656494,-17.400941848754883,-4.707441806793213,0.5469409227371216,0.29219502210617065,-0.16743460297584534,7.265372276306152,6.248521327972412,4.370233058929443,-0.9976847767829895,2.222106456756592,6.216233253479004,-0.7069373726844788,10.045980453491211,-20.646530151367188,-0.5438730120658875,8.330141067504883,-10.4895601272583,-1.3423570394515991,-9.267951011657715,-6.8145246505737305,-0.560704231262207,-0.2956673800945282,-5.261018753051758,-1.248579740524292,-1.1163042783737183,6.30527925491333,-1.6461933851242065,11.320520401000977,3.469594717025757,5.9303059577941895,-1.2221928834915161,6.014669418334961,19.11272430419922,5.383683204650879,-5.391529560089111,-7.165226459503174,0.2630137503147125,10.103882789611816,16.280445098876953,-5.701656818389893,6.002823352813721,1.719645380973816,10.400904655456543,13.009146690368652,-5.399622440338135,-1.755653977394104,-15.013564109802246,5.6010894775390625,17.89385414123535,-1.2829121351242065,-3.2612760066986084,13.37919807434082,-6.231966972351074,-8.52829360961914,-6.037217617034912,6.179829120635986,-0.35950273275375366,-3.5386505126953125,-3.241098403930664,-6.147242546081543,18.289894104003906,8.251720428466797,-15.860146522521973,18.210426330566406,31.838829040527344,-1.5502336025238037,-7.337965965270996,12.909736633300781,-6.2639665603637695,-6.411599636077881,-8.954438209533691,-0.17323261499404907,6.399213790893555,18.666046142578125,10.861007690429688,5.086596965789795,-2.8812384605407715,0.8057805895805359,5.867954730987549,13.598496437072754,-18.907365798950195,-6.510794639587402,-3.9991090297698975,6.658081531524658,-6.7447381019592285,0.3337092697620392,16.887304306030273,-6.76585578918457,9.011510848999023,-6.822364807128906,5.892323017120361,17.310787200927734,-4.25333833694458,-6.826103687286377,-4.252093315124512,-6.743082523345947,21.8073673248291,-3.8861889839172363,0.22960883378982544,-6.8399248123168945,-6.819267749786377,13.248793601989746,-18.663227081298828,-9.039897918701172,-4.030312538146973,10.260648727416992,-7.1486616134643555,-7.645025730133057,-17.75297737121582,-19.23029899597168,-4.584076404571533,-7.5130295753479,-2.640045166015625,-7.0419111251831055,-7.017800807952881,17.639934539794922,14.695899963378906,-0.5819078087806702,11.068411827087402,9.557780265808105,14.08484172821045,9.498079299926758,-7.293000221252441,-7.236989974975586,-5.098240375518799,9.016140937805176,5.556281566619873,6.758613586425781,16.910167694091797,18.071666717529297,-5.346602916717529,-5.454306125640869,-15.579710960388184,-6.995419979095459,-0.9704940915107727,-6.719456672668457,-5.067821979522705,-9.842670440673828,14.31336784362793,-5.1926589012146,-7.566171169281006,-7.480907917022705,-3.1358695030212402,16.09214973449707,14.908623695373535,11.840038299560547,-6.945612907409668,17.920347213745117,-7.683562755584717,0.15295079350471497,-6.73405647277832,-7.8281168937683105,18.521284103393555,12.870612144470215,14.281157493591309,-5.834438323974609,17.723224639892578,8.53237533569336,-0.9520567655563354,-6.03459358215332,22.121957778930664,12.694114685058594,-6.236169815063477,-6.081142902374268,-7.912295818328857,-6.2860918045043945,-6.288941860198975,-7.889619827270508,-6.2003703117370605,9.058691024780273,18.895402908325195,-8.203941345214844,6.215673923492432,-8.05115032196045,10.809698104858398,9.560011863708496,10.11955738067627,-13.7032470703125,7.056666851043701,-3.033257484436035,21.378772735595703,-6.685337066650391,-8.095513343811035,-8.312870025634766,-8.278337478637695,9.920141220092773,-15.153447151184082,-8.337544441223145,-3.747504949569702,-5.537142276763916,14.207844734191895,31.75311851501465,-8.411700248718262,-8.416852951049805,-8.524423599243164,-18.336631774902344,-15.525250434875488,-7.294487953186035,-1.242502212524414,19.213382720947266,-3.464745283126831,9.946037292480469,-8.44588565826416,-8.364701271057129,-15.317620277404785,-18.464651107788086,-15.404781341552734,-7.267541885375977,5.582272529602051,-14.579809188842773,7.110345840454102,-15.474104881286621,-17.705907821655273,-6.858076095581055,-8.052477836608887,-16.98828125,-8.822540283203125,-9.034156799316406,-8.851333618164062,-14.013200759887695,-7.036526679992676,-15.841520309448242,-0.24126359820365906,-18.379638671875,9.155136108398438,-8.260490417480469,-9.775089263916016,-3.4119696617126465,-0.4431288540363312,-8.99474811553955,-13.825139045715332,-9.014747619628906,-15.687111854553223,16.10630226135254,-9.50078010559082,-9.164548873901367,-8.712206840515137,-9.181204795837402,12.337285995483398,21.194185256958008,-17.235795974731445,-15.078978538513184,20.99989128112793,-9.132270812988281,11.504373550415039,12.65268325805664,10.598481178283691,-8.989333152770996,-9.098784446716309,-9.08552360534668,-9.411263465881348,20.116233825683594,-7.081192970275879,-5.672543048858643,8.929340362548828,13.810145378112793,-5.611326694488525,9.152460098266602,10.692581176757812,-2.1144402027130127,-9.440217018127441,15.694825172424316,-17.038917541503906,-9.567472457885742,9.193537712097168,-13.159436225891113,-9.560940742492676,6.180262088775635,-9.667113304138184,-9.764876365661621,4.287405490875244,10.428410530090332,-15.542043685913086,-13.712496757507324,7.7748494148254395,-3.769310235977173,-6.246824264526367,17.97882843017578,-4.238123416900635,4.95861291885376,22.161556243896484,20.759857177734375,20.09571647644043,-10.00596809387207,-10.544486999511719,12.242918968200684,8.389974594116211,-2.0524656772613525,-10.964579582214355,-10.453277587890625,-9.932519912719727,-12.282537460327148,-10.477485656738281,30.569988250732422,24.766162872314453,-10.622147560119629,-0.6918829083442688,-11.290539741516113,-4.084653377532959,18.040952682495117,-10.0393705368042,18.723726272583008,19.201601028442383,21.289596557617188,-11.561867713928223,5.835906505584717,10.895358085632324,-12.584131240844727,-11.103494644165039,-12.515341758728027,6.07424783706665,-12.559122085571289,-0.6090831160545349,14.873488426208496,-4.168324947357178,-11.78067684173584,-16.211366653442383,7.079758167266846,18.011934280395508,31.360816955566406,20.982698440551758,-4.066440582275391,19.390087127685547,-11.246721267700195,-10.380861282348633,31.65852165222168,-12.493758201599121,-4.345720291137695,10.289194107055664,-11.508138656616211,9.483695983886719,-11.565361022949219,-12.630646705627441,-14.116875648498535,-11.084256172180176,-11.807502746582031,-12.519088745117188,-0.3474138677120209,-5.425381183624268,29.14461326599121,23.22916030883789,-5.981137275695801,20.266918182373047,-12.468589782714844,-11.527864456176758,10.893526077270508,-12.74392318725586,31.740968704223633,-13.097599029541016,-11.044875144958496,-3.9455440044403076,-3.4405934810638428,-14.50413990020752,28.053932189941406,29.573657989501953,-11.116074562072754,-12.071401596069336,-0.6850647330284119,-12.049530029296875,19.99624252319336,-3.08652925491333,-13.399643898010254,3.064213275909424,8.849258422851562,-13.588274955749512,19.927234649658203,-13.543669700622559,-11.645379066467285,-13.397459983825684,20.73760223388672,-10.049332618713379,-3.8839328289031982,20.64533042907715,-13.246342658996582,7.515310287475586,-2.9744818210601807,-13.098234176635742,-12.757834434509277,9.339104652404785,24.64020538330078,13.411683082580566,-13.815685272216797,6.029479026794434,-13.8892183303833,-14.258410453796387,7.916672706604004,22.812334060668945,10.591466903686523,-13.382139205932617,-4.872656345367432,8.527077674865723,-0.10694155097007751,-14.769692420959473,2.8068554401397705,21.64055061340332,-14.602471351623535,-11.892334938049316,-14.191481590270996,-3.451453447341919,-14.553561210632324,-11.550490379333496,7.8427910804748535,1.6482489109039307,-12.18824577331543,-2.8034098148345947,-15.178166389465332,-2.436723232269287,9.841503143310547,-14.773484230041504,14.858909606933594,-6.488829135894775,-14.909107208251953,-15.416362762451172,-15.250229835510254,6.769064426422119,7.343820095062256,-4.20496129989624,-15.531044006347656,-14.397125244140625,10.871501922607422,22.319211959838867,31.200284957885742,-4.27677583694458,7.249038219451904,-2.315915584564209,-15.687797546386719,-15.77707576751709,-15.048277854919434,-12.265351295471191,-15.66246509552002,-15.018050193786621,-13.932498931884766,-5.789674282073975,-13.768882751464844,5.812800407409668,21.295413970947266,-16.033790588378906,0.5311405062675476,-2.7992279529571533,-4.303750991821289,0.7280154824256897,18.92051887512207,8.561972618103027,18.271045684814453,17.16773796081543,-16.052635192871094,8.129137992858887,21.406841278076172,-15.938112258911133,-16.296558380126953,-15.1818208694458,-15.592310905456543,-1.723318338394165,-3.9743709564208984,-12.986387252807617,-4.274060249328613,25.099502563476562,3.99088978767395,7.747246265411377,6.986602783203125,6.444512367248535,24.968769073486328,-16.558311462402344,-16.132429122924805,-15.462455749511719,6.456249237060547,-2.169977903366089,2.173755645751953,-12.376363754272461,-16.245338439941406,-11.302684783935547,12.784344673156738,-8.51326847076416,-16.938352584838867,4.130526542663574,-15.819196701049805,-15.989279747009277,6.701446056365967,-3.9209699630737305,-15.91910457611084,25.466312408447266,8.016265869140625,-6.447009563446045,9.696793556213379,-17.535385131835938,-13.227696418762207,-16.47076988220215,-16.89031410217285,30.07171630859375,-13.944355964660645,8.295205116271973,-16.068634033203125,-17.41298484802246,5.289086818695068,20.593408584594727,-4.16361141204834,30.798995971679688,-17.259016036987305,30.633562088012695,-16.66213035583496,-17.677244186401367,-17.47983741760254,5.589570999145508,-17.268537521362305,-4.158299446105957,5.970591068267822,-17.88060188293457,-17.93512725830078,18.456253051757812,17.19866371154785,-17.303756713867188,-17.887510299682617,31.09263801574707,22.595518112182617,-3.321937322616577,-0.37891754508018494,-17.840057373046875,-20.21259880065918,18.15424346923828,-18.481367111206055,18.161048889160156,-17.520263671875,9.451173782348633,7.1185173988342285,-12.027928352355957,-5.435814380645752,9.551019668579102,7.765614032745361,24.105173110961914,9.899030685424805,14.11061954498291,-18.799217224121094,-5.163546085357666,-17.067913055419922,-18.831104278564453,16.068567276000977,-18.420936584472656,10.042125701904297,5.582592487335205,22.269521713256836,-8.410557746887207,-19.27157974243164,16.302339553833008,-3.8337936401367188,-3.449805736541748,-18.465482711791992,-17.160425186157227,-21.398897171020508,-17.855464935302734,9.816329956054688,22.353029251098633,-18.473421096801758,-17.367189407348633,30.515871047973633,9.80338191986084,16.715124130249023,9.918977737426758,21.532011032104492,-12.361108779907227,-18.394132614135742,12.81484317779541,22.42636489868164,2.274672508239746,-12.220367431640625,-18.2674617767334,-0.9780356287956238,-18.431406021118164,-18.133319854736328,-20.5268497467041,-22.204790115356445,-17.54511260986328,-5.075504302978516,24.90842628479004,-20.889970779418945,-20.39492416381836,29.625356674194336,23.216934204101562,-18.274797439575195,-21.919307708740234,20.124967575073242,-22.165071487426758,-6.244246959686279,-20.33514976501465,-4.973374843597412,-19.92206382751465,-18.151844024658203,-18.061145782470703,-10.821249961853027,-21.464998245239258,1.1643511056900024,-12.356925010681152,15.407323837280273,-22.202966690063477,-18.979860305786133,-17.863813400268555,16.387191772460938,-7.014528751373291,7.885831832885742,17.488075256347656,-7.779966354370117,10.399362564086914,28.96520233154297,11.01175594329834,-22.212600708007812,-12.172113418579102,30.419769287109375,-17.9089298248291,5.944272041320801,10.447153091430664,-12.125844955444336,-5.574253082275391,-18.443147659301758,20.689382553100586,-19.257720947265625,-21.70606231689453,-1.063425064086914,-22.553836822509766,-4.83681058883667,26.001928329467773,-19.245601654052734,11.096736907958984,3.196575164794922,-22.377532958984375,-19.29109001159668,-2.9972190856933594,-21.947362899780273,23.06932258605957,8.21985149383545,-23.130756378173828,10.67952823638916,-18.191953659057617,-22.358919143676758,-23.057130813598633,-23.487030029296875,-22.948501586914062,-18.612585067749023,-22.194063186645508,4.522792339324951,6.595661163330078,-23.838266372680664,-4.911332607269287,-15.399419784545898,-22.208215713500977,-11.670607566833496,-21.25853729248047,9.455572128295898,-2.8116536140441895,6.412953853607178,-0.30152571201324463,-12.955279350280762,-18.509212493896484,9.474684715270996,-20.355825424194336,-4.8205461502075195,-19.28721809387207,-19.749710083007812,-19.434085845947266,-22.959012985229492,8.441298484802246,-4.992610454559326,10.59621810913086,23.954439163208008,3.1458489894866943,-0.2822907865047455,-2.486520528793335,-23.286649703979492,-18.833742141723633,-19.42890167236328,2.2863168716430664,28.890363693237305,-5.015451431274414,12.42333984375,-0.9001496434211731,16.278478622436523,24.851839065551758,23.931774139404297,-19.504131317138672,-11.409530639648438,5.29578161239624,18.57181739807129,-24.4029598236084,10.402425765991211,-23.583412170410156,10.325830459594727,24.212108612060547,9.1298189163208,30.488056182861328,0.7902620434761047,-4.4377641677856445,-19.106128692626953,-4.38653564453125,16.68887710571289,25.553396224975586,3.0045857429504395,9.492234230041504,4.099366188049316,-19.420188903808594,23.45538902282715,-22.612117767333984,-25.64584732055664,19.121196746826172,-2.78279185295105,-20.23760986328125,-1.3367210626602173,-13.109955787658691,-3.1692023277282715,-22.672758102416992,-8.7937593460083,7.225416660308838,-21.323575973510742,-8.233403205871582,-23.624414443969727,20.674598693847656,-9.146162986755371,-1.8514926433563232,-25.937744140625,-24.60702896118164,25.075469970703125,-12.547351837158203,-26.609909057617188,4.196196556091309,24.074499130249023,22.359346389770508,-24.247106552124023,-24.0622615814209,-26.498830795288086,2.3681368827819824,-11.297637939453125,-25.292566299438477,-24.40123176574707,-4.962249279022217,-23.859764099121094,-2.4414172172546387,-25.56256675720215,19.54343032836914,-23.572280883789062,-11.568517684936523,-24.552892684936523,5.219264984130859,-1.1803159713745117,-25.991769790649414,-21.239423751831055,2.5042033195495605,-1.3570624589920044,-5.459407329559326,24.76386833190918,0.8886823058128357,-10.441619873046875,-23.72983169555664,-27.067859649658203,-10.466426849365234,-21.964176177978516,-4.861489295959473,23.479703903198242,-26.951416015625,25.953214645385742,-11.694649696350098,-22.068172454833984,31.1742000579834,-7.660741806030273,-27.440324783325195,-26.510334014892578,1.3072264194488525,-24.170394897460938,14.909361839294434,-21.92482566833496,-24.062145233154297,-20.026071548461914,7.614895820617676,19.74172592163086,-2.395817995071411,-2.359238862991333,12.629094123840332,-5.483461856842041,-5.255928039550781,-27.9659423828125,-10.319255828857422,-16.82307243347168,5.251077175140381,7.6528143882751465,-27.692380905151367,-28.32195472717285,-6.853227615356445,24.967315673828125,-24.83097267150879,-23.154695510864258,-21.710851669311523,-24.0585994720459,-1.4518406391143799,-15.764389038085938,16.219560623168945,-23.08367919921875,-25.92725944519043,5.485518932342529,-27.170740127563477,-16.515911102294922,-20.505990982055664,-22.903940200805664,27.264484405517578,16.127025604248047,-19.431623458862305,-28.54212188720703,-25.181310653686523,-28.41856575012207,19.774372100830078,16.385974884033203,-24.6805419921875,8.39431381225586,-14.202738761901855,-0.5560207962989807,-27.21224594116211,-11.842710494995117,9.361039161682129,-5.381953716278076,-22.58024024963379,23.538436889648438,-29.20306396484375,27.813962936401367,-1.2824870347976685,-22.330745697021484,-25.296472549438477,-22.375484466552734,-5.327213764190674,4.05275297164917,-1.293015718460083,5.101285934448242,-29.250682830810547,-26.917301177978516,14.525703430175781,11.633896827697754,18.887815475463867,14.848987579345703,-25.560562133789062,-13.867522239685059,-25.183576583862305,-26.811508178710938,30.80665397644043,11.186108589172363,-30.861377716064453,9.306788444519043,8.806178092956543,27.019147872924805,29.496288299560547,-29.884803771972656,-20.983348846435547,-29.62346839904785,-25.717824935913086,10.375263214111328,-0.2598702907562256,-16.56934928894043,-25.206825256347656,-5.875394821166992,-24.041824340820312,-30.116992950439453,-25.539274215698242,-6.3914642333984375,-23.242013931274414,-10.72959041595459,-14.687525749206543,-14.175586700439453,-25.465803146362305,-22.63503074645996,-9.116455078125,22.400922775268555,-25.531112670898438,13.46520709991455,-19.301197052001953,-24.79827308654785,-24.465404510498047,11.755160331726074,10.767740249633789,-1.7485604286193848,-21.177648544311523,-2.9479784965515137,25.446046829223633,-0.9116528630256653,23.71402931213379,-30.61609649658203,-26.583681106567383,-30.876943588256836,19.963008880615234,19.853107452392578,10.007498741149902,-25.629480361938477,-21.268997192382812,-30.968164443969727,25.530414581298828,26.952022552490234,16.751876831054688,1.376875877380371,-4.70136022567749,27.20793342590332,-5.822761058807373,-25.96417999267578,6.236394882202148,-22.514169692993164,-20.851673126220703,1.415775179862976,11.199520111083984,8.950509071350098,-25.689828872680664,-26.758764266967773,-22.870346069335938,-5.618933200836182,-31.011579513549805,24.37360382080078,-15.250203132629395,30.74404525756836,10.701676368713379,1.6889244318008423,25.808961868286133,10.556787490844727,-4.007997512817383,-13.752500534057617,-31.86620330810547,-26.320825576782227,-13.309833526611328,-22.63865089416504,-33.71446990966797,-30.981225967407227,-21.6334285736084,-15.060068130493164,14.074469566345215,25.31089210510254,-26.886289596557617,-17.577884674072266,14.52856159210205,23.98410415649414,-32.62425994873047,0.4040161073207855,11.187814712524414,-32.76100540161133,-10.386137008666992,11.280163764953613,-10.300683975219727,-26.439563751220703,16.586742401123047,26.043819427490234,18.46852684020996,10.27937126159668,28.517484664916992,7.48634672164917,26.367454528808594,-34.0717887878418,-34.180233001708984,-5.831629276275635,-9.364468574523926,29.934804916381836,25.31571388244629,-18.268199920654297,1.8116298913955688,-9.004015922546387,5.104760646820068,-4.5393829345703125,-31.466854095458984,-34.32710647583008,26.23487663269043,-10.566009521484375,-0.779049277305603,-31.364452362060547,24.373701095581055,-34.34038543701172,24.873014450073242,4.184914588928223,-27.092918395996094,-7.877490043640137,-34.48326110839844,-27.424877166748047,15.98117446899414,-27.57379722595215,-32.80143737792969,-35.01600646972656,7.28521203994751,-23.21059226989746,-27.31328773498535,15.249932289123535,-15.633437156677246,27.03966522216797,22.058650970458984,27.429594039916992,13.30978775024414,-4.248988628387451,0.8290048241615295,26.106149673461914,2.105762004852295,-34.4182243347168,-35.6076774597168,5.027127265930176,28.299072265625,-28.532777786254883,-28.35374641418457,-34.9372444152832,-0.4157896339893341,-1.9673970937728882,-31.452903747558594,-9.503556251525879,28.586463928222656,28.118520736694336,0.20615234971046448,-34.55759048461914,-12.300562858581543,0.570765495300293,-34.681190490722656,-35.67267990112305,-35.39982223510742,-5.549896717071533,2.731398105621338,26.03624725341797,-36.01443862915039,24.532752990722656,9.734553337097168,-1.9119830131530762,-28.123327255249023,-12.251740455627441,-35.9643669128418,-28.858142852783203,-28.698823928833008,26.399490356445312,-36.78311538696289,-28.249380111694336,27.2806453704834,-28.62810707092285,-13.717052459716797,-22.785036087036133,-2.7972075939178467,-28.32299041748047,0.8155980706214905,11.9955415725708,-6.1696367263793945,-36.59565734863281,-1.3223851919174194,-28.302104949951172,2.3340818881988525,-13.190003395080566,-7.658761024475098,-14.01417064666748,-22.46851348876953,28.77105712890625,-23.834564208984375,-36.81382369995117,-4.349568843841553,-22.849271774291992,-28.929304122924805,-1.7957427501678467,-37.40351486206055,-36.47315979003906,27.177589416503906,-34.72704315185547,19.00360107421875,-37.5334587097168,-28.68158721923828,2.3981218338012695,-29.130094528198242,-24.412412643432617,8.588448524475098,-35.673404693603516,-13.44204330444336,-28.81113052368164,-36.786651611328125,-12.784480094909668,26.628171920776367,-3.5411245822906494,22.90459632873535,-12.882208824157715,-2.8735299110412598,-5.789394378662109,-3.290553092956543,-0.04609211906790733,-38.132896423339844,12.384376525878906,-8.9376220703125,-5.071845531463623,-3.852104663848877,30.371723175048828,8.925911903381348,-24.217979431152344,-9.755756378173828,13.256890296936035,1.1669225692749023,-38.05559539794922,27.66090202331543,-37.540348052978516,1.302679181098938,-38.353118896484375,-7.20012092590332,-29.794544219970703,1.6532578468322754,-37.09705352783203,26.576356887817383,-38.20478057861328,26.43398094177246,-8.788655281066895,28.087785720825195,-8.196771621704102,-2.076014995574951,28.038555145263672,29.24217414855957,26.54946517944336,-30.17306137084961,-33.89622497558594,-38.65495300292969,1.1949341297149658,-30.82805633544922,-0.9090418219566345,-29.606122970581055,-29.696317672729492,-39.38157653808594,-3.3891208171844482,-34.020137786865234,26.530988693237305,-29.293006896972656,-37.534881591796875,-11.286173820495605,29.2872371673584,-34.268157958984375,-29.223344802856445,-24.608745574951172,-39.88713836669922,28.00409507751465,-29.904842376708984,-33.841487884521484,-5.952082633972168,11.816617012023926,11.093720436096191,-31.487680435180664,-38.982276916503906,-2.505056142807007,-38.42882537841797,-1.4297761917114258,20.72772979736328,-38.39331817626953,-11.923545837402344,-4.462570667266846,-5.769148349761963,-25.261133193969727,29.589815139770508,-34.708499908447266,-5.31825065612793,-14.038647651672363,-30.084199905395508,-33.602901458740234,26.871253967285156,-9.685295104980469,26.94423484802246,14.081462860107422,-40.815223693847656,-9.372411727905273,18.515830993652344,-24.566017150878906,29.231111526489258,12.39443588256836,-34.78789520263672,-25.705089569091797,27.80917739868164,-41.25080871582031,-40.05250930786133,-4.482203960418701,-40.342124938964844,-39.446983337402344,-31.09046173095703,-40.275169372558594,-3.5381486415863037,29.82075309753418,4.294223785400391,-41.08816909790039,-1.7782981395721436,-34.03597640991211,-40.81089782714844,-32.86175537109375,13.040472984313965,-39.777587890625,29.864946365356445,-5.8783159255981445,-38.26229476928711,-34.77378845214844,0.31389862298965454,-0.8969320058822632,-41.43915939331055,-2.0286202430725098,-40.85784912109375,9.4601469039917,19.42314910888672,28.6892147064209,-30.607837677001953,12.565844535827637,-39.40376663208008,-25.79983139038086,-35.49285125732422,-32.12397384643555,29.28835678100586,29.628334045410156,-32.5298957824707,-34.63838195800781,-32.65666198730469,-41.746768951416016,-42.11722183227539,-40.53636169433594,-5.620545387268066,-2.1964268684387207,-35.50033950805664,2.0627472400665283,-9.03971004486084,-35.89756393432617,-42.37079620361328,28.05126953125,-32.70493698120117,-41.10219192504883,-38.87553024291992,26.82305335998535,-41.38633346557617,18.064212799072266,-35.37855911254883,-31.741472244262695,-41.53822326660156,-23.782527923583984,-33.72984313964844,1.3353980779647827,26.732818603515625,27.18149757385254,-8.624564170837402,30.621253967285156,13.446518898010254,12.633148193359375,-7.8701677322387695,-25.60249900817871,9.981017112731934,-32.440147399902344,-4.8110032081604,27.6042423248291,27.853347778320312,-42.39295196533203,-2.4080021381378174,28.97252082824707,-39.17774200439453,-41.600730895996094,-40.7020263671875,-2.264375686645508,-7.595146656036377,-40.26559066772461,-40.929508209228516,-35.15046691894531,-1.84055495262146,26.93294906616211,4.438450336456299,28.35097312927246,31.106395721435547,-2.3100063800811768,-41.717655181884766,-36.4738883972168,-4.135736465454102,-10.329989433288574,-36.526058197021484,4.637770175933838,-40.41192626953125,26.33604621887207,28.47432518005371,-41.42641067504883,-35.52849197387695,27.257198333740234,-43.142303466796875,-32.22825241088867,-25.556909561157227,-39.37582778930664,-43.15861511230469,-38.595970153808594,-39.9086799621582,-41.908023834228516,-37.26545333862305,-34.259361267089844,-39.0570182800293,26.734027862548828,12.366253852844238,-25.272619247436523,-31.53017807006836,-39.93537139892578,28.665380477905273,-5.745333671569824,-2.8254659175872803,-33.95555114746094,12.490324020385742,13.801713943481445,-34.01295471191406,-33.57508087158203,31.347280502319336,-43.41017532348633,-36.52068328857422,-42.82863235473633,-43.15837097167969,-31.81441879272461,-36.1972541809082,-34.92023849487305,-3.155022382736206,-0.4207422435283661,12.049657821655273,-8.559273719787598,-35.37113952636719,-35.717140197753906,-33.285552978515625,21.606609344482422,11.64322280883789,26.59725570678711,-2.4268312454223633,-40.55784606933594,-32.23931884765625,-34.85768127441406,28.23345184326172,-35.104618072509766,20.867496490478516,-40.27408218383789,-25.073410034179688,11.636190414428711,-43.07222366333008,26.6623477935791,-36.785491943359375,-33.22245788574219,-32.33646011352539,-1.814088225364685,-37.413978576660156,-39.72737121582031,-37.16686248779297,-43.37000274658203,-33.52712631225586,-13.549212455749512,14.0712890625,-33.93637466430664,-16.21742057800293,-3.353555679321289,-0.5315408706665039,-43.055419921875,-3.2672243118286133,-8.437928199768066,14.303984642028809,-40.311439514160156,-7.104864120483398,27.78612518310547,9.789663314819336,-37.71177291870117,29.20926284790039,-39.399261474609375,-25.073314666748047,28.846961975097656,11.734389305114746,-42.63667678833008,-25.33164405822754,14.345476150512695,-36.104026794433594,13.656428337097168,2.224153757095337,17.40999984741211,-34.83976364135742,-37.00910949707031,-41.33941650390625,-43.38603973388672,13.077938079833984,21.278398513793945,-4.395607948303223,-7.436459064483643,29.188920974731445,-40.02095413208008,-42.19965744018555,-34.03902816772461,17.86391258239746,-43.88392639160156,-42.309814453125,26.506412506103516,26.338621139526367,-36.830265045166016,26.277225494384766,-0.6492601633071899,31.103906631469727,-43.00529479980469,-39.415626525878906,-43.26204299926758,-37.300865173339844,2.077670097351074,-42.40865707397461,-34.44994354248047,13.17074203491211,29.12009620666504],\"type\":\"histogram\",\"opacity\":0.75},{\"x\":[-9.075450897216797,33.81243133544922,40.33351135253906,-16.180557250976562,40.61669921875,41.43626403808594,40.51815414428711,43.728572845458984,33.9294548034668,41.075843811035156,-41.44655227661133,-17.211761474609375,-22.19217300415039,-3.493903160095215,45.16359329223633,44.50890350341797,44.39022445678711,-16.294994354248047,-2.538886785507202,-22.885099411010742,14.908723831176758,-16.784061431884766,34.04933166503906,10.52737808227539,43.59601593017578,13.081491470336914,-13.716537475585938,40.4992790222168,40.30523681640625,40.20576858520508,11.846341133117676,-8.346274375915527,-14.468475341796875,43.85192108154297,33.41774368286133,-7.2771687507629395,44.82084655761719,1.5102179050445557,40.05432891845703,-10.011946678161621,43.21336364746094,44.80869674682617,-25.144811630249023,13.4245023727417,-1.0519356727600098,43.110816955566406,39.894832611083984,5.128193378448486,39.8731689453125,44.784610748291016,4.382071018218994,44.43252182006836,-43.00139617919922,-14.450892448425293,33.96609115600586,15.282072067260742,-43.10047912597656,15.711126327514648,12.565011024475098,39.647857666015625,44.36760330200195,39.87621307373047,-13.50645923614502,-42.904144287109375,13.81441879272461,39.70866394042969,-31.021547317504883,-47.39040756225586,15.06533145904541,1.5751523971557617,39.7501220703125,44.78150939941406,39.48128128051758,34.060791015625,15.16043758392334,13.75076675415039,37.891868591308594,-14.5279541015625,39.387046813964844,16.229284286499023,43.711387634277344,39.33525085449219,44.29254150390625,39.22105407714844,-1.7143977880477905,43.5671272277832,44.38562774658203,-50.413753509521484,-45.72321319580078,-43.39877700805664,39.07862854003906,14.002612113952637,-2.631134033203125,14.240833282470703,-15.000173568725586,-3.357517719268799,-42.94218063354492,-14.168853759765625,42.761051177978516,38.92960739135742,44.561729431152344,-41.94705581665039,38.86037063598633,-15.603468894958496,43.75402069091797,45.101593017578125,2.2891945838928223,42.81953430175781,-14.67586612701416,39.019989013671875,10.438283920288086,38.613372802734375,42.958282470703125,-18.037853240966797,38.171573638916016,43.5871467590332,10.5892333984375,39.026912689208984,-46.81629943847656,-42.13310241699219,-1.0142722129821777,42.612972259521484,42.384742736816406,-12.305606842041016,43.98936080932617,10.008774757385254,38.1204948425293,38.35091018676758,-23.551664352416992,-46.66294479370117,10.394350051879883,38.50258255004883,42.21700668334961,-8.881509780883789,33.094818115234375,38.336273193359375,43.64116668701172,-30.804000854492188,32.749794006347656,37.59960174560547,-42.407798767089844,43.05242156982422,43.51463317871094,14.817044258117676,15.72406005859375,11.770185470581055,-32.593170166015625,32.55264663696289,42.00905227661133,10.772514343261719,-47.49706268310547,-32.668113708496094,-17.24802589416504,-23.651811599731445,32.832305908203125,45.00967025756836,-8.72543716430664,41.79916763305664,-20.352436065673828,-3.082000970840454,-47.462432861328125,36.837677001953125,14.931078910827637,43.19330596923828,36.65073776245117,-32.80182647705078,-31.254484176635742,-14.558390617370605,36.502830505371094,41.43805694580078,-44.47880554199219,-10.158635139465332,11.868523597717285,32.615753173828125,-14.859238624572754,42.763614654541016,3.663020133972168,43.32292938232422,32.32748794555664,44.07063293457031,3.1719396114349365,41.99903869628906,10.026094436645508,-7.332046985626221,-23.108230590820312,-21.979217529296875,-49.32951354980469,-22.096050262451172,-25.068132400512695,14.757528305053711,35.54090118408203,40.703468322753906,35.606685638427734,10.688211441040039,35.314510345458984,4.821246147155762,14.710488319396973,-2.394686222076416,2.158538341522217,35.47421646118164,-24.833404541015625,2.7744174003601074,40.896915435791016,40.82057571411133,35.37821960449219,43.16020965576172,13.43290901184082,10.583516120910645,-42.69735336303711,-50.919063568115234,-50.251991271972656,-44.76582717895508,34.59477233886719,40.791709899902344,35.01826477050781,41.135101318359375,11.873400688171387,34.82701110839844,-1.4604791402816772,15.348908424377441,40.41635513305664,34.77936553955078,-3.2527101039886475,-2.7151682376861572,3.481846809387207,-42.06430435180664,-48.01324462890625,14.305116653442383,-47.39973449707031,-32.032554626464844,40.155731201171875,2.933060884475708,14.700675010681152,3.415558099746704,-15.07262134552002,-7.177972793579102,-2.6203391551971436,33.98858642578125,39.52189636230469,-12.699593544006348,-40.31874465942383,32.10042953491211,40.2666015625,33.763427734375,33.9200553894043,40.085514068603516,40.305912017822266,-13.374895095825195,-4.561079978942871,39.43367385864258,-47.02140426635742,-53.1705207824707,3.9058144092559814,33.43967819213867,-43.767372131347656,-16.64185905456543,-30.851804733276367,33.05815887451172,39.478694915771484,33.31553649902344,-3.44520902633667,31.800174713134766,33.16162109375,32.90590286254883,32.82401657104492,32.806514739990234,39.21445846557617,39.088863372802734,31.871124267578125,39.44718933105469,32.73024368286133,-14.972190856933594,-44.91359329223633,39.536251068115234,4.454775333404541,38.8680419921875,-2.434945583343506,39.601009368896484,32.89102554321289,13.795964241027832,8.21539306640625,32.801849365234375,-21.9311580657959,38.80165481567383,31.693552017211914,39.55070877075195,31.731775283813477,32.67566680908203,38.68809127807617,-21.13047981262207,38.50463104248047,0.42362141609191895,32.401512145996094,41.83172607421875,-28.309560775756836,-1.230209231376648,32.35038375854492,14.455839157104492,11.4490966796875,9.19781494140625,31.674196243286133,-4.973804950714111,31.284378051757812,32.199615478515625,-31.841705322265625,39.111000061035156,-41.46559143066406,10.4269380569458,-44.312255859375,38.51160430908203,38.51926803588867,-40.84741973876953,-42.64741897583008,38.269493103027344,5.584963321685791,-47.64802932739258,-3.0922365188598633,10.649959564208984,-42.09962844848633,-48.53545379638672,10.110413551330566,38.67593002319336,31.544218063354492,38.65557098388672,-15.712054252624512,31.628625869750977,31.965070724487305,-12.557307243347168,-7.967416286468506,30.63924789428711,-8.346220970153809,31.326642990112305,31.678417205810547,38.39854431152344,38.617767333984375,15.081154823303223,-13.027347564697266,37.916259765625,14.107364654541016,41.774269104003906,-31.845495223999023,31.400653839111328,38.34686279296875,-3.695629358291626,31.094011306762695,-46.502349853515625,2.861976385116577,9.791019439697266,-6.194830894470215,9.58342170715332,-41.18041229248047,9.606517791748047,30.659391403198242,11.458221435546875,30.704490661621094,-5.259668350219727,30.605314254760742,37.56483840942383,9.783210754394531,9.295492172241211,30.293283462524414,30.20348358154297,30.109880447387695,10.473793983459473,14.037409782409668,1.7471598386764526,-6.425093173980713,-11.414277076721191,37.08498001098633,-45.0401611328125,30.140859603881836,9.248018264770508,-11.595270156860352,-30.53579330444336,38.80060958862305,-11.936600685119629,-51.334617614746094,9.581236839294434,-31.35552406311035,37.06951904296875,-25.139450073242188,29.942869186401367,2.1175520420074463,-49.409244537353516,-4.861690044403076,-32.25827407836914,37.58087921142578,-6.689424991607666,-19.15843963623047,-44.67654037475586,37.50271224975586,29.694684982299805,13.699228286743164,37.509559631347656,29.04827117919922,29.656055450439453,15.03715705871582,-45.958045959472656,-41.20075607299805,35.784027099609375,37.17304229736328,-3.183823585510254,-8.387203216552734,9.503721237182617,28.449384689331055,-7.650600433349609,29.43042755126953,2.178929090499878,28.381359100341797,28.23348045349121,36.46893310546875,-33.19062805175781,-49.952308654785156,-21.1553897857666,28.830371856689453,36.022117614746094,-24.15346908569336,-24.104591369628906,37.210060119628906,-26.76998519897461,37.13395309448242,-43.79401779174805,-6.2276225090026855,36.201351165771484,-3.810014486312866,-22.68929100036621,-41.074005126953125,-6.099767684936523,28.990488052368164,36.98297119140625,-20.61836051940918,28.932762145996094,-6.749633312225342,-1.8780746459960938,36.90596008300781,-44.7017707824707,28.403587341308594,-44.79391860961914,28.560049057006836,35.69219970703125,-42.01551818847656,36.82897186279297,3.163374900817871,28.76555824279785,8.456371307373047,-49.25390625,26.930767059326172,-1.6387592554092407,-12.393180847167969,-31.11174201965332,10.597294807434082,-45.375308990478516,26.753198623657227,34.649169921875,10.453216552734375,36.72238540649414,-13.89673137664795,-41.228515625,9.642779350280762,28.381572723388672,-0.34313899278640747,12.773921012878418,26.363006591796875,27.168506622314453,26.36669921875,36.52193069458008,-32.535118103027344,-7.11120080947876,-0.5256251096725464,-4.5375590324401855,-12.891990661621094,14.213531494140625,26.649463653564453,-49.14060974121094,-13.699145317077637,26.836063385009766,-50.8615608215332,13.687752723693848,-12.099616050720215,35.065895080566406,26.096343994140625,34.39813995361328,-3.5345652103424072,-5.118967533111572,26.958585739135742,13.639654159545898,2.0244040489196777,28.37392807006836,10.657624244689941,-8.571162223815918,34.682857513427734,28.300025939941406,-14.84965705871582,26.321168899536133,-45.34812927246094,-50.986083984375,25.111948013305664,-15.339727401733398,-52.47566223144531,-40.69942855834961,25.30942726135254,26.995149612426758,-9.114738464355469,23.645206451416016,36.24248123168945,24.90543556213379,-52.72289276123047,10.737239837646484,15.029199600219727,-8.021367073059082,-51.74525833129883,26.408950805664062,23.733375549316406,-44.569969177246094,-2.2074191570281982,6.448375225067139,8.924629211425781,-1.0529391765594482,25.240753173828125,24.272245407104492,-11.647339820861816,28.59337615966797,33.75390625,-17.212263107299805,35.98033142089844,33.66389846801758,5.577833652496338,36.0476188659668,-6.30782413482666,5.378032684326172,28.074304580688477,34.98577117919922,14.565646171569824,22.956100463867188,33.4161262512207,-41.40312194824219,34.07811737060547,14.220538139343262,-20.97769546508789,25.854799270629883,26.86547088623047,26.740983963012695,-45.315757751464844,11.194585800170898,26.38372802734375,24.568099975585938,10.393767356872559,-45.031494140625,33.50908279418945,24.11068344116211,-4.298636436462402,-48.458553314208984,-13.532857894897461,36.67041015625,-9.78085708618164,-29.39955711364746,10.62314510345459,-30.710330963134766,-11.418292045593262,22.35249900817871,26.790443420410156,-32.87876510620117,33.55768585205078,10.329896926879883,22.95741844177246,22.95859146118164,22.182802200317383,33.02592086791992,33.10965347290039,22.327613830566406,-32.34590148925781,-45.96146774291992,1.2934069633483887,23.282472610473633,-40.5099983215332,33.37106704711914,33.26325988769531,21.704492568969727,-7.096585273742676,14.922972679138184,-9.845612525939941,33.65951919555664,-5.952553749084473,22.515039443969727,22.2187557220459,0.6324471831321716,33.00840759277344,27.677457809448242,-50.38072967529297,-4.026554584503174,-32.01280975341797,-32.52567672729492,35.27355194091797,22.57248306274414,-31.43181037902832,8.131248474121094,-23.419279098510742,-8.11571216583252,-32.06353759765625,1.9558416604995728,-6.911251544952393,21.536773681640625,33.28959655761719,32.865482330322266,32.543243408203125,32.56047058105469,-10.084043502807617,-29.004417419433594,21.116180419921875,5.665785312652588,3.015368938446045,12.612597465515137,20.774030685424805,8.18730640411377,12.73805046081543,-24.840913772583008,21.13787841796875,-11.131441116333008,-19.617733001708984,21.0418701171875,3.2667288780212402,-10.372180938720703,26.14630889892578,20.72538185119629,4.894416332244873,2.961817741394043,20.265546798706055,9.31021785736084,20.72593879699707,25.72708511352539,-24.135700225830078,8.109715461730957,24.233619689941406,20.647241592407227,-29.370460510253906,-49.78367233276367,-47.59953689575195,19.719547271728516,20.351688385009766,4.212335109710693,-2.897488832473755,7.649927139282227,-4.175979137420654,-24.33428382873535,20.24678611755371,20.123722076416016,11.29333782196045,13.678083419799805,31.91869354248047,-4.512935638427734,-16.53003692626953,34.085205078125,20.21721076965332,-2.6010828018188477,3.4356799125671387,-23.489675521850586,32.04204559326172,-16.41417121887207,-3.448387622833252,2.6712257862091064,10.4839506149292,8.10767650604248,30.917970657348633,19.652223587036133,-5.796680450439453,-21.290287017822266,19.727121353149414,9.20118522644043,31.536523818969727,19.470369338989258,25.555496215820312,19.757244110107422,-15.886338233947754,31.167354583740234,-21.025514602661133,-48.49482727050781,-51.30387878417969,26.22684669494629,3.2439968585968018,19.368820190429688,-49.51693344116211,-44.37797164916992,-5.41453218460083,19.158536911010742,-23.031789779663086,7.567259788513184,30.822587966918945,-12.449588775634766,-16.833419799804688,-4.158315658569336,-5.378339767456055,18.659299850463867,-25.139751434326172,7.471853256225586,27.09210205078125,18.521995544433594,18.66816520690918,19.324357986450195,18.56882095336914,18.52831268310547,7.307901382446289,-29.403711318969727,25.405376434326172,18.77367401123047,4.058922290802002,18.476268768310547,-33.010379791259766,-25.380088806152344,30.372102737426758,3.435535192489624,24.64413070678711,18.0355167388916,30.094161987304688,29.5391788482666,-8.05463695526123,-46.266639709472656,24.7669677734375,-17.358400344848633,18.512386322021484,12.395804405212402,30.29682731628418,1.3180311918258667,-49.11921310424805,-10.040704727172852,7.286740779876709,-4.6215057373046875,-51.3935546875,-27.34958839416504,29.19722557067871,-8.508447647094727,6.190929889678955,-19.174083709716797,29.865264892578125,-5.740270137786865,-49.56909942626953,-17.59002685546875,17.7646541595459,18.19004249572754,10.068148612976074,-48.77395248413086,-19.202817916870117,28.950130462646484,-8.875606536865234,13.302490234375,-9.962233543395996,-21.647974014282227,9.182891845703125,29.996984481811523,8.750714302062988,28.034990310668945,17.553787231445312,-4.560144901275635,-16.402507781982422,9.029722213745117,28.597475051879883,-8.495820045471191,-46.90524673461914,-7.120213508605957,-7.537158489227295,18.269878387451172,14.307707786560059,28.47445297241211,-33.69477081298828,12.650026321411133,14.966827392578125,12.273510932922363,5.334343910217285,-26.707550048828125,-18.985759735107422,7.633358478546143,-18.926753997802734,-51.64177322387695,28.3468017578125,9.019291877746582,-8.10795783996582,26.16042137145996,-18.46567726135254,-16.335140228271484,-15.354825973510742,24.398094177246094,3.3660287857055664,-32.34334945678711,28.003971099853516,3.8662941455841064,-47.39604949951172,6.003180027008057,-43.91615676879883,28.067981719970703,-49.766746520996094,-30.76715850830078,-21.672182083129883,29.048410415649414,13.557523727416992,9.371253967285156,8.300230979919434,-7.628528594970703,7.6100850105285645,27.682796478271484,19.196178436279297,-32.75313186645508,28.171098709106445,6.648095607757568,6.847092628479004,-8.559345245361328,6.828737258911133,13.93123722076416,15.091261863708496,-32.72795104980469,25.833189010620117,14.655665397644043,-17.263057708740234,27.24641227722168,-32.47162628173828,7.497274398803711,13.131508827209473,24.49939727783203,-25.38703155517578,-10.429271697998047,-20.41812515258789,7.830150127410889,-47.640464782714844,12.315754890441895,-19.160171508789062,8.30495834350586,25.990869522094727,13.344042778015137,18.052326202392578,12.473274230957031,12.294626235961914,27.482711791992188,-3.6218502521514893,27.68562126159668,7.895685195922852,-42.21918487548828,18.8663387298584,-43.35964584350586,28.073604583740234,-2.3261749744415283,-20.274049758911133,-53.019073486328125,13.208732604980469,-4.267361164093018,2.7491636276245117,27.64613151550293,-49.362701416015625,-23.392967224121094,13.407811164855957,-47.832374572753906,-32.05589294433594,12.848451614379883,-24.2607364654541,12.674539566040039,13.070000648498535,5.010311603546143,27.40019416809082,6.09242582321167,-19.00025177001953,20.946365356445312,-26.9602108001709,-22.833696365356445,-48.80379104614258,-22.360675811767578,-8.005823135375977,18.257036209106445,5.056068420410156,13.534042358398438,-6.323398590087891,-48.44735336303711,26.156444549560547,8.208213806152344,1.7869449853897095,26.740211486816406,7.35054874420166,12.289337158203125,20.813325881958008,24.151655197143555,-29.45867919921875,-44.03563690185547,25.86004638671875,-19.855714797973633,8.16980266571045,-1.7715446949005127,5.878058433532715,9.790797233581543,6.0906267166137695,20.32666015625,27.347896575927734,-33.665855407714844,11.678792953491211,24.13614273071289,11.421109199523926,6.586717128753662,26.837207794189453,-1.8576931953430176,-20.631027221679688,-48.515567779541016,-30.958894729614258,13.094582557678223,24.743196487426758,-9.092192649841309,22.043338775634766,-44.78476333618164,12.92081069946289,-5.004067897796631,-44.60304641723633,2.4605021476745605,-29.3848876953125,11.156075477600098,-24.336244583129883,18.05409049987793,-32.274986267089844,-20.38768196105957,9.036237716674805,-27.466341018676758,-9.055357933044434,11.461797714233398,24.134130477905273,-21.092689514160156,-25.114458084106445,2.9278247356414795,-49.206607818603516,-48.15363311767578,11.61954116821289,10.992193222045898,27.495548248291016,12.51179313659668,9.902643203735352,6.123318195343018,-9.029707908630371,-17.854278564453125,13.377933502197266,-19.17702293395996,14.370782852172852,12.61275577545166,25.09194564819336,12.90396499633789,10.792824745178223,14.703110694885254,-32.69826889038086,-53.08366775512695,22.576831817626953,-19.235763549804688,10.213519096374512,20.590368270874023,-29.104915618896484,12.825969696044922,12.75035285949707,11.28300666809082,-8.867020606994629,24.571352005004883,0.8570603132247925,-16.973081588745117,6.836295127868652,-20.791645050048828,23.937692642211914,2.218048095703125,13.521917343139648,0.9392603635787964,23.507537841796875,-11.332734107971191,10.419007301330566,-18.775047302246094,-19.10173988342285,24.739635467529297,-8.353808403015137,-47.68513870239258,-27.8206844329834,-49.2988395690918,-4.870510101318359,-44.59650802612305,-28.827037811279297,9.965636253356934,19.368877410888672,-30.40842628479004,20.002531051635742,10.354912757873535,-2.682330369949341,-33.43559646606445,-18.806177139282227,19.260089874267578,-5.755822658538818,11.666975021362305,-49.65669631958008,25.35914421081543,-47.52496337890625,1.1207941770553589,-9.777793884277344,-6.916276931762695,14.834283828735352,-4.759462833404541,24.767868041992188,18.117572784423828,-52.040348052978516,14.369994163513184,-48.817508697509766,-28.566862106323242,-6.576476097106934,-20.075719833374023,3.40907621383667,22.553571701049805,17.881725311279297,-51.91859436035156,10.305136680603027,18.67657470703125,9.392160415649414,5.223524570465088,-23.174875259399414,-11.78685188293457,22.402725219726562,27.8143310546875,-31.096437454223633,-16.51464080810547,18.298843383789062,8.481782913208008,9.72799301147461,24.307958602905273,19.553939819335938,-19.273880004882812,18.0244083404541,-14.270015716552734,-52.130462646484375,-12.910632133483887,-49.16423034667969,0.8145855665206909,6.681212425231934,18.216299057006836,-44.7066535949707,-3.1701862812042236,-12.678282737731934,18.78139305114746,-8.71218490600586,9.597911834716797,-7.033262252807617,-26.546058654785156,-31.222862243652344,-34.3543815612793,-1.0760780572891235,5.362270832061768,9.105677604675293,21.382665634155273,-44.66272735595703,9.043179512023926,8.319462776184082,9.888711929321289,-5.854657173156738,14.480761528015137,-16.947561264038086,17.50930404663086,8.688057899475098,-46.51378631591797,7.463172435760498,7.95693826675415,25.28147315979004,-44.75452423095703,-22.11297035217285,-25.76612091064453,22.74891471862793,-49.520694732666016,-17.74299430847168,-5.686779022216797,1.9988216161727905,18.485427856445312,6.436856269836426,7.416358470916748,1.5243353843688965,6.8233137130737305,-29.041900634765625,-21.25958824157715,-23.776077270507812,-12.858651161193848,-20.556900024414062,-11.52614974975586,-44.05913162231445,5.527738094329834,12.009014129638672,23.647350311279297,3.5188095569610596,1.5422307252883911,-43.742610931396484,2.5284368991851807,-10.731904983520508,-29.265459060668945,-32.07640838623047,-16.967737197875977,7.499677658081055,5.674023151397705,22.98775291442871,4.779845237731934,7.8061347007751465,5.0666985511779785,-42.588592529296875,-8.786090850830078,7.230569839477539,25.261201858520508,7.547603607177734,24.581371307373047,6.416433334350586,-21.142274856567383,7.929685115814209,17.57183265686035,6.833149433135986,-12.525152206420898,5.730953693389893,1.0693436861038208,-30.410377502441406,23.107423782348633,8.080119132995605,-21.296781539916992,-46.39445495605469,12.523573875427246,2.3493199348449707,6.877935409545898,-11.437809944152832,-46.813743591308594,18.06999397277832,19.33565902709961,23.342695236206055,-4.160221099853516,-30.703039169311523,-30.169078826904297,-47.07020568847656,-25.390159606933594,5.822702407836914,-16.448759078979492,-32.34046936035156,2.2598345279693604,6.273643493652344,7.712878704071045,3.1525771617889404,-1.8664894104003906,-20.541175842285156,7.662536144256592,6.345181941986084,7.320669651031494,1.6159783601760864,-2.051424980163574,-21.953630447387695,19.204978942871094,-20.73888397216797,-0.1921185404062271,6.763762474060059,-31.328676223754883,-13.169534683227539,6.8541646003723145,-30.574981689453125,-46.46814727783203,-46.32654571533203,-44.77839279174805,2.8048436641693115,3.9758872985839844,0.7677843570709229,-4.093282222747803,-49.89351272583008,-46.375240325927734,3.1270806789398193,10.911437034606934,2.2150914669036865,-50.610504150390625,-24.661907196044922,4.337465286254883,25.046449661254883,-0.3289463222026825,-5.957647323608398,16.96393585205078,7.23007345199585,7.98699951171875,25.486284255981445,2.4628260135650635,3.9200973510742188,5.668763637542725,-24.273479461669922,18.70572853088379,22.84548568725586,-2.0604846477508545,-15.1224365234375,8.712522506713867,5.661550045013428,-5.7050909996032715,0.8357712030410767,14.229708671569824,-51.3828239440918,-52.44241714477539,-31.248985290527344,18.282258987426758,-14.060559272766113,-18.56698989868164,2.613273859024048,18.658769607543945,-51.21767807006836,24.76561164855957,5.218763828277588,-20.432161331176758,-49.275394439697266,-45.397457122802734,5.6724934577941895,-10.179039001464844,-50.77266311645508,5.3811869621276855,-4.14375114440918,0.25196290016174316,-35.97529983520508,-2.5208163261413574,1.2628161907196045,-28.390104293823242,-50.41456985473633,-26.6265926361084,-17.007320404052734,-1.2474536895751953,-6.720719337463379,-1.85298752784729,23.643341064453125,23.08314323425293,22.109359741210938,1.969799518585205,5.365512371063232,-17.39124298095703,23.53859519958496,-28.460412979125977,-32.712833404541016,5.272699356079102,-43.364410400390625,9.302459716796875,-51.490570068359375,7.493906497955322,-49.83673858642578,9.848191261291504,12.347864151000977,-46.45706558227539,6.39391565322876,24.482023239135742,0.46835240721702576,-50.136962890625,-16.486785888671875,22.922231674194336,-12.292677879333496,-30.769611358642578,24.951997756958008,-22.79692840576172,14.050042152404785,-47.87571334838867,-12.578372955322266,-50.426185607910156,-14.400497436523438,0.38093632459640503,5.696578502655029,-50.12175369262695,-31.913564682006836,24.71590232849121,6.405542850494385,-1.09605073928833,17.739343643188477,-2.9583609104156494,-33.76650619506836,22.371862411499023,24.677215576171875,-50.359107971191406,-50.91423797607422,-34.79330825805664,23.658573150634766,11.07971477508545,2.6809170246124268,8.07190227508545,0.20503516495227814,-30.603591918945312,-19.27663230895996,4.551492214202881,12.47153377532959,-21.145662307739258,7.930051326751709,-27.928245544433594,-64.35469055175781,-25.714250564575195,-40.90752029418945,-8.506648063659668,-35.89369201660156,7.031752586364746,2.359049081802368,-13.465396881103516,1.2220345735549927,9.539617538452148,2.36899733543396,24.436050415039062,12.882429122924805,10.919693946838379,-13.221017837524414,2.5106983184814453,-20.592933654785156,-2.5347678661346436,0.8520475625991821,-1.2871278524398804,-3.2884721755981445,-13.899519920349121,7.371510982513428,2.442046880722046,22.64716339111328,-50.04605484008789,3.1270360946655273,3.466647148132324,-47.55204391479492,-20.78116226196289,4.0857672691345215,-24.856597900390625,0.5652035474777222,21.312097549438477,-12.30856704711914,-19.37393569946289,3.39453125,-41.72159957885742,-16.84930419921875,2.4863548278808594,23.180076599121094,14.617681503295898,-47.88349914550781,-47.39072036743164,-42.25056076049805,5.861026287078857,3.5728399753570557,-31.69723129272461,4.142069339752197,-2.5041918754577637,-3.7371137142181396,25.024066925048828,-1.811545491218567,-1.5697280168533325,-22.16649055480957,5.539276599884033,-24.467660903930664,0.5281481146812439,-1.267388939857483,0.5413374900817871,6.038403034210205,-12.648028373718262,-6.05820894241333,2.4371337890625,-6.190722465515137,11.449280738830566,-24.540447235107422,4.498226642608643,23.343063354492188,3.137089490890503,22.261940002441406,-1.9184762239456177,-2.140946865081787,-21.117277145385742,2.719719886779785,2.0245931148529053,4.967738151550293,14.147588729858398,-27.54718780517578,-20.298423767089844,-50.86591720581055,0.23965959250926971,4.36082124710083,-16.05803108215332,1.034130334854126,4.625360488891602,6.742180347442627,5.293272495269775,3.6217000484466553,25.327369689941406,22.869403839111328,-14.770347595214844,-29.55576515197754,-34.8354377746582,3.6055469512939453,0.23895509541034698,3.5152297019958496,-45.46074295043945,-0.2962798774242401,21.878341674804688,-13.824474334716797,-28.802921295166016,-30.952281951904297,-50.98908615112305,-15.33178424835205,-32.989864349365234,3.432900905609131,-28.758268356323242,0.5842373371124268,-62.756446838378906,-51.78886795043945,-17.419418334960938,-30.50724220275879,0.9605973958969116,-4.897757530212402,-27.96828842163086,-35.07487487792969,24.120895385742188,1.364713430404663,4.718990802764893,14.525936126708984,1.778007984161377,4.583659648895264,11.56272029876709,-21.806894302368164,6.025613307952881,4.142307758331299,-8.47788143157959,-0.324798047542572,-28.075754165649414,2.3212673664093018,14.550283432006836,-2.5568273067474365,-29.10011100769043,5.06601619720459,-45.54256820678711,20.779239654541016,0.6700299978256226,-1.751767635345459,13.607419967651367,4.422720432281494,-43.4443473815918,-0.23189407587051392,-22.950998306274414,1.3258764743804932,-0.08335098624229431,23.94656753540039,0.3332328498363495,1.2557936906814575,-19.086381912231445,0.5496692061424255,14.75384521484375,-0.011157800443470478,2.2524824142456055,13.019699096679688,13.549399375915527,-21.46393585205078,0.2368011772632599,13.599773406982422,-3.3197133541107178,22.337665557861328,20.539854049682617,-3.8235156536102295,22.30095100402832,5.603002071380615,1.7690825462341309,11.803276062011719,-48.192386627197266,-2.7126903533935547,0.7188032269477844,14.633668899536133,4.689808368682861,14.251199722290039,-10.344108581542969,-34.22210693359375,1.9033645391464233,-46.3057861328125,-6.9316487312316895,-26.457658767700195,21.370441436767578,11.907184600830078,-35.89155578613281,2.4030909538269043,-23.976116180419922,-13.480438232421875,0.316083699464798,4.30648946762085,-30.923463821411133,1.996909737586975,-52.197261810302734,1.8636460304260254,2.216594696044922,-45.53868865966797,-21.702741622924805,-51.668460845947266,3.009857416152954,-31.579641342163086,-18.860614776611328,1.493716835975647,3.0674691200256348,-0.3499824106693268,-28.143381118774414,6.399413108825684,11.469446182250977,13.777165412902832,-15.252999305725098,-24.536731719970703,-52.56708908081055,-40.60396957397461,-24.6424503326416,1.0004767179489136,5.908590793609619,5.890382766723633,2.397953748703003,2.9510369300842285,-0.9799525141716003,-25.522541046142578,-47.49351501464844,1.8995575904846191,-36.108699798583984,11.097822189331055,2.225811719894409,21.060522079467773,-32.496612548828125,-47.04301452636719,4.82567024230957,11.152715682983398,11.707624435424805,-24.171146392822266,-35.96543884277344,-42.2579460144043,23.315229415893555,-22.87540054321289,4.725439548492432,-0.47902780771255493,22.109878540039062,14.67172908782959,3.4771335124969482,-20.494216918945312,-33.72810363769531,-34.05015563964844,-33.717891693115234,-29.9461612701416,-2.295457124710083,23.30303192138672,-31.139638900756836,19.640426635742188,1.0318702459335327,-12.873091697692871,1.5804158449172974,2.240598201751709,-13.173044204711914,-22.811809539794922,-50.24982452392578,21.119152069091797,-18.913511276245117,21.552644729614258,-2.2208189964294434,-2.2180778980255127,-40.8066291809082,-25.23226547241211,-32.04905700683594,-12.257464408874512,12.430947303771973,0.5611938238143921,-34.39589309692383,-12.03772258758545,-24.416704177856445,-13.077341079711914,11.513657569885254,12.652655601501465,10.335712432861328,-7.702589511871338,14.42037296295166,-26.321245193481445,2.6945531368255615,-63.70741653442383,-46.86685562133789,9.6434907913208,-25.145414352416992,-13.76186752319336,-11.820558547973633,-22.954734802246094,19.48069190979004,-20.174400329589844,-37.82746505737305,-24.633106231689453,-57.387996673583984,8.976221084594727,21.350601196289062,-39.38014602661133,-24.633508682250977,-40.743995666503906,-3.79349684715271,-30.081846237182617,-6.544352054595947,-0.15190766751766205,-35.16441345214844,-7.202390670776367,-7.49899435043335,2.9267044067382812,-58.2805061340332,-26.130054473876953,-3.186008930206299,-49.34272003173828,9.1444673538208,2.528639316558838,5.7809014320373535,-4.198732852935791,6.20418119430542,5.2349395751953125,-17.75414276123047,-29.674970626831055,23.1025447845459,9.792123794555664,2.4066503047943115,-32.868186950683594,5.602763652801514,11.336556434631348,12.560518264770508,-16.381999969482422,-22.28664779663086,2.441584825515747,15.935018539428711,2.423558473587036,-47.43811798095703,-35.26752471923828,2.5024354457855225,-8.630261421203613,19.08321762084961,0.7786111235618591,15.502341270446777,2.0770843029022217,3.230116128921509,20.43914794921875,19.415868759155273,-29.083463668823242,-64.83673095703125,-24.09365463256836,-36.45321273803711,-26.26479721069336,2.0249404907226562,-0.45039376616477966,4.597969055175781,21.336774826049805,2.963434934616089,-2.7835745811462402,-1.094574213027954,3.627403497695923,-12.835612297058105,12.246591567993164,-20.706562042236328,-21.427814483642578,-13.095093727111816,-57.207733154296875,-40.367462158203125,2.7320172786712646,-29.75159454345703,9.492490768432617,-2.31626558303833,-0.5581621527671814,6.91585111618042,21.153152465820312,-17.31261444091797,-25.095727920532227,-18.71202850341797,-32.74436569213867,19.089994430541992,-63.722808837890625,11.263665199279785,-47.374691009521484,-25.124507904052734,16.582563400268555,-21.018545150756836,-25.788557052612305,23.135711669921875,-12.841935157775879,-8.267485618591309,10.041927337646484,-33.625457763671875,9.93618392944336,-1.1999787092208862,-62.579627990722656,6.439452648162842,-19.804607391357422,23.076921463012695,23.95937156677246,-3.028588056564331,2.702533006668091,10.568194389343262,2.9195005893707275,-19.366365432739258,16.800872802734375,16.176618576049805,-40.4712028503418,-62.8604850769043,-30.46075439453125,-22.267091751098633,16.56372833251953,3.0994322299957275,-20.485761642456055,-29.21306800842285,-0.6540377140045166,-1.3671883344650269,3.6416678428649902,-10.847895622253418,-0.814386248588562,17.875354766845703,-28.901628494262695,2.8626816272735596,-3.074733257293701,-0.5368489623069763,-29.673961639404297,-57.82084274291992,-7.011066913604736,17.867431640625,-0.12569940090179443,-1.6959296464920044,-55.99116134643555,-39.410884857177734,4.8692545890808105,-57.98354721069336,-26.883464813232422,-22.68769645690918,6.390206336975098,23.061086654663086,4.376579284667969,3.093580484390259,15.567728042602539,-56.556026458740234,16.56309700012207,-12.038994789123535,19.56074333190918,23.01036834716797,4.556549072265625,-30.24359130859375,-40.19348907470703,2.858933687210083,-1.1650737524032593,-58.68750762939453,17.21052360534668,3.855088949203491,-2.9096434116363525,-57.99879455566406,-19.647937774658203,3.0570223331451416,5.798176288604736,16.574220657348633,-13.580211639404297,-20.106111526489258,14.421483039855957,-12.255654335021973,8.6276273727417,23.0920352935791,13.65595531463623,7.355325222015381,-23.731321334838867,-55.47154998779297,3.13637113571167,-8.900400161743164,6.3580498695373535,18.045547485351562,-8.686388969421387,8.284428596496582,-55.06559371948242,-21.959407806396484,-1.7251750230789185,16.479928970336914,11.362231254577637,2.9878292083740234,-0.12427236884832382,4.03884744644165,19.638219833374023,3.473702907562256,12.31070327758789,8.08113956451416,16.63035774230957,-36.181522369384766,17.100290298461914,11.634902000427246,-1.3636935949325562,-57.83076095581055,10.338929176330566,-25.092864990234375,23.0321044921875,-0.16032154858112335,10.690095901489258,-9.154685020446777,5.932718276977539,-8.500521659851074,24.6422176361084,1.1041460037231445,3.3869616985321045,16.643083572387695,-25.72468376159668,15.879839897155762,-21.749385833740234,-13.686291694641113,-9.420106887817383,-33.05506134033203,-28.465139389038086,9.189960479736328,-29.439525604248047,-9.228744506835938,-1.764622688293457,19.93074607849121,-55.14424514770508,1.0399750471115112,-18.211631774902344,18.13288688659668,9.900113105773926,4.204528331756592,-3.1118321418762207,-22.9205322265625,-49.86037063598633,-27.108110427856445,11.81467342376709,-39.1068000793457,5.6439008712768555,-13.291929244995117,16.655149459838867,5.17039680480957,-1.3134093284606934,4.039031505584717,-59.939208984375,-12.080416679382324,18.09108543395996,-11.270265579223633,-13.343277931213379,-27.17209815979004,-19.264314651489258,-21.73777198791504,10.352880477905273,12.500530242919922,-56.244911193847656,-35.32798767089844,-2.2718143463134766,-36.76758575439453,3.0611939430236816,-34.43053436279297,-25.113536834716797,-25.92189598083496,-3.6218035221099854,18.245689392089844,11.691102981567383,5.87133264541626,20.259695053100586,-7.936285495758057,-8.982210159301758,20.850204467773438,-12.236653327941895,20.17509651184082,4.860240459442139,14.127059936523438,6.524043083190918,21.1291446685791,17.372024536132812,-49.45404815673828,-56.15304946899414,-34.599979400634766,-33.49827575683594,-55.722679138183594,43.8841667175293,11.164267539978027,-12.101380348205566,-1.527436375617981,6.49437952041626,-39.0336799621582,42.13887405395508,-14.407456398010254,41.72441864013672,-16.137317657470703,-65.1180648803711,-31.10100746154785,-1.95185387134552,-58.18906784057617,-20.992441177368164,24.389867782592773,-15.270407676696777,12.08646297454834,14.002333641052246,-3.368290424346924,14.382607460021973,-6.909491062164307,44.27946853637695,17.8419132232666,43.14838409423828,-3.5202088356018066,6.387048721313477,20.718494415283203,1.2036659717559814,17.309223175048828,-17.690185546875,23.290382385253906,-50.06910705566406,14.820151329040527,-33.94969940185547,19.904382705688477,-29.59054946899414,43.7176513671875,-29.5484619140625,-25.289987564086914,-57.8949089050293,13.898409843444824,21.674331665039062,22.585844039916992,43.25425720214844,18.8836612701416,-19.67769432067871,-58.39366912841797,13.748501777648926,-12.23579216003418,-32.49790954589844,-29.982189178466797,42.52280044555664,21.620731353759766,-23.437097549438477,45.25228500366211,43.660980224609375,22.305524826049805,-20.58016014099121,22.702495574951172,22.740324020385742,43.609962463378906,14.539549827575684,21.058332443237305,-31.95198631286621,-49.926692962646484,-33.24180221557617,-14.98022747039795,19.878543853759766,-1.9636584520339966,43.412841796875,43.094703674316406,14.138359069824219,-29.67560577392578,15.739662170410156,19.56032943725586,-5.609681606292725,15.379834175109863,43.82768249511719,-34.14547348022461,-25.69867706298828,-63.32734680175781,43.00740432739258,-4.442796230316162,6.45963716506958,-6.627266883850098,-22.087207794189453,-22.953250885009766,-12.555961608886719,46.041507720947266,45.77155303955078,-12.921670913696289,20.558372497558594,-47.94369125366211,3.044872999191284,14.396403312683105,1.1973990201950073,-29.910795211791992,6.305515766143799,16.70615577697754,-29.746341705322266,-46.58724594116211,-56.63716506958008,-12.475563049316406,45.72139358520508,3.095923662185669,-63.311832427978516,13.398072242736816,43.621360778808594,15.504015922546387,13.092473983764648,-59.02949905395508,-28.837533950805664,46.34343338012695,1.7366596460342407,-38.98371124267578,-17.657062530517578,40.270206451416016,-31.4089412689209,-30.52374267578125,-55.80506134033203,-62.404090881347656,-14.712126731872559,-32.280582427978516,45.36052703857422,-6.377355098724365,-6.837551116943359,-46.79457473754883,-5.9691081047058105,43.358177185058594,-32.002777099609375,5.1355299949646,20.781391143798828,-10.185733795166016,-60.48307418823242,-46.97891616821289,0.39120790362358093,-4.8576860427856445,20.351543426513672,-48.2952766418457,22.772417068481445,13.926590919494629,16.68189239501953,43.90088653564453,-60.18080139160156,-5.48741340637207,-29.96394157409668,24.054079055786133,-36.173118591308594,0.504994809627533,21.905492782592773,-6.509744167327881,1.1374257802963257,-3.0823092460632324,0.35649240016937256,-14.987415313720703,35.92707824707031,4.641462802886963,22.99437713623047,-32.632118225097656,-14.307164192199707,-32.3548469543457,-5.136969089508057,-20.292959213256836,-3.538456439971924,40.48590087890625,45.75642395019531,-9.995795249938965,46.874752044677734,-3.879659414291382,4.573225975036621,38.80925750732422,-3.8699774742126465,46.999637603759766,45.382747650146484,-20.871868133544922,-5.605433464050293,45.9140625,-59.088279724121094,-18.30292510986328,-10.06325626373291,-0.09706474095582962,22.66957664489746,37.03218078613281,47.466068267822266,-3.1870245933532715,47.15266418457031,5.494288921356201,4.334993839263916,47.48652648925781,23.186561584472656,-32.78932571411133,47.75157165527344,44.48074722290039,-31.150121688842773,-51.363136291503906,47.22536087036133,-17.977331161499023,47.096473693847656,34.20124053955078,46.612823486328125,-49.091243743896484,-15.016432762145996,-50.135196685791016,-12.289355278015137,14.353301048278809,-51.16994857788086,-17.1726131439209,23.24053192138672,-11.92121696472168,46.41293716430664,-29.570358276367188,-45.26240921020508,-58.629608154296875,-49.649452209472656,-34.43803787231445,-31.90218734741211,-13.945508003234863,43.14708709716797,-5.757416725158691,40.060508728027344,-49.2513427734375,-12.095870971679688,47.18610382080078,23.390090942382812,-6.701005458831787,48.307315826416016,48.229827880859375,-17.87055778503418,36.14824676513672,38.87151336669922,-50.66783905029297,34.9723014831543,-31.878009796142578,-28.457008361816406,-19.595945358276367,-22.54328727722168,-16.71664047241211,0.6771214008331299,38.07444381713867,36.02446746826172,48.17549133300781,47.18950653076172,-56.274784088134766,-16.114704132080078,47.70134353637695,47.12390899658203,34.52008819580078,-15.241246223449707,39.37038040161133,0.7630530595779419,-4.487029075622559,-22.250276565551758,35.35624313354492,-29.25143051147461,-17.646543502807617,-13.160292625427246,22.512113571166992,-56.07241439819336,39.19694519042969,48.19691467285156,-22.129430770874023,-59.65602111816406,3.839435338973999,-3.2773900032043457,40.32316970825195,-2.6013431549072266,-33.09943389892578,-11.214723587036133,48.6335563659668,-56.11360549926758,-4.035562038421631,-17.678369522094727,37.67462921142578,4.026035785675049,48.03562545776367,-18.697023391723633,-31.795215606689453,-0.3498515784740448,3.774218797683716,39.02583694458008,-11.38478946685791,43.53298568725586,48.811920166015625,-34.58224868774414,-44.936031341552734,-5.609492778778076,-20.586441040039062,-60.49810028076172,34.73279571533203,48.838462829589844,35.05913162231445,-30.26923179626465,-59.29325866699219,-36.40151596069336,2.283684730529785,33.268672943115234,-2.420159101486206,4.707756519317627,39.71687698364258,-21.33942222595215,-20.5791015625,44.366817474365234,-64.04774475097656,-47.02971267700195,46.94939041137695,34.52296447753906,-28.049177169799805,44.48199462890625,-1.525577187538147,34.00080490112305,-29.475954055786133,-20.676029205322266,49.38494110107422,-47.73947525024414,-10.528186798095703,-13.259016036987305,49.729000091552734,49.446800231933594,34.641544342041016,-31.187925338745117,39.72719955444336,47.42934036254883,44.34737014770508,2.904968500137329,49.19482421875,3.3152999877929688,40.288352966308594,-46.772708892822266,17.301753997802734,3.9259588718414307,-62.54653549194336,-16.115955352783203,15.618922233581543,-49.8022346496582,-3.901686429977417,-32.09501647949219,-28.87187385559082,-39.316932678222656,50.451866149902344,-28.947290420532227,50.06324768066406,35.32605743408203,-28.35076904296875,-15.91937255859375,37.335506439208984,34.55487823486328,5.548392295837402,6.467236042022705,50.538551330566406,-40.76227569580078,-21.045692443847656,-47.04375457763672,-7.285607814788818,-49.25859069824219,44.048030853271484,-32.245635986328125,48.31379318237305,39.353965759277344,4.362632751464844,-22.208229064941406,-45.91748809814453,39.39425277709961,-5.440104007720947,-4.6541428565979,-14.803945541381836,-10.679228782653809,51.639991760253906,39.80260467529297,40.90413284301758,34.08012008666992,15.16055965423584,-16.09004783630371,-32.876956939697266,-6.3571319580078125,-31.187761306762695,-39.6284294128418,-31.916528701782227,15.046710014343262,49.910831451416016,-30.48856544494629,-15.982431411743164,-45.679298400878906,0.7927600741386414,43.56359100341797,41.19702911376953,-36.45487976074219,37.11885070800781,-30.151073455810547,-34.732784271240234,-21.808162689208984,39.38687515258789,-45.82784652709961,-17.898359298706055,35.503543853759766,-6.301284313201904,-11.47569751739502,38.306053161621094,39.1611328125,-39.468448638916016,51.94593811035156,0.05245698615908623,-5.980940341949463,50.77835464477539,-62.26351547241211,-47.132484436035156,52.402130126953125,51.066280364990234,40.025028228759766,-6.97789192199707,50.959842681884766,39.403167724609375,3.76114559173584,37.01716613769531,40.09455490112305,34.21458435058594,-29.416006088256836,52.295867919921875,-43.65315628051758,-32.91227722167969,-20.20325469970703,-43.01563262939453,42.2691764831543,35.634727478027344,-10.235560417175293,-36.30291748046875,51.568031311035156,-30.284265518188477,-31.790035247802734,53.047794342041016,38.01649475097656,-39.80104446411133,-62.49531936645508,34.48931884765625,49.160736083984375,-24.11046600341797,34.443016052246094,-18.408689498901367,-1.307953119277954,53.19153594970703,-49.406776428222656,-61.58466339111328,-40.60672378540039,53.109676361083984,-40.27395248413086,5.538743495941162,-51.577152252197266,-59.04124069213867,39.15766525268555,52.69942855834961,-52.31414031982422,49.927207946777344,43.00007247924805,-15.997578620910645,34.642967224121094,6.5058159828186035,52.977203369140625,-20.67361068725586,53.658905029296875,-29.44767951965332,51.660888671875,-51.5772705078125,53.770294189453125,19.445236206054688,-59.39592361450195,39.725494384765625,-30.726234436035156,-46.8985595703125,-23.822526931762695,38.68172073364258,-62.74645233154297,38.12480163574219,40.661109924316406,52.75408172607422,-32.60181427001953,-50.2321662902832,-18.749553680419922,-22.081844329833984,-51.35372543334961,-30.572372436523438,-30.811073303222656,-63.36429214477539,-32.087135314941406,-17.865163803100586,-0.918319821357727,38.98163986206055,17.61726188659668,4.10919189453125,-51.766910552978516,-62.649967193603516,54.079166412353516,-49.03498077392578,-17.440711975097656,-10.156233787536621,36.738006591796875,-28.931304931640625,-17.049890518188477,51.8421630859375,-11.779525756835938,40.68120193481445,53.460182189941406,52.86540985107422,-20.248517990112305,-59.85584259033203,-62.512699127197266,38.06557846069336,-43.80201721191406,-20.661874771118164,-21.295604705810547,53.95758056640625,-51.829837799072266,39.51848220825195,-30.08064842224121,-59.8393440246582,53.36235809326172,-10.374092102050781,54.34092330932617,-27.332332611083984,-50.555904388427734,-20.138263702392578,54.069366455078125,0.5632657408714294,-59.157440185546875,-5.7743048667907715,38.45934295654297,38.58957290649414,-24.33233642578125,54.699615478515625,54.82618713378906,-5.545892715454102,-38.17741012573242,-31.80893325805664,-6.404231071472168,-61.14451599121094,-50.09662628173828,35.03887176513672,52.06065368652344,6.695591449737549,54.565521240234375,50.2064208984375,-2.1266558170318604,-6.8964338302612305,-9.81682300567627,-45.963348388671875,-48.86675262451172,-51.856536865234375,-23.82164764404297,-1.0201154947280884,-15.993736267089844,-31.556806564331055,39.213802337646484,43.53066635131836,35.279850006103516,-24.168928146362305,-51.17654800415039,55.21548843383789,7.08827018737793,-5.869508266448975,-49.12420654296875,-23.21162223815918,-1.4560520648956299,52.969459533691406,-27.98343849182129,53.87680435180664,54.84636688232422,55.00681686401367,39.88863754272461,-50.01284408569336,38.256187438964844,-63.04156494140625,-1.3328139781951904,-29.908939361572266,36.93994140625,39.65177917480469,-22.205202102661133,-0.01242208480834961,5.895147323608398,41.479366302490234,55.6119499206543,-2.5693600177764893,-48.46525573730469,-46.11617660522461,-9.675395965576172,-18.713844299316406,-49.08262634277344,-19.36707878112793,44.3363037109375,-60.242164611816406,43.99263000488281,-27.450746536254883,-24.20864486694336,55.94157791137695,56.16884231567383,-51.63947296142578,6.196022033691406,54.84450149536133,6.657201766967773,43.91579818725586,-39.35187530517578,-5.3464741706848145,55.57551193237305,45.620361328125,-60.38224792480469,-6.597991943359375,40.270347595214844,-51.33156204223633,44.656253814697266,-63.54303741455078,-31.113801956176758,2.425218105316162,-22.500791549682617,-57.74592971801758,-15.992292404174805,-28.62849998474121,19.95450210571289,55.31703567504883,7.3123860359191895,38.56502914428711,-22.608659744262695,-35.90237045288086,-64.36965942382812,40.82294845581055,-17.510330200195312,56.130104064941406,56.411808013916016,-25.196191787719727,40.17055892944336,-26.219778060913086,55.8878173828125,0.4134140610694885,55.9921989440918,-22.38136100769043,-61.022987365722656,-5.962864398956299,45.5994758605957,-25.99290657043457,-3.313060998916626,-22.474346160888672,-40.73581314086914,17.89339828491211,-30.700599670410156,-31.010337829589844,-1.7470135688781738,-27.898841857910156,56.570091247558594,-23.93609046936035,-33.93184280395508,-61.30161666870117,-28.547077178955078,-60.01795959472656,0.295326828956604,-32.914100646972656,54.54267501831055,-36.371517181396484,-22.250713348388672,39.6096076965332,-11.74135971069336,42.62373733520508,-26.552410125732422,-28.35270118713379,-35.9727783203125,0.24036651849746704,43.654911041259766,-60.527801513671875,61.111961364746094,39.69160842895508,4.608308792114258,55.3996467590332,-63.68854904174805,-44.211944580078125,-6.507145404815674,-18.330974578857422,60.72871780395508,-33.3903923034668,41.499874114990234,-46.39759063720703,45.24151611328125,45.245361328125,-61.07917404174805,55.717864990234375,-64.88471984863281,56.9667854309082,-49.699676513671875,56.984439849853516,-63.307838439941406,-27.297746658325195,-47.883968353271484,-17.886690139770508,60.939754486083984,-50.1417236328125,-60.283477783203125,43.1734504699707,41.56208419799805,4.5015082359313965,57.06244659423828,-16.551794052124023,19.264493942260742,-60.22764587402344,41.1237678527832,7.457283020019531,-19.39141845703125,-40.21138381958008,61.633121490478516,-47.36994552612305,-50.567481994628906,-53.182334899902344,-32.6514892578125,-12.805705070495605,-6.442267894744873,-45.53264617919922,-33.512054443359375,40.883609771728516,55.80559539794922,61.50177001953125,-61.023311614990234,61.86591339111328,-26.255802154541016,-8.119531631469727,61.13811111450195,-46.70259475708008,44.948429107666016,2.661261558532715,39.414066314697266,-36.18184280395508,-20.519479751586914,-31.544574737548828,45.2860221862793,60.77273941040039,60.2770881652832,-47.73817825317383,-22.093461990356445,41.859004974365234,61.9287223815918,-31.485759735107422,-34.68589782714844,61.85353088378906,61.711097717285156,40.24357604980469,45.080528259277344,41.49396896362305,41.38044357299805,41.591434478759766,58.14126205444336,55.96966552734375,1.932506799697876,-2.2325379848480225,61.196571350097656,41.927425384521484,18.43255615234375,-46.82072067260742,-44.98060607910156,-28.239145278930664,58.60111618041992,-51.826377868652344,61.68708419799805,-63.106773376464844,43.55890655517578,-54.378623962402344,-19.444551467895508,56.755516052246094,-25.852962493896484,18.23265838623047,4.084235191345215,61.551727294921875,57.6820182800293,41.5885124206543,-61.430728912353516,57.682621002197266,-60.216896057128906,61.01588439941406,-1.0923300981521606,43.33505630493164,-34.85649490356445,-18.749841690063477,4.637777328491211,-17.275569915771484,-22.861183166503906,43.26139831542969,-6.664551734924316,-24.834383010864258,43.173057556152344,-41.07618713378906,-64.19422149658203,-17.374317169189453,61.96708297729492,61.74796676635742,-1.5790154933929443,-57.26996994018555,-22.1126766204834,45.413490295410156,7.016681671142578,-23.20233154296875,60.15949249267578,54.58583450317383,-57.61965560913086,40.78823471069336,61.82224655151367,42.75791549682617,-44.295379638671875,-26.17569923400879,2.6209120750427246,61.33140182495117,-13.339141845703125,-31.22414779663086,53.99882125854492,-63.703372955322266,-6.894501686096191,-64.78524780273438,-28.452919006347656,54.087158203125,-45.06626892089844,-56.84444808959961,-62.227455139160156,-7.534388542175293,59.78812789916992,-27.633180618286133,43.880001068115234,-64.9397964477539,0.363898903131485,-7.365350723266602,56.9442024230957,44.89799499511719,-22.27751350402832,-1.4422730207443237,-22.63735580444336,-21.211191177368164,4.6219353675842285,-9.12215805053711,60.766849517822266,-8.1611967086792,44.877315521240234,41.845848083496094,-26.344860076904297,-25.91104507446289,56.319541931152344,41.903533935546875,-33.00558853149414,-23.4592342376709,-27.074480056762695,61.64952850341797,-24.495370864868164,-8.67162799835205,61.116546630859375,-24.889686584472656,41.39560317993164,-7.104912757873535,-3.95164155960083,44.157814025878906,61.58884811401367,-18.618310928344727,-25.882795333862305,61.91952133178711,0.39777621626853943,43.2474365234375,42.304222106933594,7.031730651855469,-47.224117279052734,42.32471466064453,61.98406219482422,-52.81665802001953,-47.99733352661133,-45.3223876953125,40.4173698425293,-7.008395671844482,43.3759651184082,-6.980782508850098,-25.60701560974121,60.45551300048828,-34.25650405883789,-57.41837692260742,-38.6030158996582,60.22160339355469,-11.637969970703125,-53.87372589111328,-40.419898986816406,-19.210065841674805,-30.037954330444336,42.06314468383789,58.22657775878906,61.689144134521484,-21.34124183654785,-21.689945220947266,42.809505462646484,-52.45130157470703,59.582923889160156,-32.3652458190918,4.639410495758057,-52.51422882080078,-58.760154724121094,-58.63395690917969,41.823760986328125,-11.326571464538574,-9.093703269958496,-27.246389389038086,-56.02442169189453,-0.7434463500976562,-31.236629486083984,-10.761756896972656,44.822940826416016,42.74718475341797,42.461368560791016,-28.7335262298584,18.22539520263672,7.1058855056762695,62.50404739379883,-57.5790901184082,-22.09294319152832,61.10874557495117,-38.803775787353516,61.682533264160156,62.03493118286133,-51.41295623779297,-17.7335262298584,-22.438949584960938,-60.342567443847656,-25.116905212402344,-32.21141815185547,-66.70636749267578,-44.36958312988281,58.68989562988281,-28.023603439331055,-45.84861373901367,-64.71771240234375,-35.59726333618164,38.153282165527344,-4.170760631561279,-1.0053963661193848,-26.36285400390625,-25.87823486328125,63.72880935668945,0.6689145565032959,-25.351491928100586,56.977535247802734,50.29740524291992,-64.01403045654297,63.32886505126953,-53.90211868286133,-57.075286865234375,41.951194763183594,63.236934661865234,65.32743835449219,42.224674224853516,59.17375183105469,-38.696441650390625,61.917388916015625,-35.21855926513672,-50.32535934448242,62.968467712402344,-49.699283599853516,-25.426029205322266,-57.10343933105469,-25.068256378173828,-54.41769790649414,-34.59671401977539,-29.04716682434082,-63.74916458129883,56.90272521972656,1.3572461605072021,62.036903381347656,-26.452985763549805,58.86381912231445,-8.00817584991455,42.38899612426758,55.513999938964844,65.0017318725586,-36.50786590576172,54.4613151550293,38.578487396240234,56.221927642822266,-29.621030807495117,-33.7255744934082,-16.24158477783203,-60.210777282714844,-0.6545159816741943,-8.812371253967285,62.09132766723633,62.836124420166016,-8.390706062316895,53.73595428466797,-34.14194869995117,65.91095733642578,-23.837142944335938,64.98727416992188,58.539466857910156,65.41844177246094,-46.609798431396484,-27.604463577270508,-59.130409240722656,-1.4379932880401611,-33.82713317871094,-33.851600646972656,27.64999008178711,65.75186920166016,62.85430145263672,57.847286224365234,55.92801284790039,-38.514617919921875,49.92268371582031,62.16168212890625,-25.898820877075195,39.762306213378906,66.07904815673828,-18.359172821044922,-16.23548126220703,42.3078498840332,48.67572784423828,-26.12812614440918,42.49040222167969,-27.736684799194336,-26.177654266357422,-26.54450225830078,65.29228973388672,46.920040130615234,-17.194671630859375,-46.312339782714844,60.1833610534668,60.622432708740234,-4.621082782745361,43.47861862182617,-26.317005157470703,-55.877113342285156,59.892555236816406,-20.21036148071289,26.04263687133789,59.8584098815918,-36.11270523071289,42.416595458984375,-36.640262603759766,43.200870513916016,27.62188720703125,-24.222248077392578,-53.44751739501953,-25.15315818786621,62.5204963684082,-8.377412796020508,57.45924377441406,-10.132356643676758,38.931114196777344,-35.60783004760742,-2.738194227218628,50.2797966003418,-54.170780181884766,-52.92744827270508,-58.14509963989258,50.66984558105469,-45.890262603759766,-35.21708679199219,-34.52351760864258,-24.298322677612305,59.25851821899414,-38.74600601196289,-35.30955505371094,-8.999979972839355,-32.59872817993164,65.00450897216797,-19.006502151489258,59.6107177734375,65.98283386230469,-37.222599029541016,62.80586624145508,25.854480743408203,-52.5556526184082,-63.64113998413086,-28.249326705932617,66.52552795410156,-32.83911895751953,66.19247436523438,65.76351928710938,-38.61130142211914,62.40507507324219,-55.85715866088867,-18.87326431274414,66.76054382324219,62.57200241088867,-21.345245361328125,61.80577850341797,-33.39582443237305,54.64484405517578,-27.271228790283203,50.390464782714844,48.72246170043945,55.016937255859375,-17.13515853881836,-40.27646255493164,-18.33673095703125,-36.305259704589844,66.30793762207031,-35.40301513671875,47.14820861816406,-28.529109954833984,-22.827167510986328,-17.506486892700195,-64.3828353881836,-56.76449966430664,59.91679763793945,48.183692932128906,66.20372009277344,-55.104801177978516,-20.353126525878906,67.00465393066406,-23.871841430664062,25.92418670654297,49.89746856689453,-56.48106384277344,43.08797073364258,25.297664642333984,-39.93894577026367,66.8433837890625,-38.11140060424805,-0.031232906505465508,-37.22359085083008,59.240760803222656,55.24658966064453,0.03477419540286064,66.08629608154297,6.8493876457214355,-66.5084228515625,66.61763000488281,-8.105626106262207,-58.12384033203125,65.87059020996094,-30.727773666381836,41.131317138671875,-19.00932502746582,27.770694732666016,43.430145263671875,59.21195983886719,-33.787906646728516,-2.752387285232544,58.05378341674805,-31.918073654174805,55.63338851928711,1.1617273092269897,60.06755447387695,1.0589489936828613,-25.276268005371094,1.482785701751709,42.6074333190918,40.51901626586914,-34.624916076660156,-34.20707702636719,-20.670507431030273,43.40837097167969,1.701691746711731,54.83149337768555,-37.73738479614258,-43.256805419921875,50.01654052734375,58.35784912109375,-54.19865036010742,-37.33780288696289,-18.743059158325195,67.03813171386719,65.56037902832031,-9.73306655883789,45.706260681152344,-48.19499206542969,52.209842681884766,0.5930032730102539,27.533905029296875,65.44686126708984,66.32161712646484,52.04310989379883,-26.33212661743164,-8.038248062133789,-59.38798141479492,-26.803123474121094,-35.15231704711914,67.94618225097656,40.338279724121094,-12.531140327453613,50.82514190673828,48.1319465637207,-50.01322937011719,-35.54713821411133,-25.19965362548828,-17.137996673583984,-35.049415588378906,-38.10296630859375,-35.826141357421875,54.775367736816406,-37.51639938354492,-26.826417922973633,-64.7302017211914,50.34181213378906,66.07002258300781,2.058924436569214,46.44273376464844,25.723146438598633,-21.512601852416992,47.54248809814453,-63.63056182861328,47.5817985534668,-6.311874866485596,-18.67620277404785,66.53244018554688,43.57237243652344,67.14108276367188,50.027000427246094,-40.657161712646484,68.00157165527344,25.101030349731445,51.817138671875,49.60111999511719,-32.165000915527344,-58.738529205322266,-46.126644134521484,68.09467315673828,-32.528465270996094,-51.73416519165039,39.93275833129883,-58.03236770629883,-64.80052947998047,67.38671875,-46.72310256958008,60.51969909667969,-51.37272644042969,50.97856521606445,-18.14140510559082,-24.89838218688965,-20.304765701293945,-32.495216369628906,-37.25165939331055,-26.117958068847656,7.105137348175049,46.506465911865234,48.271873474121094,66.33586120605469,-63.642921447753906,-36.39686584472656,-0.1579083949327469,-21.714475631713867,-26.42084312438965,65.41789245605469,62.86559295654297,-61.2777214050293,-43.80256271362305,-41.292633056640625,-40.957828521728516,67.99707794189453,-56.80995178222656,-25.950294494628906,67.91321563720703,43.02295684814453,44.036170959472656,30.12300682067871,-20.97584342956543,-24.722606658935547,-43.64605712890625,-49.58524703979492,-19.9534969329834,48.17909240722656,-40.06039047241211,-50.6114501953125,51.9094123840332,-31.18412971496582,-11.97474479675293,-26.029457092285156,67.34200286865234,-35.20261001586914,6.710784435272217,-41.557037353515625,67.44485473632812,-42.269134521484375,-10.502887725830078,67.291748046875,67.90765380859375,44.839378356933594,66.98625946044922,66.65220642089844,43.79053497314453,65.65148162841797,7.136580467224121,-17.483497619628906,52.469207763671875,-4.465720176696777,50.37339401245117,-33.327476501464844,-37.849002838134766,-39.515716552734375,-60.60384750366211,-37.70344924926758,-37.08672332763672,-41.56142807006836,67.94585418701172,43.98675537109375,51.126041412353516,48.34215545654297,-36.456031799316406,-61.171714782714844,45.756752014160156,30.785558700561523,62.80424880981445,-26.3763370513916,-35.58328628540039,44.89704513549805,47.477577209472656,52.166259765625,-65.52165985107422,-61.54385757446289,68.12769317626953,26.958711624145508,-18.00074005126953,30.05204200744629,-36.959564208984375,44.18325424194336,43.38013458251953,-55.59226608276367,-64.6463623046875,-57.44393539428711,-51.08515930175781,2.1869542598724365,-62.542728424072266,-43.04597473144531,-61.16831588745117,-64.9037094116211,-44.8813591003418,66.37645721435547,-64.94004821777344,46.14025115966797,51.4400749206543,47.917964935302734,-65.6996841430664,-46.2752571105957,-61.09150695800781,-66.58512115478516,-64.58036804199219,-62.89515686035156,67.80915832519531,-56.967506408691406,29.364364624023438,-41.09000778198242,47.09977340698242,-54.213951110839844,52.29282760620117,-55.83246994018555,-42.594112396240234,51.03584289550781,52.13709259033203,68.24604034423828,48.14202880859375,-43.461002349853516,-26.781902313232422,-65.72303009033203,-60.789459228515625,-24.3272647857666,69.07244110107422,-34.76375198364258,-44.505489349365234,-40.52403259277344,67.66909790039062,66.72789001464844,43.90309143066406,68.7753677368164,-29.679609298706055,-52.10207748413086,-38.826541900634766,7.750187873840332,-44.68376922607422,-39.48078155517578,-62.85307312011719,-42.02827072143555,25.037466049194336,67.3062973022461,-27.123077392578125,-66.08148956298828,67.7731704711914,-63.42720031738281,-69.99024963378906,66.46693420410156,-36.600765228271484,67.6752700805664,68.4438705444336,-49.22624969482422,-38.342796325683594,-61.02984619140625,-54.394412994384766,-43.5812873840332,-38.136478424072266,-50.83282470703125,-35.173248291015625,30.36551856994629,2.5137228965759277,-40.76140594482422,-29.924264907836914,-29.48286247253418,67.1255111694336,67.20205688476562,-32.13100051879883,7.717504978179932,25.19645118713379,51.56260681152344,68.88075256347656,45.3537483215332,-55.33930587768555,68.36198425292969,-33.936065673828125,-40.46656036376953,68.58587646484375,-42.21586990356445,51.63499450683594,30.28146743774414,-20.841381072998047,45.740478515625,-30.848628997802734,-19.571348190307617,-23.58887481689453,-62.6497802734375,2.4501264095306396,-44.75141143798828,-61.55274963378906,42.2763557434082,49.60368728637695,2.558427572250366,49.618167877197266,23.92819595336914,-25.90021514892578,30.029897689819336,65.65937042236328,-57.17538070678711,-43.04245376586914,-29.90553092956543,-33.0206298828125,-41.03890609741211,27.858715057373047,-19.582094192504883,68.13285064697266,45.23686599731445,-36.21793746948242,64.5319595336914,31.606727600097656,-43.288883209228516,68.87201690673828,-44.84052658081055,68.0365982055664,63.84565353393555,-56.20676040649414,42.54608154296875,68.69348907470703,65.00946807861328,-66.46748352050781,-39.48577117919922,-33.340972900390625,-31.41379737854004,-51.2164192199707,-25.519296646118164,68.37265014648438,40.07720947265625,-43.588130950927734,51.97153854370117,-36.1110954284668,66.52738952636719,44.33769226074219,28.415916442871094,27.64518928527832,-64.51681518554688,-38.966983795166016,-33.26609420776367,44.50638961791992,37.85567855834961,-43.00348663330078,37.360233306884766,-25.91183853149414,27.42632484436035,49.489559173583984,-54.760986328125,9.015103340148926,67.7718276977539,-19.456727981567383,51.54475021362305,-62.71141052246094,52.40507507324219,-29.79163360595703,-59.03488540649414,28.58479881286621,-19.057659149169922,-55.395477294921875,-42.3726806640625,27.445655822753906,68.76490783691406,63.58403778076172,-43.74252700805664,-39.47121810913086,-45.14960479736328,50.060997009277344,5.670419692993164,50.15327835083008,-62.353206634521484,-46.54859161376953,-41.98896789550781,-43.25981903076172,-61.565223693847656,-39.17353820800781,-62.209720611572266,-41.14101028442383,66.59423065185547,-42.423316955566406,-19.02431297302246,67.75727844238281,36.10167694091797,49.68140411376953,25.049020767211914,68.71935272216797,41.82880401611328,7.794105529785156,-42.18111801147461,37.08082962036133,24.793291091918945,66.8037338256836,24.138303756713867,-42.69198226928711,-59.8535041809082,-43.37118148803711,-45.34419250488281,68.90118408203125,67.12586212158203,67.27426147460938,-58.34706115722656,7.152888298034668,28.463590621948242,66.07080841064453,65.89273834228516,-36.2261962890625,-42.028167724609375,-36.85762405395508,28.62445640563965,6.97830867767334,-37.202613830566406,66.3564224243164,66.72571563720703,52.378204345703125,37.28097152709961,44.6180534362793,51.50624084472656,-65.74066925048828,-47.10115051269531,-65.78752136230469,6.090165615081787,-30.3566837310791,66.57061004638672,-41.0256462097168,-37.44512176513672,27.091562271118164,-43.2380256652832,-35.66155242919922,-46.70272445678711,-29.911266326904297,-38.6096305847168,68.2969970703125,8.920981407165527,-24.868188858032227,68.78880310058594,67.40586853027344,50.44700241088867,52.548095703125,-36.092098236083984,-46.710716247558594,-66.03730773925781,26.474365234375,-40.00094985961914,-54.604305267333984,-43.98075485229492,-58.388336181640625,-48.329856872558594,-40.2052001953125,66.0621109008789,44.47112274169922,50.77658462524414,-48.45745086669922,23.88005828857422,-55.09669876098633,37.30296325683594,44.747798919677734,33.14189529418945,-32.22608947753906,-57.49950408935547,67.60692596435547,-54.730716705322266,49.51796340942383,52.15332794189453,-47.53982925415039,-46.46433639526367,51.54338073730469,-38.13254928588867,-41.98220443725586,-45.044639587402344,-45.043373107910156,68.70731353759766,-68.56761932373047,44.49764633178711,68.59608459472656,-32.790557861328125,-63.32204055786133,-41.8691520690918,50.97989273071289,66.76224517822266,-48.731590270996094,-28.236255645751953,25.44907569885254,-35.00593566894531,53.85926055908203,-34.77976989746094,44.892642974853516,66.7607192993164,68.47077178955078,-54.29298400878906,47.21969985961914,22.362363815307617,6.5290141105651855,66.60811614990234,55.26375961303711,-39.17219924926758,-38.46329879760742,47.7863655090332,67.7708511352539,-32.29467010498047,-19.357885360717773,22.90412139892578,-43.24635696411133,54.53287887573242,32.70880889892578,-37.82681655883789,65.79143524169922,-29.559959411621094,47.18009567260742,-46.22846984863281,-47.463134765625,-62.06930923461914,-39.08575439453125,-59.71638107299805,9.027618408203125,-39.349822998046875,-41.47355270385742,-44.00035095214844,65.3145751953125,-51.21003341674805,44.55875778198242,66.46592712402344,-42.42226028442383,55.712158203125,-44.511592864990234,6.310783863067627,-22.84755516052246,-65.03888702392578,65.41329956054688,-58.3210563659668,-49.783321380615234,24.318714141845703,55.3972282409668,51.6352653503418,68.93477630615234,47.08522033691406,-61.92717742919922,-23.90605354309082,55.08574295043945,44.68622589111328,-35.23252868652344,-45.23564529418945,-57.62007522583008,-61.916900634765625,-25.149864196777344,35.94565963745117,54.270286560058594,-45.60243606567383,-40.96189880371094,-42.83378601074219,-66.87024688720703,53.74053192138672,-66.2025146484375,54.07552719116211,47.27894973754883,65.74124145507812,68.61825561523438,51.46901321411133,-39.04008483886719,-38.475955963134766,66.29759216308594,63.31202697753906,-34.28963088989258,-19.75632667541504,47.394432067871094,67.32587432861328,-39.21516418457031,67.51139068603516,-45.70493698120117,32.72827911376953,-51.166080474853516,63.83882141113281,52.79451370239258,48.895042419433594,-63.67859649658203,66.3603515625,-43.448570251464844,35.474239349365234,-42.943634033203125,68.51678466796875,55.292781829833984,51.526065826416016,-58.18456268310547,-62.831329345703125,-57.65425109863281,-38.65879440307617,-64.48702239990234,-61.0147819519043,-33.653289794921875,-46.145103454589844,68.28458404541016,-67.5569076538086,-32.746585845947266,50.817440032958984,-54.60134506225586,-41.37050247192383,-69.08561706542969,-40.9997673034668,45.903499603271484,-25.63279914855957,56.264892578125,65.54139709472656,-66.107421875,66.92720031738281,25.26157569885254,-38.097835540771484,54.908782958984375,-61.21786117553711,-50.737632751464844,66.30165100097656,54.89120101928711,-53.86882781982422,65.69389343261719,-23.11380958557129,-47.48237228393555,67.97056579589844,-60.506996154785156,44.501102447509766,65.56453704833984,67.15275573730469,67.4268569946289,66.76532745361328,52.157920837402344,64.80970001220703,-55.30416488647461,8.412036895751953,67.47191619873047,25.132966995239258,35.39551544189453,64.94116973876953,-67.24881744384766,62.278255462646484,-46.7126350402832,-53.79399871826172,7.660512447357178,-56.9522819519043,36.4753303527832,44.57792663574219,-59.1943473815918,32.543880462646484,22.66961097717285,48.00127029418945,53.62053298950195,47.1205940246582,64.4640884399414,-59.04532241821289,24.803638458251953,-61.82328414916992,-19.60053825378418,-50.701629638671875,-57.22229766845703,23.150033950805664,65.47683715820312,44.627803802490234,46.41579818725586,-51.052555084228516,-39.26722717285156,-41.124916076660156,-45.9018440246582,-58.04378890991211,-57.966854095458984,-18.28255271911621,-20.103050231933594,46.24117660522461,33.17448043823242,6.682183265686035,-38.61882019042969,65.9827651977539,-61.96977996826172,62.02326202392578,-57.94011688232422,-19.278806686401367,-60.85874938964844,-38.91608428955078,-43.69388961791992,-51.114036560058594,44.42763137817383,-46.58552551269531,-55.61895751953125,-41.36394119262695,-43.632225036621094,-59.50571823120117,-54.93256759643555,45.346351623535156,-22.771015167236328,52.18149185180664,66.60302734375,-36.98136901855469,-37.91912841796875,46.917789459228516,22.987716674804688,36.2321662902832,-48.98889923095703,61.815792083740234,-65.68628692626953,-57.27326202392578,32.164608001708984,-57.60408401489258,62.84737777709961,-39.63842010498047,-66.15550994873047,-37.38029098510742,66.03758239746094,64.08218383789062,-18.168460845947266,-70.02440643310547,66.684814453125,7.625266075134277,-20.916324615478516,-31.148727416992188,62.67598342895508,62.14678192138672,66.2918701171875,-51.02653884887695,-67.28763580322266,64.65647888183594,62.82533645629883,23.250131607055664,53.2928466796875,22.857463836669922,64.87480926513672,-35.761932373046875,52.22555160522461,-66.47616577148438,62.766395568847656,-55.2249755859375,-57.21916961669922,65.0344467163086,46.721073150634766,-51.07820510864258,-65.96470642089844,-62.75210189819336,-21.02646827697754,-51.647701263427734,-64.22337341308594,51.9160041809082,65.97357177734375,-63.73934555053711,31.586946487426758,-41.02449035644531,-24.50054931640625,65.632080078125,-41.38393783569336,-67.23020935058594,31.043411254882812,-32.08197021484375,-58.17720413208008,65.94629669189453,64.78287506103516,-56.94599151611328,52.39098358154297,-48.79551696777344,46.64055252075195,51.71014404296875,44.019283294677734,-57.2294807434082,-34.76443862915039,-53.989105224609375,22.839309692382812,-48.1204948425293,22.78032112121582,-63.18986129760742,65.80902862548828,-63.61893844604492,35.42893981933594,7.297624588012695,-48.712982177734375,65.14750671386719,65.88462829589844,-63.08857345581055,-20.221311569213867,61.499107360839844,47.30066680908203,30.316635131835938,48.47416305541992,-65.84159851074219,35.1650505065918,-57.795352935791016,47.163394927978516,62.790977478027344,8.109234809875488,64.2447738647461,34.990684509277344,43.84931945800781,46.90061569213867,-22.298477172851562,-55.77427291870117,33.99414825439453,65.3205795288086,53.22934341430664,65.0826644897461,-35.67494201660156,-57.57453155517578,50.78305435180664,-58.359615325927734,32.33073425292969,-55.86506271362305,63.709197998046875,-69.62760162353516,-47.89822006225586,23.52570915222168,46.18959045410156,-25.535470962524414,65.47964477539062,-22.75856590270996,-57.7054328918457,30.518211364746094,52.698570251464844,30.993253707885742,-63.32779312133789,6.2158918380737305,-57.79950714111328,7.4760565757751465,65.0203628540039,63.04839324951172,-48.73609161376953,-60.65886306762695,-39.20729064941406,-49.68694305419922,52.83842468261719,36.1375617980957,50.988677978515625,62.5057373046875,-39.20173645019531,-61.60013961791992,60.34177017211914,-48.07630920410156,-57.273902893066406,-37.16402053833008,-38.46377944946289,65.08142852783203,43.52397155761719,64.65067291259766,52.69744873046875,-53.4457893371582,-57.98223876953125,35.24600601196289,48.98646926879883,23.599781036376953,47.07653045654297,64.91976165771484,51.178218841552734,-60.29112243652344,46.08757019042969,-68.83644104003906,35.291839599609375,32.77079391479492,49.347633361816406,30.02317237854004,-66.75611114501953,-36.01277160644531,50.16031265258789,-48.626739501953125,34.23406982421875,47.59765625,47.2273063659668,-53.750404357910156,-57.219215393066406,-65.53695678710938,43.31873321533203,-49.83903884887695,-21.997295379638672,-56.84025955200195,-26.054330825805664,64.67863464355469,53.89833068847656,64.59276580810547,-35.51008224487305,-36.451820373535156,-50.11043930053711,48.634002685546875,43.2872200012207,64.65670776367188,-22.08087730407715,-41.25593566894531,-41.92701721191406,-58.930660247802734,-64.56454467773438,-16.982053756713867,23.003150939941406,50.022281646728516,-56.6903076171875,31.63670539855957,41.96542739868164,-51.73725128173828,-60.877723693847656,-48.34373474121094,48.085166931152344,53.858551025390625,30.633621215820312,-43.2950553894043,60.53983688354492,-25.59671974182129,32.88430404663086,-30.1193904876709,-48.5179557800293,-52.733821868896484,-18.616817474365234,-53.84156799316406,-63.96769332885742,35.699398040771484,64.21097564697266,48.983516693115234,34.05614471435547,28.327022552490234,61.208858489990234,60.45098876953125,43.09241485595703,33.26728057861328,-55.18410873413086,-22.511259078979492,53.391334533691406,34.72414016723633,-49.69622802734375,-25.494937896728516,63.04855728149414,-44.86315155029297,-54.13750457763672,64.22264862060547,-69.15353393554688,-53.84510040283203,-68.92526245117188,47.88059616088867,-42.0872917175293,-18.55108642578125,-39.86082458496094,-54.00053024291992,-35.59756088256836,-56.700889587402344,-18.37505340576172,61.565025329589844,62.98286056518555,22.90798568725586,-58.89207077026367,-37.11772537231445,-23.622495651245117,34.55449676513672,-45.608577728271484,-67.67821502685547,8.765951156616211,-63.67768096923828,59.483154296875,61.6488151550293,-19.444564819335938,-65.61691284179688,-55.60487365722656,59.156917572021484,-37.368202209472656,61.28333282470703,-24.813386917114258,7.611576080322266,48.05681610107422,-66.49552154541016,61.390506744384766,45.602142333984375,-55.655025482177734,45.0953369140625,62.974388122558594,63.42305374145508,-56.42763137817383,29.641599655151367,47.824928283691406,-55.27510070800781,34.23330307006836,-18.001285552978516,-34.578208923339844,-18.33234214782715,-50.19010925292969,-64.04620361328125,-52.71980667114258,-21.13529396057129,-57.645782470703125,60.21330261230469,63.098148345947266,8.912592887878418,-38.327396392822266,50.423404693603516,49.83292007446289,61.21159362792969,-44.51906204223633,-54.65798568725586,59.41825866699219,-70.14253234863281,-37.989871978759766,-22.55855369567871,-44.991485595703125,59.807674407958984,33.69798278808594,-57.862571716308594,60.05411148071289,62.2226448059082,61.65248107910156,-43.235107421875,-56.85139465332031,-21.708271026611328,62.48709487915039,-24.587562561035156,-48.557315826416016,-65.5055923461914,44.79039764404297,33.42987823486328,61.954010009765625,50.73410415649414,49.58500671386719,-19.29786491394043,62.978153228759766,44.71306610107422,-33.956138610839844,48.254188537597656,35.262020111083984,27.843751907348633,-49.962242126464844,47.98762512207031,-58.85108184814453,-53.46907424926758,-59.86256790161133,62.14509582519531,-58.84067153930664,46.9114875793457,-57.15094757080078,33.55124282836914,-68.39933776855469,35.0509147644043,27.282032012939453,-35.6126708984375,29.333723068237305,61.91685104370117,-42.856597900390625,27.903791427612305,41.17152786254883,-52.84182357788086,62.533966064453125,61.3516845703125,-38.29844665527344,58.88763427734375,-40.64188766479492,62.42082595825195,46.32694625854492,-45.107078552246094,41.443138122558594,30.371355056762695,-56.715579986572266,59.61861801147461,-71.32752227783203,47.04454040527344,60.86772918701172,33.62665557861328,-25.2539119720459,-65.05953979492188,-37.082550048828125,-70.77009582519531,-49.57000732421875,-41.610843658447266,-43.52370834350586,-44.91099548339844,62.15193176269531,-60.632362365722656,-68.44937133789062,-42.68721389770508,-63.22482681274414,-38.93883514404297,-56.38276290893555,29.488161087036133,-68.4774398803711,-58.58760070800781,-57.8741340637207,61.529258728027344,-23.249839782714844,57.04838562011719,-46.69355773925781,61.65803146362305,-66.63642883300781,42.459877014160156,-46.297576904296875,59.62929916381836,-28.341094970703125,60.92448425292969,-37.977142333984375,-68.34513854980469,-36.22553634643555,-67.66780090332031,-38.35373306274414,-17.75008773803711,-42.1900634765625,-19.306982040405273,42.73478698730469,48.500736236572266,60.56739044189453,-53.44417190551758,44.32213592529297,-55.13554382324219,41.024105072021484,41.279300689697266,61.08808517456055,-63.20293426513672,48.28801727294922,-28.011287689208984,40.38917922973633,59.006248474121094,-70.06202697753906,-29.82635498046875,48.48313903808594,42.090328216552734,29.44216537475586,60.85811996459961,-36.56818389892578,41.38265609741211,47.63916015625,-60.015647888183594,-54.43888473510742,-54.545230865478516,44.382442474365234,59.385528564453125,-45.38455581665039,58.99415588378906,-50.487789154052734,-35.99143600463867,58.861366271972656,33.38020706176758,-68.09690856933594,-59.59389877319336,29.87176513671875,-38.91423416137695,48.42972183227539,-59.10506820678711,35.12277603149414,41.06647491455078,46.62686538696289,-25.55316925048828,-69.07463073730469,-39.044803619384766,-49.929283142089844,59.91326141357422,-68.91719055175781,-40.035736083984375,29.132061004638672,-36.734771728515625,-49.012939453125,48.114017486572266,29.943105697631836,-18.48503875732422,59.612831115722656,58.722721099853516,-43.296104431152344,58.93242263793945,58.42945098876953,42.292423248291016,58.74122619628906,-43.459136962890625,-37.873268127441406,-46.01443099975586,59.230567932128906,-61.13525390625,46.35313034057617,58.72524642944336,44.719383239746094,-53.21035385131836,57.9026985168457,-39.13385009765625,-41.620391845703125,56.83325958251953,47.450687408447266,-45.60859680175781,-55.24361038208008,59.05779266357422,-46.25589370727539,58.33539962768555,-56.0682487487793,-38.031394958496094,-22.537202835083008,40.989219665527344,-60.13650894165039,57.073570251464844,30.07929039001465,48.06623458862305,42.92036056518555,-37.19050598144531,-42.43687057495117,43.50437927246094,46.467708587646484,43.434688568115234,58.42253112792969,58.58692932128906,57.336483001708984,-59.315128326416016,-50.4166259765625,47.52678680419922,-47.09702682495117,-69.92483520507812,47.998634338378906,58.448543548583984,-34.937034606933594,43.01434326171875,57.45127868652344,50.18101501464844,-21.54761505126953,57.49227523803711,-40.280059814453125,46.95896911621094,41.714271545410156,57.42640686035156,28.05657958984375,44.23088455200195,-46.805477142333984,-25.926332473754883,-21.13610076904297,-68.92699432373047,-39.793033599853516,-59.57216262817383,-51.43560028076172,-67.80388641357422,29.866762161254883,-49.02155303955078,42.192691802978516,-43.93145751953125,-19.38895606994629,-18.63728141784668,57.29174041748047,-55.398712158203125,-22.891340255737305,50.202728271484375,56.728511810302734,56.2584342956543,-38.58005142211914,-68.57627868652344,52.31934356689453,55.54930877685547,45.362388610839844,-55.799678802490234,-40.26392364501953,-46.30960464477539,-40.11520767211914,-29.615957260131836,-45.6345100402832,56.52461242675781,47.2910041809082,-40.36936950683594,-69.87841033935547,47.30837631225586,-45.86124038696289,52.48582077026367,-26.747175216674805,-19.435039520263672,55.7816047668457,45.37746810913086,-20.01287269592285,56.73590850830078,41.134071350097656,28.914995193481445,55.68062973022461,56.6833610534668,49.158390045166016,50.80242919921875,55.77265167236328,47.66750717163086,43.18435287475586,49.55928421020508,-27.823949813842773,-51.015323638916016,28.703649520874023,40.335548400878906,50.68766784667969,-22.55088233947754,-60.98471450805664,-56.76689147949219,42.49338150024414,-52.70264434814453,-50.03877258300781,42.456417083740234,42.01453399658203,-29.940956115722656,56.095375061035156,45.90468215942383,55.64196014404297,55.7634391784668,40.29679870605469,45.20552062988281,43.30720520019531,-62.747581481933594,-53.39203643798828,-49.87886047363281,-69.38018035888672,43.76836395263672,44.2077522277832,41.41790008544922,-36.11674118041992,-52.836666107177734,-25.720712661743164,-45.4526481628418,50.997955322265625,40.37464904785156,42.753753662109375,-40.603023529052734,43.042118072509766,-36.253440856933594,50.33366012573242,27.955154418945312,-49.519081115722656,55.099639892578125,-23.258378982543945,45.40053939819336,41.009605407714844,40.3192138671875,-61.4659423828125,46.32802200317383,49.433631896972656,45.75846862792969,55.066558837890625,41.14572525024414,34.0107421875,-52.10356903076172,40.387821197509766,33.170875549316406,-62.33450698852539,-53.760074615478516,54.68500900268555,-62.913902282714844,-69.02412414550781,-60.834877014160156,49.90069580078125,-68.69507598876953,-20.189254760742188,-55.592529296875,46.245784759521484,-42.06106185913086,48.66032409667969,28.293582916259766,-41.53772735595703,-49.87944030761719,53.58565902709961,27.370677947998047,-60.85163879394531,43.629032135009766,-52.97174072265625,-47.502750396728516,-41.27622985839844,41.99211502075195,44.84626007080078,51.416908264160156,54.411827087402344,-51.60330581665039,-35.30324172973633,-43.31039810180664,-68.88573455810547,-22.81215476989746,49.19942855834961,52.6381950378418,41.111305236816406,-40.64375686645508,54.7982063293457,52.758094787597656,-27.263525009155273,-28.31801414489746,44.35954284667969,-26.538423538208008,-53.99201965332031,-29.746356964111328,53.75328826904297,48.33207702636719,54.047767639160156,44.90669631958008,-47.289913177490234,52.808135986328125,41.3408203125,-58.67087173461914,-41.34749221801758],\"type\":\"histogram\",\"opacity\":0.75}],                        {\"template\":{\"data\":{\"histogram2dcontour\":[{\"type\":\"histogram2dcontour\",\"colorbar\":{\"outlinewidth\":0,\"ticks\":\"\"},\"colorscale\":[[0.0,\"#0d0887\"],[0.1111111111111111,\"#46039f\"],[0.2222222222222222,\"#7201a8\"],[0.3333333333333333,\"#9c179e\"],[0.4444444444444444,\"#bd3786\"],[0.5555555555555556,\"#d8576b\"],[0.6666666666666666,\"#ed7953\"],[0.7777777777777778,\"#fb9f3a\"],[0.8888888888888888,\"#fdca26\"],[1.0,\"#f0f921\"]]}],\"choropleth\":[{\"type\":\"choropleth\",\"colorbar\":{\"outlinewidth\":0,\"ticks\":\"\"}}],\"histogram2d\":[{\"type\":\"histogram2d\",\"colorbar\":{\"outlinewidth\":0,\"ticks\":\"\"},\"colorscale\":[[0.0,\"#0d0887\"],[0.1111111111111111,\"#46039f\"],[0.2222222222222222,\"#7201a8\"],[0.3333333333333333,\"#9c179e\"],[0.4444444444444444,\"#bd3786\"],[0.5555555555555556,\"#d8576b\"],[0.6666666666666666,\"#ed7953\"],[0.7777777777777778,\"#fb9f3a\"],[0.8888888888888888,\"#fdca26\"],[1.0,\"#f0f921\"]]}],\"heatmap\":[{\"type\":\"heatmap\",\"colorbar\":{\"outlinewidth\":0,\"ticks\":\"\"},\"colorscale\":[[0.0,\"#0d0887\"],[0.1111111111111111,\"#46039f\"],[0.2222222222222222,\"#7201a8\"],[0.3333333333333333,\"#9c179e\"],[0.4444444444444444,\"#bd3786\"],[0.5555555555555556,\"#d8576b\"],[0.6666666666666666,\"#ed7953\"],[0.7777777777777778,\"#fb9f3a\"],[0.8888888888888888,\"#fdca26\"],[1.0,\"#f0f921\"]]}],\"heatmapgl\":[{\"type\":\"heatmapgl\",\"colorbar\":{\"outlinewidth\":0,\"ticks\":\"\"},\"colorscale\":[[0.0,\"#0d0887\"],[0.1111111111111111,\"#46039f\"],[0.2222222222222222,\"#7201a8\"],[0.3333333333333333,\"#9c179e\"],[0.4444444444444444,\"#bd3786\"],[0.5555555555555556,\"#d8576b\"],[0.6666666666666666,\"#ed7953\"],[0.7777777777777778,\"#fb9f3a\"],[0.8888888888888888,\"#fdca26\"],[1.0,\"#f0f921\"]]}],\"contourcarpet\":[{\"type\":\"contourcarpet\",\"colorbar\":{\"outlinewidth\":0,\"ticks\":\"\"}}],\"contour\":[{\"type\":\"contour\",\"colorbar\":{\"outlinewidth\":0,\"ticks\":\"\"},\"colorscale\":[[0.0,\"#0d0887\"],[0.1111111111111111,\"#46039f\"],[0.2222222222222222,\"#7201a8\"],[0.3333333333333333,\"#9c179e\"],[0.4444444444444444,\"#bd3786\"],[0.5555555555555556,\"#d8576b\"],[0.6666666666666666,\"#ed7953\"],[0.7777777777777778,\"#fb9f3a\"],[0.8888888888888888,\"#fdca26\"],[1.0,\"#f0f921\"]]}],\"surface\":[{\"type\":\"surface\",\"colorbar\":{\"outlinewidth\":0,\"ticks\":\"\"},\"colorscale\":[[0.0,\"#0d0887\"],[0.1111111111111111,\"#46039f\"],[0.2222222222222222,\"#7201a8\"],[0.3333333333333333,\"#9c179e\"],[0.4444444444444444,\"#bd3786\"],[0.5555555555555556,\"#d8576b\"],[0.6666666666666666,\"#ed7953\"],[0.7777777777777778,\"#fb9f3a\"],[0.8888888888888888,\"#fdca26\"],[1.0,\"#f0f921\"]]}],\"mesh3d\":[{\"type\":\"mesh3d\",\"colorbar\":{\"outlinewidth\":0,\"ticks\":\"\"}}],\"scatter\":[{\"fillpattern\":{\"fillmode\":\"overlay\",\"size\":10,\"solidity\":0.2},\"type\":\"scatter\"}],\"parcoords\":[{\"type\":\"parcoords\",\"line\":{\"colorbar\":{\"outlinewidth\":0,\"ticks\":\"\"}}}],\"scatterpolargl\":[{\"type\":\"scatterpolargl\",\"marker\":{\"colorbar\":{\"outlinewidth\":0,\"ticks\":\"\"}}}],\"bar\":[{\"error_x\":{\"color\":\"#2a3f5f\"},\"error_y\":{\"color\":\"#2a3f5f\"},\"marker\":{\"line\":{\"color\":\"#E5ECF6\",\"width\":0.5},\"pattern\":{\"fillmode\":\"overlay\",\"size\":10,\"solidity\":0.2}},\"type\":\"bar\"}],\"scattergeo\":[{\"type\":\"scattergeo\",\"marker\":{\"colorbar\":{\"outlinewidth\":0,\"ticks\":\"\"}}}],\"scatterpolar\":[{\"type\":\"scatterpolar\",\"marker\":{\"colorbar\":{\"outlinewidth\":0,\"ticks\":\"\"}}}],\"histogram\":[{\"marker\":{\"pattern\":{\"fillmode\":\"overlay\",\"size\":10,\"solidity\":0.2}},\"type\":\"histogram\"}],\"scattergl\":[{\"type\":\"scattergl\",\"marker\":{\"colorbar\":{\"outlinewidth\":0,\"ticks\":\"\"}}}],\"scatter3d\":[{\"type\":\"scatter3d\",\"line\":{\"colorbar\":{\"outlinewidth\":0,\"ticks\":\"\"}},\"marker\":{\"colorbar\":{\"outlinewidth\":0,\"ticks\":\"\"}}}],\"scattermapbox\":[{\"type\":\"scattermapbox\",\"marker\":{\"colorbar\":{\"outlinewidth\":0,\"ticks\":\"\"}}}],\"scatterternary\":[{\"type\":\"scatterternary\",\"marker\":{\"colorbar\":{\"outlinewidth\":0,\"ticks\":\"\"}}}],\"scattercarpet\":[{\"type\":\"scattercarpet\",\"marker\":{\"colorbar\":{\"outlinewidth\":0,\"ticks\":\"\"}}}],\"carpet\":[{\"aaxis\":{\"endlinecolor\":\"#2a3f5f\",\"gridcolor\":\"white\",\"linecolor\":\"white\",\"minorgridcolor\":\"white\",\"startlinecolor\":\"#2a3f5f\"},\"baxis\":{\"endlinecolor\":\"#2a3f5f\",\"gridcolor\":\"white\",\"linecolor\":\"white\",\"minorgridcolor\":\"white\",\"startlinecolor\":\"#2a3f5f\"},\"type\":\"carpet\"}],\"table\":[{\"cells\":{\"fill\":{\"color\":\"#EBF0F8\"},\"line\":{\"color\":\"white\"}},\"header\":{\"fill\":{\"color\":\"#C8D4E3\"},\"line\":{\"color\":\"white\"}},\"type\":\"table\"}],\"barpolar\":[{\"marker\":{\"line\":{\"color\":\"#E5ECF6\",\"width\":0.5},\"pattern\":{\"fillmode\":\"overlay\",\"size\":10,\"solidity\":0.2}},\"type\":\"barpolar\"}],\"pie\":[{\"automargin\":true,\"type\":\"pie\"}]},\"layout\":{\"autotypenumbers\":\"strict\",\"colorway\":[\"#636efa\",\"#EF553B\",\"#00cc96\",\"#ab63fa\",\"#FFA15A\",\"#19d3f3\",\"#FF6692\",\"#B6E880\",\"#FF97FF\",\"#FECB52\"],\"font\":{\"color\":\"#2a3f5f\"},\"hovermode\":\"closest\",\"hoverlabel\":{\"align\":\"left\"},\"paper_bgcolor\":\"white\",\"plot_bgcolor\":\"#E5ECF6\",\"polar\":{\"bgcolor\":\"#E5ECF6\",\"angularaxis\":{\"gridcolor\":\"white\",\"linecolor\":\"white\",\"ticks\":\"\"},\"radialaxis\":{\"gridcolor\":\"white\",\"linecolor\":\"white\",\"ticks\":\"\"}},\"ternary\":{\"bgcolor\":\"#E5ECF6\",\"aaxis\":{\"gridcolor\":\"white\",\"linecolor\":\"white\",\"ticks\":\"\"},\"baxis\":{\"gridcolor\":\"white\",\"linecolor\":\"white\",\"ticks\":\"\"},\"caxis\":{\"gridcolor\":\"white\",\"linecolor\":\"white\",\"ticks\":\"\"}},\"coloraxis\":{\"colorbar\":{\"outlinewidth\":0,\"ticks\":\"\"}},\"colorscale\":{\"sequential\":[[0.0,\"#0d0887\"],[0.1111111111111111,\"#46039f\"],[0.2222222222222222,\"#7201a8\"],[0.3333333333333333,\"#9c179e\"],[0.4444444444444444,\"#bd3786\"],[0.5555555555555556,\"#d8576b\"],[0.6666666666666666,\"#ed7953\"],[0.7777777777777778,\"#fb9f3a\"],[0.8888888888888888,\"#fdca26\"],[1.0,\"#f0f921\"]],\"sequentialminus\":[[0.0,\"#0d0887\"],[0.1111111111111111,\"#46039f\"],[0.2222222222222222,\"#7201a8\"],[0.3333333333333333,\"#9c179e\"],[0.4444444444444444,\"#bd3786\"],[0.5555555555555556,\"#d8576b\"],[0.6666666666666666,\"#ed7953\"],[0.7777777777777778,\"#fb9f3a\"],[0.8888888888888888,\"#fdca26\"],[1.0,\"#f0f921\"]],\"diverging\":[[0,\"#8e0152\"],[0.1,\"#c51b7d\"],[0.2,\"#de77ae\"],[0.3,\"#f1b6da\"],[0.4,\"#fde0ef\"],[0.5,\"#f7f7f7\"],[0.6,\"#e6f5d0\"],[0.7,\"#b8e186\"],[0.8,\"#7fbc41\"],[0.9,\"#4d9221\"],[1,\"#276419\"]]},\"xaxis\":{\"gridcolor\":\"white\",\"linecolor\":\"white\",\"ticks\":\"\",\"title\":{\"standoff\":15},\"zerolinecolor\":\"white\",\"automargin\":true,\"zerolinewidth\":2},\"yaxis\":{\"gridcolor\":\"white\",\"linecolor\":\"white\",\"ticks\":\"\",\"title\":{\"standoff\":15},\"zerolinecolor\":\"white\",\"automargin\":true,\"zerolinewidth\":2},\"scene\":{\"xaxis\":{\"backgroundcolor\":\"#E5ECF6\",\"gridcolor\":\"white\",\"linecolor\":\"white\",\"showbackground\":true,\"ticks\":\"\",\"zerolinecolor\":\"white\",\"gridwidth\":2},\"yaxis\":{\"backgroundcolor\":\"#E5ECF6\",\"gridcolor\":\"white\",\"linecolor\":\"white\",\"showbackground\":true,\"ticks\":\"\",\"zerolinecolor\":\"white\",\"gridwidth\":2},\"zaxis\":{\"backgroundcolor\":\"#E5ECF6\",\"gridcolor\":\"white\",\"linecolor\":\"white\",\"showbackground\":true,\"ticks\":\"\",\"zerolinecolor\":\"white\",\"gridwidth\":2}},\"shapedefaults\":{\"line\":{\"color\":\"#2a3f5f\"}},\"annotationdefaults\":{\"arrowcolor\":\"#2a3f5f\",\"arrowhead\":0,\"arrowwidth\":1},\"geo\":{\"bgcolor\":\"white\",\"landcolor\":\"#E5ECF6\",\"subunitcolor\":\"white\",\"showland\":true,\"showlakes\":true,\"lakecolor\":\"white\"},\"title\":{\"x\":0.05},\"mapbox\":{\"style\":\"light\"}}},\"barmode\":\"overlay\",\"title\":{\"text\":\"Histograma de valores de cada nueva caracteristica\"},\"xaxis\":{\"title\":{\"text\":\"frecuencia\"}},\"yaxis\":{\"title\":{\"text\":\"valor\"}}},                        {\"responsive\": true}                    ).then(function(){\n",
              "                            \n",
              "var gd = document.getElementById('2acca052-1d94-471a-86c7-df1ce01958b3');\n",
              "var x = new MutationObserver(function (mutations, observer) {{\n",
              "        var display = window.getComputedStyle(gd).display;\n",
              "        if (!display || display === 'none') {{\n",
              "            console.log([gd, 'removed!']);\n",
              "            Plotly.purge(gd);\n",
              "            observer.disconnect();\n",
              "        }}\n",
              "}});\n",
              "\n",
              "// Listen for the removal of the full notebook cells\n",
              "var notebookContainer = gd.closest('#notebook-container');\n",
              "if (notebookContainer) {{\n",
              "    x.observe(notebookContainer, {childList: true});\n",
              "}}\n",
              "\n",
              "// Listen for the clearing of the current output cell\n",
              "var outputEl = gd.closest('.output');\n",
              "if (outputEl) {{\n",
              "    x.observe(outputEl, {childList: true});\n",
              "}}\n",
              "\n",
              "                        })                };                            </script>        </div>\n",
              "</body>\n",
              "</html>"
            ]
          },
          "metadata": {}
        }
      ]
    },
    {
      "cell_type": "markdown",
      "source": [
        "En ambos gráficos se pueden ver los datos bien distribuidos, es decir, que no tienen valores totalmente difeerentes unos de otros, que es lo que se busca."
      ],
      "metadata": {
        "id": "GRiA53JVI6yS"
      }
    },
    {
      "cell_type": "markdown",
      "source": [
        "### 1.3.3 Clustering"
      ],
      "metadata": {
        "tags": [],
        "cell_id": "75015b8bec9f4985ae3535276edb9cf6",
        "deepnote_cell_height": 61.866668701171875,
        "deepnote_cell_type": "markdown",
        "id": "_WY-H_O2SvcH"
      }
    },
    {
      "cell_type": "markdown",
      "source": [
        "#### 1.3.3.1 Método del Codo [1 puntos]"
      ],
      "metadata": {
        "tags": [],
        "cell_id": "01eb144ba7b844c98b0f68dc07f1ba38",
        "deepnote_cell_height": 53.866668701171875,
        "deepnote_cell_type": "markdown",
        "id": "RbScnQKGSvcH"
      }
    },
    {
      "cell_type": "markdown",
      "source": [
        "Utilizando la clase creada para escalamiento, aplique el método del codo para visualizar cual es el número de clusters que mejor se ajustan a los datos. Realice esto utilizando el algoritmo K-means dentro de un pipeline para un $k \\in [1,20]$, donde k representa el número de clusters del k-means. Para la realización de esta sección y la próxima (1.3.3.2), considere los mismos pasos utilizados para el t-sne, pero permutando el algoritmo de reducción de dimensionalidad por k-means.\n",
        "\n",
        "A través del grafico obtenido, comente y justifique que valor de k escogería para realizar el k-means."
      ],
      "metadata": {
        "tags": [],
        "cell_id": "de1f59f512af42618d3a5b084f84b460",
        "deepnote_cell_height": 223.06666564941406,
        "deepnote_cell_type": "markdown",
        "id": "vyfeRYb4SvcI"
      }
    },
    {
      "cell_type": "markdown",
      "source": [
        "**Respuesta:**"
      ],
      "metadata": {
        "tags": [],
        "cell_id": "a268dbe1c26b4dccbaa8c976005c9141",
        "deepnote_cell_height": 52.26666259765625,
        "deepnote_cell_type": "markdown",
        "id": "hj-UIU0wSvcI"
      }
    },
    {
      "cell_type": "code",
      "source": [
        "RANDOM_STATE = 99\n",
        "\n",
        "\n",
        "from sklearn.cluster import KMeans\n",
        "\n",
        "\n",
        "\n",
        "intertias = [\n",
        "    [i, KMeans(n_clusters=i, random_state=0).fit(df_preprocesado).inertia_]\n",
        "    for i in range(2, 10)\n",
        "]\n",
        "\n",
        "intertias = pd.DataFrame(intertias, columns=[\"n° clusters\", \"inertia\"])\n",
        "intertias.head(10)\n",
        "\n",
        "\n",
        "\n",
        "px.line(\n",
        "    intertias,\n",
        "    x=\"n° clusters\",\n",
        "    y=\"inertia\",\n",
        "    title=\"Método del Codo con K-Means\",\n",
        "    height=600,\n",
        ")\n",
        "\n",
        "\n",
        "\n"
      ],
      "metadata": {
        "tags": [],
        "cell_id": "36239002cba54f98a3778e66878b1041",
        "deepnote_cell_height": 65.86666870117188,
        "deepnote_cell_type": "code",
        "id": "3Aw10fOpSvcI",
        "colab": {
          "base_uri": "https://localhost:8080/",
          "height": 617
        },
        "outputId": "5cf74902-8703-4021-9312-938839d353c4"
      },
      "outputs": [
        {
          "output_type": "display_data",
          "data": {
            "text/html": [
              "<html>\n",
              "<head><meta charset=\"utf-8\" /></head>\n",
              "<body>\n",
              "    <div>            <script src=\"https://cdnjs.cloudflare.com/ajax/libs/mathjax/2.7.5/MathJax.js?config=TeX-AMS-MML_SVG\"></script><script type=\"text/javascript\">if (window.MathJax && window.MathJax.Hub && window.MathJax.Hub.Config) {window.MathJax.Hub.Config({SVG: {font: \"STIX-Web\"}});}</script>                <script type=\"text/javascript\">window.PlotlyConfig = {MathJaxConfig: 'local'};</script>\n",
              "        <script src=\"https://cdn.plot.ly/plotly-2.14.0.min.js\"></script>                <div id=\"927a8b90-92b4-4350-b1b3-d55207071627\" class=\"plotly-graph-div\" style=\"height:600px; width:100%;\"></div>            <script type=\"text/javascript\">                                    window.PLOTLYENV=window.PLOTLYENV || {};                                    if (document.getElementById(\"927a8b90-92b4-4350-b1b3-d55207071627\")) {                    Plotly.newPlot(                        \"927a8b90-92b4-4350-b1b3-d55207071627\",                        [{\"hovertemplate\":\"n\\u00b0 clusters=%{x}<br>inertia=%{y}<extra></extra>\",\"legendgroup\":\"\",\"line\":{\"color\":\"#636efa\",\"dash\":\"solid\"},\"marker\":{\"symbol\":\"circle\"},\"mode\":\"lines\",\"name\":\"\",\"orientation\":\"v\",\"showlegend\":false,\"x\":[2,3,4,5,6,7,8,9],\"xaxis\":\"x\",\"y\":[5078291.0,3109435.5,2292260.25,1726679.5,1447282.5,1164320.125,983361.625,859821.0],\"yaxis\":\"y\",\"type\":\"scatter\"}],                        {\"template\":{\"data\":{\"histogram2dcontour\":[{\"type\":\"histogram2dcontour\",\"colorbar\":{\"outlinewidth\":0,\"ticks\":\"\"},\"colorscale\":[[0.0,\"#0d0887\"],[0.1111111111111111,\"#46039f\"],[0.2222222222222222,\"#7201a8\"],[0.3333333333333333,\"#9c179e\"],[0.4444444444444444,\"#bd3786\"],[0.5555555555555556,\"#d8576b\"],[0.6666666666666666,\"#ed7953\"],[0.7777777777777778,\"#fb9f3a\"],[0.8888888888888888,\"#fdca26\"],[1.0,\"#f0f921\"]]}],\"choropleth\":[{\"type\":\"choropleth\",\"colorbar\":{\"outlinewidth\":0,\"ticks\":\"\"}}],\"histogram2d\":[{\"type\":\"histogram2d\",\"colorbar\":{\"outlinewidth\":0,\"ticks\":\"\"},\"colorscale\":[[0.0,\"#0d0887\"],[0.1111111111111111,\"#46039f\"],[0.2222222222222222,\"#7201a8\"],[0.3333333333333333,\"#9c179e\"],[0.4444444444444444,\"#bd3786\"],[0.5555555555555556,\"#d8576b\"],[0.6666666666666666,\"#ed7953\"],[0.7777777777777778,\"#fb9f3a\"],[0.8888888888888888,\"#fdca26\"],[1.0,\"#f0f921\"]]}],\"heatmap\":[{\"type\":\"heatmap\",\"colorbar\":{\"outlinewidth\":0,\"ticks\":\"\"},\"colorscale\":[[0.0,\"#0d0887\"],[0.1111111111111111,\"#46039f\"],[0.2222222222222222,\"#7201a8\"],[0.3333333333333333,\"#9c179e\"],[0.4444444444444444,\"#bd3786\"],[0.5555555555555556,\"#d8576b\"],[0.6666666666666666,\"#ed7953\"],[0.7777777777777778,\"#fb9f3a\"],[0.8888888888888888,\"#fdca26\"],[1.0,\"#f0f921\"]]}],\"heatmapgl\":[{\"type\":\"heatmapgl\",\"colorbar\":{\"outlinewidth\":0,\"ticks\":\"\"},\"colorscale\":[[0.0,\"#0d0887\"],[0.1111111111111111,\"#46039f\"],[0.2222222222222222,\"#7201a8\"],[0.3333333333333333,\"#9c179e\"],[0.4444444444444444,\"#bd3786\"],[0.5555555555555556,\"#d8576b\"],[0.6666666666666666,\"#ed7953\"],[0.7777777777777778,\"#fb9f3a\"],[0.8888888888888888,\"#fdca26\"],[1.0,\"#f0f921\"]]}],\"contourcarpet\":[{\"type\":\"contourcarpet\",\"colorbar\":{\"outlinewidth\":0,\"ticks\":\"\"}}],\"contour\":[{\"type\":\"contour\",\"colorbar\":{\"outlinewidth\":0,\"ticks\":\"\"},\"colorscale\":[[0.0,\"#0d0887\"],[0.1111111111111111,\"#46039f\"],[0.2222222222222222,\"#7201a8\"],[0.3333333333333333,\"#9c179e\"],[0.4444444444444444,\"#bd3786\"],[0.5555555555555556,\"#d8576b\"],[0.6666666666666666,\"#ed7953\"],[0.7777777777777778,\"#fb9f3a\"],[0.8888888888888888,\"#fdca26\"],[1.0,\"#f0f921\"]]}],\"surface\":[{\"type\":\"surface\",\"colorbar\":{\"outlinewidth\":0,\"ticks\":\"\"},\"colorscale\":[[0.0,\"#0d0887\"],[0.1111111111111111,\"#46039f\"],[0.2222222222222222,\"#7201a8\"],[0.3333333333333333,\"#9c179e\"],[0.4444444444444444,\"#bd3786\"],[0.5555555555555556,\"#d8576b\"],[0.6666666666666666,\"#ed7953\"],[0.7777777777777778,\"#fb9f3a\"],[0.8888888888888888,\"#fdca26\"],[1.0,\"#f0f921\"]]}],\"mesh3d\":[{\"type\":\"mesh3d\",\"colorbar\":{\"outlinewidth\":0,\"ticks\":\"\"}}],\"scatter\":[{\"fillpattern\":{\"fillmode\":\"overlay\",\"size\":10,\"solidity\":0.2},\"type\":\"scatter\"}],\"parcoords\":[{\"type\":\"parcoords\",\"line\":{\"colorbar\":{\"outlinewidth\":0,\"ticks\":\"\"}}}],\"scatterpolargl\":[{\"type\":\"scatterpolargl\",\"marker\":{\"colorbar\":{\"outlinewidth\":0,\"ticks\":\"\"}}}],\"bar\":[{\"error_x\":{\"color\":\"#2a3f5f\"},\"error_y\":{\"color\":\"#2a3f5f\"},\"marker\":{\"line\":{\"color\":\"#E5ECF6\",\"width\":0.5},\"pattern\":{\"fillmode\":\"overlay\",\"size\":10,\"solidity\":0.2}},\"type\":\"bar\"}],\"scattergeo\":[{\"type\":\"scattergeo\",\"marker\":{\"colorbar\":{\"outlinewidth\":0,\"ticks\":\"\"}}}],\"scatterpolar\":[{\"type\":\"scatterpolar\",\"marker\":{\"colorbar\":{\"outlinewidth\":0,\"ticks\":\"\"}}}],\"histogram\":[{\"marker\":{\"pattern\":{\"fillmode\":\"overlay\",\"size\":10,\"solidity\":0.2}},\"type\":\"histogram\"}],\"scattergl\":[{\"type\":\"scattergl\",\"marker\":{\"colorbar\":{\"outlinewidth\":0,\"ticks\":\"\"}}}],\"scatter3d\":[{\"type\":\"scatter3d\",\"line\":{\"colorbar\":{\"outlinewidth\":0,\"ticks\":\"\"}},\"marker\":{\"colorbar\":{\"outlinewidth\":0,\"ticks\":\"\"}}}],\"scattermapbox\":[{\"type\":\"scattermapbox\",\"marker\":{\"colorbar\":{\"outlinewidth\":0,\"ticks\":\"\"}}}],\"scatterternary\":[{\"type\":\"scatterternary\",\"marker\":{\"colorbar\":{\"outlinewidth\":0,\"ticks\":\"\"}}}],\"scattercarpet\":[{\"type\":\"scattercarpet\",\"marker\":{\"colorbar\":{\"outlinewidth\":0,\"ticks\":\"\"}}}],\"carpet\":[{\"aaxis\":{\"endlinecolor\":\"#2a3f5f\",\"gridcolor\":\"white\",\"linecolor\":\"white\",\"minorgridcolor\":\"white\",\"startlinecolor\":\"#2a3f5f\"},\"baxis\":{\"endlinecolor\":\"#2a3f5f\",\"gridcolor\":\"white\",\"linecolor\":\"white\",\"minorgridcolor\":\"white\",\"startlinecolor\":\"#2a3f5f\"},\"type\":\"carpet\"}],\"table\":[{\"cells\":{\"fill\":{\"color\":\"#EBF0F8\"},\"line\":{\"color\":\"white\"}},\"header\":{\"fill\":{\"color\":\"#C8D4E3\"},\"line\":{\"color\":\"white\"}},\"type\":\"table\"}],\"barpolar\":[{\"marker\":{\"line\":{\"color\":\"#E5ECF6\",\"width\":0.5},\"pattern\":{\"fillmode\":\"overlay\",\"size\":10,\"solidity\":0.2}},\"type\":\"barpolar\"}],\"pie\":[{\"automargin\":true,\"type\":\"pie\"}]},\"layout\":{\"autotypenumbers\":\"strict\",\"colorway\":[\"#636efa\",\"#EF553B\",\"#00cc96\",\"#ab63fa\",\"#FFA15A\",\"#19d3f3\",\"#FF6692\",\"#B6E880\",\"#FF97FF\",\"#FECB52\"],\"font\":{\"color\":\"#2a3f5f\"},\"hovermode\":\"closest\",\"hoverlabel\":{\"align\":\"left\"},\"paper_bgcolor\":\"white\",\"plot_bgcolor\":\"#E5ECF6\",\"polar\":{\"bgcolor\":\"#E5ECF6\",\"angularaxis\":{\"gridcolor\":\"white\",\"linecolor\":\"white\",\"ticks\":\"\"},\"radialaxis\":{\"gridcolor\":\"white\",\"linecolor\":\"white\",\"ticks\":\"\"}},\"ternary\":{\"bgcolor\":\"#E5ECF6\",\"aaxis\":{\"gridcolor\":\"white\",\"linecolor\":\"white\",\"ticks\":\"\"},\"baxis\":{\"gridcolor\":\"white\",\"linecolor\":\"white\",\"ticks\":\"\"},\"caxis\":{\"gridcolor\":\"white\",\"linecolor\":\"white\",\"ticks\":\"\"}},\"coloraxis\":{\"colorbar\":{\"outlinewidth\":0,\"ticks\":\"\"}},\"colorscale\":{\"sequential\":[[0.0,\"#0d0887\"],[0.1111111111111111,\"#46039f\"],[0.2222222222222222,\"#7201a8\"],[0.3333333333333333,\"#9c179e\"],[0.4444444444444444,\"#bd3786\"],[0.5555555555555556,\"#d8576b\"],[0.6666666666666666,\"#ed7953\"],[0.7777777777777778,\"#fb9f3a\"],[0.8888888888888888,\"#fdca26\"],[1.0,\"#f0f921\"]],\"sequentialminus\":[[0.0,\"#0d0887\"],[0.1111111111111111,\"#46039f\"],[0.2222222222222222,\"#7201a8\"],[0.3333333333333333,\"#9c179e\"],[0.4444444444444444,\"#bd3786\"],[0.5555555555555556,\"#d8576b\"],[0.6666666666666666,\"#ed7953\"],[0.7777777777777778,\"#fb9f3a\"],[0.8888888888888888,\"#fdca26\"],[1.0,\"#f0f921\"]],\"diverging\":[[0,\"#8e0152\"],[0.1,\"#c51b7d\"],[0.2,\"#de77ae\"],[0.3,\"#f1b6da\"],[0.4,\"#fde0ef\"],[0.5,\"#f7f7f7\"],[0.6,\"#e6f5d0\"],[0.7,\"#b8e186\"],[0.8,\"#7fbc41\"],[0.9,\"#4d9221\"],[1,\"#276419\"]]},\"xaxis\":{\"gridcolor\":\"white\",\"linecolor\":\"white\",\"ticks\":\"\",\"title\":{\"standoff\":15},\"zerolinecolor\":\"white\",\"automargin\":true,\"zerolinewidth\":2},\"yaxis\":{\"gridcolor\":\"white\",\"linecolor\":\"white\",\"ticks\":\"\",\"title\":{\"standoff\":15},\"zerolinecolor\":\"white\",\"automargin\":true,\"zerolinewidth\":2},\"scene\":{\"xaxis\":{\"backgroundcolor\":\"#E5ECF6\",\"gridcolor\":\"white\",\"linecolor\":\"white\",\"showbackground\":true,\"ticks\":\"\",\"zerolinecolor\":\"white\",\"gridwidth\":2},\"yaxis\":{\"backgroundcolor\":\"#E5ECF6\",\"gridcolor\":\"white\",\"linecolor\":\"white\",\"showbackground\":true,\"ticks\":\"\",\"zerolinecolor\":\"white\",\"gridwidth\":2},\"zaxis\":{\"backgroundcolor\":\"#E5ECF6\",\"gridcolor\":\"white\",\"linecolor\":\"white\",\"showbackground\":true,\"ticks\":\"\",\"zerolinecolor\":\"white\",\"gridwidth\":2}},\"shapedefaults\":{\"line\":{\"color\":\"#2a3f5f\"}},\"annotationdefaults\":{\"arrowcolor\":\"#2a3f5f\",\"arrowhead\":0,\"arrowwidth\":1},\"geo\":{\"bgcolor\":\"white\",\"landcolor\":\"#E5ECF6\",\"subunitcolor\":\"white\",\"showland\":true,\"showlakes\":true,\"lakecolor\":\"white\"},\"title\":{\"x\":0.05},\"mapbox\":{\"style\":\"light\"}}},\"xaxis\":{\"anchor\":\"y\",\"domain\":[0.0,1.0],\"title\":{\"text\":\"n\\u00b0 clusters\"}},\"yaxis\":{\"anchor\":\"x\",\"domain\":[0.0,1.0],\"title\":{\"text\":\"inertia\"}},\"legend\":{\"tracegroupgap\":0},\"title\":{\"text\":\"M\\u00e9todo del Codo con K-Means\"},\"height\":600},                        {\"responsive\": true}                    ).then(function(){\n",
              "                            \n",
              "var gd = document.getElementById('927a8b90-92b4-4350-b1b3-d55207071627');\n",
              "var x = new MutationObserver(function (mutations, observer) {{\n",
              "        var display = window.getComputedStyle(gd).display;\n",
              "        if (!display || display === 'none') {{\n",
              "            console.log([gd, 'removed!']);\n",
              "            Plotly.purge(gd);\n",
              "            observer.disconnect();\n",
              "        }}\n",
              "}});\n",
              "\n",
              "// Listen for the removal of the full notebook cells\n",
              "var notebookContainer = gd.closest('#notebook-container');\n",
              "if (notebookContainer) {{\n",
              "    x.observe(notebookContainer, {childList: true});\n",
              "}}\n",
              "\n",
              "// Listen for the clearing of the current output cell\n",
              "var outputEl = gd.closest('.output');\n",
              "if (outputEl) {{\n",
              "    x.observe(outputEl, {childList: true});\n",
              "}}\n",
              "\n",
              "                        })                };                            </script>        </div>\n",
              "</body>\n",
              "</html>"
            ]
          },
          "metadata": {}
        }
      ],
      "execution_count": 36
    },
    {
      "cell_type": "markdown",
      "source": [
        "Se peude ver que entre 2 y 3 hay muchas mas pendiente que entre 3 y 4. Por lo tanto 3 sería el punto de inflexión, el número de clusters óptimo."
      ],
      "metadata": {
        "id": "uWUDgxsTu0qf"
      }
    },
    {
      "cell_type": "markdown",
      "source": [
        "#### 1.3.3.2 Segmentación de Clientes con K-Means 🎁 [1 punto]"
      ],
      "metadata": {
        "tags": [],
        "cell_id": "3bb5d86bc1e54cf18a851e71c2c3a3c1",
        "deepnote_cell_height": 53.866668701171875,
        "deepnote_cell_type": "markdown",
        "id": "cUW1N3KKSvcI"
      }
    },
    {
      "cell_type": "markdown",
      "source": [
        "En base a la elección de k realizada en la sección anterior, utilice este valor escogido y entrene un modelo de K-means utilizando el mismo pipeline de scikit-learn utilizado anteriormente.\n",
        "\n",
        "Una vez ajustado los datos, genere una tabla con los promedios (o medianas) para cada uno de los atributos, agrupando estos por el clúster que pertenecen. ¿Es posible observar agrupaciones coherentes?, ¿Qué tipo de clientes posee el retail?, Justifique su respuesta y no decepcione a Mr. Lepin.\n"
      ],
      "metadata": {
        "tags": [],
        "cell_id": "f8c3b4d105754ccb8a1ce6dfd606a40e",
        "deepnote_cell_height": 200.6666717529297,
        "deepnote_cell_type": "markdown",
        "id": "-8b3yZD7SvcJ"
      }
    },
    {
      "cell_type": "markdown",
      "source": [
        "**Respuesta:**"
      ],
      "metadata": {
        "tags": [],
        "cell_id": "dbce893901024a828d2b875798e27674",
        "deepnote_cell_height": 52.26666259765625,
        "deepnote_cell_type": "markdown",
        "id": "IF54KgE2SvcJ"
      }
    },
    {
      "cell_type": "code",
      "source": [
        "# El número de clusters es parámetro. En este caso, es 2.\n",
        "kmeans = KMeans(n_clusters=3, random_state=RANDOM_STATE).fit(df_preprocesado)\n",
        "\n",
        "labels = kmeans.labels_\n",
        "\n"
      ],
      "metadata": {
        "tags": [],
        "cell_id": "375d5f6e310c442d82a9c940805fc6d2",
        "deepnote_cell_height": 65.86666870117188,
        "deepnote_cell_type": "code",
        "id": "DDTQWmWFSvcJ"
      },
      "outputs": [],
      "execution_count": 37
    },
    {
      "cell_type": "code",
      "source": [
        "new_df= custom_features(df_retail)\n",
        "new_df[\"Cluster\"] = labels\n",
        "new_df = new_df.groupby([\"Cluster\"]).mean()\n",
        "new_df"
      ],
      "metadata": {
        "id": "qyvnNS3LwK6k",
        "colab": {
          "base_uri": "https://localhost:8080/",
          "height": 416
        },
        "outputId": "ed21fd63-4c74-4ae3-dc71-af1a24a5912a"
      },
      "execution_count": 38,
      "outputs": [
        {
          "output_type": "stream",
          "name": "stderr",
          "text": [
            "/usr/local/lib/python3.7/dist-packages/ipykernel_launcher.py:5: FutureWarning:\n",
            "\n",
            "Dropping invalid columns in DataFrameGroupBy.min is deprecated. In a future version, a TypeError will be raised. Before calling .min, select only columns which should be valid for the function.\n",
            "\n",
            "/usr/local/lib/python3.7/dist-packages/ipykernel_launcher.py:6: FutureWarning:\n",
            "\n",
            "Dropping invalid columns in DataFrameGroupBy.max is deprecated. In a future version, a TypeError will be raised. Before calling .max, select only columns which should be valid for the function.\n",
            "\n",
            "/usr/local/lib/python3.7/dist-packages/numpy/core/_methods.py:263: RuntimeWarning:\n",
            "\n",
            "Degrees of freedom <= 0 for slice\n",
            "\n"
          ]
        },
        {
          "output_type": "execute_result",
          "data": {
            "text/plain": [
              "             Length     Recency   Frecuency   Monetary  Periodicity\n",
              "Cluster                                                            \n",
              "0        247.765432  108.415546  150.681756  91.461467    32.775922\n",
              "1         12.760711   31.233020   32.265413  99.620672     0.056256\n",
              "2         20.279487   41.208205   34.639316  49.967018     0.008519"
            ],
            "text/html": [
              "\n",
              "  <div id=\"df-fe58be06-0352-4871-8312-4d14cd6bacb3\">\n",
              "    <div class=\"colab-df-container\">\n",
              "      <div>\n",
              "<style scoped>\n",
              "    .dataframe tbody tr th:only-of-type {\n",
              "        vertical-align: middle;\n",
              "    }\n",
              "\n",
              "    .dataframe tbody tr th {\n",
              "        vertical-align: top;\n",
              "    }\n",
              "\n",
              "    .dataframe thead th {\n",
              "        text-align: right;\n",
              "    }\n",
              "</style>\n",
              "<table border=\"1\" class=\"dataframe\">\n",
              "  <thead>\n",
              "    <tr style=\"text-align: right;\">\n",
              "      <th></th>\n",
              "      <th>Length</th>\n",
              "      <th>Recency</th>\n",
              "      <th>Frecuency</th>\n",
              "      <th>Monetary</th>\n",
              "      <th>Periodicity</th>\n",
              "    </tr>\n",
              "    <tr>\n",
              "      <th>Cluster</th>\n",
              "      <th></th>\n",
              "      <th></th>\n",
              "      <th></th>\n",
              "      <th></th>\n",
              "      <th></th>\n",
              "    </tr>\n",
              "  </thead>\n",
              "  <tbody>\n",
              "    <tr>\n",
              "      <th>0</th>\n",
              "      <td>247.765432</td>\n",
              "      <td>108.415546</td>\n",
              "      <td>150.681756</td>\n",
              "      <td>91.461467</td>\n",
              "      <td>32.775922</td>\n",
              "    </tr>\n",
              "    <tr>\n",
              "      <th>1</th>\n",
              "      <td>12.760711</td>\n",
              "      <td>31.233020</td>\n",
              "      <td>32.265413</td>\n",
              "      <td>99.620672</td>\n",
              "      <td>0.056256</td>\n",
              "    </tr>\n",
              "    <tr>\n",
              "      <th>2</th>\n",
              "      <td>20.279487</td>\n",
              "      <td>41.208205</td>\n",
              "      <td>34.639316</td>\n",
              "      <td>49.967018</td>\n",
              "      <td>0.008519</td>\n",
              "    </tr>\n",
              "  </tbody>\n",
              "</table>\n",
              "</div>\n",
              "      <button class=\"colab-df-convert\" onclick=\"convertToInteractive('df-fe58be06-0352-4871-8312-4d14cd6bacb3')\"\n",
              "              title=\"Convert this dataframe to an interactive table.\"\n",
              "              style=\"display:none;\">\n",
              "        \n",
              "  <svg xmlns=\"http://www.w3.org/2000/svg\" height=\"24px\"viewBox=\"0 0 24 24\"\n",
              "       width=\"24px\">\n",
              "    <path d=\"M0 0h24v24H0V0z\" fill=\"none\"/>\n",
              "    <path d=\"M18.56 5.44l.94 2.06.94-2.06 2.06-.94-2.06-.94-.94-2.06-.94 2.06-2.06.94zm-11 1L8.5 8.5l.94-2.06 2.06-.94-2.06-.94L8.5 2.5l-.94 2.06-2.06.94zm10 10l.94 2.06.94-2.06 2.06-.94-2.06-.94-.94-2.06-.94 2.06-2.06.94z\"/><path d=\"M17.41 7.96l-1.37-1.37c-.4-.4-.92-.59-1.43-.59-.52 0-1.04.2-1.43.59L10.3 9.45l-7.72 7.72c-.78.78-.78 2.05 0 2.83L4 21.41c.39.39.9.59 1.41.59.51 0 1.02-.2 1.41-.59l7.78-7.78 2.81-2.81c.8-.78.8-2.07 0-2.86zM5.41 20L4 18.59l7.72-7.72 1.47 1.35L5.41 20z\"/>\n",
              "  </svg>\n",
              "      </button>\n",
              "      \n",
              "  <style>\n",
              "    .colab-df-container {\n",
              "      display:flex;\n",
              "      flex-wrap:wrap;\n",
              "      gap: 12px;\n",
              "    }\n",
              "\n",
              "    .colab-df-convert {\n",
              "      background-color: #E8F0FE;\n",
              "      border: none;\n",
              "      border-radius: 50%;\n",
              "      cursor: pointer;\n",
              "      display: none;\n",
              "      fill: #1967D2;\n",
              "      height: 32px;\n",
              "      padding: 0 0 0 0;\n",
              "      width: 32px;\n",
              "    }\n",
              "\n",
              "    .colab-df-convert:hover {\n",
              "      background-color: #E2EBFA;\n",
              "      box-shadow: 0px 1px 2px rgba(60, 64, 67, 0.3), 0px 1px 3px 1px rgba(60, 64, 67, 0.15);\n",
              "      fill: #174EA6;\n",
              "    }\n",
              "\n",
              "    [theme=dark] .colab-df-convert {\n",
              "      background-color: #3B4455;\n",
              "      fill: #D2E3FC;\n",
              "    }\n",
              "\n",
              "    [theme=dark] .colab-df-convert:hover {\n",
              "      background-color: #434B5C;\n",
              "      box-shadow: 0px 1px 3px 1px rgba(0, 0, 0, 0.15);\n",
              "      filter: drop-shadow(0px 1px 2px rgba(0, 0, 0, 0.3));\n",
              "      fill: #FFFFFF;\n",
              "    }\n",
              "  </style>\n",
              "\n",
              "      <script>\n",
              "        const buttonEl =\n",
              "          document.querySelector('#df-fe58be06-0352-4871-8312-4d14cd6bacb3 button.colab-df-convert');\n",
              "        buttonEl.style.display =\n",
              "          google.colab.kernel.accessAllowed ? 'block' : 'none';\n",
              "\n",
              "        async function convertToInteractive(key) {\n",
              "          const element = document.querySelector('#df-fe58be06-0352-4871-8312-4d14cd6bacb3');\n",
              "          const dataTable =\n",
              "            await google.colab.kernel.invokeFunction('convertToInteractive',\n",
              "                                                     [key], {});\n",
              "          if (!dataTable) return;\n",
              "\n",
              "          const docLinkHtml = 'Like what you see? Visit the ' +\n",
              "            '<a target=\"_blank\" href=https://colab.research.google.com/notebooks/data_table.ipynb>data table notebook</a>'\n",
              "            + ' to learn more about interactive tables.';\n",
              "          element.innerHTML = '';\n",
              "          dataTable['output_type'] = 'display_data';\n",
              "          await google.colab.output.renderOutput(dataTable, element);\n",
              "          const docLink = document.createElement('div');\n",
              "          docLink.innerHTML = docLinkHtml;\n",
              "          element.appendChild(docLink);\n",
              "        }\n",
              "      </script>\n",
              "    </div>\n",
              "  </div>\n",
              "  "
            ]
          },
          "metadata": {},
          "execution_count": 38
        }
      ]
    },
    {
      "cell_type": "markdown",
      "source": [
        "Se ven 3 grupos de clientes. El grupo 0 de clientes es el más común, y consta de personas que gastan más por visita, sin embargo no poseen una actividad reciente, son los que han comprado menos actualmente comparado con el resto de los grupos. Además tienen la peor periodicidad, es decir, sus visitas a la tienda no son muy regulares. \n",
        "Estas personas tienen una frecuencia mayor al resto de las personas, es decir, han ido más veces a la tienda. \n",
        "\n",
        "En el grupo 1 y 2 se ven Recencys y frecuencias parecidas, esto quiere decir que son similares en cuanto a lo reciente de su actividad y cantidad de visitas. Sin embargo se diferencian mucho en la cantidad de dinero que gastan en promedio por cada visita y en la periodicidad. El grupo 1 gasta más dionero en promedio, pero es menos regular que el grupo 2."
      ],
      "metadata": {
        "id": "jRbGNs7_xUQM"
      }
    },
    {
      "cell_type": "markdown",
      "source": [
        "**Respuesta Esperada:**\n",
        "\n",
        "|         | Length  | Recency   | Frequency | Monetary | Periodicity |       |\n",
        "|---------|---------|-----------|----------|-------------|-------|-------|\n",
        "| Cluster |         |           |          |             |       |       |\n",
        "|    0    |   258.8 |      45.2 |     76.1 |      1107.7 | 107.6 |   449 |\n",
        "|    1    |    76.1 |     217.6 |     45.5 |       791.7 |  14.1 |   466 |\n",
        "|    2    |   368.5 |       4.8 |   2715.0 |    226621.6 |   4.2 |     4 |\n",
        "|    3    |    85.3 |      45.7 |     65.8 |      1047.0 |  10.5 |   987 |\n",
        "|    4    |   347.2 |      15.9 |   1658.0 |     35829.3 |   8.0 |    25 |\n",
        "|    5    |   298.0 |      29.8 |    183.8 |      3639.9 |  32.0 |  1188 |"
      ],
      "metadata": {
        "tags": [],
        "cell_id": "18e50ee0240543d692bcde6d9c29fe73",
        "deepnote_cell_height": 261.4666748046875,
        "deepnote_cell_type": "markdown",
        "id": "d4tC58fjSvcJ"
      }
    },
    {
      "cell_type": "markdown",
      "source": [
        "#### 1.3.3.3 Plot de K-Means 📈 [0.5 puntos]\n",
        "\n"
      ],
      "metadata": {
        "tags": [],
        "cell_id": "f79d1fa6b1a64b6f97bffc62b037a663",
        "deepnote_cell_height": 53.866668701171875,
        "deepnote_cell_type": "markdown",
        "id": "g1DSPJT4SvcK"
      }
    },
    {
      "cell_type": "markdown",
      "source": [
        "Por último, Mr. Lepin, impaciente de no entender lo que usted intenta explicarle, le solicita que por favor muestre algún resultado \"visual\" de los grupos encontrados.\n",
        "\n",
        "Para esto, grafique nuevamente las características encontradas usando `T-SNE` (no calcule de nuevo, simplemente utilice las proyecciones encontradas) y agregue las labels calculadas con kmeans como el argumento `color`.   \n",
        "\n",
        "Comente: ¿Se separan bien los distintos clusters en la visualización?\n"
      ],
      "metadata": {
        "tags": [],
        "cell_id": "2d0348435e814f16b8957dfbc6384a88",
        "owner_user_id": "d50c3174-babb-4861-9c71-7e3af66458b8",
        "deepnote_cell_height": 192.26666259765625,
        "deepnote_cell_type": "markdown",
        "id": "eYgfqmV2SvcK"
      }
    },
    {
      "cell_type": "markdown",
      "source": [
        "**Respuesta:**"
      ],
      "metadata": {
        "tags": [],
        "cell_id": "e805388b96c04ea8a06a262229c2f799",
        "deepnote_cell_height": 52.26666259765625,
        "deepnote_cell_type": "markdown",
        "id": "yQCD2rdnSvcK"
      }
    },
    {
      "cell_type": "code",
      "source": [
        "import matplotlib.pyplot as plt\n",
        "\n",
        "centers = kmeans.cluster_centers_\n",
        "X= df_preprocesado.to_numpy()\n",
        "\n",
        "plt.scatter(X[:, 0], X[:, 1], c=kmeans.labels_)\n",
        "plt.scatter(centers[:,0], centers[:,1], s=200, facecolors='none', edgecolors='r')\n",
        "plt.title(\"K-Means with centers\")\n",
        "plt.show()\n"
      ],
      "metadata": {
        "tags": [],
        "cell_id": "9e2d26de81ed4a729e25c6c5361310e1",
        "deepnote_cell_height": 65.86666870117188,
        "deepnote_cell_type": "code",
        "id": "v2u_Cz4LSvcL",
        "colab": {
          "base_uri": "https://localhost:8080/",
          "height": 281
        },
        "outputId": "4de08007-8825-49e9-bc66-3b28af12343c"
      },
      "outputs": [
        {
          "output_type": "display_data",
          "data": {
            "text/plain": [
              "<Figure size 432x288 with 1 Axes>"
            ],
            "image/png": "[encoded data removed]"
          },
          "metadata": {
            "needs_background": "light"
          }
        }
      ],
      "execution_count": 42
    },
    {
      "cell_type": "markdown",
      "source": [
        "Se puede ver que si bien en el centro cuesta delimitar bien un límite entre los grupos (haciendo que las personas ubicadas en este lugar probablemente tengan diferencias pequeñas entre sí), sí se ve una clara distinción con en el grupo amarillo y celeste. Personalmente, hubiese ecnotrado mas correcto que ese pequeño grupo de celestes que esta pegado a los amarillos correspondiese en verdad al grupo amarillo. En ese sentido, es normal ver que algunas veces el método que se escoge no funcione de la forma que se espera. A pesar de ello, la división en general se ve correcta."
      ],
      "metadata": {
        "id": "exibpMO7Kg3C"
      }
    },
    {
      "cell_type": "markdown",
      "source": [
        "# Conclusión\n",
        "Eso ha sido todo para el lab de hoy, recuerden que el laboratorio tiene un plazo de entrega de una semana y que **los días de atraso no se pueden utilizar para entregas de lab** solo para tareas. Cualquier duda del laboratorio, no duden en contactarnos por mail o U-cursos.\n",
        "\n",
        "![Gracias Totales!](https://i.pinimg.com/originals/65/ae/27/65ae270df87c3c4adcea997e48f60852.gif \"bruno\")\n"
      ],
      "metadata": {
        "id": "Rg4ZMq8ezAH6",
        "cell_id": "94721075d5ff44bd83601c871797ae2a",
        "deepnote_cell_height": 514.4666748046875,
        "deepnote_cell_type": "markdown"
      }
    },
    {
      "cell_type": "markdown",
      "source": [
        "<br>\n",
        "<center>\n",
        "<img src=\"https://i.kym-cdn.com/photos/images/original/001/194/195/b18.png\" width=100 height=50 />\n",
        "</center>\n",
        "<br>"
      ],
      "metadata": {
        "id": "wCL1lACBzAH7",
        "cell_id": "7e31a91f8cb744cabd0ed0287ac5257e",
        "deepnote_cell_height": 171.28334045410156,
        "deepnote_cell_type": "markdown"
      }
    },
    {
      "cell_type": "markdown",
      "source": [
        "<a style='text-decoration:none;line-height:16px;display:flex;color:#5B5B62;padding:10px;justify-content:end;' href='https://deepnote.com?utm_source=created-in-deepnote-cell&projectId=87110296-876e-426f-b91d-aaf681223468' target=\"_blank\">\n",
        "<img alt='Created in deepnote.com' style='display:inline;max-height:16px;margin:0px;margin-right:7.5px;' src='data:image/svg+xml;base64,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' > </img>\n",
        "Created in <span style='font-weight:600;margin-left:4px;'>Deepnote</span></a>"
      ],
      "metadata": {
        "tags": [],
        "created_in_deepnote_cell": true,
        "deepnote_cell_type": "markdown",
        "id": "T17ZA5uGSvcL"
      }
    }
  ],
  "nbformat": 4,
  "nbformat_minor": 0,
  "metadata": {
    "toc": {
      "sideBar": true,
      "nav_menu": {},
      "toc_cell": false,
      "title_cell": "Tabla de Contenidos",
      "toc_position": {
        "top": "150px",
        "left": "10px",
        "width": "241.867px",
        "height": "calc(100% - 180px)"
      },
      "skip_h1_title": true,
      "title_sidebar": "Contenidos",
      "base_numbering": 1,
      "number_sections": true,
      "toc_window_display": true,
      "toc_section_display": true
    },
    "colab": {
      "provenance": [],
      "collapsed_sections": []
    },
    "deepnote": {},
    "kernelspec": {
      "name": "python3",
      "language": "python",
      "display_name": "Python 3"
    },
    "varInspector": {
      "cols": {
        "lenVar": 40,
        "lenName": 16,
        "lenType": 16
      },
      "kernels_config": {
        "r": {
          "library": "var_list.r",
          "varRefreshCmd": "cat(var_dic_list()) ",
          "delete_cmd_prefix": "rm(",
          "delete_cmd_postfix": ") "
        },
        "python": {
          "library": "var_list.py",
          "varRefreshCmd": "print(var_dic_list())",
          "delete_cmd_prefix": "del ",
          "delete_cmd_postfix": ""
        }
      },
      "window_display": false,
      "types_to_exclude": [
        "module",
        "function",
        "builtin_function_or_method",
        "instance",
        "_Feature"
      ]
    },
    "language_info": {
      "name": "python",
      "version": "3.8.3",
      "mimetype": "text/x-python",
      "file_extension": ".py",
      "pygments_lexer": "ipython3",
      "codemirror_mode": {
        "name": "ipython",
        "version": 3
      },
      "nbconvert_exporter": "python"
    },
    "deepnote_notebook_id": "33c253a4f84d40a091bd5023e95abb64",
    "deepnote_execution_queue": []
  }
}